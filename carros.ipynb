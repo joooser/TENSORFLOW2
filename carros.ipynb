{
  "nbformat": 4,
  "nbformat_minor": 0,
  "metadata": {
    "colab": {
      "name": "carros.ipynb",
      "provenance": [],
      "authorship_tag": "ABX9TyMnncEngrSE58HhNC5ZY6Cw",
      "include_colab_link": true
    },
    "kernelspec": {
      "name": "python3",
      "display_name": "Python 3"
    },
    "language_info": {
      "name": "python"
    }
  },
  "cells": [
    {
      "cell_type": "markdown",
      "metadata": {
        "id": "view-in-github",
        "colab_type": "text"
      },
      "source": [
        "<a href=\"https://colab.research.google.com/github/joooser/TENSORFLOW2/blob/main/carros.ipynb\" target=\"_parent\"><img src=\"https://colab.research.google.com/assets/colab-badge.svg\" alt=\"Open In Colab\"/></a>"
      ]
    },
    {
      "cell_type": "code",
      "execution_count": null,
      "metadata": {
        "id": "t4zqXEj_3kUQ"
      },
      "outputs": [],
      "source": [
        "import  os\n",
        "import zipfile\n",
        "\n",
        "local_zip = \"carros.zip\"\n",
        "zip_ref = zipfile.ZipFile(local_zip, \"r\")\n",
        "zip_ref.extractall(\"carros\")\n",
        "zip_ref.close()"
      ]
    },
    {
      "cell_type": "code",
      "source": [
        "path = \"carros/carros/dataset_original\"\n",
        "content = os.listdir(path)"
      ],
      "metadata": {
        "id": "lYZ8MFuHB2Ca"
      },
      "execution_count": null,
      "outputs": []
    },
    {
      "cell_type": "code",
      "source": [
        "content"
      ],
      "metadata": {
        "colab": {
          "base_uri": "https://localhost:8080/"
        },
        "id": "41CkH_S5HvRz",
        "outputId": "9702b466-2134-4fa9-8dde-0b87f6000312"
      },
      "execution_count": null,
      "outputs": [
        {
          "output_type": "execute_result",
          "data": {
            "text/plain": [
              "['6f65ac7a0a.jpg',\n",
              " '79f733279c.jpg',\n",
              " 'f49e60d9f5.jpg',\n",
              " 'a1ac2631e2.jpg',\n",
              " '8e933395c2.jpg',\n",
              " 'e79711e10f.jpg',\n",
              " 'abdbb7257d.jpg',\n",
              " '6f8eb1a51e.jpg',\n",
              " '6d5e3cea7e.jpg',\n",
              " 'be252b84a2.jpg',\n",
              " 'c600dd3e4c.jpg',\n",
              " '23735450a9.jpg',\n",
              " '56edcd8a27.jpg',\n",
              " 'e22a1fc8c5.jpg',\n",
              " 'fc3c3a2cb8.jpg',\n",
              " '5cc8e6c42d.jpg',\n",
              " 'f8a2cc7848.jpg',\n",
              " 'ceb62d5512.jpg',\n",
              " '0081ece34f.jpg',\n",
              " 'c01cda65da.jpg',\n",
              " '2c3ae2799b.jpg',\n",
              " 'ea8ce9da21.jpg',\n",
              " 'c01a546226.jpg',\n",
              " '78122ebd15.jpg',\n",
              " '61fab46bb9.jpg',\n",
              " '18cf3b73b6.jpg',\n",
              " '95614aebd9.jpg',\n",
              " 'd554f97e88.jpg',\n",
              " 'd525595af9.jpg',\n",
              " 'e9379064f8.jpg',\n",
              " '284a6504d7.jpg',\n",
              " '3ec8255ddd.jpg',\n",
              " '42e14b904b.jpg',\n",
              " '533dd3ae49.jpg',\n",
              " '93407ba6ac.jpg',\n",
              " '8a98fca468.jpg',\n",
              " '2fdd9eb661.jpg',\n",
              " '20a105964b.jpg',\n",
              " '7ef9a07b20.jpg',\n",
              " '85bcd2d2c9.jpg',\n",
              " '0c535fcdfa.jpg',\n",
              " '66d55e26e2.jpg',\n",
              " '3b2d25d42c.jpg',\n",
              " 'ed2ea8fbb6.jpg',\n",
              " '8d87edd389.jpg',\n",
              " '007d086a0d.jpg',\n",
              " 'f82c456438.jpg',\n",
              " '530a817c7a.jpg',\n",
              " 'ea2cb5917b.jpg',\n",
              " 'f74248c57f.jpg',\n",
              " '4e034d9925.jpg',\n",
              " '39339a1089.jpg',\n",
              " '6450b21594.jpg',\n",
              " '4848bc97c4.jpg',\n",
              " 'cbb99fc122.jpg',\n",
              " '34db31dbb7.jpg',\n",
              " '37e9f4c722.jpg',\n",
              " 'c554e9b7b4.jpg',\n",
              " '717e612946.jpg',\n",
              " '89c26158c4.jpg',\n",
              " 'e4927496c4.jpg',\n",
              " 'fc15988c9a.jpg',\n",
              " '2feaa7dff6.jpg',\n",
              " '486107bbf0.jpg',\n",
              " 'e74b7ae4e5.jpg',\n",
              " 'bf5b9af373.jpg',\n",
              " '1180fcd71f.jpg',\n",
              " '07ffa35d1f.jpg',\n",
              " 'bc35645747.jpg',\n",
              " '53f2146ec4.jpg',\n",
              " '8d1c46d212.jpg',\n",
              " '2b37a718bc.jpg',\n",
              " 'bcd96bf69e.jpg',\n",
              " 'c4054a8f2c.jpg',\n",
              " '5a220a50a8.jpg',\n",
              " '744ca71f5a.jpg',\n",
              " 'ceec5ff10d.jpg',\n",
              " '3952bf81c1.jpg',\n",
              " '0414eb4d03.jpg',\n",
              " '28b3743833.jpg',\n",
              " 'cf8db02eac.jpg',\n",
              " 'b2647b447e.jpg',\n",
              " 'b59018d131.jpg',\n",
              " '019027b56f.jpg',\n",
              " 'c93c3fc04f.jpg',\n",
              " '24ad6786d9.jpg',\n",
              " '6c8631dde9.jpg',\n",
              " '576c712438.jpg',\n",
              " '2c7120c43a.jpg',\n",
              " 'eeaa2bd217.jpg',\n",
              " '38073088aa.jpg',\n",
              " 'b22ad30e1b.jpg',\n",
              " '9ecc1569bf.jpg',\n",
              " 'd31abe79d6.jpg',\n",
              " '7dde5c3827.jpg',\n",
              " '2efb6c3c82.jpg',\n",
              " 'e02950195f.jpg',\n",
              " '345b92354f.jpg',\n",
              " '636e60da4d.jpg',\n",
              " '7490c9ba04.jpg',\n",
              " '6cc3bcdc76.jpg',\n",
              " 'd01c4bbb38.jpg',\n",
              " 'deb5b1da94.jpg',\n",
              " '3226b4891d.jpg']"
            ]
          },
          "metadata": {},
          "execution_count": 10
        }
      ]
    },
    {
      "cell_type": "code",
      "source": [
        "path_general = \"datasetFinal\"\n",
        "path_train = \"{}/train\".format(path_general)\n",
        "path_test = \"{}/test\".format(path_general)\n",
        "\n",
        "os.mkdir(path_general)\n",
        "os.mkdir(path_train)\n",
        "os.mkdir(path_test)"
      ],
      "metadata": {
        "id": "JQTkBB3fHw8y"
      },
      "execution_count": null,
      "outputs": []
    },
    {
      "cell_type": "code",
      "source": [
        "import random\n",
        "import shutil\n",
        "\n",
        "train = 0.7\n",
        "for nCount in range(int(len(content)*train)):\n",
        "  random_choice_img = random.choice(content)\n",
        "  random_choice_img_abs = \"{}/{}\".format(path, random_choice_img)\n",
        "  target_img = \"{}/{}\".format(path_train, random_choice_img)\n",
        "  shutil.copyfile(random_choice_img_abs, target_img)\n",
        "  content.remove(random_choice_img)\n"
      ],
      "metadata": {
        "id": "QUlqiEVwIZCL"
      },
      "execution_count": 17,
      "outputs": []
    },
    {
      "cell_type": "code",
      "source": [
        "for img in content:\n",
        "  random_choice_img_abs = \"{}/{}\".format(path, img)\n",
        "  target_img = \"{}/{}\".format(path_test, img)\n",
        "  shutil.copyfile(random_choice_img_abs, target_img)"
      ],
      "metadata": {
        "id": "kiX0N-7EJrMq"
      },
      "execution_count": 18,
      "outputs": []
    },
    {
      "cell_type": "code",
      "source": [
        "!zip -r /content/datasetFinal.zip /content/datasetFinal"
      ],
      "metadata": {
        "colab": {
          "base_uri": "https://localhost:8080/"
        },
        "id": "5yJrSQMkOs-e",
        "outputId": "2e455b0f-562d-46cd-87c4-ca608b4e179d"
      },
      "execution_count": 19,
      "outputs": [
        {
          "output_type": "stream",
          "name": "stdout",
          "text": [
            "  adding: content/datasetFinal/ (stored 0%)\n",
            "  adding: content/datasetFinal/test/ (stored 0%)\n",
            "  adding: content/datasetFinal/test/6f65ac7a0a.jpg (deflated 0%)\n",
            "  adding: content/datasetFinal/test/f49e60d9f5.jpg (deflated 6%)\n",
            "  adding: content/datasetFinal/test/8e933395c2.jpg (deflated 0%)\n",
            "  adding: content/datasetFinal/test/6f8eb1a51e.jpg (deflated 4%)\n",
            "  adding: content/datasetFinal/test/be252b84a2.jpg (deflated 4%)\n",
            "  adding: content/datasetFinal/test/0081ece34f.jpg (deflated 0%)\n",
            "  adding: content/datasetFinal/test/c01a546226.jpg (deflated 5%)\n",
            "  adding: content/datasetFinal/test/78122ebd15.jpg (deflated 1%)\n",
            "  adding: content/datasetFinal/test/533dd3ae49.jpg (deflated 0%)\n",
            "  adding: content/datasetFinal/test/93407ba6ac.jpg (deflated 0%)\n",
            "  adding: content/datasetFinal/test/20a105964b.jpg (deflated 1%)\n",
            "  adding: content/datasetFinal/test/007d086a0d.jpg (deflated 5%)\n",
            "  adding: content/datasetFinal/test/f82c456438.jpg (deflated 1%)\n",
            "  adding: content/datasetFinal/test/530a817c7a.jpg (deflated 0%)\n",
            "  adding: content/datasetFinal/test/f74248c57f.jpg (deflated 0%)\n",
            "  adding: content/datasetFinal/test/4e034d9925.jpg (deflated 1%)\n",
            "  adding: content/datasetFinal/test/39339a1089.jpg (deflated 0%)\n",
            "  adding: content/datasetFinal/test/6450b21594.jpg (deflated 1%)\n",
            "  adding: content/datasetFinal/test/4848bc97c4.jpg (deflated 0%)\n",
            "  adding: content/datasetFinal/test/e74b7ae4e5.jpg (deflated 0%)\n",
            "  adding: content/datasetFinal/test/2b37a718bc.jpg (deflated 0%)\n",
            "  adding: content/datasetFinal/test/ceec5ff10d.jpg (deflated 10%)\n",
            "  adding: content/datasetFinal/test/3952bf81c1.jpg (deflated 5%)\n",
            "  adding: content/datasetFinal/test/b2647b447e.jpg (deflated 6%)\n",
            "  adding: content/datasetFinal/test/b59018d131.jpg (deflated 4%)\n",
            "  adding: content/datasetFinal/test/6c8631dde9.jpg (deflated 5%)\n",
            "  adding: content/datasetFinal/test/576c712438.jpg (deflated 1%)\n",
            "  adding: content/datasetFinal/test/b22ad30e1b.jpg (deflated 0%)\n",
            "  adding: content/datasetFinal/test/9ecc1569bf.jpg (deflated 1%)\n",
            "  adding: content/datasetFinal/test/7dde5c3827.jpg (deflated 0%)\n",
            "  adding: content/datasetFinal/test/345b92354f.jpg (deflated 2%)\n",
            "  adding: content/datasetFinal/test/636e60da4d.jpg (deflated 5%)\n",
            "  adding: content/datasetFinal/train/ (stored 0%)\n",
            "  adding: content/datasetFinal/train/79f733279c.jpg (deflated 1%)\n",
            "  adding: content/datasetFinal/train/a1ac2631e2.jpg (deflated 0%)\n",
            "  adding: content/datasetFinal/train/e79711e10f.jpg (deflated 2%)\n",
            "  adding: content/datasetFinal/train/abdbb7257d.jpg (deflated 1%)\n",
            "  adding: content/datasetFinal/train/6d5e3cea7e.jpg (deflated 3%)\n",
            "  adding: content/datasetFinal/train/c600dd3e4c.jpg (deflated 5%)\n",
            "  adding: content/datasetFinal/train/23735450a9.jpg (deflated 0%)\n",
            "  adding: content/datasetFinal/train/56edcd8a27.jpg (deflated 6%)\n",
            "  adding: content/datasetFinal/train/e22a1fc8c5.jpg (deflated 0%)\n",
            "  adding: content/datasetFinal/train/fc3c3a2cb8.jpg (deflated 6%)\n",
            "  adding: content/datasetFinal/train/5cc8e6c42d.jpg (deflated 1%)\n",
            "  adding: content/datasetFinal/train/f8a2cc7848.jpg (deflated 3%)\n",
            "  adding: content/datasetFinal/train/ceb62d5512.jpg (deflated 0%)\n",
            "  adding: content/datasetFinal/train/c01cda65da.jpg (deflated 1%)\n",
            "  adding: content/datasetFinal/train/2c3ae2799b.jpg (deflated 0%)\n",
            "  adding: content/datasetFinal/train/ea8ce9da21.jpg (deflated 0%)\n",
            "  adding: content/datasetFinal/train/61fab46bb9.jpg (deflated 0%)\n",
            "  adding: content/datasetFinal/train/18cf3b73b6.jpg (deflated 1%)\n",
            "  adding: content/datasetFinal/train/95614aebd9.jpg (deflated 3%)\n",
            "  adding: content/datasetFinal/train/d554f97e88.jpg (deflated 0%)\n",
            "  adding: content/datasetFinal/train/d525595af9.jpg (deflated 6%)\n",
            "  adding: content/datasetFinal/train/e9379064f8.jpg (deflated 0%)\n",
            "  adding: content/datasetFinal/train/284a6504d7.jpg (deflated 0%)\n",
            "  adding: content/datasetFinal/train/3ec8255ddd.jpg (deflated 0%)\n",
            "  adding: content/datasetFinal/train/42e14b904b.jpg (deflated 3%)\n",
            "  adding: content/datasetFinal/train/8a98fca468.jpg (deflated 1%)\n",
            "  adding: content/datasetFinal/train/2fdd9eb661.jpg (deflated 0%)\n",
            "  adding: content/datasetFinal/train/7ef9a07b20.jpg (deflated 35%)\n",
            "  adding: content/datasetFinal/train/85bcd2d2c9.jpg (deflated 29%)\n",
            "  adding: content/datasetFinal/train/0c535fcdfa.jpg (deflated 0%)\n",
            "  adding: content/datasetFinal/train/66d55e26e2.jpg (deflated 0%)\n",
            "  adding: content/datasetFinal/train/3b2d25d42c.jpg (deflated 0%)\n",
            "  adding: content/datasetFinal/train/ed2ea8fbb6.jpg (deflated 4%)\n",
            "  adding: content/datasetFinal/train/8d87edd389.jpg (deflated 4%)\n",
            "  adding: content/datasetFinal/train/ea2cb5917b.jpg (deflated 3%)\n",
            "  adding: content/datasetFinal/train/cbb99fc122.jpg (deflated 0%)\n",
            "  adding: content/datasetFinal/train/34db31dbb7.jpg (deflated 4%)\n",
            "  adding: content/datasetFinal/train/37e9f4c722.jpg (deflated 5%)\n",
            "  adding: content/datasetFinal/train/c554e9b7b4.jpg (deflated 0%)\n",
            "  adding: content/datasetFinal/train/717e612946.jpg (deflated 3%)\n",
            "  adding: content/datasetFinal/train/89c26158c4.jpg (deflated 1%)\n",
            "  adding: content/datasetFinal/train/e4927496c4.jpg (deflated 4%)\n",
            "  adding: content/datasetFinal/train/fc15988c9a.jpg (deflated 4%)\n",
            "  adding: content/datasetFinal/train/2feaa7dff6.jpg (deflated 3%)\n",
            "  adding: content/datasetFinal/train/486107bbf0.jpg (deflated 0%)\n",
            "  adding: content/datasetFinal/train/bf5b9af373.jpg (deflated 3%)\n",
            "  adding: content/datasetFinal/train/1180fcd71f.jpg (deflated 1%)\n",
            "  adding: content/datasetFinal/train/07ffa35d1f.jpg (deflated 1%)\n",
            "  adding: content/datasetFinal/train/bc35645747.jpg (deflated 1%)\n",
            "  adding: content/datasetFinal/train/53f2146ec4.jpg (deflated 0%)\n",
            "  adding: content/datasetFinal/train/8d1c46d212.jpg (deflated 0%)\n",
            "  adding: content/datasetFinal/train/bcd96bf69e.jpg (deflated 3%)\n",
            "  adding: content/datasetFinal/train/c4054a8f2c.jpg (deflated 2%)\n",
            "  adding: content/datasetFinal/train/5a220a50a8.jpg (deflated 3%)\n",
            "  adding: content/datasetFinal/train/744ca71f5a.jpg (deflated 0%)\n",
            "  adding: content/datasetFinal/train/0414eb4d03.jpg (deflated 3%)\n",
            "  adding: content/datasetFinal/train/28b3743833.jpg (deflated 4%)\n",
            "  adding: content/datasetFinal/train/cf8db02eac.jpg (deflated 1%)\n",
            "  adding: content/datasetFinal/train/019027b56f.jpg (deflated 12%)\n",
            "  adding: content/datasetFinal/train/c93c3fc04f.jpg (deflated 4%)\n",
            "  adding: content/datasetFinal/train/24ad6786d9.jpg (deflated 0%)\n",
            "  adding: content/datasetFinal/train/2c7120c43a.jpg (deflated 1%)\n",
            "  adding: content/datasetFinal/train/eeaa2bd217.jpg (deflated 3%)\n",
            "  adding: content/datasetFinal/train/38073088aa.jpg (deflated 3%)\n",
            "  adding: content/datasetFinal/train/d31abe79d6.jpg (deflated 0%)\n",
            "  adding: content/datasetFinal/train/2efb6c3c82.jpg (deflated 5%)\n",
            "  adding: content/datasetFinal/train/e02950195f.jpg (deflated 0%)\n",
            "  adding: content/datasetFinal/train/7490c9ba04.jpg (deflated 0%)\n",
            "  adding: content/datasetFinal/train/6cc3bcdc76.jpg (deflated 3%)\n",
            "  adding: content/datasetFinal/train/d01c4bbb38.jpg (deflated 1%)\n",
            "  adding: content/datasetFinal/train/deb5b1da94.jpg (deflated 18%)\n",
            "  adding: content/datasetFinal/train/3226b4891d.jpg (deflated 3%)\n"
          ]
        }
      ]
    },
    {
      "cell_type": "code",
      "source": [
        ""
      ],
      "metadata": {
        "id": "uE5_sXRPO5es"
      },
      "execution_count": null,
      "outputs": []
    }
  ]
}
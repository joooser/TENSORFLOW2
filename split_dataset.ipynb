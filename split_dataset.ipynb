{
  "nbformat": 4,
  "nbformat_minor": 0,
  "metadata": {
    "colab": {
      "name": "distribucion-dataset.ipynb",
      "provenance": [],
      "collapsed_sections": [],
      "include_colab_link": true
    },
    "kernelspec": {
      "name": "python3",
      "display_name": "Python 3"
    },
    "language_info": {
      "name": "python"
    }
  },
  "cells": [
    {
      "cell_type": "markdown",
      "metadata": {
        "id": "view-in-github",
        "colab_type": "text"
      },
      "source": [
        "<a href=\"https://colab.research.google.com/github/joooser/TENSORFLOW2/blob/main/split_dataset.ipynb\" target=\"_parent\"><img src=\"https://colab.research.google.com/assets/colab-badge.svg\" alt=\"Open In Colab\"/></a>"
      ]
    },
    {
      "cell_type": "markdown",
      "metadata": {
        "id": "uJnozHGF0teE"
      },
      "source": [
        "## Descompresión de la base de datos\n",
        "Recuerda cargar la base de datos desde tu computador. El archivo es dataset.zip o el nombre que le hayas dado."
      ]
    },
    {
      "cell_type": "code",
      "metadata": {
        "id": "QAjW-EAoVrPD"
      },
      "source": [
        "import os \n",
        "import zipfile\n",
        "\n",
        "local_zip = \"/content/dataset_original_2.zip\" # Cambiar nombre por el que le hayas puesto.\n",
        "zip_ref = zipfile.ZipFile(local_zip, \"r\")\n",
        "zip_ref.extractall(\"dataset\")\n",
        "zip_ref.close()\n"
      ],
      "execution_count": 26,
      "outputs": []
    },
    {
      "cell_type": "markdown",
      "metadata": {
        "id": "0sNGDjsQ02-9"
      },
      "source": [
        "Asegurate que el path que estamos definiendo sea el mismo en donde tienes el archivo"
      ]
    },
    {
      "cell_type": "code",
      "metadata": {
        "id": "LWJyqO_RWPRo"
      },
      "source": [
        "path = \"/content/dataset/dataset_original_2/dataset_original_2\"\n",
        "content = os.listdir(path)"
      ],
      "execution_count": 30,
      "outputs": []
    },
    {
      "cell_type": "markdown",
      "metadata": {
        "id": "zwyuR4wj06_5"
      },
      "source": [
        "Visualizamos el contenido de la base de datos"
      ]
    },
    {
      "cell_type": "code",
      "metadata": {
        "colab": {
          "base_uri": "https://localhost:8080/"
        },
        "id": "k1L5OysrWgTT",
        "outputId": "948b3df3-e670-4627-a01b-8aff4fcc4ef4"
      },
      "source": [
        "content"
      ],
      "execution_count": 31,
      "outputs": [
        {
          "output_type": "execute_result",
          "data": {
            "text/plain": [
              "['4 (22).png',\n",
              " '10 (11).png',\n",
              " '3 (20).png',\n",
              " '3 (33).png',\n",
              " '5 (20).png',\n",
              " '3 (36).png',\n",
              " '10 (15).png',\n",
              " '6 (7).png',\n",
              " 'frame_00650.png',\n",
              " 'frame_02700.png',\n",
              " 'frame_02200.png',\n",
              " '3 (13).png',\n",
              " 'frame_01500.png',\n",
              " '2 (14).png',\n",
              " '4 (34).png',\n",
              " '3 (32).png',\n",
              " '5 (19).png',\n",
              " '10 (34).png',\n",
              " 'frame_00750.png',\n",
              " '3 (6).png',\n",
              " '10 (119).png',\n",
              " '3 (19).png',\n",
              " '6 (30).png',\n",
              " '5 (4).png',\n",
              " 'maxresdefault (1).jpg',\n",
              " '4 (14).png',\n",
              " '2 (3).png',\n",
              " '59.jpg',\n",
              " 'hanoi-vietnam-january-people-riding-motorbikes-busy-street-hanoi-vietnam-people-riding-motorbikes-busy-street-hanoi-120908376__flip.jpg',\n",
              " '6 (22).png',\n",
              " 'frame_02850.png',\n",
              " '10 (36).png',\n",
              " '4 (7).png',\n",
              " 'frame_01550.png',\n",
              " '3 (30).png',\n",
              " 'frame_01050.png',\n",
              " '5 (13).png',\n",
              " '3 (3).png',\n",
              " '308__flip.jpg',\n",
              " '10 (37).png',\n",
              " '2 (24).png',\n",
              " '2 (25).png',\n",
              " '31__flip.jpg',\n",
              " 'frame_01450.png',\n",
              " '6 (11).png',\n",
              " 'frame_02900.png',\n",
              " '3 (10).png',\n",
              " '10 (140).png',\n",
              " '4 (20).png',\n",
              " 'frame_02600.png',\n",
              " '3 (25).png',\n",
              " '5 (33).png',\n",
              " '3 (34).png',\n",
              " '3 (16).png',\n",
              " '10 (13).png',\n",
              " '5 (12).png',\n",
              " '3 (29).png',\n",
              " 'frame_01950.png',\n",
              " '5 (21).png',\n",
              " 'vietnamese-people-ride-bicycles-and-motorbikes-in-ho-chi-minh-city-BA5MNK (1).jpg',\n",
              " '285__flip.jpg',\n",
              " 'frame_01850.png',\n",
              " '10 (33).png',\n",
              " 'frame_02800.png',\n",
              " '5 (3).png',\n",
              " '3 (31).png',\n",
              " 'frame_01900.png',\n",
              " 'frame_01800.png',\n",
              " '3 (12).png',\n",
              " '3 (2).png',\n",
              " '10 (134).png',\n",
              " '4 (18).png',\n",
              " '62134520-mature-lady-on-yellow-scooter-scooter-driver-on-street-background-parking-for-a-few-minutes-near-the__flip.jpg',\n",
              " '6 (29).png',\n",
              " '3 (22).png',\n",
              " '3 (15).png',\n",
              " '6 (23).png',\n",
              " '2 (26).png',\n",
              " 'adult-man-rides-yellow-scooter-guy-street-background-travel-brought-new-impressions-where-should-i-go-next-76453653__flip.jpg',\n",
              " '5 (14).png',\n",
              " '3 (8).png',\n",
              " 'frame_02050.png',\n",
              " 'frame_00600.png',\n",
              " '10 (122).png',\n",
              " '10 (135).png',\n",
              " '6 (6).png',\n",
              " '2 (22).png',\n",
              " '5 (5).png',\n",
              " '4 (6).png',\n",
              " '4 (4).png',\n",
              " '4 (17).png',\n",
              " '3 (24).png',\n",
              " '3 (35).png',\n",
              " '10 (103).png',\n",
              " '4 (15).png',\n",
              " 'pcv-12258698__flip.jpg',\n",
              " '95945044-man-riding-motorcycle-on-the-road-in-hanoi-vietnam-__flip.jpg',\n",
              " '2 (13).png',\n",
              " 'frame_01400.png',\n",
              " '10 (20).png',\n",
              " '4 (16).png',\n",
              " '3 (4).png',\n",
              " '3 (7).png',\n",
              " '5 (32).png',\n",
              " 'frame_02750.png',\n",
              " '10 (16).png',\n",
              " 'frame_02000.png',\n",
              " '10 (2).png',\n",
              " 'frame_00200.png',\n",
              " '133.jpg',\n",
              " '10 (118).png',\n",
              " '178.jpg',\n",
              " '4 (35).png',\n",
              " '3 (17).png',\n",
              " '93__flip.jpg',\n",
              " 'frame_01100.png',\n",
              " '3 (26).png',\n",
              " '3 (27).png',\n",
              " 'frame_02100.png',\n",
              " '3 (9).png',\n",
              " '232__flip.jpg',\n",
              " '10 (102).png',\n",
              " '10 (14).png',\n",
              " 'rally-1417825610.jpg',\n",
              " '6 (12).png',\n",
              " 'frame_00150.png',\n",
              " '3 (5).png',\n",
              " '10 (21).png',\n",
              " '201__flip.jpg',\n",
              " '10 (104).png',\n",
              " '3 (21).png',\n",
              " 'frame_02150.png',\n",
              " '2 (2).png',\n",
              " 'frame_00700.png',\n",
              " '4 (23).png',\n",
              " '3 (28).png',\n",
              " '4 (21).png',\n",
              " '3 (18).png',\n",
              " '10 (22).png',\n",
              " '5 (31).png',\n",
              " '10 (12).png',\n",
              " '4 (5).png',\n",
              " 'frame_02650.png',\n",
              " '241.jpg',\n",
              " '225__flip.jpg',\n",
              " '3 (23).png',\n",
              " '3 (11).png',\n",
              " '3 (14).png',\n",
              " '3 (1).png']"
            ]
          },
          "metadata": {},
          "execution_count": 31
        }
      ]
    },
    {
      "cell_type": "markdown",
      "metadata": {
        "id": "4Pi-q3Ml1CJD"
      },
      "source": [
        "## Distribuimos la base de datos en Training y Test\n",
        "Definimos la ruta en donde almacenaremos la base de datos distruibuida como training y test"
      ]
    },
    {
      "cell_type": "code",
      "metadata": {
        "id": "0Q50bt1PWg8E"
      },
      "source": [
        "path_general = \"datasetFinal\"\n",
        "path_train = \"{}/train\".format(path_general)\n",
        "path_test = \"{}/test\".format(path_general)\n",
        "\n",
        "os.mkdir(path_general)\n",
        "os.mkdir(path_train)\n",
        "os.mkdir(path_test)"
      ],
      "execution_count": 32,
      "outputs": []
    },
    {
      "cell_type": "markdown",
      "metadata": {
        "id": "1XFukCQG1C-f"
      },
      "source": [
        "El factor es de 70% train y 30% test de manera aleatoria."
      ]
    },
    {
      "cell_type": "code",
      "metadata": {
        "id": "aAwD6qZeW1k3"
      },
      "source": [
        "import random\n",
        "import shutil\n",
        "\n",
        "# Almacenamos inicialmente los datos de training.\n",
        "train = 0.7\n",
        "for nCount in range(int(len(content)*train)):\n",
        "  random_choice_img = random.choice(content)\n",
        "  random_choice_img_abs = \"{}/{}\".format(path,random_choice_img)\n",
        "  target_img = \"{}/{}\".format(path_train, random_choice_img)\n",
        "  shutil.copyfile(random_choice_img_abs, target_img)\n",
        "  content.remove(random_choice_img)\n",
        "\n"
      ],
      "execution_count": 33,
      "outputs": []
    },
    {
      "cell_type": "code",
      "metadata": {
        "id": "HJR43fLKZOJf"
      },
      "source": [
        "# Almacenamos los datos que quedaron en la lista como los datos de test.\n",
        "for img in content:\n",
        "  random_choice_img_abs = \"{}/{}\".format(path, img)\n",
        "  target_img = \"{}/{}\".format(path_test, img)\n",
        "  shutil.copyfile(random_choice_img_abs, target_img)"
      ],
      "execution_count": 34,
      "outputs": []
    },
    {
      "cell_type": "markdown",
      "metadata": {
        "id": "qn6L9fD41WTU"
      },
      "source": [
        "## La carpeta nueva de la base de datos la comprimimos para poderla descargar"
      ]
    },
    {
      "cell_type": "code",
      "metadata": {
        "colab": {
          "base_uri": "https://localhost:8080/"
        },
        "id": "3ANOPeIQZmQG",
        "outputId": "bd0db985-425f-4b45-fb96-48071d988c5b"
      },
      "source": [
        "!zip -r /content/datasetFinal.zip /content/datasetFinal"
      ],
      "execution_count": 35,
      "outputs": [
        {
          "output_type": "stream",
          "name": "stdout",
          "text": [
            "  adding: content/datasetFinal/ (stored 0%)\n",
            "  adding: content/datasetFinal/test/ (stored 0%)\n",
            "  adding: content/datasetFinal/test/3 (33).png (deflated 7%)\n",
            "  adding: content/datasetFinal/test/frame_02700.png (deflated 10%)\n",
            "  adding: content/datasetFinal/test/3 (13).png (deflated 8%)\n",
            "  adding: content/datasetFinal/test/frame_01500.png (deflated 10%)\n",
            "  adding: content/datasetFinal/test/3 (32).png (deflated 7%)\n",
            "  adding: content/datasetFinal/test/5 (19).png (deflated 5%)\n",
            "  adding: content/datasetFinal/test/frame_00750.png (deflated 9%)\n",
            "  adding: content/datasetFinal/test/6 (30).png (deflated 5%)\n",
            "  adding: content/datasetFinal/test/maxresdefault (1).jpg (deflated 0%)\n",
            "  adding: content/datasetFinal/test/2 (3).png (deflated 8%)\n",
            "  adding: content/datasetFinal/test/hanoi-vietnam-january-people-riding-motorbikes-busy-street-hanoi-vietnam-people-riding-motorbikes-busy-street-hanoi-120908376__flip.jpg (deflated 1%)\n",
            "  adding: content/datasetFinal/test/10 (36).png (deflated 7%)\n",
            "  adding: content/datasetFinal/test/5 (13).png (deflated 7%)\n",
            "  adding: content/datasetFinal/test/2 (24).png (deflated 9%)\n",
            "  adding: content/datasetFinal/test/2 (25).png (deflated 9%)\n",
            "  adding: content/datasetFinal/test/frame_01450.png (deflated 5%)\n",
            "  adding: content/datasetFinal/test/3 (10).png (deflated 8%)\n",
            "  adding: content/datasetFinal/test/4 (20).png (deflated 10%)\n",
            "  adding: content/datasetFinal/test/3 (34).png (deflated 7%)\n",
            "  adding: content/datasetFinal/test/frame_01950.png (deflated 9%)\n",
            "  adding: content/datasetFinal/test/3 (12).png (deflated 7%)\n",
            "  adding: content/datasetFinal/test/62134520-mature-lady-on-yellow-scooter-scooter-driver-on-street-background-parking-for-a-few-minutes-near-the__flip.jpg (deflated 0%)\n",
            "  adding: content/datasetFinal/test/3 (8).png (deflated 7%)\n",
            "  adding: content/datasetFinal/test/frame_02050.png (deflated 10%)\n",
            "  adding: content/datasetFinal/test/6 (6).png (deflated 4%)\n",
            "  adding: content/datasetFinal/test/5 (5).png (deflated 6%)\n",
            "  adding: content/datasetFinal/test/4 (15).png (deflated 10%)\n",
            "  adding: content/datasetFinal/test/frame_01400.png (deflated 6%)\n",
            "  adding: content/datasetFinal/test/10 (20).png (deflated 7%)\n",
            "  adding: content/datasetFinal/test/4 (16).png (deflated 12%)\n",
            "  adding: content/datasetFinal/test/3 (7).png (deflated 8%)\n",
            "  adding: content/datasetFinal/test/5 (32).png (deflated 6%)\n",
            "  adding: content/datasetFinal/test/10 (2).png (deflated 6%)\n",
            "  adding: content/datasetFinal/test/133.jpg (deflated 0%)\n",
            "  adding: content/datasetFinal/test/4 (35).png (deflated 10%)\n",
            "  adding: content/datasetFinal/test/3 (26).png (deflated 7%)\n",
            "  adding: content/datasetFinal/test/frame_02100.png (deflated 10%)\n",
            "  adding: content/datasetFinal/test/232__flip.jpg (deflated 0%)\n",
            "  adding: content/datasetFinal/test/frame_00150.png (deflated 7%)\n",
            "  adding: content/datasetFinal/test/3 (5).png (deflated 7%)\n",
            "  adding: content/datasetFinal/test/3 (21).png (deflated 7%)\n",
            "  adding: content/datasetFinal/test/frame_02150.png (deflated 10%)\n",
            "  adding: content/datasetFinal/test/4 (5).png (deflated 10%)\n",
            "  adding: content/datasetFinal/test/3 (23).png (deflated 8%)\n",
            "  adding: content/datasetFinal/test/3 (11).png (deflated 7%)\n",
            "  adding: content/datasetFinal/train/ (stored 0%)\n",
            "  adding: content/datasetFinal/train/4 (22).png (deflated 12%)\n",
            "  adding: content/datasetFinal/train/10 (11).png (deflated 8%)\n",
            "  adding: content/datasetFinal/train/3 (20).png (deflated 7%)\n",
            "  adding: content/datasetFinal/train/5 (20).png (deflated 6%)\n",
            "  adding: content/datasetFinal/train/3 (36).png (deflated 7%)\n",
            "  adding: content/datasetFinal/train/10 (15).png (deflated 6%)\n",
            "  adding: content/datasetFinal/train/6 (7).png (deflated 6%)\n",
            "  adding: content/datasetFinal/train/frame_00650.png (deflated 5%)\n",
            "  adding: content/datasetFinal/train/frame_02200.png (deflated 9%)\n",
            "  adding: content/datasetFinal/train/2 (14).png (deflated 9%)\n",
            "  adding: content/datasetFinal/train/4 (34).png (deflated 12%)\n",
            "  adding: content/datasetFinal/train/10 (34).png (deflated 6%)\n",
            "  adding: content/datasetFinal/train/3 (6).png (deflated 7%)\n",
            "  adding: content/datasetFinal/train/10 (119).png (deflated 7%)\n",
            "  adding: content/datasetFinal/train/3 (19).png (deflated 8%)\n",
            "  adding: content/datasetFinal/train/5 (4).png (deflated 6%)\n",
            "  adding: content/datasetFinal/train/4 (14).png (deflated 9%)\n",
            "  adding: content/datasetFinal/train/59.jpg (deflated 1%)\n",
            "  adding: content/datasetFinal/train/6 (22).png (deflated 4%)\n",
            "  adding: content/datasetFinal/train/frame_02850.png (deflated 9%)\n",
            "  adding: content/datasetFinal/train/4 (7).png (deflated 12%)\n",
            "  adding: content/datasetFinal/train/frame_01550.png (deflated 11%)\n",
            "  adding: content/datasetFinal/train/3 (30).png (deflated 7%)\n",
            "  adding: content/datasetFinal/train/frame_01050.png (deflated 5%)\n",
            "  adding: content/datasetFinal/train/3 (3).png (deflated 7%)\n",
            "  adding: content/datasetFinal/train/308__flip.jpg (deflated 0%)\n",
            "  adding: content/datasetFinal/train/10 (37).png (deflated 6%)\n",
            "  adding: content/datasetFinal/train/31__flip.jpg (deflated 2%)\n",
            "  adding: content/datasetFinal/train/6 (11).png (deflated 4%)\n",
            "  adding: content/datasetFinal/train/frame_02900.png (deflated 9%)\n",
            "  adding: content/datasetFinal/train/10 (140).png (deflated 8%)\n",
            "  adding: content/datasetFinal/train/frame_02600.png (deflated 9%)\n",
            "  adding: content/datasetFinal/train/3 (25).png (deflated 8%)\n",
            "  adding: content/datasetFinal/train/5 (33).png (deflated 6%)\n",
            "  adding: content/datasetFinal/train/3 (16).png (deflated 8%)\n",
            "  adding: content/datasetFinal/train/10 (13).png (deflated 8%)\n",
            "  adding: content/datasetFinal/train/5 (12).png (deflated 5%)\n",
            "  adding: content/datasetFinal/train/3 (29).png (deflated 7%)\n",
            "  adding: content/datasetFinal/train/5 (21).png (deflated 5%)\n",
            "  adding: content/datasetFinal/train/vietnamese-people-ride-bicycles-and-motorbikes-in-ho-chi-minh-city-BA5MNK (1).jpg (deflated 1%)\n",
            "  adding: content/datasetFinal/train/285__flip.jpg (deflated 1%)\n",
            "  adding: content/datasetFinal/train/frame_01850.png (deflated 11%)\n",
            "  adding: content/datasetFinal/train/10 (33).png (deflated 5%)\n",
            "  adding: content/datasetFinal/train/frame_02800.png (deflated 9%)\n",
            "  adding: content/datasetFinal/train/5 (3).png (deflated 6%)\n",
            "  adding: content/datasetFinal/train/3 (31).png (deflated 8%)\n",
            "  adding: content/datasetFinal/train/frame_01900.png (deflated 9%)\n",
            "  adding: content/datasetFinal/train/frame_01800.png (deflated 10%)\n",
            "  adding: content/datasetFinal/train/3 (2).png (deflated 7%)\n",
            "  adding: content/datasetFinal/train/10 (134).png (deflated 8%)\n",
            "  adding: content/datasetFinal/train/4 (18).png (deflated 10%)\n",
            "  adding: content/datasetFinal/train/6 (29).png (deflated 4%)\n",
            "  adding: content/datasetFinal/train/3 (22).png (deflated 7%)\n",
            "  adding: content/datasetFinal/train/3 (15).png (deflated 8%)\n",
            "  adding: content/datasetFinal/train/6 (23).png (deflated 4%)\n",
            "  adding: content/datasetFinal/train/2 (26).png (deflated 9%)\n",
            "  adding: content/datasetFinal/train/adult-man-rides-yellow-scooter-guy-street-background-travel-brought-new-impressions-where-should-i-go-next-76453653__flip.jpg (deflated 1%)\n",
            "  adding: content/datasetFinal/train/5 (14).png (deflated 6%)\n",
            "  adding: content/datasetFinal/train/frame_00600.png (deflated 6%)\n",
            "  adding: content/datasetFinal/train/10 (122).png (deflated 7%)\n",
            "  adding: content/datasetFinal/train/10 (135).png (deflated 8%)\n",
            "  adding: content/datasetFinal/train/2 (22).png (deflated 10%)\n",
            "  adding: content/datasetFinal/train/4 (6).png (deflated 10%)\n",
            "  adding: content/datasetFinal/train/4 (4).png (deflated 12%)\n",
            "  adding: content/datasetFinal/train/4 (17).png (deflated 10%)\n",
            "  adding: content/datasetFinal/train/3 (24).png (deflated 8%)\n",
            "  adding: content/datasetFinal/train/3 (35).png (deflated 7%)\n",
            "  adding: content/datasetFinal/train/10 (103).png (deflated 7%)\n",
            "  adding: content/datasetFinal/train/pcv-12258698__flip.jpg (deflated 0%)\n",
            "  adding: content/datasetFinal/train/95945044-man-riding-motorcycle-on-the-road-in-hanoi-vietnam-__flip.jpg (deflated 1%)\n",
            "  adding: content/datasetFinal/train/2 (13).png (deflated 9%)\n",
            "  adding: content/datasetFinal/train/3 (4).png (deflated 7%)\n",
            "  adding: content/datasetFinal/train/frame_02750.png (deflated 11%)\n",
            "  adding: content/datasetFinal/train/10 (16).png (deflated 5%)\n",
            "  adding: content/datasetFinal/train/frame_02000.png (deflated 9%)\n",
            "  adding: content/datasetFinal/train/frame_00200.png (deflated 6%)\n",
            "  adding: content/datasetFinal/train/10 (118).png (deflated 6%)\n",
            "  adding: content/datasetFinal/train/178.jpg (deflated 3%)\n",
            "  adding: content/datasetFinal/train/3 (17).png (deflated 7%)\n",
            "  adding: content/datasetFinal/train/93__flip.jpg (deflated 0%)\n",
            "  adding: content/datasetFinal/train/frame_01100.png (deflated 6%)\n",
            "  adding: content/datasetFinal/train/3 (27).png (deflated 7%)\n",
            "  adding: content/datasetFinal/train/3 (9).png (deflated 7%)\n",
            "  adding: content/datasetFinal/train/10 (102).png (deflated 8%)\n",
            "  adding: content/datasetFinal/train/10 (14).png (deflated 8%)\n",
            "  adding: content/datasetFinal/train/rally-1417825610.jpg (deflated 0%)\n",
            "  adding: content/datasetFinal/train/6 (12).png (deflated 4%)\n",
            "  adding: content/datasetFinal/train/10 (21).png (deflated 5%)\n",
            "  adding: content/datasetFinal/train/201__flip.jpg (deflated 0%)\n",
            "  adding: content/datasetFinal/train/10 (104).png (deflated 8%)\n",
            "  adding: content/datasetFinal/train/2 (2).png (deflated 9%)\n",
            "  adding: content/datasetFinal/train/frame_00700.png (deflated 9%)\n",
            "  adding: content/datasetFinal/train/4 (23).png (deflated 10%)\n",
            "  adding: content/datasetFinal/train/3 (28).png (deflated 8%)\n",
            "  adding: content/datasetFinal/train/4 (21).png (deflated 9%)\n",
            "  adding: content/datasetFinal/train/3 (18).png (deflated 7%)\n",
            "  adding: content/datasetFinal/train/10 (22).png (deflated 5%)\n",
            "  adding: content/datasetFinal/train/5 (31).png (deflated 7%)\n",
            "  adding: content/datasetFinal/train/10 (12).png (deflated 8%)\n",
            "  adding: content/datasetFinal/train/frame_02650.png (deflated 10%)\n",
            "  adding: content/datasetFinal/train/241.jpg (deflated 0%)\n",
            "  adding: content/datasetFinal/train/225__flip.jpg (deflated 0%)\n",
            "  adding: content/datasetFinal/train/3 (14).png (deflated 7%)\n",
            "  adding: content/datasetFinal/train/3 (1).png (deflated 10%)\n"
          ]
        }
      ]
    },
    {
      "cell_type": "code",
      "metadata": {
        "id": "4N7NWYmuZzEA"
      },
      "source": [
        ""
      ],
      "execution_count": null,
      "outputs": []
    }
  ]
}
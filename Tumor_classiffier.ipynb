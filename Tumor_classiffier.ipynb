{
  "cells": [
    {
      "cell_type": "markdown",
      "metadata": {
        "id": "view-in-github",
        "colab_type": "text"
      },
      "source": [
        "<a href=\"https://colab.research.google.com/github/joooser/TENSORFLOW2/blob/main/Tumor_classiffier.ipynb\" target=\"_parent\"><img src=\"https://colab.research.google.com/assets/colab-badge.svg\" alt=\"Open In Colab\"/></a>"
      ]
    },
    {
      "cell_type": "code",
      "execution_count": 1,
      "metadata": {
        "id": "9xVOLWnJflLA"
      },
      "outputs": [],
      "source": [
        "import os\n",
        "import zipfile"
      ]
    },
    {
      "cell_type": "code",
      "execution_count": 2,
      "metadata": {
        "colab": {
          "base_uri": "https://localhost:8080/"
        },
        "id": "X0G2iDJiUoBr",
        "outputId": "b03dac9d-b7d6-4164-e274-980731d25447"
      },
      "outputs": [
        {
          "output_type": "stream",
          "name": "stdout",
          "text": [
            "--2022-06-27 03:28:20--  https://storage.googleapis.com/platzi-tf2/TumorClassification.zip\n",
            "Resolving storage.googleapis.com (storage.googleapis.com)... 173.194.193.128, 173.194.195.128, 173.194.196.128, ...\n",
            "Connecting to storage.googleapis.com (storage.googleapis.com)|173.194.193.128|:443... connected.\n",
            "HTTP request sent, awaiting response... 200 OK\n",
            "Length: 7460028 (7.1M) [application/zip]\n",
            "Saving to: ‘/tmp/platzi-tf2/TumorClassification.zip’\n",
            "\n",
            "\r          /tmp/plat   0%[                    ]       0  --.-KB/s               \r/tmp/platzi-tf2/Tum 100%[===================>]   7.11M  --.-KB/s    in 0.04s   \n",
            "\n",
            "2022-06-27 03:28:20 (201 MB/s) - ‘/tmp/platzi-tf2/TumorClassification.zip’ saved [7460028/7460028]\n",
            "\n"
          ]
        }
      ],
      "source": [
        "!wget --no-check-certificate https://storage.googleapis.com/platzi-tf2/TumorClassification.zip \\\n",
        "    -O /tmp/platzi-tf2/TumorClassification.zip"
      ]
    },
    {
      "cell_type": "code",
      "execution_count": 3,
      "metadata": {
        "colab": {
          "base_uri": "https://localhost:8080/"
        },
        "id": "j7ncDZxbG6pv",
        "outputId": "e7c767ef-bf6e-48a4-d957-e1c28c6fe6c3"
      },
      "outputs": [
        {
          "output_type": "stream",
          "name": "stdout",
          "text": [
            "--2022-06-27 03:28:20--  https://storage.googleapis.com/platzi-tf2/TumorClassification.zip\n",
            "Resolving storage.googleapis.com (storage.googleapis.com)... 108.177.112.128, 172.217.212.128, 172.217.214.128, ...\n",
            "Connecting to storage.googleapis.com (storage.googleapis.com)|108.177.112.128|:443... connected.\n",
            "HTTP request sent, awaiting response... 200 OK\n",
            "Length: 7460028 (7.1M) [application/zip]\n",
            "Saving to: ‘/tmp/platzi-tf2/TumorClassification.zip’\n",
            "\n",
            "\r          /tmp/plat   0%[                    ]       0  --.-KB/s               \r/tmp/platzi-tf2/Tum 100%[===================>]   7.11M  --.-KB/s    in 0.03s   \n",
            "\n",
            "2022-06-27 03:28:20 (209 MB/s) - ‘/tmp/platzi-tf2/TumorClassification.zip’ saved [7460028/7460028]\n",
            "\n"
          ]
        }
      ],
      "source": [
        "!wget --no-check-certificate https://storage.googleapis.com/platzi-tf2/TumorClassification.zip \\\n",
        "    -O /tmp/platzi-tf2/TumorClassification.zip"
      ]
    },
    {
      "cell_type": "code",
      "execution_count": 4,
      "metadata": {
        "id": "yIr1bDTAoUaj"
      },
      "outputs": [],
      "source": [
        "local_zip = \"/tmp/platzi-tf2/TumorClassification.zip\"\n",
        "zip_ref = zipfile.ZipFile(local_zip, \"r\")\n",
        "zip_ref.extractall(\"/tmp/platzi-tf2\")\n",
        "zip_ref.close()"
      ]
    },
    {
      "cell_type": "code",
      "execution_count": 5,
      "metadata": {
        "colab": {
          "base_uri": "https://localhost:8080/"
        },
        "id": "YsGjT6P_Hb7a",
        "outputId": "d91525ac-5e7e-4085-ec8b-74702817c0f9"
      },
      "outputs": [
        {
          "output_type": "stream",
          "name": "stdout",
          "text": [
            "350\n"
          ]
        }
      ],
      "source": [
        "initial_count = 0\n",
        "dir = \"/tmp/platzi-tf2/Train/NORMAL/\"\n",
        "for path in os.listdir(dir):\n",
        "    if os.path.isfile(os.path.join(dir, path)):\n",
        "        initial_count += 1\n",
        "print(initial_count)"
      ]
    },
    {
      "cell_type": "code",
      "execution_count": 6,
      "metadata": {
        "id": "q6waQRSFWCkS"
      },
      "outputs": [],
      "source": [
        "import numpy as np\n",
        "%matplotlib inline\n",
        "import matplotlib.pyplot as plt\n",
        "import matplotlib.image as mpimg\n",
        "import string\n",
        "import tensorflow as tf\n",
        "from tensorflow.keras.preprocessing.image import ImageDataGenerator\n",
        "import requests as requests\n",
        "from PIL import Image\n",
        "from io import BytesIO\n",
        "import codecs\n",
        "import json\n"
      ]
    },
    {
      "cell_type": "code",
      "execution_count": 7,
      "metadata": {
        "id": "5Q3w8L7wS8Dx"
      },
      "outputs": [],
      "source": [
        "train_dir = \"/tmp/platzi-tf2/Train\"\n",
        "test_dir = \"/tmp/platzi-tf2/Test\""
      ]
    },
    {
      "cell_type": "code",
      "execution_count": 8,
      "metadata": {
        "id": "kyIvJTVfTK-I"
      },
      "outputs": [],
      "source": [
        "train_datagen = ImageDataGenerator(rescale = 1/255)\n",
        "test_datagen = ImageDataGenerator(rescale = 1/255, validation_split= 0.28)"
      ]
    },
    {
      "cell_type": "code",
      "execution_count": 9,
      "metadata": {
        "colab": {
          "base_uri": "https://localhost:8080/"
        },
        "id": "tpROJBbsUARV",
        "outputId": "ed2eb6b4-0705-4288-a5c9-4baefad8069b"
      },
      "outputs": [
        {
          "output_type": "stream",
          "name": "stdout",
          "text": [
            "Found 1050 images belonging to 3 classes.\n",
            "Found 39 images belonging to 3 classes.\n",
            "Found 144 images belonging to 3 classes.\n"
          ]
        }
      ],
      "source": [
        "train_generator = train_datagen.flow_from_directory(\n",
        "    train_dir,\n",
        "    target_size = (56, 56),\n",
        "    batch_size = 128,\n",
        "    class_mode = \"categorical\",\n",
        "    color_mode = \"grayscale\",\n",
        "    subset = \"training\"\n",
        ")\n",
        "\n",
        "validation_generator = test_datagen.flow_from_directory(\n",
        "    test_dir,\n",
        "    target_size = (56, 56),\n",
        "    batch_size = 64,\n",
        "    class_mode = \"categorical\",\n",
        "    color_mode = \"grayscale\",\n",
        "    subset = \"validation\"\n",
        ")\n",
        "\n",
        "test_generator = test_datagen.flow_from_directory(\n",
        "    test_dir,\n",
        "    target_size = (56, 56),\n",
        "    batch_size = 128,\n",
        "    class_mode = \"categorical\",\n",
        "    color_mode = \"grayscale\"\n",
        ")"
      ]
    },
    {
      "cell_type": "code",
      "execution_count": 10,
      "metadata": {
        "id": "l_vpYmjBVi8M"
      },
      "outputs": [],
      "source": [
        "classes = [\"BENIGN\", \"MALIGNANT\", \"NORMAL\"]"
      ]
    },
    {
      "cell_type": "code",
      "execution_count": 11,
      "metadata": {
        "colab": {
          "base_uri": "https://localhost:8080/"
        },
        "id": "eitwx13gWztp",
        "outputId": "b9f3d3e0-b24e-4640-88ce-1367efbc4937"
      },
      "outputs": [
        {
          "output_type": "execute_result",
          "data": {
            "text/plain": [
              "['BENIGN', 'MALIGNANT', 'NORMAL']"
            ]
          },
          "metadata": {},
          "execution_count": 11
        }
      ],
      "source": [
        "classes"
      ]
    },
    {
      "cell_type": "code",
      "execution_count": 12,
      "metadata": {
        "id": "Q3TLL6PdW2VW"
      },
      "outputs": [],
      "source": [
        "def plotImages(images_arr):\n",
        "  fig, axes = plt.subplots(1, 5, figsize = (10, 10))\n",
        "  axes = axes.flatten()\n",
        "  for img, ax in zip(images_arr, axes):\n",
        "    ax.imshow(img[:,:,0])\n",
        "    ax.axis(\"off\")\n",
        "  plt.tight_layout()\n",
        "  plt.show()"
      ]
    },
    {
      "cell_type": "code",
      "execution_count": 13,
      "metadata": {
        "colab": {
          "base_uri": "https://localhost:8080/",
          "height": 162
        },
        "id": "_lfnXo0eXiPz",
        "outputId": "d13a44c7-091d-4dd5-a662-43ef80171d1d"
      },
      "outputs": [
        {
          "output_type": "display_data",
          "data": {
            "text/plain": [
              "<Figure size 720x720 with 5 Axes>"
            ],
            "image/png": "[encoded data removed]"
          },
          "metadata": {
            "needs_background": "light"
          }
        }
      ],
      "source": [
        "sample_training_images, _= next(train_generator)\n",
        "plotImages(sample_training_images[10:15])"
      ]
    },
    {
      "cell_type": "code",
      "execution_count": 14,
      "metadata": {
        "id": "PX84n2hjllIE"
      },
      "outputs": [],
      "source": [
        "from tensorflow.keras.preprocessing.image import ImageDataGenerator, array_to_img, img_to_array, load_img\n",
        "import matplotlib.pyplot as plt"
      ]
    },
    {
      "cell_type": "code",
      "execution_count": 15,
      "metadata": {
        "id": "Fm7ojDgfuNV_"
      },
      "outputs": [],
      "source": [
        "datagen = ImageDataGenerator(\n",
        "rotation_range=40,\n",
        "width_shift_range=0.2,\n",
        "height_shift_range=0.2,\n",
        "zoom_range=0.2,\n",
        "horizontal_flip=True,\n",
        "fill_mode='nearest',\n",
        ")"
      ]
    },
    {
      "cell_type": "code",
      "execution_count": 16,
      "metadata": {
        "colab": {
          "base_uri": "https://localhost:8080/",
          "height": 436
        },
        "id": "MeSPgy2MuNl5",
        "outputId": "ea6b15e7-9120-41c8-8e73-ac51d32525df"
      },
      "outputs": [
        {
          "output_type": "stream",
          "name": "stdout",
          "text": [
            "Found 1050 images belonging to 3 classes.\n"
          ]
        },
        {
          "output_type": "error",
          "ename": "ValueError",
          "evalue": "ignored",
          "traceback": [
            "\u001b[0;31m---------------------------------------------------------------------------\u001b[0m",
            "\u001b[0;31mValueError\u001b[0m                                Traceback (most recent call last)",
            "\u001b[0;32m<ipython-input-16-2786d56d36f2>\u001b[0m in \u001b[0;36m<module>\u001b[0;34m()\u001b[0m\n\u001b[1;32m      2\u001b[0m \u001b[0;32mfor\u001b[0m \u001b[0mbatch\u001b[0m \u001b[0;32min\u001b[0m \u001b[0mdatagen\u001b[0m\u001b[0;34m.\u001b[0m\u001b[0mflow_from_directory\u001b[0m\u001b[0;34m(\u001b[0m\u001b[0mtrain_dir\u001b[0m\u001b[0;34m,\u001b[0m \u001b[0mbatch_size\u001b[0m\u001b[0;34m=\u001b[0m\u001b[0;36m1\u001b[0m\u001b[0;34m)\u001b[0m\u001b[0;34m:\u001b[0m\u001b[0;34m\u001b[0m\u001b[0;34m\u001b[0m\u001b[0m\n\u001b[1;32m      3\u001b[0m     \u001b[0mplt\u001b[0m\u001b[0;34m.\u001b[0m\u001b[0mfigure\u001b[0m\u001b[0;34m(\u001b[0m\u001b[0mi\u001b[0m\u001b[0;34m)\u001b[0m\u001b[0;34m\u001b[0m\u001b[0;34m\u001b[0m\u001b[0m\n\u001b[0;32m----> 4\u001b[0;31m     \u001b[0mimgplot\u001b[0m \u001b[0;34m=\u001b[0m \u001b[0mplt\u001b[0m\u001b[0;34m.\u001b[0m\u001b[0mimshow\u001b[0m\u001b[0;34m(\u001b[0m\u001b[0marray_to_img\u001b[0m\u001b[0;34m(\u001b[0m\u001b[0mbatch\u001b[0m\u001b[0;34m[\u001b[0m\u001b[0;36m0\u001b[0m\u001b[0;34m]\u001b[0m\u001b[0;34m)\u001b[0m\u001b[0;34m)\u001b[0m\u001b[0;34m\u001b[0m\u001b[0;34m\u001b[0m\u001b[0m\n\u001b[0m\u001b[1;32m      5\u001b[0m     \u001b[0mi\u001b[0m \u001b[0;34m+=\u001b[0m \u001b[0;36m1\u001b[0m\u001b[0;34m\u001b[0m\u001b[0;34m\u001b[0m\u001b[0m\n\u001b[1;32m      6\u001b[0m     \u001b[0;32mif\u001b[0m \u001b[0mi\u001b[0m \u001b[0;34m%\u001b[0m \u001b[0;36m10\u001b[0m \u001b[0;34m==\u001b[0m \u001b[0;36m0\u001b[0m \u001b[0;34m:\u001b[0m\u001b[0;34m\u001b[0m\u001b[0;34m\u001b[0m\u001b[0m\n",
            "\u001b[0;32m/usr/local/lib/python3.7/dist-packages/keras/preprocessing/image.py\u001b[0m in \u001b[0;36marray_to_img\u001b[0;34m(x, data_format, scale, dtype)\u001b[0m\n\u001b[1;32m    199\u001b[0m       \u001b[0mdtype\u001b[0m \u001b[0;34m=\u001b[0m \u001b[0mbackend\u001b[0m\u001b[0;34m.\u001b[0m\u001b[0mfloatx\u001b[0m\u001b[0;34m(\u001b[0m\u001b[0;34m)\u001b[0m\u001b[0;34m\u001b[0m\u001b[0;34m\u001b[0m\u001b[0m\n\u001b[1;32m    200\u001b[0m     \u001b[0mkwargs\u001b[0m\u001b[0;34m[\u001b[0m\u001b[0;34m'dtype'\u001b[0m\u001b[0;34m]\u001b[0m \u001b[0;34m=\u001b[0m \u001b[0mdtype\u001b[0m\u001b[0;34m\u001b[0m\u001b[0;34m\u001b[0m\u001b[0m\n\u001b[0;32m--> 201\u001b[0;31m   \u001b[0;32mreturn\u001b[0m \u001b[0mimage\u001b[0m\u001b[0;34m.\u001b[0m\u001b[0marray_to_img\u001b[0m\u001b[0;34m(\u001b[0m\u001b[0mx\u001b[0m\u001b[0;34m,\u001b[0m \u001b[0mdata_format\u001b[0m\u001b[0;34m=\u001b[0m\u001b[0mdata_format\u001b[0m\u001b[0;34m,\u001b[0m \u001b[0mscale\u001b[0m\u001b[0;34m=\u001b[0m\u001b[0mscale\u001b[0m\u001b[0;34m,\u001b[0m \u001b[0;34m**\u001b[0m\u001b[0mkwargs\u001b[0m\u001b[0;34m)\u001b[0m\u001b[0;34m\u001b[0m\u001b[0;34m\u001b[0m\u001b[0m\n\u001b[0m\u001b[1;32m    202\u001b[0m \u001b[0;34m\u001b[0m\u001b[0m\n\u001b[1;32m    203\u001b[0m \u001b[0;34m\u001b[0m\u001b[0m\n",
            "\u001b[0;32m/usr/local/lib/python3.7/dist-packages/keras_preprocessing/image/utils.py\u001b[0m in \u001b[0;36marray_to_img\u001b[0;34m(x, data_format, scale, dtype)\u001b[0m\n\u001b[1;32m    255\u001b[0m     \u001b[0;32mif\u001b[0m \u001b[0mx\u001b[0m\u001b[0;34m.\u001b[0m\u001b[0mndim\u001b[0m \u001b[0;34m!=\u001b[0m \u001b[0;36m3\u001b[0m\u001b[0;34m:\u001b[0m\u001b[0;34m\u001b[0m\u001b[0;34m\u001b[0m\u001b[0m\n\u001b[1;32m    256\u001b[0m         raise ValueError('Expected image array to have rank 3 (single image). '\n\u001b[0;32m--> 257\u001b[0;31m                          'Got array with shape: %s' % (x.shape,))\n\u001b[0m\u001b[1;32m    258\u001b[0m \u001b[0;34m\u001b[0m\u001b[0m\n\u001b[1;32m    259\u001b[0m     \u001b[0;32mif\u001b[0m \u001b[0mdata_format\u001b[0m \u001b[0;32mnot\u001b[0m \u001b[0;32min\u001b[0m \u001b[0;34m{\u001b[0m\u001b[0;34m'channels_first'\u001b[0m\u001b[0;34m,\u001b[0m \u001b[0;34m'channels_last'\u001b[0m\u001b[0;34m}\u001b[0m\u001b[0;34m:\u001b[0m\u001b[0;34m\u001b[0m\u001b[0;34m\u001b[0m\u001b[0m\n",
            "\u001b[0;31mValueError\u001b[0m: Expected image array to have rank 3 (single image). Got array with shape: (1, 256, 256, 3)"
          ]
        },
        {
          "output_type": "display_data",
          "data": {
            "text/plain": [
              "<Figure size 432x288 with 0 Axes>"
            ]
          },
          "metadata": {}
        }
      ],
      "source": [
        "i = 0 \n",
        "for batch in datagen.flow_from_directory(train_dir, batch_size=1):\n",
        "    plt.figure(i)\n",
        "    imgplot = plt.imshow(array_to_img(batch[0]))\n",
        "    i += 1\n",
        "    if i % 10 == 0 :\n",
        "        break\n",
        "\n",
        "plt.show()        "
      ]
    },
    {
      "cell_type": "code",
      "execution_count": 18,
      "metadata": {
        "id": "TKcuO0UQXpbY"
      },
      "outputs": [],
      "source": [
        "model_base = tf.keras.models.Sequential([\n",
        "              tf.keras.layers.Flatten(input_shape= (56, 56, 1)),\n",
        "              tf.keras.layers.Dense(18, activation = \"relu\"),\n",
        "              tf.keras.layers.Dense(6, activation = \"relu\"),\n",
        "              tf.keras.layers.Dense(len(classes), activation = \"softmax\")\n",
        "])"
      ]
    },
    {
      "cell_type": "code",
      "execution_count": 19,
      "metadata": {
        "colab": {
          "base_uri": "https://localhost:8080/"
        },
        "id": "xQ78pc0kpoal",
        "outputId": "0a2b45a7-d160-4959-8479-904a258ed073"
      },
      "outputs": [
        {
          "output_type": "stream",
          "name": "stdout",
          "text": [
            "Model: \"sequential_1\"\n",
            "_________________________________________________________________\n",
            " Layer (type)                Output Shape              Param #   \n",
            "=================================================================\n",
            " flatten_1 (Flatten)         (None, 3136)              0         \n",
            "                                                                 \n",
            " dense_3 (Dense)             (None, 18)                56466     \n",
            "                                                                 \n",
            " dense_4 (Dense)             (None, 6)                 114       \n",
            "                                                                 \n",
            " dense_5 (Dense)             (None, 3)                 21        \n",
            "                                                                 \n",
            "=================================================================\n",
            "Total params: 56,601\n",
            "Trainable params: 56,601\n",
            "Non-trainable params: 0\n",
            "_________________________________________________________________\n"
          ]
        }
      ],
      "source": [
        "model_base.summary()"
      ]
    },
    {
      "cell_type": "code",
      "execution_count": 20,
      "metadata": {
        "colab": {
          "base_uri": "https://localhost:8080/"
        },
        "id": "6rYOoteeps10",
        "outputId": "ccf39182-8caa-4fc0-ac07-9f25d3cdddbb"
      },
      "outputs": [
        {
          "output_type": "stream",
          "name": "stdout",
          "text": [
            "Epoch 1/20\n",
            "9/9 [==============================] - 2s 88ms/step - loss: 1.0385 - accuracy: 0.4686 - val_loss: 0.8705 - val_accuracy: 0.5641\n",
            "Epoch 2/20\n",
            "9/9 [==============================] - 1s 72ms/step - loss: 0.9140 - accuracy: 0.6219 - val_loss: 0.8119 - val_accuracy: 0.5897\n",
            "Epoch 3/20\n",
            "9/9 [==============================] - 1s 95ms/step - loss: 0.8066 - accuracy: 0.6981 - val_loss: 0.7703 - val_accuracy: 0.5897\n",
            "Epoch 4/20\n",
            "9/9 [==============================] - 1s 98ms/step - loss: 0.7303 - accuracy: 0.7410 - val_loss: 0.7798 - val_accuracy: 0.5897\n",
            "Epoch 5/20\n",
            "9/9 [==============================] - 1s 100ms/step - loss: 0.6373 - accuracy: 0.8333 - val_loss: 0.8035 - val_accuracy: 0.6154\n",
            "Epoch 6/20\n",
            "9/9 [==============================] - 1s 68ms/step - loss: 0.5729 - accuracy: 0.8514 - val_loss: 0.8008 - val_accuracy: 0.6154\n",
            "Epoch 7/20\n",
            "9/9 [==============================] - 1s 69ms/step - loss: 0.5050 - accuracy: 0.8762 - val_loss: 0.8039 - val_accuracy: 0.6154\n",
            "Epoch 8/20\n",
            "9/9 [==============================] - 1s 76ms/step - loss: 0.4528 - accuracy: 0.8962 - val_loss: 0.8421 - val_accuracy: 0.5897\n",
            "Epoch 9/20\n",
            "9/9 [==============================] - 1s 70ms/step - loss: 0.4049 - accuracy: 0.9086 - val_loss: 0.8301 - val_accuracy: 0.6154\n",
            "Epoch 10/20\n",
            "9/9 [==============================] - 1s 71ms/step - loss: 0.3602 - accuracy: 0.9181 - val_loss: 0.7680 - val_accuracy: 0.6154\n",
            "Epoch 11/20\n",
            "9/9 [==============================] - 1s 77ms/step - loss: 0.3172 - accuracy: 0.9295 - val_loss: 0.7590 - val_accuracy: 0.6154\n",
            "Epoch 12/20\n",
            "9/9 [==============================] - 1s 67ms/step - loss: 0.2880 - accuracy: 0.9419 - val_loss: 0.7775 - val_accuracy: 0.6154\n",
            "Epoch 13/20\n",
            "9/9 [==============================] - 1s 77ms/step - loss: 0.2444 - accuracy: 0.9552 - val_loss: 0.7735 - val_accuracy: 0.6154\n",
            "Epoch 14/20\n",
            "9/9 [==============================] - 1s 73ms/step - loss: 0.2135 - accuracy: 0.9638 - val_loss: 0.7708 - val_accuracy: 0.5897\n",
            "Epoch 15/20\n",
            "9/9 [==============================] - 1s 69ms/step - loss: 0.1869 - accuracy: 0.9714 - val_loss: 0.7700 - val_accuracy: 0.6154\n",
            "Epoch 16/20\n",
            "9/9 [==============================] - 1s 67ms/step - loss: 0.1587 - accuracy: 0.9771 - val_loss: 0.8143 - val_accuracy: 0.6154\n",
            "Epoch 17/20\n",
            "9/9 [==============================] - 1s 71ms/step - loss: 0.1336 - accuracy: 0.9819 - val_loss: 0.8526 - val_accuracy: 0.5897\n",
            "Epoch 18/20\n",
            "9/9 [==============================] - 1s 70ms/step - loss: 0.1096 - accuracy: 0.9848 - val_loss: 0.8425 - val_accuracy: 0.6154\n",
            "Epoch 19/20\n",
            "9/9 [==============================] - 1s 69ms/step - loss: 0.0876 - accuracy: 0.9924 - val_loss: 0.9014 - val_accuracy: 0.5897\n",
            "Epoch 20/20\n",
            "9/9 [==============================] - 1s 70ms/step - loss: 0.0796 - accuracy: 0.9914 - val_loss: 0.9518 - val_accuracy: 0.5897\n"
          ]
        }
      ],
      "source": [
        "model_base.compile(optimizer = \"Adam\", loss = \"categorical_crossentropy\", metrics = ['accuracy'])\n",
        "\n",
        "\n",
        "history = model_base.fit(\n",
        "    train_generator, \n",
        "    epochs= 20, \n",
        "    validation_data = validation_generator\n",
        ")"
      ]
    },
    {
      "cell_type": "code",
      "execution_count": 21,
      "metadata": {
        "colab": {
          "base_uri": "https://localhost:8080/"
        },
        "id": "Tw71zpMBqeKT",
        "outputId": "3f3d26d0-f314-4a3b-fea1-dc5189278f35"
      },
      "outputs": [
        {
          "output_type": "stream",
          "name": "stdout",
          "text": [
            "2/2 [==============================] - 0s 17ms/step - loss: 1.0138 - accuracy: 0.5764\n"
          ]
        }
      ],
      "source": [
        "results = model_base.evaluate(test_generator)"
      ]
    },
    {
      "cell_type": "code",
      "execution_count": 22,
      "metadata": {
        "id": "y9J-Gl8JrzS2"
      },
      "outputs": [],
      "source": [
        "def visualizacion_resultados(history):\n",
        "  epochs = [i for i in range(20)]\n",
        "  fig, ax = plt.subplots(1,2)\n",
        "  train_acc = history.history[\"accuracy\"]\n",
        "  train_loss = history.history[\"loss\"]\n",
        "  val_acc = history.history[\"val_accuracy\"]\n",
        "  val_loss = history.history[\"val_loss\"]\n",
        "  fig.set_size_inches(16, 9)\n",
        "\n",
        "  ax[0].plot(epochs, train_acc, \"go-\", label =\" Entrenamiento accuracy\")\n",
        "  ax[0].plot(epochs, val_acc, \"ro-\", label= \"Validacion accuracy\")\n",
        "  ax[0].set_title(\"Entrenamiento & validación accuracy\")\n",
        "  ax[0].legend()\n",
        "  ax[0].set_xlabel(\"Epochs\")\n",
        "  ax[0].set_ylabel(\"Accuracy\")\n",
        "\n",
        "  ax[1].plot(epochs, train_loss, \"go-\", label =\" Entrenamiento Loss\")\n",
        "  ax[1].plot(epochs, val_loss, \"ro-\", label= \"Validacion Loss\")\n",
        "  ax[1].set_title(\"Entrenamiento & validación Loss\")\n",
        "  ax[1].legend()\n",
        "  ax[1].set_xlabel(\"Epochs\")\n",
        "  ax[1].set_ylabel(\"Loss\")\n",
        "\n",
        "  plt.show()"
      ]
    },
    {
      "cell_type": "code",
      "execution_count": 23,
      "metadata": {
        "colab": {
          "base_uri": "https://localhost:8080/",
          "height": 567
        },
        "id": "rAPEeUN5fnGW",
        "outputId": "270d1c5b-8f6f-46f9-a7c0-e98722a2fc4c"
      },
      "outputs": [
        {
          "output_type": "display_data",
          "data": {
            "text/plain": [
              "<Figure size 1152x648 with 2 Axes>"
            ],
            "image/png": "[encoded data removed]"
          },
          "metadata": {
            "needs_background": "light"
          }
        }
      ],
      "source": [
        "visualizacion_resultados(history)"
      ]
    },
    {
      "cell_type": "code",
      "execution_count": 24,
      "metadata": {
        "id": "0E01n8rygpjj"
      },
      "outputs": [],
      "source": [
        "from tensorflow.keras import regularizers"
      ]
    },
    {
      "cell_type": "code",
      "execution_count": 25,
      "metadata": {
        "colab": {
          "base_uri": "https://localhost:8080/"
        },
        "id": "-fyzSQlVjISa",
        "outputId": "1bb540eb-eaa3-4e9b-99bc-da89e9aa4c4a"
      },
      "outputs": [
        {
          "output_type": "stream",
          "name": "stdout",
          "text": [
            "Model: \"sequential_2\"\n",
            "_________________________________________________________________\n",
            " Layer (type)                Output Shape              Param #   \n",
            "=================================================================\n",
            " flatten_2 (Flatten)         (None, 3136)              0         \n",
            "                                                                 \n",
            " dense_6 (Dense)             (None, 12)                37644     \n",
            "                                                                 \n",
            " dropout (Dropout)           (None, 12)                0         \n",
            "                                                                 \n",
            " dense_7 (Dense)             (None, 6)                 78        \n",
            "                                                                 \n",
            " dropout_1 (Dropout)         (None, 6)                 0         \n",
            "                                                                 \n",
            " dense_8 (Dense)             (None, 3)                 21        \n",
            "                                                                 \n",
            "=================================================================\n",
            "Total params: 37,743\n",
            "Trainable params: 37,743\n",
            "Non-trainable params: 0\n",
            "_________________________________________________________________\n"
          ]
        }
      ],
      "source": [
        "model_optimizer = tf.keras.models.Sequential([\n",
        "              tf.keras.layers.Flatten(input_shape= (56, 56, 1)),\n",
        "              tf.keras.layers.Dense(12, kernel_regularizer = regularizers.l2(1e-5), activation = \"relu\"),\n",
        "              tf.keras.layers.Dropout(0.3),\n",
        "              tf.keras.layers.Dense(6, kernel_regularizer= regularizers.l2(1e-5),activation = \"relu\"),\n",
        "              tf.keras.layers.Dropout(0.2),\n",
        "              tf.keras.layers.Dense(len(classes), activation = \"softmax\")\n",
        "])\n",
        "\n",
        "model_optimizer.summary()"
      ]
    },
    {
      "cell_type": "code",
      "execution_count": 26,
      "metadata": {
        "colab": {
          "base_uri": "https://localhost:8080/"
        },
        "id": "MOpd-XEbjLEB",
        "outputId": "910f2b28-d27c-46e9-9f0a-5f7a6f30d62e"
      },
      "outputs": [
        {
          "output_type": "stream",
          "name": "stdout",
          "text": [
            "Epoch 1/40\n",
            "9/9 [==============================] - 1s 94ms/step - loss: 1.0637 - accuracy: 0.3848 - val_loss: 0.9072 - val_accuracy: 0.3077\n",
            "Epoch 2/40\n",
            "9/9 [==============================] - 1s 73ms/step - loss: 0.9722 - accuracy: 0.4600 - val_loss: 0.8796 - val_accuracy: 0.3333\n",
            "Epoch 3/40\n",
            "9/9 [==============================] - 1s 81ms/step - loss: 0.9248 - accuracy: 0.4857 - val_loss: 0.8224 - val_accuracy: 0.4615\n",
            "Epoch 4/40\n",
            "9/9 [==============================] - 1s 72ms/step - loss: 0.8794 - accuracy: 0.5105 - val_loss: 0.7118 - val_accuracy: 0.6667\n",
            "Epoch 5/40\n",
            "9/9 [==============================] - 1s 73ms/step - loss: 0.8657 - accuracy: 0.5343 - val_loss: 0.6315 - val_accuracy: 0.9487\n",
            "Epoch 6/40\n",
            "9/9 [==============================] - 1s 70ms/step - loss: 0.8392 - accuracy: 0.5533 - val_loss: 0.6879 - val_accuracy: 0.7179\n",
            "Epoch 7/40\n",
            "9/9 [==============================] - 1s 70ms/step - loss: 0.7767 - accuracy: 0.6200 - val_loss: 0.7543 - val_accuracy: 0.4103\n",
            "Epoch 8/40\n",
            "9/9 [==============================] - 1s 78ms/step - loss: 0.7509 - accuracy: 0.6324 - val_loss: 0.7074 - val_accuracy: 0.5641\n",
            "Epoch 9/40\n",
            "9/9 [==============================] - 1s 75ms/step - loss: 0.7015 - accuracy: 0.6676 - val_loss: 0.6989 - val_accuracy: 0.5641\n",
            "Epoch 10/40\n",
            "9/9 [==============================] - 1s 70ms/step - loss: 0.6621 - accuracy: 0.6638 - val_loss: 0.7970 - val_accuracy: 0.4103\n",
            "Epoch 11/40\n",
            "9/9 [==============================] - 1s 70ms/step - loss: 0.6694 - accuracy: 0.6600 - val_loss: 0.7931 - val_accuracy: 0.6410\n",
            "Epoch 12/40\n",
            "9/9 [==============================] - 1s 73ms/step - loss: 0.6693 - accuracy: 0.6390 - val_loss: 0.8700 - val_accuracy: 0.5897\n",
            "Epoch 13/40\n",
            "9/9 [==============================] - 1s 70ms/step - loss: 0.6139 - accuracy: 0.7048 - val_loss: 0.7990 - val_accuracy: 0.5897\n",
            "Epoch 14/40\n",
            "9/9 [==============================] - 1s 71ms/step - loss: 0.5971 - accuracy: 0.6886 - val_loss: 0.7957 - val_accuracy: 0.5897\n",
            "Epoch 15/40\n",
            "9/9 [==============================] - 1s 69ms/step - loss: 0.5786 - accuracy: 0.7152 - val_loss: 0.8892 - val_accuracy: 0.5897\n",
            "Epoch 16/40\n",
            "9/9 [==============================] - 1s 69ms/step - loss: 0.5654 - accuracy: 0.7210 - val_loss: 0.7952 - val_accuracy: 0.6154\n",
            "Epoch 17/40\n",
            "9/9 [==============================] - 1s 71ms/step - loss: 0.5246 - accuracy: 0.7410 - val_loss: 0.8434 - val_accuracy: 0.6154\n",
            "Epoch 18/40\n",
            "9/9 [==============================] - 1s 69ms/step - loss: 0.5185 - accuracy: 0.7533 - val_loss: 0.8617 - val_accuracy: 0.5641\n",
            "Epoch 19/40\n",
            "9/9 [==============================] - 1s 69ms/step - loss: 0.5049 - accuracy: 0.7352 - val_loss: 0.9705 - val_accuracy: 0.6154\n",
            "Epoch 20/40\n",
            "9/9 [==============================] - 1s 68ms/step - loss: 0.4918 - accuracy: 0.7533 - val_loss: 0.8624 - val_accuracy: 0.6154\n",
            "Epoch 21/40\n",
            "9/9 [==============================] - 1s 76ms/step - loss: 0.4816 - accuracy: 0.7676 - val_loss: 0.8516 - val_accuracy: 0.6154\n",
            "Epoch 22/40\n",
            "9/9 [==============================] - 1s 72ms/step - loss: 0.4466 - accuracy: 0.7829 - val_loss: 0.9773 - val_accuracy: 0.6154\n",
            "Epoch 23/40\n",
            "9/9 [==============================] - 1s 76ms/step - loss: 0.4518 - accuracy: 0.7705 - val_loss: 1.1461 - val_accuracy: 0.6154\n",
            "Epoch 24/40\n",
            "9/9 [==============================] - 1s 70ms/step - loss: 0.4686 - accuracy: 0.7810 - val_loss: 1.0433 - val_accuracy: 0.6154\n",
            "Epoch 25/40\n",
            "9/9 [==============================] - 1s 72ms/step - loss: 0.4514 - accuracy: 0.7790 - val_loss: 0.9713 - val_accuracy: 0.6154\n",
            "Epoch 26/40\n",
            "9/9 [==============================] - 1s 71ms/step - loss: 0.4222 - accuracy: 0.8029 - val_loss: 1.1466 - val_accuracy: 0.6154\n",
            "Epoch 27/40\n",
            "9/9 [==============================] - 1s 70ms/step - loss: 0.4197 - accuracy: 0.7924 - val_loss: 1.1354 - val_accuracy: 0.6154\n",
            "Epoch 28/40\n",
            "9/9 [==============================] - 1s 70ms/step - loss: 0.3918 - accuracy: 0.8143 - val_loss: 1.3629 - val_accuracy: 0.6154\n",
            "Epoch 29/40\n",
            "9/9 [==============================] - 1s 71ms/step - loss: 0.3984 - accuracy: 0.8124 - val_loss: 1.2326 - val_accuracy: 0.6154\n",
            "Epoch 30/40\n",
            "9/9 [==============================] - 1s 71ms/step - loss: 0.3785 - accuracy: 0.8152 - val_loss: 1.1200 - val_accuracy: 0.6154\n",
            "Epoch 31/40\n",
            "9/9 [==============================] - 1s 73ms/step - loss: 0.3561 - accuracy: 0.8229 - val_loss: 1.3238 - val_accuracy: 0.6154\n",
            "Epoch 32/40\n",
            "9/9 [==============================] - 1s 74ms/step - loss: 0.3641 - accuracy: 0.8105 - val_loss: 1.1442 - val_accuracy: 0.6154\n",
            "Epoch 33/40\n",
            "9/9 [==============================] - 1s 71ms/step - loss: 0.3363 - accuracy: 0.8295 - val_loss: 1.7099 - val_accuracy: 0.6154\n",
            "Epoch 34/40\n",
            "9/9 [==============================] - 1s 69ms/step - loss: 0.3243 - accuracy: 0.8543 - val_loss: 1.2200 - val_accuracy: 0.6154\n",
            "Epoch 35/40\n",
            "9/9 [==============================] - 1s 67ms/step - loss: 0.3516 - accuracy: 0.8419 - val_loss: 1.1041 - val_accuracy: 0.6154\n",
            "Epoch 36/40\n",
            "9/9 [==============================] - 1s 78ms/step - loss: 0.3333 - accuracy: 0.8476 - val_loss: 1.6734 - val_accuracy: 0.6154\n",
            "Epoch 37/40\n",
            "9/9 [==============================] - 1s 73ms/step - loss: 0.3157 - accuracy: 0.8543 - val_loss: 1.4047 - val_accuracy: 0.6154\n",
            "Epoch 38/40\n",
            "9/9 [==============================] - 1s 73ms/step - loss: 0.3253 - accuracy: 0.8467 - val_loss: 1.5287 - val_accuracy: 0.6154\n",
            "Epoch 39/40\n",
            "9/9 [==============================] - 1s 70ms/step - loss: 0.3066 - accuracy: 0.8667 - val_loss: 1.4082 - val_accuracy: 0.6154\n",
            "Epoch 40/40\n",
            "9/9 [==============================] - 1s 69ms/step - loss: 0.3370 - accuracy: 0.8390 - val_loss: 1.2772 - val_accuracy: 0.6154\n"
          ]
        }
      ],
      "source": [
        "model_optimizer.compile(optimizer= \"Adam\", loss = \"categorical_crossentropy\", metrics = [\"accuracy\"])\n",
        "\n",
        "history_optimizer = model_optimizer.fit(\n",
        "    train_generator,\n",
        "    epochs = 40,\n",
        "    validation_data = validation_generator\n",
        ")"
      ]
    },
    {
      "cell_type": "code",
      "execution_count": 27,
      "metadata": {
        "colab": {
          "base_uri": "https://localhost:8080/",
          "height": 567
        },
        "id": "v99AFs5SjTSN",
        "outputId": "ba256956-54a9-4bdd-ddea-6e63f0a73e40"
      },
      "outputs": [
        {
          "output_type": "display_data",
          "data": {
            "text/plain": [
              "<Figure size 1152x648 with 2 Axes>"
            ],
            "image/png": "[encoded data removed]"
          },
          "metadata": {
            "needs_background": "light"
          }
        }
      ],
      "source": [
        "def visualizacion_resultados(history):\n",
        "  epochs = [i for i in range(40)]\n",
        "  fig, ax = plt.subplots(1,2)\n",
        "  train_acc = history.history[\"accuracy\"]\n",
        "  train_loss = history.history[\"loss\"]\n",
        "  val_acc = history.history[\"val_accuracy\"]\n",
        "  val_loss = history.history[\"val_loss\"]\n",
        "  fig.set_size_inches(16, 9)\n",
        "\n",
        "  ax[0].plot(epochs, train_acc, \"go-\", label =\" Entrenamiento accuracy\")\n",
        "  ax[0].plot(epochs, val_acc, \"ro-\", label= \"Validacion accuracy\")\n",
        "  ax[0].set_title(\"Entrenamiento & validación accuracy\")\n",
        "  ax[0].legend()\n",
        "  ax[0].set_xlabel(\"Epochs\")\n",
        "  ax[0].set_ylabel(\"Accuracy\")\n",
        "\n",
        "  ax[1].plot(epochs, train_loss, \"go-\", label =\" Entrenamiento Loss\")\n",
        "  ax[1].plot(epochs, val_loss, \"ro-\", label= \"Validacion Loss\")\n",
        "  ax[1].set_title(\"Entrenamiento & validación Loss\")\n",
        "  ax[1].legend()\n",
        "  ax[1].set_xlabel(\"Epochs\")\n",
        "  ax[1].set_ylabel(\"Loss\")\n",
        "\n",
        "  plt.show()\n",
        "\n",
        "visualizacion_resultados(history_optimizer)"
      ]
    },
    {
      "cell_type": "markdown",
      "metadata": {
        "id": "sQ1Kk29NWccM"
      },
      "source": [
        "convoluciones\n"
      ]
    },
    {
      "cell_type": "code",
      "execution_count": 31,
      "metadata": {
        "colab": {
          "base_uri": "https://localhost:8080/"
        },
        "id": "WGzSIq-SWgLk",
        "outputId": "1ffce5cf-044d-49e2-d921-265b9d6f399a"
      },
      "outputs": [
        {
          "output_type": "stream",
          "name": "stdout",
          "text": [
            "Model: \"sequential_4\"\n",
            "_________________________________________________________________\n",
            " Layer (type)                Output Shape              Param #   \n",
            "=================================================================\n",
            " conv2d_1 (Conv2D)           (None, 53, 53, 32)        544       \n",
            "                                                                 \n",
            " max_pooling2d_1 (MaxPooling  (None, 26, 26, 32)       0         \n",
            " 2D)                                                             \n",
            "                                                                 \n",
            " flatten_4 (Flatten)         (None, 21632)             0         \n",
            "                                                                 \n",
            " dense_12 (Dense)            (None, 256)               5538048   \n",
            "                                                                 \n",
            " dropout_4 (Dropout)         (None, 256)               0         \n",
            "                                                                 \n",
            " dense_13 (Dense)            (None, 128)               32896     \n",
            "                                                                 \n",
            " dropout_5 (Dropout)         (None, 128)               0         \n",
            "                                                                 \n",
            " dense_14 (Dense)            (None, 3)                 387       \n",
            "                                                                 \n",
            "=================================================================\n",
            "Total params: 5,571,875\n",
            "Trainable params: 5,571,875\n",
            "Non-trainable params: 0\n",
            "_________________________________________________________________\n",
            "Epoch 1/40\n",
            "9/9 [==============================] - 7s 662ms/step - loss: 1.3488 - accuracy: 0.4276 - val_loss: 0.9357 - val_accuracy: 0.5897\n",
            "Epoch 2/40\n",
            "9/9 [==============================] - 5s 587ms/step - loss: 0.8544 - accuracy: 0.5876 - val_loss: 0.9390 - val_accuracy: 0.5897\n",
            "Epoch 3/40\n",
            "9/9 [==============================] - 4s 383ms/step - loss: 0.7864 - accuracy: 0.6524 - val_loss: 0.9790 - val_accuracy: 0.6667\n",
            "Epoch 4/40\n",
            "9/9 [==============================] - 4s 385ms/step - loss: 0.4912 - accuracy: 0.8276 - val_loss: 1.2672 - val_accuracy: 0.6667\n",
            "Epoch 5/40\n",
            "9/9 [==============================] - 4s 385ms/step - loss: 0.3428 - accuracy: 0.8848 - val_loss: 1.4135 - val_accuracy: 0.6154\n",
            "Epoch 6/40\n",
            "9/9 [==============================] - 4s 383ms/step - loss: 0.1640 - accuracy: 0.9648 - val_loss: 1.9219 - val_accuracy: 0.6667\n",
            "Epoch 7/40\n",
            "9/9 [==============================] - 3s 382ms/step - loss: 0.1129 - accuracy: 0.9733 - val_loss: 1.9002 - val_accuracy: 0.6667\n",
            "Epoch 8/40\n",
            "9/9 [==============================] - 4s 380ms/step - loss: 0.0604 - accuracy: 0.9905 - val_loss: 2.0287 - val_accuracy: 0.6154\n",
            "Epoch 9/40\n",
            "9/9 [==============================] - 3s 373ms/step - loss: 0.0358 - accuracy: 0.9971 - val_loss: 2.2071 - val_accuracy: 0.6410\n",
            "Epoch 10/40\n",
            "9/9 [==============================] - 4s 425ms/step - loss: 0.0223 - accuracy: 0.9990 - val_loss: 2.2748 - val_accuracy: 0.6154\n",
            "Epoch 11/40\n",
            "9/9 [==============================] - 4s 386ms/step - loss: 0.0177 - accuracy: 1.0000 - val_loss: 2.4729 - val_accuracy: 0.6667\n",
            "Epoch 12/40\n",
            "9/9 [==============================] - 4s 386ms/step - loss: 0.0150 - accuracy: 1.0000 - val_loss: 2.4036 - val_accuracy: 0.6154\n",
            "Epoch 13/40\n",
            "9/9 [==============================] - 4s 391ms/step - loss: 0.0136 - accuracy: 1.0000 - val_loss: 2.4926 - val_accuracy: 0.6154\n",
            "Epoch 14/40\n",
            "9/9 [==============================] - 4s 392ms/step - loss: 0.0127 - accuracy: 1.0000 - val_loss: 2.7454 - val_accuracy: 0.6667\n",
            "Epoch 15/40\n",
            "9/9 [==============================] - 4s 388ms/step - loss: 0.0117 - accuracy: 1.0000 - val_loss: 2.5154 - val_accuracy: 0.6154\n",
            "Epoch 16/40\n",
            "9/9 [==============================] - 4s 417ms/step - loss: 0.0094 - accuracy: 1.0000 - val_loss: 2.6034 - val_accuracy: 0.6154\n",
            "Epoch 17/40\n",
            "9/9 [==============================] - 4s 383ms/step - loss: 0.0099 - accuracy: 1.0000 - val_loss: 2.6199 - val_accuracy: 0.6667\n",
            "Epoch 18/40\n",
            "9/9 [==============================] - 3s 378ms/step - loss: 0.0089 - accuracy: 1.0000 - val_loss: 2.6179 - val_accuracy: 0.6154\n",
            "Epoch 19/40\n",
            "9/9 [==============================] - 3s 412ms/step - loss: 0.0081 - accuracy: 1.0000 - val_loss: 2.6986 - val_accuracy: 0.6410\n",
            "Epoch 20/40\n",
            "9/9 [==============================] - 4s 396ms/step - loss: 0.0077 - accuracy: 1.0000 - val_loss: 2.7882 - val_accuracy: 0.6410\n",
            "Epoch 21/40\n",
            "9/9 [==============================] - 4s 381ms/step - loss: 0.0082 - accuracy: 1.0000 - val_loss: 2.7589 - val_accuracy: 0.6667\n",
            "Epoch 22/40\n",
            "9/9 [==============================] - 4s 383ms/step - loss: 0.0075 - accuracy: 1.0000 - val_loss: 2.6877 - val_accuracy: 0.6667\n",
            "Epoch 23/40\n",
            "9/9 [==============================] - 4s 446ms/step - loss: 0.0075 - accuracy: 1.0000 - val_loss: 2.8463 - val_accuracy: 0.6410\n",
            "Epoch 24/40\n",
            "9/9 [==============================] - 4s 385ms/step - loss: 0.0071 - accuracy: 1.0000 - val_loss: 2.9125 - val_accuracy: 0.6410\n",
            "Epoch 25/40\n",
            "9/9 [==============================] - 4s 384ms/step - loss: 0.0069 - accuracy: 1.0000 - val_loss: 2.8566 - val_accuracy: 0.6410\n",
            "Epoch 26/40\n",
            "9/9 [==============================] - 4s 384ms/step - loss: 0.0069 - accuracy: 1.0000 - val_loss: 2.7763 - val_accuracy: 0.6154\n",
            "Epoch 27/40\n",
            "9/9 [==============================] - 4s 387ms/step - loss: 0.0066 - accuracy: 1.0000 - val_loss: 2.9017 - val_accuracy: 0.6154\n",
            "Epoch 28/40\n",
            "9/9 [==============================] - 4s 390ms/step - loss: 0.0066 - accuracy: 1.0000 - val_loss: 2.8953 - val_accuracy: 0.6154\n",
            "Epoch 29/40\n",
            "9/9 [==============================] - 4s 399ms/step - loss: 0.0067 - accuracy: 1.0000 - val_loss: 2.8961 - val_accuracy: 0.6154\n",
            "Epoch 30/40\n",
            "9/9 [==============================] - 4s 394ms/step - loss: 0.0066 - accuracy: 1.0000 - val_loss: 2.8782 - val_accuracy: 0.6410\n",
            "Epoch 31/40\n",
            "9/9 [==============================] - 4s 390ms/step - loss: 0.0066 - accuracy: 1.0000 - val_loss: 2.8342 - val_accuracy: 0.6154\n",
            "Epoch 32/40\n",
            "9/9 [==============================] - 4s 380ms/step - loss: 0.0064 - accuracy: 1.0000 - val_loss: 2.9251 - val_accuracy: 0.6154\n",
            "Epoch 33/40\n",
            "9/9 [==============================] - 4s 391ms/step - loss: 0.0063 - accuracy: 1.0000 - val_loss: 2.8966 - val_accuracy: 0.6154\n",
            "Epoch 34/40\n",
            "9/9 [==============================] - 4s 381ms/step - loss: 0.0061 - accuracy: 1.0000 - val_loss: 2.9115 - val_accuracy: 0.6154\n",
            "Epoch 35/40\n",
            "9/9 [==============================] - 4s 446ms/step - loss: 0.0061 - accuracy: 1.0000 - val_loss: 2.9415 - val_accuracy: 0.6154\n",
            "Epoch 36/40\n",
            "9/9 [==============================] - 4s 393ms/step - loss: 0.0060 - accuracy: 1.0000 - val_loss: 2.9751 - val_accuracy: 0.6154\n",
            "Epoch 37/40\n",
            "9/9 [==============================] - 4s 387ms/step - loss: 0.0061 - accuracy: 1.0000 - val_loss: 2.9954 - val_accuracy: 0.6410\n",
            "Epoch 38/40\n",
            "9/9 [==============================] - 4s 401ms/step - loss: 0.0058 - accuracy: 1.0000 - val_loss: 3.0218 - val_accuracy: 0.6154\n",
            "Epoch 39/40\n",
            "9/9 [==============================] - 4s 415ms/step - loss: 0.0059 - accuracy: 1.0000 - val_loss: 2.9340 - val_accuracy: 0.6154\n",
            "Epoch 40/40\n",
            "9/9 [==============================] - 4s 379ms/step - loss: 0.0058 - accuracy: 1.0000 - val_loss: 2.9237 - val_accuracy: 0.6154\n"
          ]
        }
      ],
      "source": [
        "model_convolutional = tf.keras.models.Sequential([\n",
        "              tf.keras.layers.Conv2D(32, (4,4), activation = \"relu\", input_shape= (56, 56, 1)),\n",
        "              tf.keras.layers.MaxPool2D((2,2)),\n",
        "              tf.keras.layers.Flatten(),\n",
        "              tf.keras.layers.Dense(256, kernel_regularizer = regularizers.l2(1e-5), activation = \"relu\"),\n",
        "              tf.keras.layers.Dropout(0.08),\n",
        "              tf.keras.layers.Dense(128, kernel_regularizer= regularizers.l2(1e-5),activation = \"relu\"),\n",
        "              tf.keras.layers.Dropout(0.08),\n",
        "              tf.keras.layers.Dense(len(classes), activation = \"softmax\")\n",
        "])\n",
        "\n",
        "model_convolutional.summary()\n",
        "\n",
        "model_convolutional.compile(optimizer= \"Nadam\", loss = \"categorical_crossentropy\", metrics = [\"accuracy\"])\n",
        "\n",
        "history_convolutional = model_convolutional.fit(\n",
        "    train_generator,\n",
        "    epochs = 40,\n",
        "    validation_data = validation_generator\n",
        ")"
      ]
    },
    {
      "cell_type": "code",
      "execution_count": 32,
      "metadata": {
        "colab": {
          "base_uri": "https://localhost:8080/",
          "height": 567
        },
        "id": "GwdFeDyFWoHC",
        "outputId": "970447aa-f267-46aa-9777-a6c5adf69752"
      },
      "outputs": [
        {
          "output_type": "display_data",
          "data": {
            "text/plain": [
              "<Figure size 1152x648 with 2 Axes>"
            ],
            "image/png": "[encoded data removed]"
          },
          "metadata": {
            "needs_background": "light"
          }
        }
      ],
      "source": [
        "visualizacion_resultados(history_convolutional)"
      ]
    },
    {
      "cell_type": "markdown",
      "metadata": {
        "id": "vIh-_fcDYqYv"
      },
      "source": [
        "CALLBACKS"
      ]
    },
    {
      "cell_type": "code",
      "execution_count": 33,
      "metadata": {
        "colab": {
          "base_uri": "https://localhost:8080/"
        },
        "id": "u63PRYYVYtUw",
        "outputId": "4e82a48b-664f-492f-8949-c906f12e5e11"
      },
      "outputs": [
        {
          "output_type": "stream",
          "name": "stdout",
          "text": [
            "Model: \"sequential_5\"\n",
            "_________________________________________________________________\n",
            " Layer (type)                Output Shape              Param #   \n",
            "=================================================================\n",
            " conv2d_2 (Conv2D)           (None, 54, 54, 75)        750       \n",
            "                                                                 \n",
            " max_pooling2d_2 (MaxPooling  (None, 27, 27, 75)       0         \n",
            " 2D)                                                             \n",
            "                                                                 \n",
            " flatten_5 (Flatten)         (None, 54675)             0         \n",
            "                                                                 \n",
            " dense_15 (Dense)            (None, 256)               13997056  \n",
            "                                                                 \n",
            " dropout_6 (Dropout)         (None, 256)               0         \n",
            "                                                                 \n",
            " dense_16 (Dense)            (None, 128)               32896     \n",
            "                                                                 \n",
            " dropout_7 (Dropout)         (None, 128)               0         \n",
            "                                                                 \n",
            " dense_17 (Dense)            (None, 3)                 387       \n",
            "                                                                 \n",
            "=================================================================\n",
            "Total params: 14,031,089\n",
            "Trainable params: 14,031,089\n",
            "Non-trainable params: 0\n",
            "_________________________________________________________________\n"
          ]
        }
      ],
      "source": [
        "model_callback = tf.keras.models.Sequential([\n",
        "              tf.keras.layers.Conv2D(75, (3,3), activation = \"relu\", input_shape= (56, 56, 1)),\n",
        "              tf.keras.layers.MaxPool2D((2,2)),\n",
        "              tf.keras.layers.Flatten(),\n",
        "              tf.keras.layers.Dense(256, kernel_regularizer = regularizers.l2(1e-5), activation = \"relu\"),\n",
        "              tf.keras.layers.Dropout(0.5),\n",
        "              tf.keras.layers.Dense(128, kernel_regularizer= regularizers.l2(1e-5),activation = \"relu\"),\n",
        "              tf.keras.layers.Dropout(0.5),\n",
        "              tf.keras.layers.Dense(len(classes), activation = \"softmax\")\n",
        "])\n",
        "\n",
        "model_callback.summary()\n",
        "\n",
        "model_callback.compile(optimizer= \"adam\", loss = \"categorical_crossentropy\", metrics = [\"accuracy\"])"
      ]
    },
    {
      "cell_type": "code",
      "execution_count": 34,
      "metadata": {
        "id": "vjPPd7lba32j"
      },
      "outputs": [],
      "source": [
        "from tensorflow.keras.callbacks import Callback\n",
        "\n",
        "class TrainingCallback(Callback):\n",
        "  def on_epoch_end(self, epoch, logs = {}):\n",
        "    if logs.get(\"accuracy\") > 0.999:\n",
        "      print(\"Lo logramos, nuestro modelo llego a 95%, detenemos el entrenamiento\")\n",
        "      self.model.stop_training = True"
      ]
    },
    {
      "cell_type": "code",
      "execution_count": 35,
      "metadata": {
        "colab": {
          "base_uri": "https://localhost:8080/"
        },
        "id": "AWK2PJ5Ia54C",
        "outputId": "c31b5c82-f9eb-4e1d-a623-d290be21019f"
      },
      "outputs": [
        {
          "output_type": "stream",
          "name": "stdout",
          "text": [
            "Epoch 1/20\n",
            "9/9 [==============================] - 8s 767ms/step - loss: 2.0122 - accuracy: 0.3943 - val_loss: 0.9136 - val_accuracy: 0.6410\n",
            "Epoch 2/20\n",
            "9/9 [==============================] - 8s 858ms/step - loss: 1.0317 - accuracy: 0.5181 - val_loss: 0.8152 - val_accuracy: 0.5897\n",
            "Epoch 3/20\n",
            "9/9 [==============================] - 8s 889ms/step - loss: 0.8206 - accuracy: 0.6419 - val_loss: 0.7797 - val_accuracy: 0.5897\n",
            "Epoch 4/20\n",
            "9/9 [==============================] - 8s 840ms/step - loss: 0.6756 - accuracy: 0.7114 - val_loss: 0.8331 - val_accuracy: 0.5641\n",
            "Epoch 5/20\n",
            "9/9 [==============================] - 7s 746ms/step - loss: 0.5378 - accuracy: 0.7971 - val_loss: 0.8993 - val_accuracy: 0.6154\n",
            "Epoch 6/20\n",
            "9/9 [==============================] - 7s 747ms/step - loss: 0.3835 - accuracy: 0.8714 - val_loss: 1.0041 - val_accuracy: 0.6410\n",
            "Epoch 7/20\n",
            "9/9 [==============================] - 7s 835ms/step - loss: 0.2729 - accuracy: 0.9133 - val_loss: 1.0998 - val_accuracy: 0.6154\n",
            "Epoch 8/20\n",
            "9/9 [==============================] - 7s 736ms/step - loss: 0.2011 - accuracy: 0.9381 - val_loss: 1.1670 - val_accuracy: 0.6154\n",
            "Epoch 9/20\n",
            "9/9 [==============================] - 7s 738ms/step - loss: 0.1610 - accuracy: 0.9533 - val_loss: 1.1229 - val_accuracy: 0.6410\n",
            "Epoch 10/20\n",
            "9/9 [==============================] - 7s 741ms/step - loss: 0.1231 - accuracy: 0.9724 - val_loss: 1.1096 - val_accuracy: 0.6154\n",
            "Epoch 11/20\n",
            "9/9 [==============================] - 7s 761ms/step - loss: 0.0963 - accuracy: 0.9752 - val_loss: 1.1444 - val_accuracy: 0.6154\n",
            "Epoch 12/20\n",
            "9/9 [==============================] - 7s 763ms/step - loss: 0.0814 - accuracy: 0.9848 - val_loss: 1.3108 - val_accuracy: 0.6154\n",
            "Epoch 13/20\n",
            "9/9 [==============================] - 7s 751ms/step - loss: 0.0687 - accuracy: 0.9895 - val_loss: 1.3723 - val_accuracy: 0.6154\n",
            "Epoch 14/20\n",
            "9/9 [==============================] - 7s 756ms/step - loss: 0.0633 - accuracy: 0.9848 - val_loss: 1.5140 - val_accuracy: 0.6410\n",
            "Epoch 15/20\n",
            "9/9 [==============================] - 7s 736ms/step - loss: 0.0639 - accuracy: 0.9848 - val_loss: 1.3235 - val_accuracy: 0.6154\n",
            "Epoch 16/20\n",
            "9/9 [==============================] - 7s 739ms/step - loss: 0.0402 - accuracy: 0.9952 - val_loss: 1.4804 - val_accuracy: 0.6154\n",
            "Epoch 17/20\n",
            "9/9 [==============================] - 7s 729ms/step - loss: 0.0519 - accuracy: 0.9886 - val_loss: 1.4292 - val_accuracy: 0.6154\n",
            "Epoch 18/20\n",
            "9/9 [==============================] - 7s 754ms/step - loss: 0.0436 - accuracy: 0.9924 - val_loss: 1.5578 - val_accuracy: 0.6154\n",
            "Epoch 19/20\n",
            "9/9 [==============================] - 7s 735ms/step - loss: 0.0386 - accuracy: 0.9952 - val_loss: 1.6973 - val_accuracy: 0.6154\n",
            "Epoch 20/20\n",
            "9/9 [==============================] - 7s 737ms/step - loss: 0.0342 - accuracy: 0.9952 - val_loss: 1.6111 - val_accuracy: 0.6154\n"
          ]
        }
      ],
      "source": [
        "callback = TrainingCallback()\n",
        "\n",
        "history_callback = model_callback.fit(\n",
        "    train_generator,\n",
        "    epochs = 20,\n",
        "    callbacks = [callback],\n",
        "    validation_data = validation_generator\n",
        ")"
      ]
    },
    {
      "cell_type": "code",
      "execution_count": 36,
      "metadata": {
        "colab": {
          "base_uri": "https://localhost:8080/"
        },
        "id": "qBCVudTya845",
        "outputId": "bffff668-70ca-46f3-9f53-4a22641a0169"
      },
      "outputs": [
        {
          "output_type": "stream",
          "name": "stdout",
          "text": [
            "Model: \"sequential_6\"\n",
            "_________________________________________________________________\n",
            " Layer (type)                Output Shape              Param #   \n",
            "=================================================================\n",
            " conv2d_3 (Conv2D)           (None, 54, 54, 75)        750       \n",
            "                                                                 \n",
            " max_pooling2d_3 (MaxPooling  (None, 27, 27, 75)       0         \n",
            " 2D)                                                             \n",
            "                                                                 \n",
            " flatten_6 (Flatten)         (None, 54675)             0         \n",
            "                                                                 \n",
            " dense_18 (Dense)            (None, 256)               13997056  \n",
            "                                                                 \n",
            " dropout_8 (Dropout)         (None, 256)               0         \n",
            "                                                                 \n",
            " dense_19 (Dense)            (None, 128)               32896     \n",
            "                                                                 \n",
            " dropout_9 (Dropout)         (None, 128)               0         \n",
            "                                                                 \n",
            " dense_20 (Dense)            (None, 3)                 387       \n",
            "                                                                 \n",
            "=================================================================\n",
            "Total params: 14,031,089\n",
            "Trainable params: 14,031,089\n",
            "Non-trainable params: 0\n",
            "_________________________________________________________________\n"
          ]
        }
      ],
      "source": [
        "def get_model():\n",
        "  model = tf.keras.models.Sequential([\n",
        "              tf.keras.layers.Conv2D(75, (3,3), activation = \"relu\", input_shape= (56, 56, 1)),\n",
        "              tf.keras.layers.MaxPool2D((2,2)),\n",
        "              tf.keras.layers.Flatten(),\n",
        "              tf.keras.layers.Dense(256, kernel_regularizer = regularizers.l2(1e-5), activation = \"relu\"),\n",
        "              tf.keras.layers.Dropout(0.5),\n",
        "              tf.keras.layers.Dense(128, kernel_regularizer= regularizers.l2(1e-5),activation = \"relu\"),\n",
        "              tf.keras.layers.Dropout(0.5),\n",
        "              tf.keras.layers.Dense(len(classes), activation = \"softmax\")\n",
        "  ])\n",
        "  return model\n",
        "\n",
        "model_early = get_model()\n",
        "model_early.summary()\n",
        "\n",
        "model_early.compile(optimizer= \"adam\", loss = \"categorical_crossentropy\", metrics = [\"accuracy\"])"
      ]
    },
    {
      "cell_type": "markdown",
      "metadata": {
        "id": "mAfDjjZTgWLF"
      },
      "source": [
        "early stopping"
      ]
    },
    {
      "cell_type": "code",
      "execution_count": 37,
      "metadata": {
        "id": "O5SV6fK-gdn9"
      },
      "outputs": [],
      "source": [
        "callback_early = tf.keras.callbacks.EarlyStopping(monitor = \"loss\", patience=3, mode = \"auto\")"
      ]
    },
    {
      "cell_type": "code",
      "execution_count": 38,
      "metadata": {
        "colab": {
          "base_uri": "https://localhost:8080/"
        },
        "id": "VUXHIKIVghRv",
        "outputId": "b2209dad-4213-4003-c0cd-86b82c074836"
      },
      "outputs": [
        {
          "output_type": "stream",
          "name": "stdout",
          "text": [
            "Epoch 1/20\n",
            "9/9 [==============================] - 8s 761ms/step - loss: 2.0031 - accuracy: 0.3552 - val_loss: 0.8738 - val_accuracy: 0.3333\n",
            "Epoch 2/20\n",
            "9/9 [==============================] - 7s 800ms/step - loss: 1.0340 - accuracy: 0.4838 - val_loss: 0.8008 - val_accuracy: 0.5641\n",
            "Epoch 3/20\n",
            "9/9 [==============================] - 7s 726ms/step - loss: 0.8645 - accuracy: 0.5914 - val_loss: 0.8629 - val_accuracy: 0.5385\n",
            "Epoch 4/20\n",
            "9/9 [==============================] - 7s 726ms/step - loss: 0.7485 - accuracy: 0.6790 - val_loss: 0.8569 - val_accuracy: 0.5897\n",
            "Epoch 5/20\n",
            "9/9 [==============================] - 7s 728ms/step - loss: 0.5782 - accuracy: 0.7695 - val_loss: 0.9448 - val_accuracy: 0.5897\n",
            "Epoch 6/20\n",
            "9/9 [==============================] - 7s 726ms/step - loss: 0.4425 - accuracy: 0.8419 - val_loss: 1.0416 - val_accuracy: 0.6154\n",
            "Epoch 7/20\n",
            "9/9 [==============================] - 7s 733ms/step - loss: 0.3081 - accuracy: 0.9038 - val_loss: 1.1874 - val_accuracy: 0.6410\n",
            "Epoch 8/20\n",
            "9/9 [==============================] - 7s 719ms/step - loss: 0.2205 - accuracy: 0.9324 - val_loss: 1.3690 - val_accuracy: 0.6154\n",
            "Epoch 9/20\n",
            "9/9 [==============================] - 7s 753ms/step - loss: 0.1431 - accuracy: 0.9610 - val_loss: 1.5770 - val_accuracy: 0.6154\n",
            "Epoch 10/20\n",
            "9/9 [==============================] - 7s 760ms/step - loss: 0.1209 - accuracy: 0.9676 - val_loss: 1.3850 - val_accuracy: 0.6667\n",
            "Epoch 11/20\n",
            "9/9 [==============================] - 8s 851ms/step - loss: 0.0897 - accuracy: 0.9771 - val_loss: 1.2847 - val_accuracy: 0.6154\n",
            "Epoch 12/20\n",
            "9/9 [==============================] - 7s 745ms/step - loss: 0.0692 - accuracy: 0.9895 - val_loss: 1.4593 - val_accuracy: 0.6154\n",
            "Epoch 13/20\n",
            "9/9 [==============================] - 7s 825ms/step - loss: 0.0616 - accuracy: 0.9819 - val_loss: 1.6568 - val_accuracy: 0.6154\n",
            "Epoch 14/20\n",
            "9/9 [==============================] - 7s 744ms/step - loss: 0.0523 - accuracy: 0.9876 - val_loss: 1.7306 - val_accuracy: 0.6154\n",
            "Epoch 15/20\n",
            "9/9 [==============================] - 7s 743ms/step - loss: 0.0561 - accuracy: 0.9857 - val_loss: 1.5116 - val_accuracy: 0.6154\n",
            "Epoch 16/20\n",
            "9/9 [==============================] - 7s 729ms/step - loss: 0.0415 - accuracy: 0.9943 - val_loss: 1.6338 - val_accuracy: 0.6154\n",
            "Epoch 17/20\n",
            "9/9 [==============================] - 7s 735ms/step - loss: 0.0329 - accuracy: 0.9962 - val_loss: 1.6401 - val_accuracy: 0.6154\n",
            "Epoch 18/20\n",
            "9/9 [==============================] - 7s 741ms/step - loss: 0.0333 - accuracy: 0.9943 - val_loss: 1.8392 - val_accuracy: 0.6154\n",
            "Epoch 19/20\n",
            "9/9 [==============================] - 7s 730ms/step - loss: 0.0323 - accuracy: 0.9952 - val_loss: 1.9392 - val_accuracy: 0.6154\n",
            "Epoch 20/20\n",
            "9/9 [==============================] - 7s 745ms/step - loss: 0.0315 - accuracy: 0.9971 - val_loss: 2.0095 - val_accuracy: 0.6154\n"
          ]
        }
      ],
      "source": [
        "history_early = model_early.fit(\n",
        "    train_generator, \n",
        "    epochs= 20, \n",
        "    callbacks = [callback_early],\n",
        "    validation_data = validation_generator\n",
        ")"
      ]
    },
    {
      "cell_type": "markdown",
      "metadata": {
        "id": "Ip4_h5llSPqE"
      },
      "source": [
        "## Creamos nuestra modelo funcional con Auto Tunner Keras"
      ]
    },
    {
      "cell_type": "code",
      "execution_count": 39,
      "metadata": {
        "colab": {
          "base_uri": "https://localhost:8080/"
        },
        "id": "LO9FysC5mGRg",
        "outputId": "b4b5a0e2-297b-409a-8373-310a7757ff31"
      },
      "outputs": [
        {
          "output_type": "stream",
          "name": "stdout",
          "text": [
            "\u001b[?25l\r\u001b[K     |██▌                             | 10 kB 17.1 MB/s eta 0:00:01\r\u001b[K     |█████                           | 20 kB 15.2 MB/s eta 0:00:01\r\u001b[K     |███████▍                        | 30 kB 10.6 MB/s eta 0:00:01\r\u001b[K     |█████████▉                      | 40 kB 9.0 MB/s eta 0:00:01\r\u001b[K     |████████████▎                   | 51 kB 4.5 MB/s eta 0:00:01\r\u001b[K     |██████████████▊                 | 61 kB 5.2 MB/s eta 0:00:01\r\u001b[K     |█████████████████▏              | 71 kB 5.7 MB/s eta 0:00:01\r\u001b[K     |███████████████████▋            | 81 kB 5.9 MB/s eta 0:00:01\r\u001b[K     |██████████████████████          | 92 kB 6.6 MB/s eta 0:00:01\r\u001b[K     |████████████████████████▌       | 102 kB 5.2 MB/s eta 0:00:01\r\u001b[K     |███████████████████████████     | 112 kB 5.2 MB/s eta 0:00:01\r\u001b[K     |█████████████████████████████▍  | 122 kB 5.2 MB/s eta 0:00:01\r\u001b[K     |███████████████████████████████▉| 133 kB 5.2 MB/s eta 0:00:01\r\u001b[K     |████████████████████████████████| 133 kB 5.2 MB/s \n",
            "\u001b[?25h"
          ]
        }
      ],
      "source": [
        "!pip install -q -U keras-tuner\n",
        "import keras_tuner as kt\n",
        "from tensorflow import keras"
      ]
    },
    {
      "cell_type": "code",
      "execution_count": 40,
      "metadata": {
        "id": "QWfnAlLzmGOG"
      },
      "outputs": [],
      "source": [
        "def constructor_modelos(hp):\n",
        "  model = tf.keras.models.Sequential()\n",
        "  model.add(tf.keras.layers.Conv2D(64, (3,3), activation= \"relu\", input_shape = (56, 56, 1)))\n",
        "  model.add(tf.keras.layers.MaxPool2D((2,2)))\n",
        "  model.add(tf.keras.layers.Flatten())\n",
        "\n",
        "  hp_units = hp.Int(\"units\", min_value = 32, max_value = 512, step = 32)\n",
        "  model.add(tf.keras.layers.Dense(units=hp_units,activation = \"relu\", kernel_regularizer= regularizers.l2(1e-5)))\n",
        "  model.add(tf.keras.layers.Dropout(0.4))\n",
        "  model.add(tf.keras.layers.Dense(128,activation = \"relu\", kernel_regularizer= regularizers.l2(1e-5)))\n",
        "  model.add(tf.keras.layers.Dropout(0.4))\n",
        "  model.add(tf.keras.layers.Dense(len(classes), activation = \"softmax\"))\n",
        "\n",
        "  hp_learning_rate = hp.Choice('learning_rate', values = [1e-2, 1e-3, 1e-4])\n",
        "\n",
        "  model.compile(optimizer = keras.optimizers.Adam(learning_rate=hp_learning_rate),loss = \"categorical_crossentropy\", metrics = [\"accuracy\"])\n",
        "\n",
        "  return model"
      ]
    },
    {
      "cell_type": "code",
      "execution_count": 41,
      "metadata": {
        "id": "UQzCa0hdmGLC"
      },
      "outputs": [],
      "source": [
        "tuner = kt.Hyperband(\n",
        "    constructor_modelos,\n",
        "    objective = \"val_accuracy\",\n",
        "    max_epochs = 30,\n",
        "    factor = 3,\n",
        "    directory = \"models/\",\n",
        "    project_name = \"tunner\")"
      ]
    },
    {
      "cell_type": "code",
      "execution_count": null,
      "metadata": {
        "colab": {
          "base_uri": "https://localhost:8080/"
        },
        "id": "FkRXArT-mGBS",
        "outputId": "2095ef18-880c-427b-fb31-59324622efb3"
      },
      "outputs": [
        {
          "output_type": "stream",
          "name": "stdout",
          "text": [
            "Trial 6 Complete [00h 00m 16s]\n",
            "val_accuracy: 0.38461539149284363\n",
            "\n",
            "Best val_accuracy So Far: 0.6410256624221802\n",
            "Total elapsed time: 00h 01m 25s\n",
            "\n",
            "Search: Running Trial #7\n",
            "\n",
            "Value             |Best Value So Far |Hyperparameter\n",
            "352               |160               |units\n",
            "0.01              |0.001             |learning_rate\n",
            "2                 |2                 |tuner/epochs\n",
            "0                 |0                 |tuner/initial_epoch\n",
            "3                 |3                 |tuner/bracket\n",
            "0                 |0                 |tuner/round\n",
            "\n",
            "Epoch 1/2\n",
            "9/9 [==============================] - 8s 807ms/step - loss: 8.7644 - accuracy: 0.3914 - val_loss: 1.2387 - val_accuracy: 0.6410\n"
          ]
        }
      ],
      "source": [
        "tuner.search(train_generator, epochs =50, validation_data = validation_generator)\n",
        "\n",
        "best_hps = tuner.get_best_hyperparameters(num_trials =5)[0]"
      ]
    },
    {
      "cell_type": "code",
      "execution_count": null,
      "metadata": {
        "id": "mzWnJTrduqWs"
      },
      "outputs": [],
      "source": [
        "print(best_hps.get(\"units\"))"
      ]
    },
    {
      "cell_type": "code",
      "execution_count": null,
      "metadata": {
        "id": "V5GYZG8Tutcg"
      },
      "outputs": [],
      "source": [
        "print(best_hps.get(\"learning_rate\"))"
      ]
    },
    {
      "cell_type": "code",
      "execution_count": null,
      "metadata": {
        "id": "sjmdv4dYuwDv"
      },
      "outputs": [],
      "source": [
        "hypermodel = tuner.hypermodel.build(best_hps)\n",
        "\n",
        "history_hypermodel = hypermodel.fit(\n",
        "    train_generator,\n",
        "    epochs = 50,\n",
        "    callbacks = [callback_early],\n",
        "    validation_data = validation_generator\n",
        ")"
      ]
    },
    {
      "cell_type": "markdown",
      "metadata": {
        "id": "RBZZwiX8SV62"
      },
      "source": [
        "## Guardar únicamente arquitectura del modelo"
      ]
    },
    {
      "cell_type": "code",
      "metadata": {
        "id": "QYM7eOoUjpSd"
      },
      "source": [
        "config_dict = hypermodel.get_config()"
      ],
      "execution_count": null,
      "outputs": []
    },
    {
      "cell_type": "code",
      "metadata": {
        "id": "8EbHGMftk7hx"
      },
      "source": [
        "print(config_dict)"
      ],
      "execution_count": null,
      "outputs": []
    },
    {
      "cell_type": "markdown",
      "metadata": {
        "id": "MenoB0enSZBU"
      },
      "source": [
        "## Crear un nuevo modelo desde la arquitectura"
      ]
    },
    {
      "cell_type": "code",
      "metadata": {
        "id": "Bst992BOk9NR"
      },
      "source": [
        "model_same_config = tf.keras.Sequential.from_config(config_dict)"
      ],
      "execution_count": null,
      "outputs": []
    },
    {
      "cell_type": "code",
      "metadata": {
        "id": "8n01RXaPlLeY"
      },
      "source": [
        "model_same_config.summary()"
      ],
      "execution_count": null,
      "outputs": []
    },
    {
      "cell_type": "markdown",
      "metadata": {
        "id": "1XeY53PSShXF"
      },
      "source": [
        "## Guardar y cargar unicamente los pesos\n"
      ]
    },
    {
      "cell_type": "code",
      "metadata": {
        "id": "RCCv_YTGlOEo"
      },
      "source": [
        "from tensorflow.keras.callbacks import ModelCheckpoint"
      ],
      "execution_count": null,
      "outputs": []
    },
    {
      "cell_type": "code",
      "metadata": {
        "id": "KVyH59Lslnyy"
      },
      "source": [
        "model_weight = get_model()\n",
        "model_weight.summary()"
      ],
      "execution_count": null,
      "outputs": []
    },
    {
      "cell_type": "code",
      "metadata": {
        "id": "oXTpLg6xlszW"
      },
      "source": [
        "model_weight.compile(optimizer = \"adam\", loss = \"categorical_crossentropy\", metrics = [\"accuracy\"])"
      ],
      "execution_count": null,
      "outputs": []
    },
    {
      "cell_type": "code",
      "metadata": {
        "id": "EA0wvntnl2EP"
      },
      "source": [
        "# Creamos unos checkpoint de nuestros modelos con TensorFlow, verbose: mostrar mas información\n",
        "checkpoint_path = \"model_checpoints/checkpoint\"\n",
        "checkpoint_weighs= ModelCheckpoint(\n",
        "    filepath = checkpoint_path,\n",
        "    frecuency = \"epoch\",\n",
        "    save_weights_only = True,\n",
        "    verbose = 1\n",
        "\n",
        ")"
      ],
      "execution_count": null,
      "outputs": []
    },
    {
      "cell_type": "code",
      "metadata": {
        "id": "lpD1IJ92mIxs"
      },
      "source": [
        "# Entrenamos el modelo, y almacenamos en cada steps los pesos del moedelo.\n",
        "history_weight = model_weight.fit(\n",
        "    train_generator,\n",
        "    epochs = 20,\n",
        "    callbacks = [checkpoint_weighs],\n",
        "    validation_data = validation_generator\n",
        ")\n"
      ],
      "execution_count": null,
      "outputs": []
    },
    {
      "cell_type": "markdown",
      "metadata": {
        "id": "LFl0tmyFSzod"
      },
      "source": [
        "#### Guardamos los pesos de forma manual"
      ]
    },
    {
      "cell_type": "code",
      "metadata": {
        "id": "QALTjsN9qFs3"
      },
      "source": [
        "model_weight.save_weights(\"model_manul/my_model\")"
      ],
      "execution_count": null,
      "outputs": []
    },
    {
      "cell_type": "markdown",
      "metadata": {
        "id": "96lFwJv-S0pa"
      },
      "source": [
        "#### Creamos la arquitectura y cargamos los pesos"
      ]
    },
    {
      "cell_type": "code",
      "metadata": {
        "id": "y711fnB8qJMo"
      },
      "source": [
        "model_weights2 = get_model()\n",
        "model_weights2.compile(optimizer = \"adam\", loss = \"categorical_crossentropy\", metrics = [\"accuracy\"])"
      ],
      "execution_count": null,
      "outputs": []
    },
    {
      "cell_type": "code",
      "metadata": {
        "colab": {
          "base_uri": "https://localhost:8080/"
        },
        "id": "UMC8it9DqbEa",
        "outputId": "5ee7e3a1-be33-4eb3-bb24-94c8b284d432"
      },
      "source": [
        "model_weights2.load_weights(checkpoint_path)\n"
      ],
      "execution_count": null,
      "outputs": [
        {
          "output_type": "execute_result",
          "data": {
            "text/plain": [
              "<tensorflow.python.training.tracking.util.CheckpointLoadStatus at 0x7ff2a5dc3c10>"
            ]
          },
          "metadata": {},
          "execution_count": 47
        }
      ]
    },
    {
      "cell_type": "code",
      "metadata": {
        "colab": {
          "base_uri": "https://localhost:8080/"
        },
        "id": "hPM2aXSfqjPX",
        "outputId": "ada3f188-6a80-42a3-9d5b-dd40cd55a9f4"
      },
      "source": [
        "model_weights2.evaluate(test_generator)"
      ],
      "execution_count": null,
      "outputs": [
        {
          "output_type": "stream",
          "name": "stdout",
          "text": [
            "57/57 [==============================] - 5s 91ms/step - loss: 0.7784 - accuracy: 0.8543\n"
          ]
        },
        {
          "output_type": "execute_result",
          "data": {
            "text/plain": [
              "[0.7783836722373962, 0.85429447889328]"
            ]
          },
          "metadata": {},
          "execution_count": 48
        }
      ]
    },
    {
      "cell_type": "code",
      "metadata": {
        "colab": {
          "base_uri": "https://localhost:8080/"
        },
        "id": "iBHsXORjqmF_",
        "outputId": "4bb054b6-61b1-4e5f-cd52-adb0ff79558b"
      },
      "source": [
        "model_weight.evaluate(test_generator)"
      ],
      "execution_count": null,
      "outputs": [
        {
          "output_type": "stream",
          "name": "stdout",
          "text": [
            "57/57 [==============================] - 2s 40ms/step - loss: 0.7784 - accuracy: 0.8543\n"
          ]
        },
        {
          "output_type": "execute_result",
          "data": {
            "text/plain": [
              "[0.7783834934234619, 0.85429447889328]"
            ]
          },
          "metadata": {},
          "execution_count": 49
        }
      ]
    }
  ],
  "metadata": {
    "colab": {
      "collapsed_sections": [],
      "name": "Tumor_classiffier",
      "provenance": [],
      "authorship_tag": "ABX9TyPgH7YuuO9GqyG918jMQNJH",
      "include_colab_link": true
    },
    "kernelspec": {
      "display_name": "Python 3",
      "name": "python3"
    },
    "language_info": {
      "name": "python"
    }
  },
  "nbformat": 4,
  "nbformat_minor": 0
}
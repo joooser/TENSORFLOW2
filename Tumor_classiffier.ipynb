{
  "cells": [
    {
      "cell_type": "markdown",
      "metadata": {
        "id": "view-in-github",
        "colab_type": "text"
      },
      "source": [
        "<a href=\"https://colab.research.google.com/github/joooser/TENSORFLOW2/blob/main/Tumor_classiffier.ipynb\" target=\"_parent\"><img src=\"https://colab.research.google.com/assets/colab-badge.svg\" alt=\"Open In Colab\"/></a>"
      ]
    },
    {
      "cell_type": "code",
      "execution_count": 4,
      "metadata": {
        "id": "9xVOLWnJflLA"
      },
      "outputs": [],
      "source": [
        "import os\n",
        "import zipfile"
      ]
    },
    {
      "cell_type": "code",
      "execution_count": 5,
      "metadata": {
        "colab": {
          "base_uri": "https://localhost:8080/"
        },
        "id": "X0G2iDJiUoBr",
        "outputId": "f7b13a26-88f5-4f08-fd95-9ca67f7569ed"
      },
      "outputs": [
        {
          "output_type": "stream",
          "name": "stdout",
          "text": [
            "--2022-06-02 12:52:35--  https://storage.googleapis.com/platzi-tf2/TumorClassification.zip\n",
            "Resolving storage.googleapis.com (storage.googleapis.com)... 209.85.147.128, 142.250.125.128, 142.250.136.128, ...\n",
            "Connecting to storage.googleapis.com (storage.googleapis.com)|209.85.147.128|:443... connected.\n",
            "HTTP request sent, awaiting response... 200 OK\n",
            "Length: 7460028 (7.1M) [application/zip]\n",
            "Saving to: ‘/tmp/platzi-tf2/TumorClassification.zip’\n",
            "\n",
            "\r          /tmp/plat   0%[                    ]       0  --.-KB/s               \r/tmp/platzi-tf2/Tum 100%[===================>]   7.11M  --.-KB/s    in 0.07s   \n",
            "\n",
            "2022-06-02 12:52:35 (95.8 MB/s) - ‘/tmp/platzi-tf2/TumorClassification.zip’ saved [7460028/7460028]\n",
            "\n"
          ]
        }
      ],
      "source": [
        "!wget --no-check-certificate https://storage.googleapis.com/platzi-tf2/TumorClassification.zip \\\n",
        "    -O /tmp/platzi-tf2/TumorClassification.zip"
      ]
    },
    {
      "cell_type": "code",
      "execution_count": 6,
      "metadata": {
        "id": "yIr1bDTAoUaj"
      },
      "outputs": [],
      "source": [
        "local_zip = \"/tmp/platzi-tf2/TumorClassification.zip\"\n",
        "zip_ref = zipfile.ZipFile(local_zip, \"r\")\n",
        "zip_ref.extractall(\"/tmp/platzi-tf2\")\n",
        "zip_ref.close()"
      ]
    },
    {
      "cell_type": "code",
      "execution_count": 7,
      "metadata": {
        "id": "q6waQRSFWCkS"
      },
      "outputs": [],
      "source": [
        "import numpy as np\n",
        "%matplotlib inline\n",
        "import matplotlib.pyplot as plt\n",
        "import matplotlib.image as mpimg\n",
        "import string\n",
        "import tensorflow as tf\n",
        "from tensorflow.keras.preprocessing.image import ImageDataGenerator\n",
        "import requests as requests\n",
        "from PIL import Image\n",
        "from io import BytesIO\n",
        "import codecs\n",
        "import json\n"
      ]
    },
    {
      "cell_type": "code",
      "source": [
        "train_dir = \"/tmp/platzi-tf2/Train\"\n",
        "test_dir = \"/tmp/platzi-tf2/Test\""
      ],
      "metadata": {
        "id": "5Q3w8L7wS8Dx"
      },
      "execution_count": 8,
      "outputs": []
    },
    {
      "cell_type": "code",
      "source": [
        "train_datagen = ImageDataGenerator(rescale = 1/255)\n",
        "test_datagen = ImageDataGenerator(rescale = 1/255, validation_split= 0.2)"
      ],
      "metadata": {
        "id": "kyIvJTVfTK-I"
      },
      "execution_count": 9,
      "outputs": []
    },
    {
      "cell_type": "code",
      "source": [
        "train_generator = train_datagen.flow_from_directory(\n",
        "    train_dir,\n",
        "    target_size = (28, 28),\n",
        "    batch_size = 128,\n",
        "    class_mode = \"categorical\",\n",
        "    color_mode = \"grayscale\",\n",
        "    subset = \"training\"\n",
        ")\n",
        "\n",
        "validation_generator = test_datagen.flow_from_directory(\n",
        "    test_dir,\n",
        "    target_size = (28, 28),\n",
        "    batch_size = 128,\n",
        "    class_mode = \"categorical\",\n",
        "    color_mode = \"grayscale\",\n",
        "    subset = \"validation\"\n",
        ")\n",
        "\n",
        "test_generator = test_datagen.flow_from_directory(\n",
        "    test_dir,\n",
        "    target_size = (28, 28),\n",
        "    batch_size = 128,\n",
        "    class_mode = \"categorical\",\n",
        "    color_mode = \"grayscale\"\n",
        ")"
      ],
      "metadata": {
        "colab": {
          "base_uri": "https://localhost:8080/"
        },
        "id": "tpROJBbsUARV",
        "outputId": "4fb1edd8-125f-4d07-a3dd-ded32aee4861"
      },
      "execution_count": 10,
      "outputs": [
        {
          "output_type": "stream",
          "name": "stdout",
          "text": [
            "Found 1050 images belonging to 3 classes.\n",
            "Found 28 images belonging to 3 classes.\n",
            "Found 144 images belonging to 3 classes.\n"
          ]
        }
      ]
    },
    {
      "cell_type": "code",
      "source": [
        "classes = [\"BENIGN\", \"MALIGNANT\", \"NORMAL\"]"
      ],
      "metadata": {
        "id": "l_vpYmjBVi8M"
      },
      "execution_count": 11,
      "outputs": []
    },
    {
      "cell_type": "code",
      "source": [
        "classes"
      ],
      "metadata": {
        "colab": {
          "base_uri": "https://localhost:8080/"
        },
        "id": "eitwx13gWztp",
        "outputId": "4fdf0b3f-821b-49a8-c08c-498086d024f6"
      },
      "execution_count": 12,
      "outputs": [
        {
          "output_type": "execute_result",
          "data": {
            "text/plain": [
              "['BENIGN', 'MALIGNANT', 'NORMAL']"
            ]
          },
          "metadata": {},
          "execution_count": 12
        }
      ]
    },
    {
      "cell_type": "code",
      "source": [
        "def plotImages(images_arr):\n",
        "  fig, axes = plt.subplots(1, 5, figsize = (10, 10))\n",
        "  axes = axes.flatten()\n",
        "  for img, ax in zip(images_arr, axes):\n",
        "    ax.imshow(img[:,:,0])\n",
        "    ax.axis(\"off\")\n",
        "  plt.tight_layout()\n",
        "  plt.show()"
      ],
      "metadata": {
        "id": "Q3TLL6PdW2VW"
      },
      "execution_count": 13,
      "outputs": []
    },
    {
      "cell_type": "code",
      "source": [
        "sample_training_images, _= next(train_generator)\n",
        "plotImages(sample_training_images[:5])"
      ],
      "metadata": {
        "colab": {
          "base_uri": "https://localhost:8080/",
          "height": 162
        },
        "id": "_lfnXo0eXiPz",
        "outputId": "5d28be28-3cc1-4dec-dd3e-688ef2a9452b"
      },
      "execution_count": 14,
      "outputs": [
        {
          "output_type": "display_data",
          "data": {
            "text/plain": [
              "<Figure size 720x720 with 5 Axes>"
            ],
            "image/png": "[encoded data removed]"
          },
          "metadata": {
            "needs_background": "light"
          }
        }
      ]
    },
    {
      "cell_type": "code",
      "source": [
        "model_base = tf.keras.models.Sequential([\n",
        "              tf.keras.layers.Flatten(input_shape= (28, 28, 1)),\n",
        "              tf.keras.layers.Dense(256, activation = \"relu\"),\n",
        "              tf.keras.layers.Dense(128, activation = \"relu\"),\n",
        "              tf.keras.layers.Dense(len(classes), activation = \"softmax\")\n",
        "])"
      ],
      "metadata": {
        "id": "TKcuO0UQXpbY"
      },
      "execution_count": 15,
      "outputs": []
    },
    {
      "cell_type": "code",
      "source": [
        "model_base.summary()"
      ],
      "metadata": {
        "colab": {
          "base_uri": "https://localhost:8080/"
        },
        "id": "xQ78pc0kpoal",
        "outputId": "047c530d-16f6-4a44-8948-793929222e9a"
      },
      "execution_count": 16,
      "outputs": [
        {
          "output_type": "stream",
          "name": "stdout",
          "text": [
            "Model: \"sequential\"\n",
            "_________________________________________________________________\n",
            " Layer (type)                Output Shape              Param #   \n",
            "=================================================================\n",
            " flatten (Flatten)           (None, 784)               0         \n",
            "                                                                 \n",
            " dense (Dense)               (None, 256)               200960    \n",
            "                                                                 \n",
            " dense_1 (Dense)             (None, 128)               32896     \n",
            "                                                                 \n",
            " dense_2 (Dense)             (None, 3)                 387       \n",
            "                                                                 \n",
            "=================================================================\n",
            "Total params: 234,243\n",
            "Trainable params: 234,243\n",
            "Non-trainable params: 0\n",
            "_________________________________________________________________\n"
          ]
        }
      ]
    },
    {
      "cell_type": "code",
      "source": [
        "model_base.compile(optimizer = \"adam\", loss = \"categorical_crossentropy\", metrics = ['accuracy'])\n",
        "\n",
        "\n",
        "history = model_base.fit(\n",
        "    train_generator, \n",
        "    epochs= 20, \n",
        "    validation_data = validation_generator\n",
        ")"
      ],
      "metadata": {
        "colab": {
          "base_uri": "https://localhost:8080/"
        },
        "id": "6rYOoteeps10",
        "outputId": "03de0fbb-c8c6-47a1-f1c4-edbebc794d97"
      },
      "execution_count": 17,
      "outputs": [
        {
          "output_type": "stream",
          "name": "stdout",
          "text": [
            "Epoch 1/20\n",
            "9/9 [==============================] - 1s 84ms/step - loss: 1.0225 - accuracy: 0.5029 - val_loss: 0.8642 - val_accuracy: 0.5714\n",
            "Epoch 2/20\n",
            "9/9 [==============================] - 1s 71ms/step - loss: 0.6161 - accuracy: 0.7990 - val_loss: 1.3737 - val_accuracy: 0.5714\n",
            "Epoch 3/20\n",
            "9/9 [==============================] - 1s 69ms/step - loss: 0.3927 - accuracy: 0.8943 - val_loss: 1.2590 - val_accuracy: 0.6429\n",
            "Epoch 4/20\n",
            "9/9 [==============================] - 1s 70ms/step - loss: 0.2351 - accuracy: 0.9419 - val_loss: 1.7846 - val_accuracy: 0.6429\n",
            "Epoch 5/20\n",
            "9/9 [==============================] - 1s 70ms/step - loss: 0.1313 - accuracy: 0.9848 - val_loss: 2.0865 - val_accuracy: 0.6429\n",
            "Epoch 6/20\n",
            "9/9 [==============================] - 1s 71ms/step - loss: 0.0834 - accuracy: 0.9867 - val_loss: 2.4724 - val_accuracy: 0.6429\n",
            "Epoch 7/20\n",
            "9/9 [==============================] - 1s 68ms/step - loss: 0.0491 - accuracy: 0.9962 - val_loss: 2.6498 - val_accuracy: 0.6429\n",
            "Epoch 8/20\n",
            "9/9 [==============================] - 1s 70ms/step - loss: 0.0303 - accuracy: 0.9990 - val_loss: 2.7383 - val_accuracy: 0.6429\n",
            "Epoch 9/20\n",
            "9/9 [==============================] - 1s 73ms/step - loss: 0.0192 - accuracy: 1.0000 - val_loss: 2.9003 - val_accuracy: 0.6429\n",
            "Epoch 10/20\n",
            "9/9 [==============================] - 1s 72ms/step - loss: 0.0155 - accuracy: 0.9990 - val_loss: 2.8106 - val_accuracy: 0.6429\n",
            "Epoch 11/20\n",
            "9/9 [==============================] - 1s 146ms/step - loss: 0.0099 - accuracy: 1.0000 - val_loss: 3.0026 - val_accuracy: 0.6429\n",
            "Epoch 12/20\n",
            "9/9 [==============================] - 2s 172ms/step - loss: 0.0071 - accuracy: 1.0000 - val_loss: 3.1756 - val_accuracy: 0.6429\n",
            "Epoch 13/20\n",
            "9/9 [==============================] - 1s 86ms/step - loss: 0.0056 - accuracy: 1.0000 - val_loss: 3.2703 - val_accuracy: 0.6429\n",
            "Epoch 14/20\n",
            "9/9 [==============================] - 1s 67ms/step - loss: 0.0047 - accuracy: 1.0000 - val_loss: 3.2630 - val_accuracy: 0.6429\n",
            "Epoch 15/20\n",
            "9/9 [==============================] - 1s 70ms/step - loss: 0.0038 - accuracy: 1.0000 - val_loss: 3.3021 - val_accuracy: 0.6429\n",
            "Epoch 16/20\n",
            "9/9 [==============================] - 1s 70ms/step - loss: 0.0032 - accuracy: 1.0000 - val_loss: 3.3652 - val_accuracy: 0.6429\n",
            "Epoch 17/20\n",
            "9/9 [==============================] - 1s 70ms/step - loss: 0.0028 - accuracy: 1.0000 - val_loss: 3.4366 - val_accuracy: 0.6429\n",
            "Epoch 18/20\n",
            "9/9 [==============================] - 1s 69ms/step - loss: 0.0025 - accuracy: 1.0000 - val_loss: 3.4630 - val_accuracy: 0.6429\n",
            "Epoch 19/20\n",
            "9/9 [==============================] - 1s 68ms/step - loss: 0.0022 - accuracy: 1.0000 - val_loss: 3.5457 - val_accuracy: 0.6429\n",
            "Epoch 20/20\n",
            "9/9 [==============================] - 1s 68ms/step - loss: 0.0020 - accuracy: 1.0000 - val_loss: 3.5531 - val_accuracy: 0.6429\n"
          ]
        }
      ]
    },
    {
      "cell_type": "code",
      "source": [
        "results = model_base.evaluate(test_generator)"
      ],
      "metadata": {
        "colab": {
          "base_uri": "https://localhost:8080/"
        },
        "id": "Tw71zpMBqeKT",
        "outputId": "15cb6d9e-62e3-442e-9320-840c929cb330"
      },
      "execution_count": 18,
      "outputs": [
        {
          "output_type": "stream",
          "name": "stdout",
          "text": [
            "2/2 [==============================] - 0s 17ms/step - loss: 3.3956 - accuracy: 0.5625\n"
          ]
        }
      ]
    },
    {
      "cell_type": "code",
      "source": [
        "def visualizacion_resultados(history):\n",
        "  epochs = [i for i in range(20)]\n",
        "  fig, ax = plt.subplots(1,2)\n",
        "  train_acc = history.history[\"accuracy\"]\n",
        "  train_loss = history.history[\"loss\"]\n",
        "  val_acc = history.history[\"val_accuracy\"]\n",
        "  val_loss = history.history[\"val_loss\"]\n",
        "  fig.set_size_inches(16, 9)\n",
        "\n",
        "  ax[0].plot(epochs, train_acc, \"go-\", label =\" Entrenamiento accuracy\")\n",
        "  ax[0].plot(epochs, val_acc, \"ro-\", label= \"Validacion accuracy\")\n",
        "  ax[0].set_title(\"Entrenamiento & validación accuracy\")\n",
        "  ax[0].legend()\n",
        "  ax[0].set_xlabel(\"Epochs\")\n",
        "  ax[0].set_ylabel(\"Accuracy\")\n",
        "\n",
        "  ax[1].plot(epochs, train_loss, \"go-\", label =\" Entrenamiento Loss\")\n",
        "  ax[1].plot(epochs, val_loss, \"ro-\", label= \"Validacion Loss\")\n",
        "  ax[1].set_title(\"Entrenamiento & validación Loss\")\n",
        "  ax[1].legend()\n",
        "  ax[1].set_xlabel(\"Epochs\")\n",
        "  ax[1].set_ylabel(\"Loss\")\n",
        "\n",
        "  plt.show()"
      ],
      "metadata": {
        "id": "y9J-Gl8JrzS2"
      },
      "execution_count": 22,
      "outputs": []
    },
    {
      "cell_type": "code",
      "source": [
        ""
      ],
      "metadata": {
        "id": "rAPEeUN5fnGW"
      },
      "execution_count": null,
      "outputs": []
    }
  ],
  "metadata": {
    "colab": {
      "collapsed_sections": [],
      "name": "Tumor_classiffier",
      "provenance": [],
      "authorship_tag": "ABX9TyMXdQ6LgdXltYXm8liLxb4L",
      "include_colab_link": true
    },
    "kernelspec": {
      "display_name": "Python 3",
      "name": "python3"
    },
    "language_info": {
      "name": "python"
    }
  },
  "nbformat": 4,
  "nbformat_minor": 0
}
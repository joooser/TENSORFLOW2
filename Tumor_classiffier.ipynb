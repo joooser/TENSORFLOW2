{
  "cells": [
    {
      "cell_type": "markdown",
      "metadata": {
        "id": "view-in-github",
        "colab_type": "text"
      },
      "source": [
        "<a href=\"https://colab.research.google.com/github/joooser/TENSORFLOW2/blob/main/Tumor_classiffier.ipynb\" target=\"_parent\"><img src=\"https://colab.research.google.com/assets/colab-badge.svg\" alt=\"Open In Colab\"/></a>"
      ]
    },
    {
      "cell_type": "code",
      "execution_count": 52,
      "metadata": {
        "id": "9xVOLWnJflLA"
      },
      "outputs": [],
      "source": [
        "import os\n",
        "import zipfile"
      ]
    },
    {
      "cell_type": "code",
      "execution_count": 53,
      "metadata": {
        "colab": {
          "base_uri": "https://localhost:8080/"
        },
        "id": "X0G2iDJiUoBr",
        "outputId": "35e41968-15df-4f84-8f13-de15983b4156"
      },
      "outputs": [
        {
          "output_type": "stream",
          "name": "stdout",
          "text": [
            "--2022-06-09 02:59:24--  https://storage.googleapis.com/platzi-tf2/TumorClassification.zip\n",
            "Resolving storage.googleapis.com (storage.googleapis.com)... 172.217.193.128, 172.217.204.128, 172.217.203.128, ...\n",
            "Connecting to storage.googleapis.com (storage.googleapis.com)|172.217.193.128|:443... connected.\n",
            "HTTP request sent, awaiting response... 200 OK\n",
            "Length: 7460028 (7.1M) [application/zip]\n",
            "Saving to: ‘/tmp/platzi-tf2/TumorClassification.zip’\n",
            "\n",
            "\r          /tmp/plat   0%[                    ]       0  --.-KB/s               \r/tmp/platzi-tf2/Tum 100%[===================>]   7.11M  --.-KB/s    in 0.05s   \n",
            "\n",
            "2022-06-09 02:59:24 (137 MB/s) - ‘/tmp/platzi-tf2/TumorClassification.zip’ saved [7460028/7460028]\n",
            "\n"
          ]
        }
      ],
      "source": [
        "!wget --no-check-certificate https://storage.googleapis.com/platzi-tf2/TumorClassification.zip \\\n",
        "    -O /tmp/platzi-tf2/TumorClassification.zip"
      ]
    },
    {
      "cell_type": "code",
      "execution_count": 54,
      "metadata": {
        "id": "yIr1bDTAoUaj"
      },
      "outputs": [],
      "source": [
        "local_zip = \"/tmp/platzi-tf2/TumorClassification.zip\"\n",
        "zip_ref = zipfile.ZipFile(local_zip, \"r\")\n",
        "zip_ref.extractall(\"/tmp/platzi-tf2\")\n",
        "zip_ref.close()"
      ]
    },
    {
      "cell_type": "code",
      "execution_count": 55,
      "metadata": {
        "id": "q6waQRSFWCkS"
      },
      "outputs": [],
      "source": [
        "import numpy as np\n",
        "%matplotlib inline\n",
        "import matplotlib.pyplot as plt\n",
        "import matplotlib.image as mpimg\n",
        "import string\n",
        "import tensorflow as tf\n",
        "from tensorflow.keras.preprocessing.image import ImageDataGenerator\n",
        "import requests as requests\n",
        "from PIL import Image\n",
        "from io import BytesIO\n",
        "import codecs\n",
        "import json\n"
      ]
    },
    {
      "cell_type": "code",
      "execution_count": 56,
      "metadata": {
        "id": "5Q3w8L7wS8Dx"
      },
      "outputs": [],
      "source": [
        "train_dir = \"/tmp/platzi-tf2/Train\"\n",
        "test_dir = \"/tmp/platzi-tf2/Test\""
      ]
    },
    {
      "cell_type": "code",
      "execution_count": 57,
      "metadata": {
        "id": "kyIvJTVfTK-I"
      },
      "outputs": [],
      "source": [
        "train_datagen = ImageDataGenerator(rescale = 1/255)\n",
        "test_datagen = ImageDataGenerator(rescale = 1/255, validation_split= 0.2)"
      ]
    },
    {
      "cell_type": "code",
      "execution_count": 58,
      "metadata": {
        "colab": {
          "base_uri": "https://localhost:8080/"
        },
        "id": "tpROJBbsUARV",
        "outputId": "192d1ef8-9db3-41f1-aee9-2e5aaf329fe6"
      },
      "outputs": [
        {
          "output_type": "stream",
          "name": "stdout",
          "text": [
            "Found 1050 images belonging to 3 classes.\n",
            "Found 28 images belonging to 3 classes.\n",
            "Found 144 images belonging to 3 classes.\n"
          ]
        }
      ],
      "source": [
        "train_generator = train_datagen.flow_from_directory(\n",
        "    train_dir,\n",
        "    target_size = (28, 28),\n",
        "    batch_size = 128,\n",
        "    class_mode = \"categorical\",\n",
        "    color_mode = \"grayscale\",\n",
        "    subset = \"training\"\n",
        ")\n",
        "\n",
        "validation_generator = test_datagen.flow_from_directory(\n",
        "    test_dir,\n",
        "    target_size = (28, 28),\n",
        "    batch_size = 128,\n",
        "    class_mode = \"categorical\",\n",
        "    color_mode = \"grayscale\",\n",
        "    subset = \"validation\"\n",
        ")\n",
        "\n",
        "test_generator = test_datagen.flow_from_directory(\n",
        "    test_dir,\n",
        "    target_size = (28, 28),\n",
        "    batch_size = 128,\n",
        "    class_mode = \"categorical\",\n",
        "    color_mode = \"grayscale\"\n",
        ")"
      ]
    },
    {
      "cell_type": "code",
      "execution_count": 59,
      "metadata": {
        "id": "l_vpYmjBVi8M"
      },
      "outputs": [],
      "source": [
        "classes = [\"BENIGN\", \"MALIGNANT\", \"NORMAL\"]"
      ]
    },
    {
      "cell_type": "code",
      "execution_count": 60,
      "metadata": {
        "colab": {
          "base_uri": "https://localhost:8080/"
        },
        "id": "eitwx13gWztp",
        "outputId": "90d2af6e-c8d9-410d-c53c-d942ebc85cbb"
      },
      "outputs": [
        {
          "output_type": "execute_result",
          "data": {
            "text/plain": [
              "['BENIGN', 'MALIGNANT', 'NORMAL']"
            ]
          },
          "metadata": {},
          "execution_count": 60
        }
      ],
      "source": [
        "classes"
      ]
    },
    {
      "cell_type": "code",
      "execution_count": 61,
      "metadata": {
        "id": "Q3TLL6PdW2VW"
      },
      "outputs": [],
      "source": [
        "def plotImages(images_arr):\n",
        "  fig, axes = plt.subplots(1, 5, figsize = (10, 10))\n",
        "  axes = axes.flatten()\n",
        "  for img, ax in zip(images_arr, axes):\n",
        "    ax.imshow(img[:,:,0])\n",
        "    ax.axis(\"off\")\n",
        "  plt.tight_layout()\n",
        "  plt.show()"
      ]
    },
    {
      "cell_type": "code",
      "execution_count": 62,
      "metadata": {
        "colab": {
          "base_uri": "https://localhost:8080/",
          "height": 162
        },
        "id": "_lfnXo0eXiPz",
        "outputId": "582dd115-6ab4-4f54-bedf-977cebe0779a"
      },
      "outputs": [
        {
          "output_type": "display_data",
          "data": {
            "text/plain": [
              "<Figure size 720x720 with 5 Axes>"
            ],
            "image/png": "[encoded data removed]"
          },
          "metadata": {
            "needs_background": "light"
          }
        }
      ],
      "source": [
        "sample_training_images, _= next(train_generator)\n",
        "plotImages(sample_training_images[:5])"
      ]
    },
    {
      "cell_type": "code",
      "execution_count": 63,
      "metadata": {
        "id": "TKcuO0UQXpbY"
      },
      "outputs": [],
      "source": [
        "model_base = tf.keras.models.Sequential([\n",
        "              tf.keras.layers.Flatten(input_shape= (28, 28, 1)),\n",
        "              tf.keras.layers.Dense(256, activation = \"relu\"),\n",
        "              tf.keras.layers.Dense(128, activation = \"relu\"),\n",
        "              tf.keras.layers.Dense(len(classes), activation = \"softmax\")\n",
        "])"
      ]
    },
    {
      "cell_type": "code",
      "execution_count": 64,
      "metadata": {
        "colab": {
          "base_uri": "https://localhost:8080/"
        },
        "id": "xQ78pc0kpoal",
        "outputId": "3467574f-7a39-41af-ec74-a2a2f185c572"
      },
      "outputs": [
        {
          "output_type": "stream",
          "name": "stdout",
          "text": [
            "Model: \"sequential_6\"\n",
            "_________________________________________________________________\n",
            " Layer (type)                Output Shape              Param #   \n",
            "=================================================================\n",
            " flatten_6 (Flatten)         (None, 784)               0         \n",
            "                                                                 \n",
            " dense_18 (Dense)            (None, 256)               200960    \n",
            "                                                                 \n",
            " dense_19 (Dense)            (None, 128)               32896     \n",
            "                                                                 \n",
            " dense_20 (Dense)            (None, 3)                 387       \n",
            "                                                                 \n",
            "=================================================================\n",
            "Total params: 234,243\n",
            "Trainable params: 234,243\n",
            "Non-trainable params: 0\n",
            "_________________________________________________________________\n"
          ]
        }
      ],
      "source": [
        "model_base.summary()"
      ]
    },
    {
      "cell_type": "code",
      "execution_count": 65,
      "metadata": {
        "colab": {
          "base_uri": "https://localhost:8080/"
        },
        "id": "6rYOoteeps10",
        "outputId": "7f6a8936-e488-4ba1-8a5b-554884451503"
      },
      "outputs": [
        {
          "output_type": "stream",
          "name": "stdout",
          "text": [
            "Epoch 1/50\n",
            "9/9 [==============================] - 1s 92ms/step - loss: 1.0380 - accuracy: 0.4981 - val_loss: 1.2269 - val_accuracy: 0.3214\n",
            "Epoch 2/50\n",
            "9/9 [==============================] - 1s 71ms/step - loss: 0.7166 - accuracy: 0.7152 - val_loss: 1.2140 - val_accuracy: 0.4286\n",
            "Epoch 3/50\n",
            "9/9 [==============================] - 1s 69ms/step - loss: 0.4982 - accuracy: 0.8333 - val_loss: 1.4491 - val_accuracy: 0.4286\n",
            "Epoch 4/50\n",
            "9/9 [==============================] - 1s 73ms/step - loss: 0.3240 - accuracy: 0.9152 - val_loss: 1.6219 - val_accuracy: 0.6429\n",
            "Epoch 5/50\n",
            "9/9 [==============================] - 1s 68ms/step - loss: 0.2036 - accuracy: 0.9543 - val_loss: 2.1211 - val_accuracy: 0.6071\n",
            "Epoch 6/50\n",
            "9/9 [==============================] - 1s 71ms/step - loss: 0.1243 - accuracy: 0.9848 - val_loss: 2.3075 - val_accuracy: 0.6071\n",
            "Epoch 7/50\n",
            "9/9 [==============================] - 1s 75ms/step - loss: 0.0774 - accuracy: 0.9886 - val_loss: 2.8746 - val_accuracy: 0.6071\n",
            "Epoch 8/50\n",
            "9/9 [==============================] - 1s 70ms/step - loss: 0.0503 - accuracy: 0.9971 - val_loss: 3.1519 - val_accuracy: 0.6429\n",
            "Epoch 9/50\n",
            "9/9 [==============================] - 1s 68ms/step - loss: 0.0303 - accuracy: 1.0000 - val_loss: 3.4191 - val_accuracy: 0.6429\n",
            "Epoch 10/50\n",
            "9/9 [==============================] - 1s 68ms/step - loss: 0.0177 - accuracy: 1.0000 - val_loss: 3.1908 - val_accuracy: 0.6429\n",
            "Epoch 11/50\n",
            "9/9 [==============================] - 1s 66ms/step - loss: 0.0123 - accuracy: 1.0000 - val_loss: 3.3410 - val_accuracy: 0.6429\n",
            "Epoch 12/50\n",
            "9/9 [==============================] - 1s 71ms/step - loss: 0.0085 - accuracy: 1.0000 - val_loss: 3.5125 - val_accuracy: 0.6429\n",
            "Epoch 13/50\n",
            "9/9 [==============================] - 1s 118ms/step - loss: 0.0065 - accuracy: 1.0000 - val_loss: 3.8099 - val_accuracy: 0.6429\n",
            "Epoch 14/50\n",
            "9/9 [==============================] - 1s 91ms/step - loss: 0.0053 - accuracy: 1.0000 - val_loss: 3.7756 - val_accuracy: 0.6071\n",
            "Epoch 15/50\n",
            "9/9 [==============================] - 1s 69ms/step - loss: 0.0047 - accuracy: 1.0000 - val_loss: 3.9151 - val_accuracy: 0.6429\n",
            "Epoch 16/50\n",
            "9/9 [==============================] - 1s 68ms/step - loss: 0.0038 - accuracy: 1.0000 - val_loss: 3.9971 - val_accuracy: 0.6429\n",
            "Epoch 17/50\n",
            "9/9 [==============================] - 1s 69ms/step - loss: 0.0032 - accuracy: 1.0000 - val_loss: 4.1143 - val_accuracy: 0.6429\n",
            "Epoch 18/50\n",
            "9/9 [==============================] - 1s 70ms/step - loss: 0.0028 - accuracy: 1.0000 - val_loss: 4.1996 - val_accuracy: 0.6429\n",
            "Epoch 19/50\n",
            "9/9 [==============================] - 1s 68ms/step - loss: 0.0025 - accuracy: 1.0000 - val_loss: 4.2421 - val_accuracy: 0.6429\n",
            "Epoch 20/50\n",
            "9/9 [==============================] - 1s 69ms/step - loss: 0.0022 - accuracy: 1.0000 - val_loss: 4.2677 - val_accuracy: 0.6429\n",
            "Epoch 21/50\n",
            "9/9 [==============================] - 1s 75ms/step - loss: 0.0019 - accuracy: 1.0000 - val_loss: 4.3106 - val_accuracy: 0.6429\n",
            "Epoch 22/50\n",
            "9/9 [==============================] - 1s 69ms/step - loss: 0.0017 - accuracy: 1.0000 - val_loss: 4.3129 - val_accuracy: 0.6429\n",
            "Epoch 23/50\n",
            "9/9 [==============================] - 1s 70ms/step - loss: 0.0015 - accuracy: 1.0000 - val_loss: 4.3457 - val_accuracy: 0.6071\n",
            "Epoch 24/50\n",
            "9/9 [==============================] - 1s 70ms/step - loss: 0.0014 - accuracy: 1.0000 - val_loss: 4.4204 - val_accuracy: 0.6429\n",
            "Epoch 25/50\n",
            "9/9 [==============================] - 1s 71ms/step - loss: 0.0013 - accuracy: 1.0000 - val_loss: 4.4681 - val_accuracy: 0.6429\n",
            "Epoch 26/50\n",
            "9/9 [==============================] - 1s 70ms/step - loss: 0.0012 - accuracy: 1.0000 - val_loss: 4.4932 - val_accuracy: 0.6429\n",
            "Epoch 27/50\n",
            "9/9 [==============================] - 1s 77ms/step - loss: 0.0011 - accuracy: 1.0000 - val_loss: 4.5232 - val_accuracy: 0.6429\n",
            "Epoch 28/50\n",
            "9/9 [==============================] - 1s 70ms/step - loss: 9.7923e-04 - accuracy: 1.0000 - val_loss: 4.5639 - val_accuracy: 0.6429\n",
            "Epoch 29/50\n",
            "9/9 [==============================] - 1s 68ms/step - loss: 8.9764e-04 - accuracy: 1.0000 - val_loss: 4.5509 - val_accuracy: 0.6071\n",
            "Epoch 30/50\n",
            "9/9 [==============================] - 1s 69ms/step - loss: 8.2774e-04 - accuracy: 1.0000 - val_loss: 4.6084 - val_accuracy: 0.6429\n",
            "Epoch 31/50\n",
            "9/9 [==============================] - 1s 70ms/step - loss: 7.7652e-04 - accuracy: 1.0000 - val_loss: 4.6580 - val_accuracy: 0.6429\n",
            "Epoch 32/50\n",
            "9/9 [==============================] - 1s 70ms/step - loss: 7.2113e-04 - accuracy: 1.0000 - val_loss: 4.6892 - val_accuracy: 0.6429\n",
            "Epoch 33/50\n",
            "9/9 [==============================] - 1s 70ms/step - loss: 6.6502e-04 - accuracy: 1.0000 - val_loss: 4.6919 - val_accuracy: 0.6429\n",
            "Epoch 34/50\n",
            "9/9 [==============================] - 1s 69ms/step - loss: 6.2228e-04 - accuracy: 1.0000 - val_loss: 4.6996 - val_accuracy: 0.6429\n",
            "Epoch 35/50\n",
            "9/9 [==============================] - 1s 72ms/step - loss: 5.7838e-04 - accuracy: 1.0000 - val_loss: 4.7472 - val_accuracy: 0.6429\n",
            "Epoch 36/50\n",
            "9/9 [==============================] - 1s 77ms/step - loss: 5.3921e-04 - accuracy: 1.0000 - val_loss: 4.7814 - val_accuracy: 0.6429\n",
            "Epoch 37/50\n",
            "9/9 [==============================] - 1s 77ms/step - loss: 5.1077e-04 - accuracy: 1.0000 - val_loss: 4.8195 - val_accuracy: 0.6429\n",
            "Epoch 38/50\n",
            "9/9 [==============================] - 1s 68ms/step - loss: 4.7840e-04 - accuracy: 1.0000 - val_loss: 4.8113 - val_accuracy: 0.6429\n",
            "Epoch 39/50\n",
            "9/9 [==============================] - 1s 69ms/step - loss: 4.5280e-04 - accuracy: 1.0000 - val_loss: 4.8418 - val_accuracy: 0.6429\n",
            "Epoch 40/50\n",
            "9/9 [==============================] - 1s 75ms/step - loss: 4.2513e-04 - accuracy: 1.0000 - val_loss: 4.8981 - val_accuracy: 0.6429\n",
            "Epoch 41/50\n",
            "9/9 [==============================] - 1s 67ms/step - loss: 4.0559e-04 - accuracy: 1.0000 - val_loss: 4.8557 - val_accuracy: 0.6071\n",
            "Epoch 42/50\n",
            "9/9 [==============================] - 1s 76ms/step - loss: 3.7729e-04 - accuracy: 1.0000 - val_loss: 4.9138 - val_accuracy: 0.6429\n",
            "Epoch 43/50\n",
            "9/9 [==============================] - 1s 67ms/step - loss: 3.6037e-04 - accuracy: 1.0000 - val_loss: 4.9352 - val_accuracy: 0.6429\n",
            "Epoch 44/50\n",
            "9/9 [==============================] - 1s 72ms/step - loss: 3.4250e-04 - accuracy: 1.0000 - val_loss: 4.9534 - val_accuracy: 0.6429\n",
            "Epoch 45/50\n",
            "9/9 [==============================] - 1s 69ms/step - loss: 3.2202e-04 - accuracy: 1.0000 - val_loss: 4.9608 - val_accuracy: 0.6429\n",
            "Epoch 46/50\n",
            "9/9 [==============================] - 1s 69ms/step - loss: 3.0819e-04 - accuracy: 1.0000 - val_loss: 5.0003 - val_accuracy: 0.6429\n",
            "Epoch 47/50\n",
            "9/9 [==============================] - 1s 69ms/step - loss: 2.9285e-04 - accuracy: 1.0000 - val_loss: 5.0021 - val_accuracy: 0.6429\n",
            "Epoch 48/50\n",
            "9/9 [==============================] - 1s 67ms/step - loss: 2.7996e-04 - accuracy: 1.0000 - val_loss: 5.0389 - val_accuracy: 0.6429\n",
            "Epoch 49/50\n",
            "9/9 [==============================] - 1s 70ms/step - loss: 2.6557e-04 - accuracy: 1.0000 - val_loss: 5.0934 - val_accuracy: 0.6429\n",
            "Epoch 50/50\n",
            "9/9 [==============================] - 1s 78ms/step - loss: 2.5323e-04 - accuracy: 1.0000 - val_loss: 5.0948 - val_accuracy: 0.6429\n"
          ]
        }
      ],
      "source": [
        "model_base.compile(optimizer = \"adam\", loss = \"categorical_crossentropy\", metrics = ['accuracy'])\n",
        "\n",
        "\n",
        "history = model_base.fit(\n",
        "    train_generator, \n",
        "    epochs= 50, \n",
        "    validation_data = validation_generator\n",
        ")"
      ]
    },
    {
      "cell_type": "code",
      "execution_count": 66,
      "metadata": {
        "colab": {
          "base_uri": "https://localhost:8080/"
        },
        "id": "Tw71zpMBqeKT",
        "outputId": "f02ebd66-72a9-4bb2-da42-9e92d13f0150"
      },
      "outputs": [
        {
          "output_type": "stream",
          "name": "stdout",
          "text": [
            "2/2 [==============================] - 0s 15ms/step - loss: 4.5794 - accuracy: 0.5833\n"
          ]
        }
      ],
      "source": [
        "results = model_base.evaluate(test_generator)"
      ]
    },
    {
      "cell_type": "code",
      "execution_count": 67,
      "metadata": {
        "id": "y9J-Gl8JrzS2"
      },
      "outputs": [],
      "source": [
        "def visualizacion_resultados(history):\n",
        "  epochs = [i for i in range(50)]\n",
        "  fig, ax = plt.subplots(1,2)\n",
        "  train_acc = history.history[\"accuracy\"]\n",
        "  train_loss = history.history[\"loss\"]\n",
        "  val_acc = history.history[\"val_accuracy\"]\n",
        "  val_loss = history.history[\"val_loss\"]\n",
        "  fig.set_size_inches(16, 9)\n",
        "\n",
        "  ax[0].plot(epochs, train_acc, \"go-\", label =\" Entrenamiento accuracy\")\n",
        "  ax[0].plot(epochs, val_acc, \"ro-\", label= \"Validacion accuracy\")\n",
        "  ax[0].set_title(\"Entrenamiento & validación accuracy\")\n",
        "  ax[0].legend()\n",
        "  ax[0].set_xlabel(\"Epochs\")\n",
        "  ax[0].set_ylabel(\"Accuracy\")\n",
        "\n",
        "  ax[1].plot(epochs, train_loss, \"go-\", label =\" Entrenamiento Loss\")\n",
        "  ax[1].plot(epochs, val_loss, \"ro-\", label= \"Validacion Loss\")\n",
        "  ax[1].set_title(\"Entrenamiento & validación Loss\")\n",
        "  ax[1].legend()\n",
        "  ax[1].set_xlabel(\"Epochs\")\n",
        "  ax[1].set_ylabel(\"Loss\")\n",
        "\n",
        "  plt.show()"
      ]
    },
    {
      "cell_type": "code",
      "execution_count": 68,
      "metadata": {
        "colab": {
          "base_uri": "https://localhost:8080/",
          "height": 567
        },
        "id": "rAPEeUN5fnGW",
        "outputId": "2a653bc9-2999-4800-9efe-3b96dd5cf96d"
      },
      "outputs": [
        {
          "output_type": "display_data",
          "data": {
            "text/plain": [
              "<Figure size 1152x648 with 2 Axes>"
            ],
            "image/png": "[encoded data removed]"
          },
          "metadata": {
            "needs_background": "light"
          }
        }
      ],
      "source": [
        "visualizacion_resultados(history)"
      ]
    },
    {
      "cell_type": "code",
      "execution_count": 69,
      "metadata": {
        "id": "0E01n8rygpjj"
      },
      "outputs": [],
      "source": [
        "from tensorflow.keras import regularizers"
      ]
    },
    {
      "cell_type": "code",
      "execution_count": 70,
      "metadata": {
        "colab": {
          "base_uri": "https://localhost:8080/"
        },
        "id": "-fyzSQlVjISa",
        "outputId": "ed9f1ae5-84be-4e8e-a68a-ad8cb4b50d47"
      },
      "outputs": [
        {
          "output_type": "stream",
          "name": "stdout",
          "text": [
            "Model: \"sequential_7\"\n",
            "_________________________________________________________________\n",
            " Layer (type)                Output Shape              Param #   \n",
            "=================================================================\n",
            " flatten_7 (Flatten)         (None, 784)               0         \n",
            "                                                                 \n",
            " dense_21 (Dense)            (None, 256)               200960    \n",
            "                                                                 \n",
            " dropout_8 (Dropout)         (None, 256)               0         \n",
            "                                                                 \n",
            " dense_22 (Dense)            (None, 128)               32896     \n",
            "                                                                 \n",
            " dropout_9 (Dropout)         (None, 128)               0         \n",
            "                                                                 \n",
            " dense_23 (Dense)            (None, 3)                 387       \n",
            "                                                                 \n",
            "=================================================================\n",
            "Total params: 234,243\n",
            "Trainable params: 234,243\n",
            "Non-trainable params: 0\n",
            "_________________________________________________________________\n"
          ]
        }
      ],
      "source": [
        "model_optimizer = tf.keras.models.Sequential([\n",
        "              tf.keras.layers.Flatten(input_shape= (28, 28, 1)),\n",
        "              tf.keras.layers.Dense(256, kernel_regularizer = regularizers.l2(1e-5), activation = \"softmax\"),\n",
        "              tf.keras.layers.Dropout(0.2),\n",
        "              tf.keras.layers.Dense(128, kernel_regularizer= regularizers.l2(1e-5),activation = \"softmax\"),\n",
        "              tf.keras.layers.Dropout(0.2),\n",
        "              tf.keras.layers.Dense(len(classes), activation = \"sigmoid\")\n",
        "])\n",
        "\n",
        "model_optimizer.summary()"
      ]
    },
    {
      "cell_type": "code",
      "execution_count": 71,
      "metadata": {
        "colab": {
          "base_uri": "https://localhost:8080/"
        },
        "id": "MOpd-XEbjLEB",
        "outputId": "11aa7085-1021-4048-8000-71e9d37be937"
      },
      "outputs": [
        {
          "output_type": "stream",
          "name": "stdout",
          "text": [
            "Epoch 1/50\n",
            "9/9 [==============================] - 1s 94ms/step - loss: 1.1042 - accuracy: 0.3314 - val_loss: 1.1037 - val_accuracy: 0.2857\n",
            "Epoch 2/50\n",
            "9/9 [==============================] - 1s 70ms/step - loss: 1.1031 - accuracy: 0.3371 - val_loss: 1.1030 - val_accuracy: 0.2857\n",
            "Epoch 3/50\n",
            "9/9 [==============================] - 1s 70ms/step - loss: 1.1025 - accuracy: 0.3267 - val_loss: 1.1022 - val_accuracy: 0.2857\n",
            "Epoch 4/50\n",
            "9/9 [==============================] - 1s 71ms/step - loss: 1.1013 - accuracy: 0.3333 - val_loss: 1.1012 - val_accuracy: 0.2857\n",
            "Epoch 5/50\n",
            "9/9 [==============================] - 1s 69ms/step - loss: 1.1003 - accuracy: 0.3457 - val_loss: 1.1003 - val_accuracy: 0.2857\n",
            "Epoch 6/50\n",
            "9/9 [==============================] - 1s 70ms/step - loss: 1.0991 - accuracy: 0.3743 - val_loss: 1.0992 - val_accuracy: 0.2857\n",
            "Epoch 7/50\n",
            "9/9 [==============================] - 1s 75ms/step - loss: 1.0979 - accuracy: 0.4324 - val_loss: 1.0987 - val_accuracy: 0.2857\n",
            "Epoch 8/50\n",
            "9/9 [==============================] - 1s 69ms/step - loss: 1.0969 - accuracy: 0.4371 - val_loss: 1.0982 - val_accuracy: 0.2857\n",
            "Epoch 9/50\n",
            "9/9 [==============================] - 1s 76ms/step - loss: 1.0958 - accuracy: 0.3943 - val_loss: 1.0980 - val_accuracy: 0.2857\n",
            "Epoch 10/50\n",
            "9/9 [==============================] - 1s 70ms/step - loss: 1.0944 - accuracy: 0.4076 - val_loss: 1.0973 - val_accuracy: 0.2857\n",
            "Epoch 11/50\n",
            "9/9 [==============================] - 1s 70ms/step - loss: 1.0934 - accuracy: 0.4676 - val_loss: 1.0963 - val_accuracy: 0.4643\n",
            "Epoch 12/50\n",
            "9/9 [==============================] - 1s 70ms/step - loss: 1.0921 - accuracy: 0.5190 - val_loss: 1.0955 - val_accuracy: 0.5000\n",
            "Epoch 13/50\n",
            "9/9 [==============================] - 1s 67ms/step - loss: 1.0902 - accuracy: 0.6019 - val_loss: 1.0948 - val_accuracy: 0.5357\n",
            "Epoch 14/50\n",
            "9/9 [==============================] - 1s 69ms/step - loss: 1.0892 - accuracy: 0.6457 - val_loss: 1.0939 - val_accuracy: 0.5357\n",
            "Epoch 15/50\n",
            "9/9 [==============================] - 1s 69ms/step - loss: 1.0875 - accuracy: 0.6962 - val_loss: 1.0931 - val_accuracy: 0.5714\n",
            "Epoch 16/50\n",
            "9/9 [==============================] - 1s 70ms/step - loss: 1.0853 - accuracy: 0.7457 - val_loss: 1.0915 - val_accuracy: 0.6429\n",
            "Epoch 17/50\n",
            "9/9 [==============================] - 1s 72ms/step - loss: 1.0839 - accuracy: 0.7362 - val_loss: 1.0901 - val_accuracy: 0.6429\n",
            "Epoch 18/50\n",
            "9/9 [==============================] - 1s 77ms/step - loss: 1.0808 - accuracy: 0.7657 - val_loss: 1.0891 - val_accuracy: 0.6429\n",
            "Epoch 19/50\n",
            "9/9 [==============================] - 1s 74ms/step - loss: 1.0791 - accuracy: 0.7533 - val_loss: 1.0876 - val_accuracy: 0.6429\n",
            "Epoch 20/50\n",
            "9/9 [==============================] - 1s 74ms/step - loss: 1.0763 - accuracy: 0.7648 - val_loss: 1.0866 - val_accuracy: 0.6429\n",
            "Epoch 21/50\n",
            "9/9 [==============================] - 1s 72ms/step - loss: 1.0737 - accuracy: 0.7667 - val_loss: 1.0851 - val_accuracy: 0.6429\n",
            "Epoch 22/50\n",
            "9/9 [==============================] - 1s 73ms/step - loss: 1.0696 - accuracy: 0.7867 - val_loss: 1.0835 - val_accuracy: 0.6429\n",
            "Epoch 23/50\n",
            "9/9 [==============================] - 1s 68ms/step - loss: 1.0669 - accuracy: 0.7895 - val_loss: 1.0818 - val_accuracy: 0.6429\n",
            "Epoch 24/50\n",
            "9/9 [==============================] - 1s 69ms/step - loss: 1.0640 - accuracy: 0.7810 - val_loss: 1.0801 - val_accuracy: 0.6429\n",
            "Epoch 25/50\n",
            "9/9 [==============================] - 1s 72ms/step - loss: 1.0600 - accuracy: 0.7895 - val_loss: 1.0779 - val_accuracy: 0.6429\n",
            "Epoch 26/50\n",
            "9/9 [==============================] - 1s 70ms/step - loss: 1.0546 - accuracy: 0.7857 - val_loss: 1.0757 - val_accuracy: 0.6429\n",
            "Epoch 27/50\n",
            "9/9 [==============================] - 1s 76ms/step - loss: 1.0490 - accuracy: 0.7952 - val_loss: 1.0734 - val_accuracy: 0.6429\n",
            "Epoch 28/50\n",
            "9/9 [==============================] - 1s 71ms/step - loss: 1.0447 - accuracy: 0.8010 - val_loss: 1.0714 - val_accuracy: 0.6429\n",
            "Epoch 29/50\n",
            "9/9 [==============================] - 1s 72ms/step - loss: 1.0409 - accuracy: 0.7933 - val_loss: 1.0692 - val_accuracy: 0.6429\n",
            "Epoch 30/50\n",
            "9/9 [==============================] - 1s 69ms/step - loss: 1.0348 - accuracy: 0.7990 - val_loss: 1.0668 - val_accuracy: 0.6429\n",
            "Epoch 31/50\n",
            "9/9 [==============================] - 1s 70ms/step - loss: 1.0290 - accuracy: 0.7895 - val_loss: 1.0640 - val_accuracy: 0.6429\n",
            "Epoch 32/50\n",
            "9/9 [==============================] - 1s 72ms/step - loss: 1.0215 - accuracy: 0.8038 - val_loss: 1.0614 - val_accuracy: 0.6429\n",
            "Epoch 33/50\n",
            "9/9 [==============================] - 1s 69ms/step - loss: 1.0151 - accuracy: 0.8000 - val_loss: 1.0580 - val_accuracy: 0.6429\n",
            "Epoch 34/50\n",
            "9/9 [==============================] - 1s 75ms/step - loss: 1.0104 - accuracy: 0.7886 - val_loss: 1.0549 - val_accuracy: 0.6429\n",
            "Epoch 35/50\n",
            "9/9 [==============================] - 1s 68ms/step - loss: 1.0026 - accuracy: 0.8038 - val_loss: 1.0521 - val_accuracy: 0.6429\n",
            "Epoch 36/50\n",
            "9/9 [==============================] - 1s 75ms/step - loss: 0.9978 - accuracy: 0.7895 - val_loss: 1.0488 - val_accuracy: 0.6429\n",
            "Epoch 37/50\n",
            "9/9 [==============================] - 1s 70ms/step - loss: 0.9913 - accuracy: 0.7829 - val_loss: 1.0466 - val_accuracy: 0.6429\n",
            "Epoch 38/50\n",
            "9/9 [==============================] - 1s 79ms/step - loss: 0.9788 - accuracy: 0.8038 - val_loss: 1.0429 - val_accuracy: 0.6429\n",
            "Epoch 39/50\n",
            "9/9 [==============================] - 1s 70ms/step - loss: 0.9725 - accuracy: 0.8010 - val_loss: 1.0399 - val_accuracy: 0.6429\n",
            "Epoch 40/50\n",
            "9/9 [==============================] - 1s 77ms/step - loss: 0.9641 - accuracy: 0.8029 - val_loss: 1.0371 - val_accuracy: 0.6429\n",
            "Epoch 41/50\n",
            "9/9 [==============================] - 1s 70ms/step - loss: 0.9541 - accuracy: 0.8200 - val_loss: 1.0326 - val_accuracy: 0.6429\n",
            "Epoch 42/50\n",
            "9/9 [==============================] - 1s 69ms/step - loss: 0.9488 - accuracy: 0.8057 - val_loss: 1.0285 - val_accuracy: 0.6429\n",
            "Epoch 43/50\n",
            "9/9 [==============================] - 1s 69ms/step - loss: 0.9368 - accuracy: 0.8105 - val_loss: 1.0219 - val_accuracy: 0.6429\n",
            "Epoch 44/50\n",
            "9/9 [==============================] - 1s 70ms/step - loss: 0.9286 - accuracy: 0.8190 - val_loss: 1.0137 - val_accuracy: 0.6429\n",
            "Epoch 45/50\n",
            "9/9 [==============================] - 1s 72ms/step - loss: 0.9156 - accuracy: 0.8248 - val_loss: 1.0071 - val_accuracy: 0.6429\n",
            "Epoch 46/50\n",
            "9/9 [==============================] - 1s 75ms/step - loss: 0.9061 - accuracy: 0.8257 - val_loss: 0.9772 - val_accuracy: 0.6429\n",
            "Epoch 47/50\n",
            "9/9 [==============================] - 1s 71ms/step - loss: 0.8994 - accuracy: 0.8257 - val_loss: 0.9922 - val_accuracy: 0.6429\n",
            "Epoch 48/50\n",
            "9/9 [==============================] - 1s 77ms/step - loss: 0.8807 - accuracy: 0.8524 - val_loss: 0.9784 - val_accuracy: 0.6429\n",
            "Epoch 49/50\n",
            "9/9 [==============================] - 1s 71ms/step - loss: 0.8703 - accuracy: 0.8705 - val_loss: 0.9843 - val_accuracy: 0.6429\n",
            "Epoch 50/50\n",
            "9/9 [==============================] - 1s 69ms/step - loss: 0.8728 - accuracy: 0.8200 - val_loss: 0.9821 - val_accuracy: 0.6429\n"
          ]
        }
      ],
      "source": [
        "model_optimizer.compile(optimizer= \"adam\", loss = \"categorical_crossentropy\", metrics = [\"accuracy\"])\n",
        "\n",
        "history_optimizer = model_optimizer.fit(\n",
        "    train_generator,\n",
        "    epochs = 50,\n",
        "    validation_data = validation_generator\n",
        ")"
      ]
    },
    {
      "cell_type": "code",
      "execution_count": 72,
      "metadata": {
        "colab": {
          "base_uri": "https://localhost:8080/",
          "height": 567
        },
        "id": "v99AFs5SjTSN",
        "outputId": "89ccb3d9-800b-494d-d627-4dc4a4630c2e"
      },
      "outputs": [
        {
          "output_type": "display_data",
          "data": {
            "text/plain": [
              "<Figure size 1152x648 with 2 Axes>"
            ],
            "image/png": "[encoded data removed]"
          },
          "metadata": {
            "needs_background": "light"
          }
        }
      ],
      "source": [
        "def visualizacion_resultados(history):\n",
        "  epochs = [i for i in range(50)]\n",
        "  fig, ax = plt.subplots(1,2)\n",
        "  train_acc = history.history[\"accuracy\"]\n",
        "  train_loss = history.history[\"loss\"]\n",
        "  val_acc = history.history[\"val_accuracy\"]\n",
        "  val_loss = history.history[\"val_loss\"]\n",
        "  fig.set_size_inches(16, 9)\n",
        "\n",
        "  ax[0].plot(epochs, train_acc, \"go-\", label =\" Entrenamiento accuracy\")\n",
        "  ax[0].plot(epochs, val_acc, \"ro-\", label= \"Validacion accuracy\")\n",
        "  ax[0].set_title(\"Entrenamiento & validación accuracy\")\n",
        "  ax[0].legend()\n",
        "  ax[0].set_xlabel(\"Epochs\")\n",
        "  ax[0].set_ylabel(\"Accuracy\")\n",
        "\n",
        "  ax[1].plot(epochs, train_loss, \"go-\", label =\" Entrenamiento Loss\")\n",
        "  ax[1].plot(epochs, val_loss, \"ro-\", label= \"Validacion Loss\")\n",
        "  ax[1].set_title(\"Entrenamiento & validación Loss\")\n",
        "  ax[1].legend()\n",
        "  ax[1].set_xlabel(\"Epochs\")\n",
        "  ax[1].set_ylabel(\"Loss\")\n",
        "\n",
        "  plt.show()\n",
        "\n",
        "visualizacion_resultados(history_optimizer)"
      ]
    },
    {
      "cell_type": "markdown",
      "source": [
        "convoluciones\n"
      ],
      "metadata": {
        "id": "sQ1Kk29NWccM"
      }
    },
    {
      "cell_type": "code",
      "source": [
        "model_convolutional = tf.keras.models.Sequential([\n",
        "              tf.keras.layers.Conv2D(75, (3,3), activation = \"relu\", input_shape= (28, 28, 1)),\n",
        "              tf.keras.layers.MaxPool2D((2,2)),\n",
        "              tf.keras.layers.Flatten(),\n",
        "              tf.keras.layers.Dense(256, kernel_regularizer = regularizers.l2(1e-5), activation = \"relu\"),\n",
        "              tf.keras.layers.Dropout(0.2),\n",
        "              tf.keras.layers.Dense(128, kernel_regularizer= regularizers.l2(1e-5),activation = \"relu\"),\n",
        "              tf.keras.layers.Dropout(0.2),\n",
        "              tf.keras.layers.Dense(len(classes), activation = \"softmax\")\n",
        "])\n",
        "\n",
        "model_convolutional.summary()\n",
        "\n",
        "model_convolutional.compile(optimizer= \"adam\", loss = \"categorical_crossentropy\", metrics = [\"accuracy\"])\n",
        "\n",
        "history_convolutional = model_convolutional.fit(\n",
        "    train_generator,\n",
        "    epochs = 50,\n",
        "    validation_data = validation_generator\n",
        ")"
      ],
      "metadata": {
        "colab": {
          "base_uri": "https://localhost:8080/"
        },
        "id": "WGzSIq-SWgLk",
        "outputId": "7a45efc7-6497-4a04-f0b6-6cffc5b25184"
      },
      "execution_count": 86,
      "outputs": [
        {
          "output_type": "stream",
          "name": "stdout",
          "text": [
            "Model: \"sequential_11\"\n",
            "_________________________________________________________________\n",
            " Layer (type)                Output Shape              Param #   \n",
            "=================================================================\n",
            " conv2d_5 (Conv2D)           (None, 26, 26, 75)        750       \n",
            "                                                                 \n",
            " max_pooling2d_5 (MaxPooling  (None, 13, 13, 75)       0         \n",
            " 2D)                                                             \n",
            "                                                                 \n",
            " flatten_11 (Flatten)        (None, 12675)             0         \n",
            "                                                                 \n",
            " dense_33 (Dense)            (None, 256)               3245056   \n",
            "                                                                 \n",
            " dropout_16 (Dropout)        (None, 256)               0         \n",
            "                                                                 \n",
            " dense_34 (Dense)            (None, 128)               32896     \n",
            "                                                                 \n",
            " dropout_17 (Dropout)        (None, 128)               0         \n",
            "                                                                 \n",
            " dense_35 (Dense)            (None, 3)                 387       \n",
            "                                                                 \n",
            "=================================================================\n",
            "Total params: 3,279,089\n",
            "Trainable params: 3,279,089\n",
            "Non-trainable params: 0\n",
            "_________________________________________________________________\n",
            "Epoch 1/50\n",
            "9/9 [==============================] - 3s 225ms/step - loss: 1.0574 - accuracy: 0.4667 - val_loss: 0.8832 - val_accuracy: 0.5714\n",
            "Epoch 2/50\n",
            "9/9 [==============================] - 2s 196ms/step - loss: 0.8255 - accuracy: 0.6381 - val_loss: 0.8723 - val_accuracy: 0.5714\n",
            "Epoch 3/50\n",
            "9/9 [==============================] - 2s 194ms/step - loss: 0.5939 - accuracy: 0.7667 - val_loss: 1.3285 - val_accuracy: 0.6429\n",
            "Epoch 4/50\n",
            "9/9 [==============================] - 2s 200ms/step - loss: 0.4067 - accuracy: 0.8400 - val_loss: 1.6609 - val_accuracy: 0.6429\n",
            "Epoch 5/50\n",
            "9/9 [==============================] - 2s 199ms/step - loss: 0.2639 - accuracy: 0.9133 - val_loss: 1.8105 - val_accuracy: 0.6429\n",
            "Epoch 6/50\n",
            "9/9 [==============================] - 2s 198ms/step - loss: 0.1641 - accuracy: 0.9457 - val_loss: 2.2499 - val_accuracy: 0.6429\n",
            "Epoch 7/50\n",
            "9/9 [==============================] - 2s 202ms/step - loss: 0.1154 - accuracy: 0.9771 - val_loss: 2.2069 - val_accuracy: 0.6429\n",
            "Epoch 8/50\n",
            "9/9 [==============================] - 2s 196ms/step - loss: 0.0649 - accuracy: 0.9895 - val_loss: 2.4186 - val_accuracy: 0.6429\n",
            "Epoch 9/50\n",
            "9/9 [==============================] - 2s 200ms/step - loss: 0.0386 - accuracy: 0.9981 - val_loss: 2.5901 - val_accuracy: 0.6429\n",
            "Epoch 10/50\n",
            "9/9 [==============================] - 2s 196ms/step - loss: 0.0257 - accuracy: 0.9981 - val_loss: 2.8303 - val_accuracy: 0.6429\n",
            "Epoch 11/50\n",
            "9/9 [==============================] - 2s 198ms/step - loss: 0.0218 - accuracy: 0.9981 - val_loss: 2.9166 - val_accuracy: 0.6429\n",
            "Epoch 12/50\n",
            "9/9 [==============================] - 2s 198ms/step - loss: 0.0190 - accuracy: 0.9981 - val_loss: 2.9533 - val_accuracy: 0.6429\n",
            "Epoch 13/50\n",
            "9/9 [==============================] - 2s 200ms/step - loss: 0.0139 - accuracy: 1.0000 - val_loss: 2.9000 - val_accuracy: 0.6429\n",
            "Epoch 14/50\n",
            "9/9 [==============================] - 2s 234ms/step - loss: 0.0131 - accuracy: 1.0000 - val_loss: 2.9295 - val_accuracy: 0.6429\n",
            "Epoch 15/50\n",
            "9/9 [==============================] - 2s 233ms/step - loss: 0.0122 - accuracy: 0.9990 - val_loss: 3.0301 - val_accuracy: 0.6429\n",
            "Epoch 16/50\n",
            "9/9 [==============================] - 2s 198ms/step - loss: 0.0117 - accuracy: 1.0000 - val_loss: 3.0198 - val_accuracy: 0.6429\n",
            "Epoch 17/50\n",
            "9/9 [==============================] - 2s 235ms/step - loss: 0.0110 - accuracy: 1.0000 - val_loss: 3.0456 - val_accuracy: 0.6429\n",
            "Epoch 18/50\n",
            "9/9 [==============================] - 2s 204ms/step - loss: 0.0096 - accuracy: 1.0000 - val_loss: 3.0580 - val_accuracy: 0.6429\n",
            "Epoch 19/50\n",
            "9/9 [==============================] - 2s 202ms/step - loss: 0.0093 - accuracy: 1.0000 - val_loss: 3.1126 - val_accuracy: 0.6429\n",
            "Epoch 20/50\n",
            "9/9 [==============================] - 2s 209ms/step - loss: 0.0090 - accuracy: 1.0000 - val_loss: 3.2240 - val_accuracy: 0.6429\n",
            "Epoch 21/50\n",
            "9/9 [==============================] - 2s 201ms/step - loss: 0.0091 - accuracy: 1.0000 - val_loss: 3.2337 - val_accuracy: 0.6429\n",
            "Epoch 22/50\n",
            "9/9 [==============================] - 2s 199ms/step - loss: 0.0090 - accuracy: 1.0000 - val_loss: 3.1763 - val_accuracy: 0.6429\n",
            "Epoch 23/50\n",
            "9/9 [==============================] - 2s 200ms/step - loss: 0.0082 - accuracy: 1.0000 - val_loss: 3.2419 - val_accuracy: 0.6429\n",
            "Epoch 24/50\n",
            "9/9 [==============================] - 2s 223ms/step - loss: 0.0083 - accuracy: 1.0000 - val_loss: 3.2320 - val_accuracy: 0.6429\n",
            "Epoch 25/50\n",
            "9/9 [==============================] - 2s 203ms/step - loss: 0.0086 - accuracy: 1.0000 - val_loss: 3.3253 - val_accuracy: 0.6429\n",
            "Epoch 26/50\n",
            "9/9 [==============================] - 2s 202ms/step - loss: 0.0081 - accuracy: 1.0000 - val_loss: 3.3732 - val_accuracy: 0.6429\n",
            "Epoch 27/50\n",
            "9/9 [==============================] - 2s 198ms/step - loss: 0.0080 - accuracy: 1.0000 - val_loss: 3.3985 - val_accuracy: 0.6429\n",
            "Epoch 28/50\n",
            "9/9 [==============================] - 2s 198ms/step - loss: 0.0078 - accuracy: 1.0000 - val_loss: 3.4345 - val_accuracy: 0.6429\n",
            "Epoch 29/50\n",
            "9/9 [==============================] - 2s 203ms/step - loss: 0.0074 - accuracy: 1.0000 - val_loss: 3.4494 - val_accuracy: 0.6429\n",
            "Epoch 30/50\n",
            "9/9 [==============================] - 2s 197ms/step - loss: 0.0076 - accuracy: 1.0000 - val_loss: 3.4494 - val_accuracy: 0.6429\n",
            "Epoch 31/50\n",
            "9/9 [==============================] - 2s 198ms/step - loss: 0.0079 - accuracy: 1.0000 - val_loss: 3.6189 - val_accuracy: 0.6429\n",
            "Epoch 32/50\n",
            "9/9 [==============================] - 2s 197ms/step - loss: 0.0078 - accuracy: 1.0000 - val_loss: 3.5978 - val_accuracy: 0.6429\n",
            "Epoch 33/50\n",
            "9/9 [==============================] - 2s 201ms/step - loss: 0.0075 - accuracy: 1.0000 - val_loss: 3.4460 - val_accuracy: 0.6429\n",
            "Epoch 34/50\n",
            "9/9 [==============================] - 2s 225ms/step - loss: 0.0077 - accuracy: 1.0000 - val_loss: 3.5504 - val_accuracy: 0.6786\n",
            "Epoch 35/50\n",
            "9/9 [==============================] - 2s 200ms/step - loss: 0.0071 - accuracy: 1.0000 - val_loss: 3.5322 - val_accuracy: 0.6429\n",
            "Epoch 36/50\n",
            "9/9 [==============================] - 2s 200ms/step - loss: 0.0072 - accuracy: 1.0000 - val_loss: 3.5775 - val_accuracy: 0.6429\n",
            "Epoch 37/50\n",
            "9/9 [==============================] - 2s 205ms/step - loss: 0.0068 - accuracy: 1.0000 - val_loss: 3.6318 - val_accuracy: 0.6429\n",
            "Epoch 38/50\n",
            "9/9 [==============================] - 2s 201ms/step - loss: 0.0071 - accuracy: 1.0000 - val_loss: 3.6567 - val_accuracy: 0.6429\n",
            "Epoch 39/50\n",
            "9/9 [==============================] - 2s 202ms/step - loss: 0.0070 - accuracy: 1.0000 - val_loss: 3.5359 - val_accuracy: 0.6429\n",
            "Epoch 40/50\n",
            "9/9 [==============================] - 2s 204ms/step - loss: 0.0068 - accuracy: 1.0000 - val_loss: 3.5138 - val_accuracy: 0.6429\n",
            "Epoch 41/50\n",
            "9/9 [==============================] - 2s 206ms/step - loss: 0.0067 - accuracy: 1.0000 - val_loss: 3.6439 - val_accuracy: 0.6429\n",
            "Epoch 42/50\n",
            "9/9 [==============================] - 2s 198ms/step - loss: 0.0065 - accuracy: 1.0000 - val_loss: 3.6421 - val_accuracy: 0.6429\n",
            "Epoch 43/50\n",
            "9/9 [==============================] - 2s 203ms/step - loss: 0.0065 - accuracy: 1.0000 - val_loss: 3.6408 - val_accuracy: 0.6429\n",
            "Epoch 44/50\n",
            "9/9 [==============================] - 2s 224ms/step - loss: 0.0065 - accuracy: 1.0000 - val_loss: 3.6574 - val_accuracy: 0.6429\n",
            "Epoch 45/50\n",
            "9/9 [==============================] - 2s 198ms/step - loss: 0.0069 - accuracy: 1.0000 - val_loss: 3.5697 - val_accuracy: 0.6429\n",
            "Epoch 46/50\n",
            "9/9 [==============================] - 2s 197ms/step - loss: 0.0064 - accuracy: 1.0000 - val_loss: 3.5137 - val_accuracy: 0.6429\n",
            "Epoch 47/50\n",
            "9/9 [==============================] - 2s 201ms/step - loss: 0.0063 - accuracy: 1.0000 - val_loss: 3.5452 - val_accuracy: 0.6429\n",
            "Epoch 48/50\n",
            "9/9 [==============================] - 2s 204ms/step - loss: 0.0063 - accuracy: 1.0000 - val_loss: 3.6031 - val_accuracy: 0.6429\n",
            "Epoch 49/50\n",
            "9/9 [==============================] - 2s 203ms/step - loss: 0.0061 - accuracy: 1.0000 - val_loss: 3.5559 - val_accuracy: 0.6429\n",
            "Epoch 50/50\n",
            "9/9 [==============================] - 2s 199ms/step - loss: 0.0060 - accuracy: 1.0000 - val_loss: 3.5511 - val_accuracy: 0.6429\n"
          ]
        }
      ]
    },
    {
      "cell_type": "code",
      "source": [
        "visualizacion_resultados(history_convolutional)"
      ],
      "metadata": {
        "colab": {
          "base_uri": "https://localhost:8080/",
          "height": 567
        },
        "id": "GwdFeDyFWoHC",
        "outputId": "d711a64f-eee5-4c84-aa73-60092053cf68"
      },
      "execution_count": 74,
      "outputs": [
        {
          "output_type": "display_data",
          "data": {
            "text/plain": [
              "<Figure size 1152x648 with 2 Axes>"
            ],
            "image/png": "[encoded data removed]"
          },
          "metadata": {
            "needs_background": "light"
          }
        }
      ]
    },
    {
      "cell_type": "code",
      "source": [
        ""
      ],
      "metadata": {
        "id": "OaD4CFcAW0px"
      },
      "execution_count": 74,
      "outputs": []
    },
    {
      "cell_type": "markdown",
      "source": [
        "CALLBACKS"
      ],
      "metadata": {
        "id": "vIh-_fcDYqYv"
      }
    },
    {
      "cell_type": "code",
      "source": [
        "model_callback = tf.keras.models.Sequential([\n",
        "              tf.keras.layers.Conv2D(75, (3,3), activation = \"relu\", input_shape= (28, 28, 1)),\n",
        "              tf.keras.layers.MaxPool2D((2,2)),\n",
        "              tf.keras.layers.Flatten(),\n",
        "              tf.keras.layers.Dense(256, kernel_regularizer = regularizers.l2(1e-5), activation = \"relu\"),\n",
        "              tf.keras.layers.Dropout(0.2),\n",
        "              tf.keras.layers.Dense(128, kernel_regularizer= regularizers.l2(1e-5),activation = \"relu\"),\n",
        "              tf.keras.layers.Dropout(0.2),\n",
        "              tf.keras.layers.Dense(len(classes), activation = \"softmax\")\n",
        "])\n",
        "\n",
        "model_callback.summary()\n",
        "\n",
        "model_callback.compile(optimizer= \"adam\", loss = \"categorical_crossentropy\", metrics = [\"accuracy\"])"
      ],
      "metadata": {
        "colab": {
          "base_uri": "https://localhost:8080/"
        },
        "id": "u63PRYYVYtUw",
        "outputId": "da9f6c66-c2f5-4022-dee1-9ddcd7544462"
      },
      "execution_count": 75,
      "outputs": [
        {
          "output_type": "stream",
          "name": "stdout",
          "text": [
            "Model: \"sequential_9\"\n",
            "_________________________________________________________________\n",
            " Layer (type)                Output Shape              Param #   \n",
            "=================================================================\n",
            " conv2d_3 (Conv2D)           (None, 26, 26, 75)        750       \n",
            "                                                                 \n",
            " max_pooling2d_3 (MaxPooling  (None, 13, 13, 75)       0         \n",
            " 2D)                                                             \n",
            "                                                                 \n",
            " flatten_9 (Flatten)         (None, 12675)             0         \n",
            "                                                                 \n",
            " dense_27 (Dense)            (None, 256)               3245056   \n",
            "                                                                 \n",
            " dropout_12 (Dropout)        (None, 256)               0         \n",
            "                                                                 \n",
            " dense_28 (Dense)            (None, 128)               32896     \n",
            "                                                                 \n",
            " dropout_13 (Dropout)        (None, 128)               0         \n",
            "                                                                 \n",
            " dense_29 (Dense)            (None, 3)                 387       \n",
            "                                                                 \n",
            "=================================================================\n",
            "Total params: 3,279,089\n",
            "Trainable params: 3,279,089\n",
            "Non-trainable params: 0\n",
            "_________________________________________________________________\n"
          ]
        }
      ]
    },
    {
      "cell_type": "code",
      "source": [
        "from tensorflow.keras.callbacks import Callback\n",
        "\n",
        "class TrainingCallback(Callback):\n",
        "  def on_epoch_end(self, epoch, logs = {}):\n",
        "    if logs.get(\"accuracy\") > 0.999:\n",
        "      print(\"Lo logramos, nuestro modelo llego a 95%, detenemos el entrenamiento\")\n",
        "      self.model.stop_training = True"
      ],
      "metadata": {
        "id": "vjPPd7lba32j"
      },
      "execution_count": 79,
      "outputs": []
    },
    {
      "cell_type": "code",
      "source": [
        "callback = TrainingCallback()\n",
        "\n",
        "history_callback = model_callback.fit(\n",
        "    train_generator,\n",
        "    epochs = 50,\n",
        "    callbacks = [callback],\n",
        "    validation_data = validation_generator\n",
        ")"
      ],
      "metadata": {
        "colab": {
          "base_uri": "https://localhost:8080/"
        },
        "id": "AWK2PJ5Ia54C",
        "outputId": "a9c25b6a-3cc5-417b-96d9-043e925d85c7"
      },
      "execution_count": 84,
      "outputs": [
        {
          "output_type": "stream",
          "name": "stdout",
          "text": [
            "Epoch 1/50\n",
            "9/9 [==============================] - ETA: 0s - loss: 0.0162 - accuracy: 0.9990Lo logramos, nuestro modelo llego a 95%, detenemos el entrenamiento\n",
            "9/9 [==============================] - 2s 215ms/step - loss: 0.0162 - accuracy: 0.9990 - val_loss: 2.4953 - val_accuracy: 0.6429\n"
          ]
        }
      ]
    },
    {
      "cell_type": "code",
      "source": [
        "def get_model():\n",
        "  model = tf.keras.models.Sequential([\n",
        "              tf.keras.layers.Conv2D(75, (3,3), activation = \"relu\", input_shape= (28, 28, 1)),\n",
        "              tf.keras.layers.MaxPool2D((2,2)),\n",
        "              tf.keras.layers.Flatten(),\n",
        "              tf.keras.layers.Dense(256, kernel_regularizer = regularizers.l2(1e-5), activation = \"relu\"),\n",
        "              tf.keras.layers.Dropout(0.2),\n",
        "              tf.keras.layers.Dense(128, kernel_regularizer= regularizers.l2(1e-5),activation = \"relu\"),\n",
        "              tf.keras.layers.Dropout(0.2),\n",
        "              tf.keras.layers.Dense(len(classes), activation = \"softmax\")\n",
        "  ])\n",
        "  return model\n",
        "\n",
        "model_early = get_model()\n",
        "model_early.summary()\n",
        "\n",
        "model_early.compile(optimizer= \"adam\", loss = \"categorical_crossentropy\", metrics = [\"accuracy\"])"
      ],
      "metadata": {
        "colab": {
          "base_uri": "https://localhost:8080/"
        },
        "id": "qBCVudTya845",
        "outputId": "4ecdf86c-58df-4eb2-c80d-6fd67cb47d15"
      },
      "execution_count": 87,
      "outputs": [
        {
          "output_type": "stream",
          "name": "stdout",
          "text": [
            "Model: \"sequential_12\"\n",
            "_________________________________________________________________\n",
            " Layer (type)                Output Shape              Param #   \n",
            "=================================================================\n",
            " conv2d_6 (Conv2D)           (None, 26, 26, 75)        750       \n",
            "                                                                 \n",
            " max_pooling2d_6 (MaxPooling  (None, 13, 13, 75)       0         \n",
            " 2D)                                                             \n",
            "                                                                 \n",
            " flatten_12 (Flatten)        (None, 12675)             0         \n",
            "                                                                 \n",
            " dense_36 (Dense)            (None, 256)               3245056   \n",
            "                                                                 \n",
            " dropout_18 (Dropout)        (None, 256)               0         \n",
            "                                                                 \n",
            " dense_37 (Dense)            (None, 128)               32896     \n",
            "                                                                 \n",
            " dropout_19 (Dropout)        (None, 128)               0         \n",
            "                                                                 \n",
            " dense_38 (Dense)            (None, 3)                 387       \n",
            "                                                                 \n",
            "=================================================================\n",
            "Total params: 3,279,089\n",
            "Trainable params: 3,279,089\n",
            "Non-trainable params: 0\n",
            "_________________________________________________________________\n"
          ]
        }
      ]
    },
    {
      "cell_type": "markdown",
      "source": [
        "early stopping"
      ],
      "metadata": {
        "id": "mAfDjjZTgWLF"
      }
    },
    {
      "cell_type": "code",
      "source": [
        "callback_early = tf.keras.callbacks.EarlyStopping(monitor = \"loss\", patience=3, mode = \"auto\")"
      ],
      "metadata": {
        "id": "O5SV6fK-gdn9"
      },
      "execution_count": 89,
      "outputs": []
    },
    {
      "cell_type": "code",
      "source": [
        "history_early = model_early.fit(\n",
        "    train_generator, \n",
        "    epochs= 50, \n",
        "    callbacks = [callback_early],\n",
        "    validation_data = validation_generator\n",
        ")"
      ],
      "metadata": {
        "colab": {
          "base_uri": "https://localhost:8080/"
        },
        "id": "VUXHIKIVghRv",
        "outputId": "e900c11b-7459-483d-9f6e-bae1c9b9c2f2"
      },
      "execution_count": 92,
      "outputs": [
        {
          "output_type": "stream",
          "name": "stdout",
          "text": [
            "Epoch 1/50\n",
            "9/9 [==============================] - 2s 206ms/step - loss: 0.0069 - accuracy: 1.0000 - val_loss: 3.7307 - val_accuracy: 0.6786\n",
            "Epoch 2/50\n",
            "9/9 [==============================] - 2s 198ms/step - loss: 0.0068 - accuracy: 1.0000 - val_loss: 3.4953 - val_accuracy: 0.6429\n",
            "Epoch 3/50\n",
            "9/9 [==============================] - 2s 219ms/step - loss: 0.0069 - accuracy: 1.0000 - val_loss: 3.6121 - val_accuracy: 0.6429\n",
            "Epoch 4/50\n",
            "9/9 [==============================] - 2s 198ms/step - loss: 0.0065 - accuracy: 1.0000 - val_loss: 3.5375 - val_accuracy: 0.6429\n",
            "Epoch 5/50\n",
            "9/9 [==============================] - 2s 199ms/step - loss: 0.0065 - accuracy: 1.0000 - val_loss: 3.6415 - val_accuracy: 0.6429\n",
            "Epoch 6/50\n",
            "9/9 [==============================] - 2s 220ms/step - loss: 0.0063 - accuracy: 1.0000 - val_loss: 3.7762 - val_accuracy: 0.6429\n",
            "Epoch 7/50\n",
            "9/9 [==============================] - 2s 197ms/step - loss: 0.0062 - accuracy: 1.0000 - val_loss: 3.7633 - val_accuracy: 0.6429\n",
            "Epoch 8/50\n",
            "9/9 [==============================] - 2s 217ms/step - loss: 0.0065 - accuracy: 1.0000 - val_loss: 4.0415 - val_accuracy: 0.6786\n",
            "Epoch 9/50\n",
            "9/9 [==============================] - 2s 195ms/step - loss: 0.0064 - accuracy: 1.0000 - val_loss: 3.8153 - val_accuracy: 0.6429\n",
            "Epoch 10/50\n",
            "9/9 [==============================] - 2s 199ms/step - loss: 0.0062 - accuracy: 1.0000 - val_loss: 3.5993 - val_accuracy: 0.6429\n",
            "Epoch 11/50\n",
            "9/9 [==============================] - 2s 201ms/step - loss: 0.0061 - accuracy: 1.0000 - val_loss: 3.7220 - val_accuracy: 0.6429\n",
            "Epoch 12/50\n",
            "9/9 [==============================] - 2s 195ms/step - loss: 0.0061 - accuracy: 1.0000 - val_loss: 3.8733 - val_accuracy: 0.6429\n",
            "Epoch 13/50\n",
            "9/9 [==============================] - 2s 219ms/step - loss: 0.0061 - accuracy: 1.0000 - val_loss: 3.9195 - val_accuracy: 0.6429\n",
            "Epoch 14/50\n",
            "9/9 [==============================] - 2s 196ms/step - loss: 0.0060 - accuracy: 1.0000 - val_loss: 3.8451 - val_accuracy: 0.6429\n",
            "Epoch 15/50\n",
            "9/9 [==============================] - 2s 218ms/step - loss: 0.0060 - accuracy: 1.0000 - val_loss: 3.8054 - val_accuracy: 0.6429\n",
            "Epoch 16/50\n",
            "9/9 [==============================] - 2s 197ms/step - loss: 0.0059 - accuracy: 1.0000 - val_loss: 3.8418 - val_accuracy: 0.6429\n",
            "Epoch 17/50\n",
            "9/9 [==============================] - 2s 201ms/step - loss: 0.0059 - accuracy: 1.0000 - val_loss: 3.6839 - val_accuracy: 0.6429\n",
            "Epoch 18/50\n",
            "9/9 [==============================] - 2s 204ms/step - loss: 0.0059 - accuracy: 1.0000 - val_loss: 3.6883 - val_accuracy: 0.6429\n",
            "Epoch 19/50\n",
            "9/9 [==============================] - 2s 202ms/step - loss: 0.0057 - accuracy: 1.0000 - val_loss: 3.8412 - val_accuracy: 0.6429\n",
            "Epoch 20/50\n",
            "9/9 [==============================] - 2s 202ms/step - loss: 0.0057 - accuracy: 1.0000 - val_loss: 3.8682 - val_accuracy: 0.6429\n",
            "Epoch 21/50\n",
            "9/9 [==============================] - 2s 198ms/step - loss: 0.0056 - accuracy: 1.0000 - val_loss: 3.8637 - val_accuracy: 0.6429\n",
            "Epoch 22/50\n",
            "9/9 [==============================] - 2s 198ms/step - loss: 0.0056 - accuracy: 1.0000 - val_loss: 3.9143 - val_accuracy: 0.6429\n",
            "Epoch 23/50\n",
            "9/9 [==============================] - 2s 198ms/step - loss: 0.0056 - accuracy: 1.0000 - val_loss: 3.9444 - val_accuracy: 0.6429\n",
            "Epoch 24/50\n",
            "9/9 [==============================] - 2s 200ms/step - loss: 0.0056 - accuracy: 1.0000 - val_loss: 3.9174 - val_accuracy: 0.6429\n",
            "Epoch 25/50\n",
            "9/9 [==============================] - 2s 198ms/step - loss: 0.0055 - accuracy: 1.0000 - val_loss: 3.7819 - val_accuracy: 0.6429\n",
            "Epoch 26/50\n",
            "9/9 [==============================] - 2s 206ms/step - loss: 0.0055 - accuracy: 1.0000 - val_loss: 3.9080 - val_accuracy: 0.6786\n",
            "Epoch 27/50\n",
            "9/9 [==============================] - 2s 200ms/step - loss: 0.0055 - accuracy: 1.0000 - val_loss: 3.9410 - val_accuracy: 0.6786\n",
            "Epoch 28/50\n",
            "9/9 [==============================] - 2s 202ms/step - loss: 0.0054 - accuracy: 1.0000 - val_loss: 3.7424 - val_accuracy: 0.6429\n",
            "Epoch 29/50\n",
            "9/9 [==============================] - 2s 200ms/step - loss: 0.0054 - accuracy: 1.0000 - val_loss: 3.7122 - val_accuracy: 0.6429\n",
            "Epoch 30/50\n",
            "9/9 [==============================] - 2s 209ms/step - loss: 0.0055 - accuracy: 1.0000 - val_loss: 3.7446 - val_accuracy: 0.6786\n",
            "Epoch 31/50\n",
            "9/9 [==============================] - 2s 201ms/step - loss: 0.0053 - accuracy: 1.0000 - val_loss: 3.7763 - val_accuracy: 0.6786\n",
            "Epoch 32/50\n",
            "9/9 [==============================] - 2s 201ms/step - loss: 0.0053 - accuracy: 1.0000 - val_loss: 3.7843 - val_accuracy: 0.6786\n",
            "Epoch 33/50\n",
            "9/9 [==============================] - 2s 198ms/step - loss: 0.0052 - accuracy: 1.0000 - val_loss: 3.7753 - val_accuracy: 0.6429\n",
            "Epoch 34/50\n",
            "9/9 [==============================] - 2s 201ms/step - loss: 0.0052 - accuracy: 1.0000 - val_loss: 3.7550 - val_accuracy: 0.6429\n",
            "Epoch 35/50\n",
            "9/9 [==============================] - 2s 198ms/step - loss: 0.0052 - accuracy: 1.0000 - val_loss: 3.7817 - val_accuracy: 0.6429\n",
            "Epoch 36/50\n",
            "9/9 [==============================] - 2s 199ms/step - loss: 0.0051 - accuracy: 1.0000 - val_loss: 3.9577 - val_accuracy: 0.6429\n",
            "Epoch 37/50\n",
            "9/9 [==============================] - 2s 223ms/step - loss: 0.0051 - accuracy: 1.0000 - val_loss: 3.7910 - val_accuracy: 0.6429\n",
            "Epoch 38/50\n",
            "9/9 [==============================] - 2s 204ms/step - loss: 0.0051 - accuracy: 1.0000 - val_loss: 3.7778 - val_accuracy: 0.6429\n",
            "Epoch 39/50\n",
            "9/9 [==============================] - 2s 198ms/step - loss: 0.0051 - accuracy: 1.0000 - val_loss: 3.8525 - val_accuracy: 0.6429\n",
            "Epoch 40/50\n",
            "9/9 [==============================] - 2s 202ms/step - loss: 0.0050 - accuracy: 1.0000 - val_loss: 3.9672 - val_accuracy: 0.6429\n",
            "Epoch 41/50\n",
            "9/9 [==============================] - 2s 197ms/step - loss: 0.0050 - accuracy: 1.0000 - val_loss: 3.9651 - val_accuracy: 0.6429\n",
            "Epoch 42/50\n",
            "9/9 [==============================] - 2s 199ms/step - loss: 0.0049 - accuracy: 1.0000 - val_loss: 3.8729 - val_accuracy: 0.6429\n",
            "Epoch 43/50\n",
            "9/9 [==============================] - 2s 221ms/step - loss: 0.0049 - accuracy: 1.0000 - val_loss: 3.8519 - val_accuracy: 0.6429\n",
            "Epoch 44/50\n",
            "9/9 [==============================] - 2s 197ms/step - loss: 0.0048 - accuracy: 1.0000 - val_loss: 3.9079 - val_accuracy: 0.6429\n",
            "Epoch 45/50\n",
            "9/9 [==============================] - 2s 199ms/step - loss: 0.0048 - accuracy: 1.0000 - val_loss: 4.0337 - val_accuracy: 0.6786\n",
            "Epoch 46/50\n",
            "9/9 [==============================] - 2s 221ms/step - loss: 0.0048 - accuracy: 1.0000 - val_loss: 4.0343 - val_accuracy: 0.6786\n",
            "Epoch 47/50\n",
            "9/9 [==============================] - 2s 216ms/step - loss: 0.0048 - accuracy: 1.0000 - val_loss: 3.7939 - val_accuracy: 0.6429\n",
            "Epoch 48/50\n",
            "9/9 [==============================] - 2s 200ms/step - loss: 0.0047 - accuracy: 1.0000 - val_loss: 3.7883 - val_accuracy: 0.6429\n",
            "Epoch 49/50\n",
            "9/9 [==============================] - 2s 200ms/step - loss: 0.0048 - accuracy: 1.0000 - val_loss: 3.7465 - val_accuracy: 0.6429\n",
            "Epoch 50/50\n",
            "9/9 [==============================] - 2s 214ms/step - loss: 0.0047 - accuracy: 1.0000 - val_loss: 3.7746 - val_accuracy: 0.6429\n"
          ]
        }
      ]
    },
    {
      "cell_type": "code",
      "source": [
        ""
      ],
      "metadata": {
        "id": "G6lOVCsfglev"
      },
      "execution_count": null,
      "outputs": []
    }
  ],
  "metadata": {
    "colab": {
      "collapsed_sections": [],
      "name": "Tumor_classiffier",
      "provenance": [],
      "authorship_tag": "ABX9TyPpOcMjuQGV7MI5MBr4EEvC",
      "include_colab_link": true
    },
    "kernelspec": {
      "display_name": "Python 3",
      "name": "python3"
    },
    "language_info": {
      "name": "python"
    }
  },
  "nbformat": 4,
  "nbformat_minor": 0
}
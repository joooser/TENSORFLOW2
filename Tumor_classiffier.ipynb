{
  "cells": [
    {
      "cell_type": "markdown",
      "metadata": {
        "id": "view-in-github",
        "colab_type": "text"
      },
      "source": [
        "<a href=\"https://colab.research.google.com/github/joooser/TENSORFLOW2/blob/main/Tumor_classiffier.ipynb\" target=\"_parent\"><img src=\"https://colab.research.google.com/assets/colab-badge.svg\" alt=\"Open In Colab\"/></a>"
      ]
    },
    {
      "cell_type": "code",
      "execution_count": 2,
      "metadata": {
        "id": "9xVOLWnJflLA"
      },
      "outputs": [],
      "source": [
        "import os\n",
        "import zipfile"
      ]
    },
    {
      "cell_type": "code",
      "execution_count": 3,
      "metadata": {
        "colab": {
          "base_uri": "https://localhost:8080/"
        },
        "id": "X0G2iDJiUoBr",
        "outputId": "8d41dee6-3cd5-498f-a689-2db8f3526d50"
      },
      "outputs": [
        {
          "output_type": "stream",
          "name": "stdout",
          "text": [
            "--2022-06-12 19:03:22--  https://storage.googleapis.com/platzi-tf2/TumorClassification.zip\n",
            "Resolving storage.googleapis.com (storage.googleapis.com)... 74.125.201.128, 173.194.196.128, 173.194.197.128, ...\n",
            "Connecting to storage.googleapis.com (storage.googleapis.com)|74.125.201.128|:443... connected.\n",
            "HTTP request sent, awaiting response... 200 OK\n",
            "Length: 7460028 (7.1M) [application/zip]\n",
            "Saving to: ‘/tmp/platzi-tf2/TumorClassification.zip’\n",
            "\n",
            "\r          /tmp/plat   0%[                    ]       0  --.-KB/s               \r/tmp/platzi-tf2/Tum 100%[===================>]   7.11M  --.-KB/s    in 0.05s   \n",
            "\n",
            "2022-06-12 19:03:22 (134 MB/s) - ‘/tmp/platzi-tf2/TumorClassification.zip’ saved [7460028/7460028]\n",
            "\n"
          ]
        }
      ],
      "source": [
        "!wget --no-check-certificate https://storage.googleapis.com/platzi-tf2/TumorClassification.zip \\\n",
        "    -O /tmp/platzi-tf2/TumorClassification.zip"
      ]
    },
    {
      "cell_type": "code",
      "execution_count": 4,
      "metadata": {
        "id": "yIr1bDTAoUaj"
      },
      "outputs": [],
      "source": [
        "local_zip = \"/tmp/platzi-tf2/TumorClassification.zip\"\n",
        "zip_ref = zipfile.ZipFile(local_zip, \"r\")\n",
        "zip_ref.extractall(\"/tmp/platzi-tf2\")\n",
        "zip_ref.close()"
      ]
    },
    {
      "cell_type": "code",
      "execution_count": 5,
      "metadata": {
        "id": "q6waQRSFWCkS"
      },
      "outputs": [],
      "source": [
        "import numpy as np\n",
        "%matplotlib inline\n",
        "import matplotlib.pyplot as plt\n",
        "import matplotlib.image as mpimg\n",
        "import string\n",
        "import tensorflow as tf\n",
        "from tensorflow.keras.preprocessing.image import ImageDataGenerator\n",
        "import requests as requests\n",
        "from PIL import Image\n",
        "from io import BytesIO\n",
        "import codecs\n",
        "import json\n"
      ]
    },
    {
      "cell_type": "code",
      "execution_count": 6,
      "metadata": {
        "id": "5Q3w8L7wS8Dx"
      },
      "outputs": [],
      "source": [
        "train_dir = \"/tmp/platzi-tf2/Train\"\n",
        "test_dir = \"/tmp/platzi-tf2/Test\""
      ]
    },
    {
      "cell_type": "code",
      "execution_count": 7,
      "metadata": {
        "id": "kyIvJTVfTK-I"
      },
      "outputs": [],
      "source": [
        "train_datagen = ImageDataGenerator(rescale = 1/255)\n",
        "test_datagen = ImageDataGenerator(rescale = 1/255, validation_split= 0.2)"
      ]
    },
    {
      "cell_type": "code",
      "execution_count": 8,
      "metadata": {
        "colab": {
          "base_uri": "https://localhost:8080/"
        },
        "id": "tpROJBbsUARV",
        "outputId": "9cfa4f74-d5fb-4899-ab5b-0af0caae0782"
      },
      "outputs": [
        {
          "output_type": "stream",
          "name": "stdout",
          "text": [
            "Found 1050 images belonging to 3 classes.\n",
            "Found 28 images belonging to 3 classes.\n",
            "Found 144 images belonging to 3 classes.\n"
          ]
        }
      ],
      "source": [
        "train_generator = train_datagen.flow_from_directory(\n",
        "    train_dir,\n",
        "    target_size = (28, 28),\n",
        "    batch_size = 128,\n",
        "    class_mode = \"categorical\",\n",
        "    color_mode = \"grayscale\",\n",
        "    subset = \"training\"\n",
        ")\n",
        "\n",
        "validation_generator = test_datagen.flow_from_directory(\n",
        "    test_dir,\n",
        "    target_size = (28, 28),\n",
        "    batch_size = 128,\n",
        "    class_mode = \"categorical\",\n",
        "    color_mode = \"grayscale\",\n",
        "    subset = \"validation\"\n",
        ")\n",
        "\n",
        "test_generator = test_datagen.flow_from_directory(\n",
        "    test_dir,\n",
        "    target_size = (28, 28),\n",
        "    batch_size = 128,\n",
        "    class_mode = \"categorical\",\n",
        "    color_mode = \"grayscale\"\n",
        ")"
      ]
    },
    {
      "cell_type": "code",
      "execution_count": 9,
      "metadata": {
        "id": "l_vpYmjBVi8M"
      },
      "outputs": [],
      "source": [
        "classes = [\"BENIGN\", \"MALIGNANT\", \"NORMAL\"]"
      ]
    },
    {
      "cell_type": "code",
      "execution_count": 10,
      "metadata": {
        "colab": {
          "base_uri": "https://localhost:8080/"
        },
        "id": "eitwx13gWztp",
        "outputId": "98d6aba5-5cb1-4f96-f325-2aca3bc0652b"
      },
      "outputs": [
        {
          "output_type": "execute_result",
          "data": {
            "text/plain": [
              "['BENIGN', 'MALIGNANT', 'NORMAL']"
            ]
          },
          "metadata": {},
          "execution_count": 10
        }
      ],
      "source": [
        "classes"
      ]
    },
    {
      "cell_type": "code",
      "execution_count": 11,
      "metadata": {
        "id": "Q3TLL6PdW2VW"
      },
      "outputs": [],
      "source": [
        "def plotImages(images_arr):\n",
        "  fig, axes = plt.subplots(1, 5, figsize = (10, 10))\n",
        "  axes = axes.flatten()\n",
        "  for img, ax in zip(images_arr, axes):\n",
        "    ax.imshow(img[:,:,0])\n",
        "    ax.axis(\"off\")\n",
        "  plt.tight_layout()\n",
        "  plt.show()"
      ]
    },
    {
      "cell_type": "code",
      "execution_count": 12,
      "metadata": {
        "colab": {
          "base_uri": "https://localhost:8080/",
          "height": 162
        },
        "id": "_lfnXo0eXiPz",
        "outputId": "1f53f073-e23a-4eb7-c196-94eafb95d161"
      },
      "outputs": [
        {
          "output_type": "display_data",
          "data": {
            "text/plain": [
              "<Figure size 720x720 with 5 Axes>"
            ],
            "image/png": "[encoded data removed]"
          },
          "metadata": {
            "needs_background": "light"
          }
        }
      ],
      "source": [
        "sample_training_images, _= next(train_generator)\n",
        "plotImages(sample_training_images[:5])"
      ]
    },
    {
      "cell_type": "code",
      "execution_count": 13,
      "metadata": {
        "id": "TKcuO0UQXpbY"
      },
      "outputs": [],
      "source": [
        "model_base = tf.keras.models.Sequential([\n",
        "              tf.keras.layers.Flatten(input_shape= (28, 28, 1)),\n",
        "              tf.keras.layers.Dense(256, activation = \"relu\"),\n",
        "              tf.keras.layers.Dense(128, activation = \"relu\"),\n",
        "              tf.keras.layers.Dense(len(classes), activation = \"softmax\")\n",
        "])"
      ]
    },
    {
      "cell_type": "code",
      "execution_count": 14,
      "metadata": {
        "colab": {
          "base_uri": "https://localhost:8080/"
        },
        "id": "xQ78pc0kpoal",
        "outputId": "8e29759a-e8a2-4b4a-ee46-fd9f73b11d2d"
      },
      "outputs": [
        {
          "output_type": "stream",
          "name": "stdout",
          "text": [
            "Model: \"sequential\"\n",
            "_________________________________________________________________\n",
            " Layer (type)                Output Shape              Param #   \n",
            "=================================================================\n",
            " flatten (Flatten)           (None, 784)               0         \n",
            "                                                                 \n",
            " dense (Dense)               (None, 256)               200960    \n",
            "                                                                 \n",
            " dense_1 (Dense)             (None, 128)               32896     \n",
            "                                                                 \n",
            " dense_2 (Dense)             (None, 3)                 387       \n",
            "                                                                 \n",
            "=================================================================\n",
            "Total params: 234,243\n",
            "Trainable params: 234,243\n",
            "Non-trainable params: 0\n",
            "_________________________________________________________________\n"
          ]
        }
      ],
      "source": [
        "model_base.summary()"
      ]
    },
    {
      "cell_type": "code",
      "execution_count": 15,
      "metadata": {
        "colab": {
          "base_uri": "https://localhost:8080/"
        },
        "id": "6rYOoteeps10",
        "outputId": "97905829-8145-4f48-c669-4e4900878d6f"
      },
      "outputs": [
        {
          "output_type": "stream",
          "name": "stdout",
          "text": [
            "Epoch 1/50\n",
            "9/9 [==============================] - 2s 99ms/step - loss: 0.9151 - accuracy: 0.5552 - val_loss: 1.0555 - val_accuracy: 0.5357\n",
            "Epoch 2/50\n",
            "9/9 [==============================] - 1s 87ms/step - loss: 0.5515 - accuracy: 0.8029 - val_loss: 1.1309 - val_accuracy: 0.6429\n",
            "Epoch 3/50\n",
            "9/9 [==============================] - 1s 77ms/step - loss: 0.3233 - accuracy: 0.9124 - val_loss: 1.4032 - val_accuracy: 0.6429\n",
            "Epoch 4/50\n",
            "9/9 [==============================] - 1s 77ms/step - loss: 0.2260 - accuracy: 0.9324 - val_loss: 1.5539 - val_accuracy: 0.6429\n",
            "Epoch 5/50\n",
            "9/9 [==============================] - 1s 78ms/step - loss: 0.1550 - accuracy: 0.9619 - val_loss: 1.4343 - val_accuracy: 0.6429\n",
            "Epoch 6/50\n",
            "9/9 [==============================] - 1s 86ms/step - loss: 0.0924 - accuracy: 0.9838 - val_loss: 1.8590 - val_accuracy: 0.6429\n",
            "Epoch 7/50\n",
            "9/9 [==============================] - 1s 86ms/step - loss: 0.0549 - accuracy: 0.9933 - val_loss: 2.4452 - val_accuracy: 0.6429\n",
            "Epoch 8/50\n",
            "9/9 [==============================] - 1s 78ms/step - loss: 0.0314 - accuracy: 0.9990 - val_loss: 2.4710 - val_accuracy: 0.6429\n",
            "Epoch 9/50\n",
            "9/9 [==============================] - 1s 76ms/step - loss: 0.0212 - accuracy: 0.9990 - val_loss: 2.3657 - val_accuracy: 0.6429\n",
            "Epoch 10/50\n",
            "9/9 [==============================] - 1s 77ms/step - loss: 0.0147 - accuracy: 1.0000 - val_loss: 2.6058 - val_accuracy: 0.6429\n",
            "Epoch 11/50\n",
            "9/9 [==============================] - 1s 75ms/step - loss: 0.0107 - accuracy: 1.0000 - val_loss: 2.5101 - val_accuracy: 0.6429\n",
            "Epoch 12/50\n",
            "9/9 [==============================] - 1s 87ms/step - loss: 0.0077 - accuracy: 1.0000 - val_loss: 2.8280 - val_accuracy: 0.6429\n",
            "Epoch 13/50\n",
            "9/9 [==============================] - 1s 78ms/step - loss: 0.0058 - accuracy: 1.0000 - val_loss: 2.7199 - val_accuracy: 0.6429\n",
            "Epoch 14/50\n",
            "9/9 [==============================] - 1s 78ms/step - loss: 0.0048 - accuracy: 1.0000 - val_loss: 2.9324 - val_accuracy: 0.6429\n",
            "Epoch 15/50\n",
            "9/9 [==============================] - 1s 75ms/step - loss: 0.0039 - accuracy: 1.0000 - val_loss: 2.8374 - val_accuracy: 0.6429\n",
            "Epoch 16/50\n",
            "9/9 [==============================] - 1s 76ms/step - loss: 0.0033 - accuracy: 1.0000 - val_loss: 2.9604 - val_accuracy: 0.6429\n",
            "Epoch 17/50\n",
            "9/9 [==============================] - 1s 79ms/step - loss: 0.0030 - accuracy: 1.0000 - val_loss: 3.0076 - val_accuracy: 0.6429\n",
            "Epoch 18/50\n",
            "9/9 [==============================] - 1s 74ms/step - loss: 0.0027 - accuracy: 1.0000 - val_loss: 3.0582 - val_accuracy: 0.6786\n",
            "Epoch 19/50\n",
            "9/9 [==============================] - 1s 75ms/step - loss: 0.0024 - accuracy: 1.0000 - val_loss: 3.0463 - val_accuracy: 0.6429\n",
            "Epoch 20/50\n",
            "9/9 [==============================] - 1s 76ms/step - loss: 0.0021 - accuracy: 1.0000 - val_loss: 3.0774 - val_accuracy: 0.6429\n",
            "Epoch 21/50\n",
            "9/9 [==============================] - 1s 78ms/step - loss: 0.0018 - accuracy: 1.0000 - val_loss: 3.0993 - val_accuracy: 0.6429\n",
            "Epoch 22/50\n",
            "9/9 [==============================] - 1s 85ms/step - loss: 0.0016 - accuracy: 1.0000 - val_loss: 3.1370 - val_accuracy: 0.6429\n",
            "Epoch 23/50\n",
            "9/9 [==============================] - 1s 78ms/step - loss: 0.0015 - accuracy: 1.0000 - val_loss: 3.2093 - val_accuracy: 0.6429\n",
            "Epoch 24/50\n",
            "9/9 [==============================] - 1s 78ms/step - loss: 0.0013 - accuracy: 1.0000 - val_loss: 3.2222 - val_accuracy: 0.6429\n",
            "Epoch 25/50\n",
            "9/9 [==============================] - 1s 76ms/step - loss: 0.0012 - accuracy: 1.0000 - val_loss: 3.2587 - val_accuracy: 0.6429\n",
            "Epoch 26/50\n",
            "9/9 [==============================] - 1s 76ms/step - loss: 0.0011 - accuracy: 1.0000 - val_loss: 3.2172 - val_accuracy: 0.6429\n",
            "Epoch 27/50\n",
            "9/9 [==============================] - 1s 96ms/step - loss: 9.8264e-04 - accuracy: 1.0000 - val_loss: 3.2867 - val_accuracy: 0.6429\n",
            "Epoch 28/50\n",
            "9/9 [==============================] - 1s 100ms/step - loss: 8.8934e-04 - accuracy: 1.0000 - val_loss: 3.3288 - val_accuracy: 0.6429\n",
            "Epoch 29/50\n",
            "9/9 [==============================] - 1s 83ms/step - loss: 8.1185e-04 - accuracy: 1.0000 - val_loss: 3.3507 - val_accuracy: 0.6429\n",
            "Epoch 30/50\n",
            "9/9 [==============================] - 1s 77ms/step - loss: 7.4544e-04 - accuracy: 1.0000 - val_loss: 3.3460 - val_accuracy: 0.6429\n",
            "Epoch 31/50\n",
            "9/9 [==============================] - 1s 79ms/step - loss: 6.8356e-04 - accuracy: 1.0000 - val_loss: 3.4085 - val_accuracy: 0.6429\n",
            "Epoch 32/50\n",
            "9/9 [==============================] - 1s 81ms/step - loss: 6.2121e-04 - accuracy: 1.0000 - val_loss: 3.4500 - val_accuracy: 0.6429\n",
            "Epoch 33/50\n",
            "9/9 [==============================] - 1s 76ms/step - loss: 5.7309e-04 - accuracy: 1.0000 - val_loss: 3.4427 - val_accuracy: 0.6429\n",
            "Epoch 34/50\n",
            "9/9 [==============================] - 1s 78ms/step - loss: 5.2582e-04 - accuracy: 1.0000 - val_loss: 3.4599 - val_accuracy: 0.6429\n",
            "Epoch 35/50\n",
            "9/9 [==============================] - 1s 76ms/step - loss: 4.8315e-04 - accuracy: 1.0000 - val_loss: 3.4979 - val_accuracy: 0.6429\n",
            "Epoch 36/50\n",
            "9/9 [==============================] - 1s 79ms/step - loss: 4.4073e-04 - accuracy: 1.0000 - val_loss: 3.5249 - val_accuracy: 0.6429\n",
            "Epoch 37/50\n",
            "9/9 [==============================] - 1s 79ms/step - loss: 4.1066e-04 - accuracy: 1.0000 - val_loss: 3.5444 - val_accuracy: 0.6429\n",
            "Epoch 38/50\n",
            "9/9 [==============================] - 1s 79ms/step - loss: 3.7809e-04 - accuracy: 1.0000 - val_loss: 3.5493 - val_accuracy: 0.6429\n",
            "Epoch 39/50\n",
            "9/9 [==============================] - 1s 75ms/step - loss: 3.5133e-04 - accuracy: 1.0000 - val_loss: 3.5928 - val_accuracy: 0.6429\n",
            "Epoch 40/50\n",
            "9/9 [==============================] - 1s 77ms/step - loss: 3.2489e-04 - accuracy: 1.0000 - val_loss: 3.5951 - val_accuracy: 0.6429\n",
            "Epoch 41/50\n",
            "9/9 [==============================] - 1s 82ms/step - loss: 3.0309e-04 - accuracy: 1.0000 - val_loss: 3.6081 - val_accuracy: 0.6429\n",
            "Epoch 42/50\n",
            "9/9 [==============================] - 1s 80ms/step - loss: 2.8396e-04 - accuracy: 1.0000 - val_loss: 3.6438 - val_accuracy: 0.6429\n",
            "Epoch 43/50\n",
            "9/9 [==============================] - 1s 79ms/step - loss: 2.6760e-04 - accuracy: 1.0000 - val_loss: 3.6770 - val_accuracy: 0.6429\n",
            "Epoch 44/50\n",
            "9/9 [==============================] - 1s 77ms/step - loss: 2.5242e-04 - accuracy: 1.0000 - val_loss: 3.6844 - val_accuracy: 0.6429\n",
            "Epoch 45/50\n",
            "9/9 [==============================] - 1s 79ms/step - loss: 2.3637e-04 - accuracy: 1.0000 - val_loss: 3.6851 - val_accuracy: 0.6429\n",
            "Epoch 46/50\n",
            "9/9 [==============================] - 1s 81ms/step - loss: 2.2364e-04 - accuracy: 1.0000 - val_loss: 3.6901 - val_accuracy: 0.6429\n",
            "Epoch 47/50\n",
            "9/9 [==============================] - 1s 77ms/step - loss: 2.0932e-04 - accuracy: 1.0000 - val_loss: 3.7161 - val_accuracy: 0.6429\n",
            "Epoch 48/50\n",
            "9/9 [==============================] - 1s 127ms/step - loss: 1.9666e-04 - accuracy: 1.0000 - val_loss: 3.7210 - val_accuracy: 0.6429\n",
            "Epoch 49/50\n",
            "9/9 [==============================] - 1s 79ms/step - loss: 1.8721e-04 - accuracy: 1.0000 - val_loss: 3.7306 - val_accuracy: 0.6429\n",
            "Epoch 50/50\n",
            "9/9 [==============================] - 1s 127ms/step - loss: 1.7774e-04 - accuracy: 1.0000 - val_loss: 3.7514 - val_accuracy: 0.6429\n"
          ]
        }
      ],
      "source": [
        "model_base.compile(optimizer = \"adam\", loss = \"categorical_crossentropy\", metrics = ['accuracy'])\n",
        "\n",
        "\n",
        "history = model_base.fit(\n",
        "    train_generator, \n",
        "    epochs= 50, \n",
        "    validation_data = validation_generator\n",
        ")"
      ]
    },
    {
      "cell_type": "code",
      "execution_count": 16,
      "metadata": {
        "colab": {
          "base_uri": "https://localhost:8080/"
        },
        "id": "Tw71zpMBqeKT",
        "outputId": "1bb0927b-839b-44af-8fd3-792f095c7408"
      },
      "outputs": [
        {
          "output_type": "stream",
          "name": "stdout",
          "text": [
            "2/2 [==============================] - 0s 22ms/step - loss: 4.0208 - accuracy: 0.5833\n"
          ]
        }
      ],
      "source": [
        "results = model_base.evaluate(test_generator)"
      ]
    },
    {
      "cell_type": "code",
      "execution_count": 17,
      "metadata": {
        "id": "y9J-Gl8JrzS2"
      },
      "outputs": [],
      "source": [
        "def visualizacion_resultados(history):\n",
        "  epochs = [i for i in range(50)]\n",
        "  fig, ax = plt.subplots(1,2)\n",
        "  train_acc = history.history[\"accuracy\"]\n",
        "  train_loss = history.history[\"loss\"]\n",
        "  val_acc = history.history[\"val_accuracy\"]\n",
        "  val_loss = history.history[\"val_loss\"]\n",
        "  fig.set_size_inches(16, 9)\n",
        "\n",
        "  ax[0].plot(epochs, train_acc, \"go-\", label =\" Entrenamiento accuracy\")\n",
        "  ax[0].plot(epochs, val_acc, \"ro-\", label= \"Validacion accuracy\")\n",
        "  ax[0].set_title(\"Entrenamiento & validación accuracy\")\n",
        "  ax[0].legend()\n",
        "  ax[0].set_xlabel(\"Epochs\")\n",
        "  ax[0].set_ylabel(\"Accuracy\")\n",
        "\n",
        "  ax[1].plot(epochs, train_loss, \"go-\", label =\" Entrenamiento Loss\")\n",
        "  ax[1].plot(epochs, val_loss, \"ro-\", label= \"Validacion Loss\")\n",
        "  ax[1].set_title(\"Entrenamiento & validación Loss\")\n",
        "  ax[1].legend()\n",
        "  ax[1].set_xlabel(\"Epochs\")\n",
        "  ax[1].set_ylabel(\"Loss\")\n",
        "\n",
        "  plt.show()"
      ]
    },
    {
      "cell_type": "code",
      "execution_count": 18,
      "metadata": {
        "colab": {
          "base_uri": "https://localhost:8080/",
          "height": 567
        },
        "id": "rAPEeUN5fnGW",
        "outputId": "fb95eb69-9aad-4851-eefa-ee8d673f8906"
      },
      "outputs": [
        {
          "output_type": "display_data",
          "data": {
            "text/plain": [
              "<Figure size 1152x648 with 2 Axes>"
            ],
            "image/png": "[encoded data removed]"
          },
          "metadata": {
            "needs_background": "light"
          }
        }
      ],
      "source": [
        "visualizacion_resultados(history)"
      ]
    },
    {
      "cell_type": "code",
      "execution_count": 19,
      "metadata": {
        "id": "0E01n8rygpjj"
      },
      "outputs": [],
      "source": [
        "from tensorflow.keras import regularizers"
      ]
    },
    {
      "cell_type": "code",
      "execution_count": 20,
      "metadata": {
        "colab": {
          "base_uri": "https://localhost:8080/"
        },
        "id": "-fyzSQlVjISa",
        "outputId": "2709ac2f-c5cb-4f0d-ed5c-4bda0b049a74"
      },
      "outputs": [
        {
          "output_type": "stream",
          "name": "stdout",
          "text": [
            "Model: \"sequential_1\"\n",
            "_________________________________________________________________\n",
            " Layer (type)                Output Shape              Param #   \n",
            "=================================================================\n",
            " flatten_1 (Flatten)         (None, 784)               0         \n",
            "                                                                 \n",
            " dense_3 (Dense)             (None, 256)               200960    \n",
            "                                                                 \n",
            " dropout (Dropout)           (None, 256)               0         \n",
            "                                                                 \n",
            " dense_4 (Dense)             (None, 128)               32896     \n",
            "                                                                 \n",
            " dropout_1 (Dropout)         (None, 128)               0         \n",
            "                                                                 \n",
            " dense_5 (Dense)             (None, 3)                 387       \n",
            "                                                                 \n",
            "=================================================================\n",
            "Total params: 234,243\n",
            "Trainable params: 234,243\n",
            "Non-trainable params: 0\n",
            "_________________________________________________________________\n"
          ]
        }
      ],
      "source": [
        "model_optimizer = tf.keras.models.Sequential([\n",
        "              tf.keras.layers.Flatten(input_shape= (28, 28, 1)),\n",
        "              tf.keras.layers.Dense(256, kernel_regularizer = regularizers.l2(1e-5), activation = \"softmax\"),\n",
        "              tf.keras.layers.Dropout(0.2),\n",
        "              tf.keras.layers.Dense(128, kernel_regularizer= regularizers.l2(1e-5),activation = \"softmax\"),\n",
        "              tf.keras.layers.Dropout(0.2),\n",
        "              tf.keras.layers.Dense(len(classes), activation = \"sigmoid\")\n",
        "])\n",
        "\n",
        "model_optimizer.summary()"
      ]
    },
    {
      "cell_type": "code",
      "execution_count": 21,
      "metadata": {
        "colab": {
          "base_uri": "https://localhost:8080/"
        },
        "id": "MOpd-XEbjLEB",
        "outputId": "62c3de02-829f-4f78-d575-9e9833d9cfcf"
      },
      "outputs": [
        {
          "output_type": "stream",
          "name": "stdout",
          "text": [
            "Epoch 1/50\n",
            "9/9 [==============================] - 2s 101ms/step - loss: 1.1041 - accuracy: 0.3286 - val_loss: 1.1025 - val_accuracy: 0.3929\n",
            "Epoch 2/50\n",
            "9/9 [==============================] - 1s 83ms/step - loss: 1.1032 - accuracy: 0.3314 - val_loss: 1.1019 - val_accuracy: 0.3929\n",
            "Epoch 3/50\n",
            "9/9 [==============================] - 1s 77ms/step - loss: 1.1023 - accuracy: 0.3324 - val_loss: 1.1010 - val_accuracy: 0.3929\n",
            "Epoch 4/50\n",
            "9/9 [==============================] - 1s 79ms/step - loss: 1.1012 - accuracy: 0.3476 - val_loss: 1.0996 - val_accuracy: 0.3929\n",
            "Epoch 5/50\n",
            "9/9 [==============================] - 1s 78ms/step - loss: 1.1000 - accuracy: 0.3486 - val_loss: 1.0986 - val_accuracy: 0.3929\n",
            "Epoch 6/50\n",
            "9/9 [==============================] - 1s 78ms/step - loss: 1.0990 - accuracy: 0.3410 - val_loss: 1.0977 - val_accuracy: 0.3929\n",
            "Epoch 7/50\n",
            "9/9 [==============================] - 1s 76ms/step - loss: 1.0978 - accuracy: 0.3505 - val_loss: 1.0967 - val_accuracy: 0.3929\n",
            "Epoch 8/50\n",
            "9/9 [==============================] - 1s 83ms/step - loss: 1.0969 - accuracy: 0.3495 - val_loss: 1.0963 - val_accuracy: 0.3929\n",
            "Epoch 9/50\n",
            "9/9 [==============================] - 1s 76ms/step - loss: 1.0956 - accuracy: 0.3724 - val_loss: 1.0954 - val_accuracy: 0.3929\n",
            "Epoch 10/50\n",
            "9/9 [==============================] - 1s 77ms/step - loss: 1.0944 - accuracy: 0.4695 - val_loss: 1.0952 - val_accuracy: 0.6071\n",
            "Epoch 11/50\n",
            "9/9 [==============================] - 1s 78ms/step - loss: 1.0930 - accuracy: 0.6181 - val_loss: 1.0950 - val_accuracy: 0.5714\n",
            "Epoch 12/50\n",
            "9/9 [==============================] - 1s 79ms/step - loss: 1.0917 - accuracy: 0.6467 - val_loss: 1.0942 - val_accuracy: 0.6429\n",
            "Epoch 13/50\n",
            "9/9 [==============================] - 1s 81ms/step - loss: 1.0894 - accuracy: 0.7057 - val_loss: 1.0936 - val_accuracy: 0.5714\n",
            "Epoch 14/50\n",
            "9/9 [==============================] - 1s 78ms/step - loss: 1.0886 - accuracy: 0.6924 - val_loss: 1.0924 - val_accuracy: 0.6429\n",
            "Epoch 15/50\n",
            "9/9 [==============================] - 1s 79ms/step - loss: 1.0868 - accuracy: 0.7171 - val_loss: 1.0914 - val_accuracy: 0.6429\n",
            "Epoch 16/50\n",
            "9/9 [==============================] - 1s 77ms/step - loss: 1.0840 - accuracy: 0.7476 - val_loss: 1.0902 - val_accuracy: 0.6429\n",
            "Epoch 17/50\n",
            "9/9 [==============================] - 1s 77ms/step - loss: 1.0828 - accuracy: 0.7362 - val_loss: 1.0890 - val_accuracy: 0.6429\n",
            "Epoch 18/50\n",
            "9/9 [==============================] - 1s 77ms/step - loss: 1.0795 - accuracy: 0.7581 - val_loss: 1.0878 - val_accuracy: 0.6429\n",
            "Epoch 19/50\n",
            "9/9 [==============================] - 1s 77ms/step - loss: 1.0770 - accuracy: 0.7695 - val_loss: 1.0862 - val_accuracy: 0.6429\n",
            "Epoch 20/50\n",
            "9/9 [==============================] - 1s 77ms/step - loss: 1.0746 - accuracy: 0.7714 - val_loss: 1.0854 - val_accuracy: 0.6429\n",
            "Epoch 21/50\n",
            "9/9 [==============================] - 1s 79ms/step - loss: 1.0708 - accuracy: 0.7771 - val_loss: 1.0833 - val_accuracy: 0.6429\n",
            "Epoch 22/50\n",
            "9/9 [==============================] - 1s 76ms/step - loss: 1.0669 - accuracy: 0.8000 - val_loss: 1.0820 - val_accuracy: 0.6429\n",
            "Epoch 23/50\n",
            "9/9 [==============================] - 1s 80ms/step - loss: 1.0638 - accuracy: 0.7886 - val_loss: 1.0805 - val_accuracy: 0.6429\n",
            "Epoch 24/50\n",
            "9/9 [==============================] - 1s 78ms/step - loss: 1.0595 - accuracy: 0.7962 - val_loss: 1.0784 - val_accuracy: 0.6429\n",
            "Epoch 25/50\n",
            "9/9 [==============================] - 1s 76ms/step - loss: 1.0557 - accuracy: 0.8143 - val_loss: 1.0766 - val_accuracy: 0.6429\n",
            "Epoch 26/50\n",
            "9/9 [==============================] - 1s 77ms/step - loss: 1.0498 - accuracy: 0.8067 - val_loss: 1.0751 - val_accuracy: 0.6429\n",
            "Epoch 27/50\n",
            "9/9 [==============================] - 1s 75ms/step - loss: 1.0462 - accuracy: 0.8000 - val_loss: 1.0728 - val_accuracy: 0.6429\n",
            "Epoch 28/50\n",
            "9/9 [==============================] - 1s 79ms/step - loss: 1.0407 - accuracy: 0.8181 - val_loss: 1.0710 - val_accuracy: 0.6429\n",
            "Epoch 29/50\n",
            "9/9 [==============================] - 1s 75ms/step - loss: 1.0345 - accuracy: 0.8190 - val_loss: 1.0681 - val_accuracy: 0.6429\n",
            "Epoch 30/50\n",
            "9/9 [==============================] - 1s 78ms/step - loss: 1.0297 - accuracy: 0.8086 - val_loss: 1.0659 - val_accuracy: 0.6429\n",
            "Epoch 31/50\n",
            "9/9 [==============================] - 1s 80ms/step - loss: 1.0251 - accuracy: 0.8143 - val_loss: 1.0631 - val_accuracy: 0.6429\n",
            "Epoch 32/50\n",
            "9/9 [==============================] - 1s 86ms/step - loss: 1.0149 - accuracy: 0.8400 - val_loss: 1.0614 - val_accuracy: 0.6429\n",
            "Epoch 33/50\n",
            "9/9 [==============================] - 1s 77ms/step - loss: 1.0116 - accuracy: 0.8124 - val_loss: 1.0606 - val_accuracy: 0.6429\n",
            "Epoch 34/50\n",
            "9/9 [==============================] - 1s 78ms/step - loss: 1.0029 - accuracy: 0.8381 - val_loss: 1.0563 - val_accuracy: 0.6429\n",
            "Epoch 35/50\n",
            "9/9 [==============================] - 1s 78ms/step - loss: 0.9971 - accuracy: 0.8267 - val_loss: 1.0539 - val_accuracy: 0.6429\n",
            "Epoch 36/50\n",
            "9/9 [==============================] - 1s 91ms/step - loss: 0.9874 - accuracy: 0.8410 - val_loss: 1.0531 - val_accuracy: 0.6429\n",
            "Epoch 37/50\n",
            "9/9 [==============================] - 1s 84ms/step - loss: 0.9821 - accuracy: 0.8276 - val_loss: 1.0491 - val_accuracy: 0.6429\n",
            "Epoch 38/50\n",
            "9/9 [==============================] - 1s 79ms/step - loss: 0.9713 - accuracy: 0.8429 - val_loss: 1.0461 - val_accuracy: 0.6429\n",
            "Epoch 39/50\n",
            "9/9 [==============================] - 1s 84ms/step - loss: 0.9679 - accuracy: 0.8181 - val_loss: 1.0434 - val_accuracy: 0.6429\n",
            "Epoch 40/50\n",
            "9/9 [==============================] - 1s 78ms/step - loss: 0.9528 - accuracy: 0.8381 - val_loss: 1.0408 - val_accuracy: 0.6071\n",
            "Epoch 41/50\n",
            "9/9 [==============================] - 1s 78ms/step - loss: 0.9477 - accuracy: 0.8467 - val_loss: 1.0384 - val_accuracy: 0.6071\n",
            "Epoch 42/50\n",
            "9/9 [==============================] - 1s 79ms/step - loss: 0.9387 - accuracy: 0.8333 - val_loss: 1.0355 - val_accuracy: 0.6429\n",
            "Epoch 43/50\n",
            "9/9 [==============================] - 1s 75ms/step - loss: 0.9343 - accuracy: 0.8257 - val_loss: 1.0293 - val_accuracy: 0.6071\n",
            "Epoch 44/50\n",
            "9/9 [==============================] - 1s 78ms/step - loss: 0.9250 - accuracy: 0.8286 - val_loss: 1.0251 - val_accuracy: 0.6071\n",
            "Epoch 45/50\n",
            "9/9 [==============================] - 1s 78ms/step - loss: 0.9148 - accuracy: 0.8400 - val_loss: 1.0230 - val_accuracy: 0.6071\n",
            "Epoch 46/50\n",
            "9/9 [==============================] - 1s 77ms/step - loss: 0.9002 - accuracy: 0.8476 - val_loss: 1.0185 - val_accuracy: 0.6071\n",
            "Epoch 47/50\n",
            "9/9 [==============================] - 1s 78ms/step - loss: 0.8936 - accuracy: 0.8390 - val_loss: 1.0135 - val_accuracy: 0.6071\n",
            "Epoch 48/50\n",
            "9/9 [==============================] - 1s 77ms/step - loss: 0.8769 - accuracy: 0.8533 - val_loss: 1.0075 - val_accuracy: 0.6071\n",
            "Epoch 49/50\n",
            "9/9 [==============================] - 1s 78ms/step - loss: 0.8805 - accuracy: 0.8295 - val_loss: 1.0068 - val_accuracy: 0.6429\n",
            "Epoch 50/50\n",
            "9/9 [==============================] - 1s 78ms/step - loss: 0.8624 - accuracy: 0.8314 - val_loss: 1.0062 - val_accuracy: 0.6071\n"
          ]
        }
      ],
      "source": [
        "model_optimizer.compile(optimizer= \"adam\", loss = \"categorical_crossentropy\", metrics = [\"accuracy\"])\n",
        "\n",
        "history_optimizer = model_optimizer.fit(\n",
        "    train_generator,\n",
        "    epochs = 50,\n",
        "    validation_data = validation_generator\n",
        ")"
      ]
    },
    {
      "cell_type": "code",
      "execution_count": 22,
      "metadata": {
        "colab": {
          "base_uri": "https://localhost:8080/",
          "height": 567
        },
        "id": "v99AFs5SjTSN",
        "outputId": "b1777f91-b8af-4651-9df2-cd51cf6f6a37"
      },
      "outputs": [
        {
          "output_type": "display_data",
          "data": {
            "text/plain": [
              "<Figure size 1152x648 with 2 Axes>"
            ],
            "image/png": "[encoded data removed]"
          },
          "metadata": {
            "needs_background": "light"
          }
        }
      ],
      "source": [
        "def visualizacion_resultados(history):\n",
        "  epochs = [i for i in range(50)]\n",
        "  fig, ax = plt.subplots(1,2)\n",
        "  train_acc = history.history[\"accuracy\"]\n",
        "  train_loss = history.history[\"loss\"]\n",
        "  val_acc = history.history[\"val_accuracy\"]\n",
        "  val_loss = history.history[\"val_loss\"]\n",
        "  fig.set_size_inches(16, 9)\n",
        "\n",
        "  ax[0].plot(epochs, train_acc, \"go-\", label =\" Entrenamiento accuracy\")\n",
        "  ax[0].plot(epochs, val_acc, \"ro-\", label= \"Validacion accuracy\")\n",
        "  ax[0].set_title(\"Entrenamiento & validación accuracy\")\n",
        "  ax[0].legend()\n",
        "  ax[0].set_xlabel(\"Epochs\")\n",
        "  ax[0].set_ylabel(\"Accuracy\")\n",
        "\n",
        "  ax[1].plot(epochs, train_loss, \"go-\", label =\" Entrenamiento Loss\")\n",
        "  ax[1].plot(epochs, val_loss, \"ro-\", label= \"Validacion Loss\")\n",
        "  ax[1].set_title(\"Entrenamiento & validación Loss\")\n",
        "  ax[1].legend()\n",
        "  ax[1].set_xlabel(\"Epochs\")\n",
        "  ax[1].set_ylabel(\"Loss\")\n",
        "\n",
        "  plt.show()\n",
        "\n",
        "visualizacion_resultados(history_optimizer)"
      ]
    },
    {
      "cell_type": "markdown",
      "source": [
        "convoluciones\n"
      ],
      "metadata": {
        "id": "sQ1Kk29NWccM"
      }
    },
    {
      "cell_type": "code",
      "source": [
        "model_convolutional = tf.keras.models.Sequential([\n",
        "              tf.keras.layers.Conv2D(75, (3,3), activation = \"relu\", input_shape= (28, 28, 1)),\n",
        "              tf.keras.layers.MaxPool2D((2,2)),\n",
        "              tf.keras.layers.Flatten(),\n",
        "              tf.keras.layers.Dense(256, kernel_regularizer = regularizers.l2(1e-5), activation = \"relu\"),\n",
        "              tf.keras.layers.Dropout(0.2),\n",
        "              tf.keras.layers.Dense(128, kernel_regularizer= regularizers.l2(1e-5),activation = \"relu\"),\n",
        "              tf.keras.layers.Dropout(0.2),\n",
        "              tf.keras.layers.Dense(len(classes), activation = \"softmax\")\n",
        "])\n",
        "\n",
        "model_convolutional.summary()\n",
        "\n",
        "model_convolutional.compile(optimizer= \"adam\", loss = \"categorical_crossentropy\", metrics = [\"accuracy\"])\n",
        "\n",
        "history_convolutional = model_convolutional.fit(\n",
        "    train_generator,\n",
        "    epochs = 50,\n",
        "    validation_data = validation_generator\n",
        ")"
      ],
      "metadata": {
        "colab": {
          "base_uri": "https://localhost:8080/"
        },
        "id": "WGzSIq-SWgLk",
        "outputId": "542d5054-b984-4f04-bcf6-631bcd1d9479"
      },
      "execution_count": 23,
      "outputs": [
        {
          "output_type": "stream",
          "name": "stdout",
          "text": [
            "Model: \"sequential_2\"\n",
            "_________________________________________________________________\n",
            " Layer (type)                Output Shape              Param #   \n",
            "=================================================================\n",
            " conv2d (Conv2D)             (None, 26, 26, 75)        750       \n",
            "                                                                 \n",
            " max_pooling2d (MaxPooling2D  (None, 13, 13, 75)       0         \n",
            " )                                                               \n",
            "                                                                 \n",
            " flatten_2 (Flatten)         (None, 12675)             0         \n",
            "                                                                 \n",
            " dense_6 (Dense)             (None, 256)               3245056   \n",
            "                                                                 \n",
            " dropout_2 (Dropout)         (None, 256)               0         \n",
            "                                                                 \n",
            " dense_7 (Dense)             (None, 128)               32896     \n",
            "                                                                 \n",
            " dropout_3 (Dropout)         (None, 128)               0         \n",
            "                                                                 \n",
            " dense_8 (Dense)             (None, 3)                 387       \n",
            "                                                                 \n",
            "=================================================================\n",
            "Total params: 3,279,089\n",
            "Trainable params: 3,279,089\n",
            "Non-trainable params: 0\n",
            "_________________________________________________________________\n",
            "Epoch 1/50\n",
            "9/9 [==============================] - 3s 278ms/step - loss: 1.0878 - accuracy: 0.4419 - val_loss: 1.0377 - val_accuracy: 0.4286\n",
            "Epoch 2/50\n",
            "9/9 [==============================] - 2s 230ms/step - loss: 0.8346 - accuracy: 0.6105 - val_loss: 1.1331 - val_accuracy: 0.5357\n",
            "Epoch 3/50\n",
            "9/9 [==============================] - 2s 232ms/step - loss: 0.6380 - accuracy: 0.7362 - val_loss: 1.4103 - val_accuracy: 0.5714\n",
            "Epoch 4/50\n",
            "9/9 [==============================] - 3s 279ms/step - loss: 0.4538 - accuracy: 0.8333 - val_loss: 1.8062 - val_accuracy: 0.6429\n",
            "Epoch 5/50\n",
            "9/9 [==============================] - 2s 236ms/step - loss: 0.3126 - accuracy: 0.8952 - val_loss: 1.8999 - val_accuracy: 0.6429\n",
            "Epoch 6/50\n",
            "9/9 [==============================] - 2s 242ms/step - loss: 0.1857 - accuracy: 0.9390 - val_loss: 2.4078 - val_accuracy: 0.6429\n",
            "Epoch 7/50\n",
            "9/9 [==============================] - 2s 236ms/step - loss: 0.1186 - accuracy: 0.9667 - val_loss: 2.5357 - val_accuracy: 0.6429\n",
            "Epoch 8/50\n",
            "9/9 [==============================] - 2s 238ms/step - loss: 0.0812 - accuracy: 0.9810 - val_loss: 2.7390 - val_accuracy: 0.6429\n",
            "Epoch 9/50\n",
            "9/9 [==============================] - 2s 233ms/step - loss: 0.0523 - accuracy: 0.9924 - val_loss: 2.7928 - val_accuracy: 0.6429\n",
            "Epoch 10/50\n",
            "9/9 [==============================] - 2s 259ms/step - loss: 0.0368 - accuracy: 0.9943 - val_loss: 2.5828 - val_accuracy: 0.6429\n",
            "Epoch 11/50\n",
            "9/9 [==============================] - 2s 232ms/step - loss: 0.0316 - accuracy: 0.9962 - val_loss: 2.8852 - val_accuracy: 0.6429\n",
            "Epoch 12/50\n",
            "9/9 [==============================] - 2s 237ms/step - loss: 0.0216 - accuracy: 0.9971 - val_loss: 2.9849 - val_accuracy: 0.6429\n",
            "Epoch 13/50\n",
            "9/9 [==============================] - 2s 238ms/step - loss: 0.0194 - accuracy: 1.0000 - val_loss: 3.0437 - val_accuracy: 0.6429\n",
            "Epoch 14/50\n",
            "9/9 [==============================] - 2s 230ms/step - loss: 0.0159 - accuracy: 0.9990 - val_loss: 3.1647 - val_accuracy: 0.6429\n",
            "Epoch 15/50\n",
            "9/9 [==============================] - 2s 235ms/step - loss: 0.0132 - accuracy: 0.9990 - val_loss: 3.4342 - val_accuracy: 0.6429\n",
            "Epoch 16/50\n",
            "9/9 [==============================] - 2s 232ms/step - loss: 0.0113 - accuracy: 1.0000 - val_loss: 3.5014 - val_accuracy: 0.6429\n",
            "Epoch 17/50\n",
            "9/9 [==============================] - 2s 233ms/step - loss: 0.0109 - accuracy: 1.0000 - val_loss: 3.6130 - val_accuracy: 0.6429\n",
            "Epoch 18/50\n",
            "9/9 [==============================] - 2s 235ms/step - loss: 0.0102 - accuracy: 1.0000 - val_loss: 3.5601 - val_accuracy: 0.6429\n",
            "Epoch 19/50\n",
            "9/9 [==============================] - 2s 254ms/step - loss: 0.0094 - accuracy: 1.0000 - val_loss: 3.5607 - val_accuracy: 0.6429\n",
            "Epoch 20/50\n",
            "9/9 [==============================] - 2s 235ms/step - loss: 0.0100 - accuracy: 1.0000 - val_loss: 3.6096 - val_accuracy: 0.6429\n",
            "Epoch 21/50\n",
            "9/9 [==============================] - 2s 236ms/step - loss: 0.0098 - accuracy: 1.0000 - val_loss: 3.7015 - val_accuracy: 0.6429\n",
            "Epoch 22/50\n",
            "9/9 [==============================] - 2s 240ms/step - loss: 0.0093 - accuracy: 1.0000 - val_loss: 3.6769 - val_accuracy: 0.6429\n",
            "Epoch 23/50\n",
            "9/9 [==============================] - 2s 229ms/step - loss: 0.0093 - accuracy: 1.0000 - val_loss: 3.7389 - val_accuracy: 0.6429\n",
            "Epoch 24/50\n",
            "9/9 [==============================] - 2s 229ms/step - loss: 0.0097 - accuracy: 1.0000 - val_loss: 3.7204 - val_accuracy: 0.6429\n",
            "Epoch 25/50\n",
            "9/9 [==============================] - 2s 234ms/step - loss: 0.0086 - accuracy: 1.0000 - val_loss: 3.8361 - val_accuracy: 0.6429\n",
            "Epoch 26/50\n",
            "9/9 [==============================] - 2s 229ms/step - loss: 0.0088 - accuracy: 1.0000 - val_loss: 3.8318 - val_accuracy: 0.6429\n",
            "Epoch 27/50\n",
            "9/9 [==============================] - 2s 239ms/step - loss: 0.0095 - accuracy: 0.9990 - val_loss: 3.7586 - val_accuracy: 0.6429\n",
            "Epoch 28/50\n",
            "9/9 [==============================] - 3s 365ms/step - loss: 0.0081 - accuracy: 1.0000 - val_loss: 3.7933 - val_accuracy: 0.6786\n",
            "Epoch 29/50\n",
            "9/9 [==============================] - 2s 238ms/step - loss: 0.0085 - accuracy: 1.0000 - val_loss: 3.6713 - val_accuracy: 0.6429\n",
            "Epoch 30/50\n",
            "9/9 [==============================] - 2s 236ms/step - loss: 0.0081 - accuracy: 1.0000 - val_loss: 3.7643 - val_accuracy: 0.6429\n",
            "Epoch 31/50\n",
            "9/9 [==============================] - 2s 232ms/step - loss: 0.0089 - accuracy: 0.9990 - val_loss: 4.0289 - val_accuracy: 0.6786\n",
            "Epoch 32/50\n",
            "9/9 [==============================] - 2s 232ms/step - loss: 0.0081 - accuracy: 1.0000 - val_loss: 3.6452 - val_accuracy: 0.6429\n",
            "Epoch 33/50\n",
            "9/9 [==============================] - 2s 251ms/step - loss: 0.0080 - accuracy: 1.0000 - val_loss: 3.7549 - val_accuracy: 0.6429\n",
            "Epoch 34/50\n",
            "9/9 [==============================] - 2s 230ms/step - loss: 0.0078 - accuracy: 1.0000 - val_loss: 3.8627 - val_accuracy: 0.6429\n",
            "Epoch 35/50\n",
            "9/9 [==============================] - 2s 236ms/step - loss: 0.0075 - accuracy: 1.0000 - val_loss: 3.8110 - val_accuracy: 0.6429\n",
            "Epoch 36/50\n",
            "9/9 [==============================] - 2s 236ms/step - loss: 0.0079 - accuracy: 1.0000 - val_loss: 3.7599 - val_accuracy: 0.6429\n",
            "Epoch 37/50\n",
            "9/9 [==============================] - 2s 244ms/step - loss: 0.0072 - accuracy: 1.0000 - val_loss: 3.7811 - val_accuracy: 0.6429\n",
            "Epoch 38/50\n",
            "9/9 [==============================] - 2s 239ms/step - loss: 0.0074 - accuracy: 1.0000 - val_loss: 3.8372 - val_accuracy: 0.6429\n",
            "Epoch 39/50\n",
            "9/9 [==============================] - 2s 236ms/step - loss: 0.0073 - accuracy: 1.0000 - val_loss: 3.8800 - val_accuracy: 0.6429\n",
            "Epoch 40/50\n",
            "9/9 [==============================] - 2s 227ms/step - loss: 0.0072 - accuracy: 1.0000 - val_loss: 3.8442 - val_accuracy: 0.6429\n",
            "Epoch 41/50\n",
            "9/9 [==============================] - 2s 234ms/step - loss: 0.0070 - accuracy: 1.0000 - val_loss: 3.8696 - val_accuracy: 0.6429\n",
            "Epoch 42/50\n",
            "9/9 [==============================] - 2s 237ms/step - loss: 0.0071 - accuracy: 1.0000 - val_loss: 3.8264 - val_accuracy: 0.6429\n",
            "Epoch 43/50\n",
            "9/9 [==============================] - 2s 234ms/step - loss: 0.0071 - accuracy: 1.0000 - val_loss: 4.1782 - val_accuracy: 0.6786\n",
            "Epoch 44/50\n",
            "9/9 [==============================] - 2s 235ms/step - loss: 0.0072 - accuracy: 1.0000 - val_loss: 4.0819 - val_accuracy: 0.6429\n",
            "Epoch 45/50\n",
            "9/9 [==============================] - 2s 229ms/step - loss: 0.0070 - accuracy: 1.0000 - val_loss: 3.9142 - val_accuracy: 0.6429\n",
            "Epoch 46/50\n",
            "9/9 [==============================] - 2s 231ms/step - loss: 0.0069 - accuracy: 1.0000 - val_loss: 3.8262 - val_accuracy: 0.6429\n",
            "Epoch 47/50\n",
            "9/9 [==============================] - 2s 234ms/step - loss: 0.0069 - accuracy: 1.0000 - val_loss: 3.7945 - val_accuracy: 0.6429\n",
            "Epoch 48/50\n",
            "9/9 [==============================] - 2s 231ms/step - loss: 0.0068 - accuracy: 1.0000 - val_loss: 3.8866 - val_accuracy: 0.6429\n",
            "Epoch 49/50\n",
            "9/9 [==============================] - 2s 236ms/step - loss: 0.0072 - accuracy: 1.0000 - val_loss: 4.0691 - val_accuracy: 0.6786\n",
            "Epoch 50/50\n",
            "9/9 [==============================] - 2s 234ms/step - loss: 0.0066 - accuracy: 1.0000 - val_loss: 3.9432 - val_accuracy: 0.6786\n"
          ]
        }
      ]
    },
    {
      "cell_type": "code",
      "source": [
        "visualizacion_resultados(history_convolutional)"
      ],
      "metadata": {
        "colab": {
          "base_uri": "https://localhost:8080/",
          "height": 567
        },
        "id": "GwdFeDyFWoHC",
        "outputId": "571e02d9-e129-477d-e2ed-3d32823355b8"
      },
      "execution_count": 24,
      "outputs": [
        {
          "output_type": "display_data",
          "data": {
            "text/plain": [
              "<Figure size 1152x648 with 2 Axes>"
            ],
            "image/png": "[encoded data removed]"
          },
          "metadata": {
            "needs_background": "light"
          }
        }
      ]
    },
    {
      "cell_type": "code",
      "source": [
        ""
      ],
      "metadata": {
        "id": "OaD4CFcAW0px"
      },
      "execution_count": 24,
      "outputs": []
    },
    {
      "cell_type": "markdown",
      "source": [
        "CALLBACKS"
      ],
      "metadata": {
        "id": "vIh-_fcDYqYv"
      }
    },
    {
      "cell_type": "code",
      "source": [
        "model_callback = tf.keras.models.Sequential([\n",
        "              tf.keras.layers.Conv2D(75, (3,3), activation = \"relu\", input_shape= (28, 28, 1)),\n",
        "              tf.keras.layers.MaxPool2D((2,2)),\n",
        "              tf.keras.layers.Flatten(),\n",
        "              tf.keras.layers.Dense(256, kernel_regularizer = regularizers.l2(1e-5), activation = \"relu\"),\n",
        "              tf.keras.layers.Dropout(0.2),\n",
        "              tf.keras.layers.Dense(128, kernel_regularizer= regularizers.l2(1e-5),activation = \"relu\"),\n",
        "              tf.keras.layers.Dropout(0.2),\n",
        "              tf.keras.layers.Dense(len(classes), activation = \"softmax\")\n",
        "])\n",
        "\n",
        "model_callback.summary()\n",
        "\n",
        "model_callback.compile(optimizer= \"adam\", loss = \"categorical_crossentropy\", metrics = [\"accuracy\"])"
      ],
      "metadata": {
        "colab": {
          "base_uri": "https://localhost:8080/"
        },
        "id": "u63PRYYVYtUw",
        "outputId": "3b340f05-dc2c-4fc5-8500-699b06a7a005"
      },
      "execution_count": 25,
      "outputs": [
        {
          "output_type": "stream",
          "name": "stdout",
          "text": [
            "Model: \"sequential_3\"\n",
            "_________________________________________________________________\n",
            " Layer (type)                Output Shape              Param #   \n",
            "=================================================================\n",
            " conv2d_1 (Conv2D)           (None, 26, 26, 75)        750       \n",
            "                                                                 \n",
            " max_pooling2d_1 (MaxPooling  (None, 13, 13, 75)       0         \n",
            " 2D)                                                             \n",
            "                                                                 \n",
            " flatten_3 (Flatten)         (None, 12675)             0         \n",
            "                                                                 \n",
            " dense_9 (Dense)             (None, 256)               3245056   \n",
            "                                                                 \n",
            " dropout_4 (Dropout)         (None, 256)               0         \n",
            "                                                                 \n",
            " dense_10 (Dense)            (None, 128)               32896     \n",
            "                                                                 \n",
            " dropout_5 (Dropout)         (None, 128)               0         \n",
            "                                                                 \n",
            " dense_11 (Dense)            (None, 3)                 387       \n",
            "                                                                 \n",
            "=================================================================\n",
            "Total params: 3,279,089\n",
            "Trainable params: 3,279,089\n",
            "Non-trainable params: 0\n",
            "_________________________________________________________________\n"
          ]
        }
      ]
    },
    {
      "cell_type": "code",
      "source": [
        "from tensorflow.keras.callbacks import Callback\n",
        "\n",
        "class TrainingCallback(Callback):\n",
        "  def on_epoch_end(self, epoch, logs = {}):\n",
        "    if logs.get(\"accuracy\") > 0.999:\n",
        "      print(\"Lo logramos, nuestro modelo llego a 95%, detenemos el entrenamiento\")\n",
        "      self.model.stop_training = True"
      ],
      "metadata": {
        "id": "vjPPd7lba32j"
      },
      "execution_count": 26,
      "outputs": []
    },
    {
      "cell_type": "code",
      "source": [
        "callback = TrainingCallback()\n",
        "\n",
        "history_callback = model_callback.fit(\n",
        "    train_generator,\n",
        "    epochs = 50,\n",
        "    callbacks = [callback],\n",
        "    validation_data = validation_generator\n",
        ")"
      ],
      "metadata": {
        "colab": {
          "base_uri": "https://localhost:8080/"
        },
        "id": "AWK2PJ5Ia54C",
        "outputId": "fc9b2943-7b31-4383-c8f9-97eebfe35217"
      },
      "execution_count": 27,
      "outputs": [
        {
          "output_type": "stream",
          "name": "stdout",
          "text": [
            "Epoch 1/50\n",
            "9/9 [==============================] - 3s 263ms/step - loss: 1.0550 - accuracy: 0.4695 - val_loss: 0.9678 - val_accuracy: 0.6071\n",
            "Epoch 2/50\n",
            "9/9 [==============================] - 2s 225ms/step - loss: 0.8340 - accuracy: 0.6133 - val_loss: 0.8749 - val_accuracy: 0.5714\n",
            "Epoch 3/50\n",
            "9/9 [==============================] - 2s 226ms/step - loss: 0.6252 - accuracy: 0.7543 - val_loss: 1.1260 - val_accuracy: 0.6429\n",
            "Epoch 4/50\n",
            "9/9 [==============================] - 2s 236ms/step - loss: 0.4639 - accuracy: 0.8333 - val_loss: 1.3598 - val_accuracy: 0.6429\n",
            "Epoch 5/50\n",
            "9/9 [==============================] - 2s 232ms/step - loss: 0.2969 - accuracy: 0.9019 - val_loss: 2.0998 - val_accuracy: 0.6429\n",
            "Epoch 6/50\n",
            "9/9 [==============================] - 2s 226ms/step - loss: 0.2146 - accuracy: 0.9295 - val_loss: 1.9918 - val_accuracy: 0.6429\n",
            "Epoch 7/50\n",
            "9/9 [==============================] - 2s 251ms/step - loss: 0.1445 - accuracy: 0.9562 - val_loss: 2.3669 - val_accuracy: 0.6429\n",
            "Epoch 8/50\n",
            "9/9 [==============================] - 2s 231ms/step - loss: 0.0895 - accuracy: 0.9771 - val_loss: 2.3322 - val_accuracy: 0.6429\n",
            "Epoch 9/50\n",
            "9/9 [==============================] - 2s 230ms/step - loss: 0.0546 - accuracy: 0.9933 - val_loss: 2.5241 - val_accuracy: 0.6429\n",
            "Epoch 10/50\n",
            "9/9 [==============================] - 2s 232ms/step - loss: 0.0360 - accuracy: 0.9971 - val_loss: 2.7499 - val_accuracy: 0.6429\n",
            "Epoch 11/50\n",
            "9/9 [==============================] - ETA: 0s - loss: 0.0258 - accuracy: 1.0000Lo logramos, nuestro modelo llego a 95%, detenemos el entrenamiento\n",
            "9/9 [==============================] - 2s 227ms/step - loss: 0.0258 - accuracy: 1.0000 - val_loss: 2.9224 - val_accuracy: 0.6429\n"
          ]
        }
      ]
    },
    {
      "cell_type": "code",
      "source": [
        "def get_model():\n",
        "  model = tf.keras.models.Sequential([\n",
        "              tf.keras.layers.Conv2D(75, (3,3), activation = \"relu\", input_shape= (28, 28, 1)),\n",
        "              tf.keras.layers.MaxPool2D((2,2)),\n",
        "              tf.keras.layers.Flatten(),\n",
        "              tf.keras.layers.Dense(256, kernel_regularizer = regularizers.l2(1e-5), activation = \"relu\"),\n",
        "              tf.keras.layers.Dropout(0.2),\n",
        "              tf.keras.layers.Dense(128, kernel_regularizer= regularizers.l2(1e-5),activation = \"relu\"),\n",
        "              tf.keras.layers.Dropout(0.2),\n",
        "              tf.keras.layers.Dense(len(classes), activation = \"softmax\")\n",
        "  ])\n",
        "  return model\n",
        "\n",
        "model_early = get_model()\n",
        "model_early.summary()\n",
        "\n",
        "model_early.compile(optimizer= \"adam\", loss = \"categorical_crossentropy\", metrics = [\"accuracy\"])"
      ],
      "metadata": {
        "colab": {
          "base_uri": "https://localhost:8080/"
        },
        "id": "qBCVudTya845",
        "outputId": "23ade378-95f2-42c6-f7d4-c68a0c5b4b34"
      },
      "execution_count": 28,
      "outputs": [
        {
          "output_type": "stream",
          "name": "stdout",
          "text": [
            "Model: \"sequential_4\"\n",
            "_________________________________________________________________\n",
            " Layer (type)                Output Shape              Param #   \n",
            "=================================================================\n",
            " conv2d_2 (Conv2D)           (None, 26, 26, 75)        750       \n",
            "                                                                 \n",
            " max_pooling2d_2 (MaxPooling  (None, 13, 13, 75)       0         \n",
            " 2D)                                                             \n",
            "                                                                 \n",
            " flatten_4 (Flatten)         (None, 12675)             0         \n",
            "                                                                 \n",
            " dense_12 (Dense)            (None, 256)               3245056   \n",
            "                                                                 \n",
            " dropout_6 (Dropout)         (None, 256)               0         \n",
            "                                                                 \n",
            " dense_13 (Dense)            (None, 128)               32896     \n",
            "                                                                 \n",
            " dropout_7 (Dropout)         (None, 128)               0         \n",
            "                                                                 \n",
            " dense_14 (Dense)            (None, 3)                 387       \n",
            "                                                                 \n",
            "=================================================================\n",
            "Total params: 3,279,089\n",
            "Trainable params: 3,279,089\n",
            "Non-trainable params: 0\n",
            "_________________________________________________________________\n"
          ]
        }
      ]
    },
    {
      "cell_type": "markdown",
      "source": [
        "early stopping"
      ],
      "metadata": {
        "id": "mAfDjjZTgWLF"
      }
    },
    {
      "cell_type": "code",
      "source": [
        "callback_early = tf.keras.callbacks.EarlyStopping(monitor = \"loss\", patience=3, mode = \"auto\")"
      ],
      "metadata": {
        "id": "O5SV6fK-gdn9"
      },
      "execution_count": 29,
      "outputs": []
    },
    {
      "cell_type": "code",
      "source": [
        "history_early = model_early.fit(\n",
        "    train_generator, \n",
        "    epochs= 50, \n",
        "    callbacks = [callback_early],\n",
        "    validation_data = validation_generator\n",
        ")"
      ],
      "metadata": {
        "colab": {
          "base_uri": "https://localhost:8080/"
        },
        "id": "VUXHIKIVghRv",
        "outputId": "53438970-09be-45e4-cbfe-215c5e6519f2"
      },
      "execution_count": 30,
      "outputs": [
        {
          "output_type": "stream",
          "name": "stdout",
          "text": [
            "Epoch 1/50\n",
            "9/9 [==============================] - 3s 263ms/step - loss: 1.1909 - accuracy: 0.4352 - val_loss: 1.0129 - val_accuracy: 0.6429\n",
            "Epoch 2/50\n",
            "9/9 [==============================] - 2s 225ms/step - loss: 0.9286 - accuracy: 0.5419 - val_loss: 0.9530 - val_accuracy: 0.6429\n",
            "Epoch 3/50\n",
            "9/9 [==============================] - 2s 227ms/step - loss: 0.7743 - accuracy: 0.6571 - val_loss: 1.0387 - val_accuracy: 0.5357\n",
            "Epoch 4/50\n",
            "9/9 [==============================] - 2s 255ms/step - loss: 0.5670 - accuracy: 0.7924 - val_loss: 1.0928 - val_accuracy: 0.6429\n",
            "Epoch 5/50\n",
            "9/9 [==============================] - 2s 239ms/step - loss: 0.4051 - accuracy: 0.8590 - val_loss: 1.4212 - val_accuracy: 0.6429\n",
            "Epoch 6/50\n",
            "9/9 [==============================] - 2s 239ms/step - loss: 0.2996 - accuracy: 0.8876 - val_loss: 1.9914 - val_accuracy: 0.6429\n",
            "Epoch 7/50\n",
            "9/9 [==============================] - 2s 235ms/step - loss: 0.2080 - accuracy: 0.9276 - val_loss: 2.2425 - val_accuracy: 0.6429\n",
            "Epoch 8/50\n",
            "9/9 [==============================] - 2s 235ms/step - loss: 0.1325 - accuracy: 0.9629 - val_loss: 2.2939 - val_accuracy: 0.6429\n",
            "Epoch 9/50\n",
            "9/9 [==============================] - 2s 235ms/step - loss: 0.0828 - accuracy: 0.9829 - val_loss: 2.4890 - val_accuracy: 0.6429\n",
            "Epoch 10/50\n",
            "9/9 [==============================] - 2s 238ms/step - loss: 0.0676 - accuracy: 0.9829 - val_loss: 2.6430 - val_accuracy: 0.6429\n",
            "Epoch 11/50\n",
            "9/9 [==============================] - 2s 233ms/step - loss: 0.0449 - accuracy: 0.9943 - val_loss: 2.6349 - val_accuracy: 0.6429\n",
            "Epoch 12/50\n",
            "9/9 [==============================] - 2s 242ms/step - loss: 0.0294 - accuracy: 0.9981 - val_loss: 2.8630 - val_accuracy: 0.6429\n",
            "Epoch 13/50\n",
            "9/9 [==============================] - 2s 234ms/step - loss: 0.0221 - accuracy: 1.0000 - val_loss: 2.8736 - val_accuracy: 0.6429\n",
            "Epoch 14/50\n",
            "9/9 [==============================] - 2s 239ms/step - loss: 0.0205 - accuracy: 0.9971 - val_loss: 3.1141 - val_accuracy: 0.6429\n",
            "Epoch 15/50\n",
            "9/9 [==============================] - 2s 233ms/step - loss: 0.0170 - accuracy: 1.0000 - val_loss: 3.1270 - val_accuracy: 0.6429\n",
            "Epoch 16/50\n",
            "9/9 [==============================] - 2s 234ms/step - loss: 0.0142 - accuracy: 1.0000 - val_loss: 3.0705 - val_accuracy: 0.6429\n",
            "Epoch 17/50\n",
            "9/9 [==============================] - 2s 235ms/step - loss: 0.0128 - accuracy: 1.0000 - val_loss: 3.2755 - val_accuracy: 0.6429\n",
            "Epoch 18/50\n",
            "9/9 [==============================] - 2s 233ms/step - loss: 0.0126 - accuracy: 1.0000 - val_loss: 3.2562 - val_accuracy: 0.6429\n",
            "Epoch 19/50\n",
            "9/9 [==============================] - 2s 233ms/step - loss: 0.0122 - accuracy: 1.0000 - val_loss: 3.3545 - val_accuracy: 0.6429\n",
            "Epoch 20/50\n",
            "9/9 [==============================] - 2s 234ms/step - loss: 0.0120 - accuracy: 0.9990 - val_loss: 3.4168 - val_accuracy: 0.6429\n",
            "Epoch 21/50\n",
            "9/9 [==============================] - 2s 233ms/step - loss: 0.0114 - accuracy: 1.0000 - val_loss: 3.5656 - val_accuracy: 0.6429\n",
            "Epoch 22/50\n",
            "9/9 [==============================] - 2s 230ms/step - loss: 0.0106 - accuracy: 1.0000 - val_loss: 3.5203 - val_accuracy: 0.6429\n",
            "Epoch 23/50\n",
            "9/9 [==============================] - 2s 233ms/step - loss: 0.0102 - accuracy: 1.0000 - val_loss: 3.5589 - val_accuracy: 0.6429\n",
            "Epoch 24/50\n",
            "9/9 [==============================] - 2s 226ms/step - loss: 0.0101 - accuracy: 1.0000 - val_loss: 3.5200 - val_accuracy: 0.6429\n",
            "Epoch 25/50\n",
            "9/9 [==============================] - 2s 237ms/step - loss: 0.0098 - accuracy: 1.0000 - val_loss: 3.4901 - val_accuracy: 0.6429\n",
            "Epoch 26/50\n",
            "9/9 [==============================] - 2s 239ms/step - loss: 0.0092 - accuracy: 1.0000 - val_loss: 3.4353 - val_accuracy: 0.6429\n",
            "Epoch 27/50\n",
            "9/9 [==============================] - 2s 234ms/step - loss: 0.0090 - accuracy: 1.0000 - val_loss: 3.5426 - val_accuracy: 0.6429\n",
            "Epoch 28/50\n",
            "9/9 [==============================] - 2s 229ms/step - loss: 0.0104 - accuracy: 0.9990 - val_loss: 3.6224 - val_accuracy: 0.6429\n",
            "Epoch 29/50\n",
            "9/9 [==============================] - 2s 262ms/step - loss: 0.0112 - accuracy: 0.9990 - val_loss: 3.0995 - val_accuracy: 0.6429\n",
            "Epoch 30/50\n",
            "9/9 [==============================] - 2s 235ms/step - loss: 0.0108 - accuracy: 0.9990 - val_loss: 2.9382 - val_accuracy: 0.6429\n"
          ]
        }
      ]
    },
    {
      "cell_type": "code",
      "source": [
        ""
      ],
      "metadata": {
        "id": "G6lOVCsfglev"
      },
      "execution_count": 30,
      "outputs": []
    },
    {
      "cell_type": "markdown",
      "metadata": {
        "id": "Ip4_h5llSPqE"
      },
      "source": [
        "## Creamos nuestra modelo funcional con Auto Tunner Keras"
      ]
    },
    {
      "cell_type": "code",
      "source": [
        "!pip install -q -U keras-tuner\n",
        "import kerastuner as kt\n",
        "from tensorflow import keras"
      ],
      "metadata": {
        "colab": {
          "base_uri": "https://localhost:8080/"
        },
        "id": "LO9FysC5mGRg",
        "outputId": "a9e4b2c9-9417-496b-daa2-c46594a18c2a"
      },
      "execution_count": 1,
      "outputs": [
        {
          "output_type": "stream",
          "name": "stdout",
          "text": [
            "\u001b[?25l\r\u001b[K     |██▌                             | 10 kB 19.8 MB/s eta 0:00:01\r\u001b[K     |█████                           | 20 kB 23.2 MB/s eta 0:00:01\r\u001b[K     |███████▍                        | 30 kB 28.0 MB/s eta 0:00:01\r\u001b[K     |█████████▉                      | 40 kB 30.8 MB/s eta 0:00:01\r\u001b[K     |████████████▎                   | 51 kB 32.8 MB/s eta 0:00:01\r\u001b[K     |██████████████▊                 | 61 kB 36.3 MB/s eta 0:00:01\r\u001b[K     |█████████████████▏              | 71 kB 23.8 MB/s eta 0:00:01\r\u001b[K     |███████████████████▋            | 81 kB 20.1 MB/s eta 0:00:01\r\u001b[K     |██████████████████████          | 92 kB 21.0 MB/s eta 0:00:01\r\u001b[K     |████████████████████████▌       | 102 kB 22.6 MB/s eta 0:00:01\r\u001b[K     |███████████████████████████     | 112 kB 22.6 MB/s eta 0:00:01\r\u001b[K     |█████████████████████████████▍  | 122 kB 22.6 MB/s eta 0:00:01\r\u001b[K     |███████████████████████████████▉| 133 kB 22.6 MB/s eta 0:00:01\r\u001b[K     |████████████████████████████████| 133 kB 22.6 MB/s \n",
            "\u001b[?25h"
          ]
        },
        {
          "output_type": "stream",
          "name": "stderr",
          "text": [
            "/usr/local/lib/python3.7/dist-packages/ipykernel_launcher.py:2: DeprecationWarning: `import kerastuner` is deprecated, please use `import keras_tuner`.\n",
            "  \n"
          ]
        }
      ]
    },
    {
      "cell_type": "code",
      "source": [
        "def constructor_modelos(hp):\n",
        "  model = tf.keras.models.Sequential()\n",
        "  model.add(tf.keras.layers.Conv2D(75, (3,3), activation= \"relu\", input_shape = (28, 28, 1)))\n",
        "  model.add(tf.keras.layers.MaxPool2D((2,2)))\n",
        "  model.add(tf.keras.layers.Flatten())\n",
        "\n",
        "  hp_units = hp.Int(\"units\", min_value = 32, max_value = 512, step = 32)\n",
        "  model.add(tf.keras.layers.Dense(units=hp_units,activation = \"relu\", kernel_regularizer= regularizers.l2(1e-5)))\n",
        "  model.add(tf.keras.layers.Dropout(0.2))\n",
        "  model.add(tf.keras.layers.Dense(128,activation = \"relu\", kernel_regularizer= regularizers.l2(1e-5)))\n",
        "  model.add(tf.keras.layers.Dropout(0.2))\n",
        "  model.add(tf.keras.layers.Dense(len(classes), activation = \"softmax\"))\n",
        "\n",
        "  hp_learning_rate = hp.Choice('learning_rate', values = [1e-2, 1e-3, 1e-4])\n",
        "\n",
        "  model.compile(optimizer = keras.optimizers.Adam(learning_rate=hp_learning_rate),loss = \"categorical_crossentropy\", metrics = [\"accuracy\"])\n",
        "\n",
        "  return model"
      ],
      "metadata": {
        "id": "QWfnAlLzmGOG"
      },
      "execution_count": 2,
      "outputs": []
    },
    {
      "cell_type": "code",
      "source": [
        "tuner = kt.Hyperband(\n",
        "    constructor_modelos,\n",
        "    objective = \"val_accuracy\",\n",
        "    max_epochs = 20,\n",
        "    factor = 3,\n",
        "    directory = \"models/\",\n",
        "    project_name = \"platzi-tunner\")"
      ],
      "metadata": {
        "colab": {
          "base_uri": "https://localhost:8080/",
          "height": 380
        },
        "id": "UQzCa0hdmGLC",
        "outputId": "a6c335e1-1bbd-4641-fcc7-30dce4fe2391"
      },
      "execution_count": 3,
      "outputs": [
        {
          "output_type": "error",
          "ename": "NameError",
          "evalue": "ignored",
          "traceback": [
            "\u001b[0;31m---------------------------------------------------------------------------\u001b[0m",
            "\u001b[0;31mNameError\u001b[0m                                 Traceback (most recent call last)",
            "\u001b[0;32m<ipython-input-3-14a08dacb615>\u001b[0m in \u001b[0;36m<module>\u001b[0;34m()\u001b[0m\n\u001b[1;32m      5\u001b[0m     \u001b[0mfactor\u001b[0m \u001b[0;34m=\u001b[0m \u001b[0;36m3\u001b[0m\u001b[0;34m,\u001b[0m\u001b[0;34m\u001b[0m\u001b[0;34m\u001b[0m\u001b[0m\n\u001b[1;32m      6\u001b[0m     \u001b[0mdirectory\u001b[0m \u001b[0;34m=\u001b[0m \u001b[0;34m\"models/\"\u001b[0m\u001b[0;34m,\u001b[0m\u001b[0;34m\u001b[0m\u001b[0;34m\u001b[0m\u001b[0m\n\u001b[0;32m----> 7\u001b[0;31m     \u001b[0mproject_name\u001b[0m \u001b[0;34m=\u001b[0m \u001b[0;34m\"platzi-tunner\"\u001b[0m\u001b[0;34m\u001b[0m\u001b[0;34m\u001b[0m\u001b[0m\n\u001b[0m\u001b[1;32m      8\u001b[0m )\n",
            "\u001b[0;32m/usr/local/lib/python3.7/dist-packages/keras_tuner/tuners/hyperband.py\u001b[0m in \u001b[0;36m__init__\u001b[0;34m(self, hypermodel, objective, max_epochs, factor, hyperband_iterations, seed, hyperparameters, tune_new_entries, allow_new_entries, **kwargs)\u001b[0m\n\u001b[1;32m    374\u001b[0m         )\n\u001b[1;32m    375\u001b[0m         super(Hyperband, self).__init__(\n\u001b[0;32m--> 376\u001b[0;31m             \u001b[0moracle\u001b[0m\u001b[0;34m=\u001b[0m\u001b[0moracle\u001b[0m\u001b[0;34m,\u001b[0m \u001b[0mhypermodel\u001b[0m\u001b[0;34m=\u001b[0m\u001b[0mhypermodel\u001b[0m\u001b[0;34m,\u001b[0m \u001b[0;34m**\u001b[0m\u001b[0mkwargs\u001b[0m\u001b[0;34m\u001b[0m\u001b[0;34m\u001b[0m\u001b[0m\n\u001b[0m\u001b[1;32m    377\u001b[0m         )\n\u001b[1;32m    378\u001b[0m \u001b[0;34m\u001b[0m\u001b[0m\n",
            "\u001b[0;32m/usr/local/lib/python3.7/dist-packages/keras_tuner/engine/tuner.py\u001b[0m in \u001b[0;36m__init__\u001b[0;34m(self, oracle, hypermodel, max_model_size, optimizer, loss, metrics, distribution_strategy, directory, project_name, logger, tuner_id, overwrite, executions_per_trial)\u001b[0m\n\u001b[1;32m    114\u001b[0m             \u001b[0mproject_name\u001b[0m\u001b[0;34m=\u001b[0m\u001b[0mproject_name\u001b[0m\u001b[0;34m,\u001b[0m\u001b[0;34m\u001b[0m\u001b[0;34m\u001b[0m\u001b[0m\n\u001b[1;32m    115\u001b[0m             \u001b[0mlogger\u001b[0m\u001b[0;34m=\u001b[0m\u001b[0mlogger\u001b[0m\u001b[0;34m,\u001b[0m\u001b[0;34m\u001b[0m\u001b[0;34m\u001b[0m\u001b[0m\n\u001b[0;32m--> 116\u001b[0;31m             \u001b[0moverwrite\u001b[0m\u001b[0;34m=\u001b[0m\u001b[0moverwrite\u001b[0m\u001b[0;34m,\u001b[0m\u001b[0;34m\u001b[0m\u001b[0;34m\u001b[0m\u001b[0m\n\u001b[0m\u001b[1;32m    117\u001b[0m         )\n\u001b[1;32m    118\u001b[0m \u001b[0;34m\u001b[0m\u001b[0m\n",
            "\u001b[0;32m/usr/local/lib/python3.7/dist-packages/keras_tuner/engine/base_tuner.py\u001b[0m in \u001b[0;36m__init__\u001b[0;34m(self, oracle, hypermodel, directory, project_name, logger, overwrite)\u001b[0m\n\u001b[1;32m    101\u001b[0m         \u001b[0mself\u001b[0m\u001b[0;34m.\u001b[0m\u001b[0m_display\u001b[0m \u001b[0;34m=\u001b[0m \u001b[0mtuner_utils\u001b[0m\u001b[0;34m.\u001b[0m\u001b[0mDisplay\u001b[0m\u001b[0;34m(\u001b[0m\u001b[0moracle\u001b[0m\u001b[0;34m=\u001b[0m\u001b[0mself\u001b[0m\u001b[0;34m.\u001b[0m\u001b[0moracle\u001b[0m\u001b[0;34m)\u001b[0m\u001b[0;34m\u001b[0m\u001b[0;34m\u001b[0m\u001b[0m\n\u001b[1;32m    102\u001b[0m \u001b[0;34m\u001b[0m\u001b[0m\n\u001b[0;32m--> 103\u001b[0;31m         \u001b[0mself\u001b[0m\u001b[0;34m.\u001b[0m\u001b[0m_populate_initial_space\u001b[0m\u001b[0;34m(\u001b[0m\u001b[0;34m)\u001b[0m\u001b[0;34m\u001b[0m\u001b[0;34m\u001b[0m\u001b[0m\n\u001b[0m\u001b[1;32m    104\u001b[0m \u001b[0;34m\u001b[0m\u001b[0m\n\u001b[1;32m    105\u001b[0m         \u001b[0;32mif\u001b[0m \u001b[0;32mnot\u001b[0m \u001b[0moverwrite\u001b[0m \u001b[0;32mand\u001b[0m \u001b[0mtf\u001b[0m\u001b[0;34m.\u001b[0m\u001b[0mio\u001b[0m\u001b[0;34m.\u001b[0m\u001b[0mgfile\u001b[0m\u001b[0;34m.\u001b[0m\u001b[0mexists\u001b[0m\u001b[0;34m(\u001b[0m\u001b[0mself\u001b[0m\u001b[0;34m.\u001b[0m\u001b[0m_get_tuner_fname\u001b[0m\u001b[0;34m(\u001b[0m\u001b[0;34m)\u001b[0m\u001b[0;34m)\u001b[0m\u001b[0;34m:\u001b[0m\u001b[0;34m\u001b[0m\u001b[0;34m\u001b[0m\u001b[0m\n",
            "\u001b[0;32m/usr/local/lib/python3.7/dist-packages/keras_tuner/engine/base_tuner.py\u001b[0m in \u001b[0;36m_populate_initial_space\u001b[0;34m(self)\u001b[0m\n\u001b[1;32m    130\u001b[0m \u001b[0;34m\u001b[0m\u001b[0m\n\u001b[1;32m    131\u001b[0m         \u001b[0;32mwhile\u001b[0m \u001b[0;32mTrue\u001b[0m\u001b[0;34m:\u001b[0m\u001b[0;34m\u001b[0m\u001b[0;34m\u001b[0m\u001b[0m\n\u001b[0;32m--> 132\u001b[0;31m             \u001b[0mself\u001b[0m\u001b[0;34m.\u001b[0m\u001b[0mhypermodel\u001b[0m\u001b[0;34m.\u001b[0m\u001b[0mbuild\u001b[0m\u001b[0;34m(\u001b[0m\u001b[0mhp\u001b[0m\u001b[0;34m)\u001b[0m\u001b[0;34m\u001b[0m\u001b[0;34m\u001b[0m\u001b[0m\n\u001b[0m\u001b[1;32m    133\u001b[0m \u001b[0;34m\u001b[0m\u001b[0m\n\u001b[1;32m    134\u001b[0m             \u001b[0;31m# Update the recored scopes.\u001b[0m\u001b[0;34m\u001b[0m\u001b[0;34m\u001b[0m\u001b[0;34m\u001b[0m\u001b[0m\n",
            "\u001b[0;32m<ipython-input-2-a06cb76c632d>\u001b[0m in \u001b[0;36mconstructor_modelos\u001b[0;34m(hp)\u001b[0m\n\u001b[1;32m      1\u001b[0m \u001b[0;32mdef\u001b[0m \u001b[0mconstructor_modelos\u001b[0m\u001b[0;34m(\u001b[0m\u001b[0mhp\u001b[0m\u001b[0;34m)\u001b[0m\u001b[0;34m:\u001b[0m\u001b[0;34m\u001b[0m\u001b[0;34m\u001b[0m\u001b[0m\n\u001b[0;32m----> 2\u001b[0;31m   \u001b[0mmodel\u001b[0m \u001b[0;34m=\u001b[0m \u001b[0mtf\u001b[0m\u001b[0;34m.\u001b[0m\u001b[0mkeras\u001b[0m\u001b[0;34m.\u001b[0m\u001b[0mmodels\u001b[0m\u001b[0;34m.\u001b[0m\u001b[0mSequential\u001b[0m\u001b[0;34m(\u001b[0m\u001b[0;34m)\u001b[0m\u001b[0;34m\u001b[0m\u001b[0;34m\u001b[0m\u001b[0m\n\u001b[0m\u001b[1;32m      3\u001b[0m   \u001b[0mmodel\u001b[0m\u001b[0;34m.\u001b[0m\u001b[0madd\u001b[0m\u001b[0;34m(\u001b[0m\u001b[0mtf\u001b[0m\u001b[0;34m.\u001b[0m\u001b[0mkeras\u001b[0m\u001b[0;34m.\u001b[0m\u001b[0mlayers\u001b[0m\u001b[0;34m.\u001b[0m\u001b[0mConv2D\u001b[0m\u001b[0;34m(\u001b[0m\u001b[0;36m75\u001b[0m\u001b[0;34m,\u001b[0m \u001b[0;34m(\u001b[0m\u001b[0;36m3\u001b[0m\u001b[0;34m,\u001b[0m\u001b[0;36m3\u001b[0m\u001b[0;34m)\u001b[0m\u001b[0;34m,\u001b[0m \u001b[0mactivation\u001b[0m\u001b[0;34m=\u001b[0m \u001b[0;34m\"relu\"\u001b[0m\u001b[0;34m,\u001b[0m \u001b[0minput_shape\u001b[0m \u001b[0;34m=\u001b[0m \u001b[0;34m(\u001b[0m\u001b[0;36m28\u001b[0m\u001b[0;34m,\u001b[0m \u001b[0;36m28\u001b[0m\u001b[0;34m,\u001b[0m \u001b[0;36m1\u001b[0m\u001b[0;34m)\u001b[0m\u001b[0;34m)\u001b[0m\u001b[0;34m)\u001b[0m\u001b[0;34m\u001b[0m\u001b[0;34m\u001b[0m\u001b[0m\n\u001b[1;32m      4\u001b[0m   \u001b[0mmodel\u001b[0m\u001b[0;34m.\u001b[0m\u001b[0madd\u001b[0m\u001b[0;34m(\u001b[0m\u001b[0mtf\u001b[0m\u001b[0;34m.\u001b[0m\u001b[0mkeras\u001b[0m\u001b[0;34m.\u001b[0m\u001b[0mlayers\u001b[0m\u001b[0;34m.\u001b[0m\u001b[0mMaxPool2D\u001b[0m\u001b[0;34m(\u001b[0m\u001b[0;34m(\u001b[0m\u001b[0;36m2\u001b[0m\u001b[0;34m,\u001b[0m\u001b[0;36m2\u001b[0m\u001b[0;34m)\u001b[0m\u001b[0;34m)\u001b[0m\u001b[0;34m)\u001b[0m\u001b[0;34m\u001b[0m\u001b[0;34m\u001b[0m\u001b[0m\n\u001b[1;32m      5\u001b[0m   \u001b[0mmodel\u001b[0m\u001b[0;34m.\u001b[0m\u001b[0madd\u001b[0m\u001b[0;34m(\u001b[0m\u001b[0mtf\u001b[0m\u001b[0;34m.\u001b[0m\u001b[0mkeras\u001b[0m\u001b[0;34m.\u001b[0m\u001b[0mlayers\u001b[0m\u001b[0;34m.\u001b[0m\u001b[0mFlatten\u001b[0m\u001b[0;34m(\u001b[0m\u001b[0;34m)\u001b[0m\u001b[0;34m)\u001b[0m\u001b[0;34m\u001b[0m\u001b[0;34m\u001b[0m\u001b[0m\n",
            "\u001b[0;31mNameError\u001b[0m: name 'tf' is not defined"
          ]
        }
      ]
    },
    {
      "cell_type": "code",
      "source": [
        "tuner.search(train_generator, epochs =20, validation_data = validation_generator)\n",
        "\n",
        "best_hps = tuner.get_best_hyperparameters(num_trials =1)[0]"
      ],
      "metadata": {
        "id": "FkRXArT-mGBS"
      },
      "execution_count": null,
      "outputs": []
    }
  ],
  "metadata": {
    "colab": {
      "collapsed_sections": [],
      "name": "Tumor_classiffier",
      "provenance": [],
      "authorship_tag": "ABX9TyP845kFIf/g3kAwH6l1FFPt",
      "include_colab_link": true
    },
    "kernelspec": {
      "display_name": "Python 3",
      "name": "python3"
    },
    "language_info": {
      "name": "python"
    }
  },
  "nbformat": 4,
  "nbformat_minor": 0
}
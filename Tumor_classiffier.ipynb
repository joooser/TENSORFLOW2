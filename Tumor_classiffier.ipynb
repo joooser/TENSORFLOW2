{
  "cells": [
    {
      "cell_type": "markdown",
      "metadata": {
        "id": "view-in-github",
        "colab_type": "text"
      },
      "source": [
        "<a href=\"https://colab.research.google.com/github/joooser/TENSORFLOW2/blob/main/Tumor_classiffier.ipynb\" target=\"_parent\"><img src=\"https://colab.research.google.com/assets/colab-badge.svg\" alt=\"Open In Colab\"/></a>"
      ]
    },
    {
      "cell_type": "code",
      "execution_count": 37,
      "metadata": {
        "id": "9xVOLWnJflLA"
      },
      "outputs": [],
      "source": [
        "import os\n",
        "import zipfile"
      ]
    },
    {
      "cell_type": "code",
      "execution_count": 38,
      "metadata": {
        "colab": {
          "base_uri": "https://localhost:8080/"
        },
        "id": "X0G2iDJiUoBr",
        "outputId": "c7457897-c441-4ffd-8257-7d6362188693"
      },
      "outputs": [
        {
          "output_type": "stream",
          "name": "stdout",
          "text": [
            "--2022-06-13 01:30:20--  https://storage.googleapis.com/platzi-tf2/TumorClassification.zip\n",
            "Resolving storage.googleapis.com (storage.googleapis.com)... 142.251.111.128, 172.217.12.240, 172.217.15.112, ...\n",
            "Connecting to storage.googleapis.com (storage.googleapis.com)|142.251.111.128|:443... connected.\n",
            "HTTP request sent, awaiting response... 200 OK\n",
            "Length: 7460028 (7.1M) [application/zip]\n",
            "Saving to: ‘/tmp/platzi-tf2/TumorClassification.zip’\n",
            "\n",
            "\r          /tmp/plat   0%[                    ]       0  --.-KB/s               \r/tmp/platzi-tf2/Tum 100%[===================>]   7.11M  --.-KB/s    in 0.04s   \n",
            "\n",
            "2022-06-13 01:30:20 (187 MB/s) - ‘/tmp/platzi-tf2/TumorClassification.zip’ saved [7460028/7460028]\n",
            "\n"
          ]
        }
      ],
      "source": [
        "!wget --no-check-certificate https://storage.googleapis.com/platzi-tf2/TumorClassification.zip \\\n",
        "    -O /tmp/platzi-tf2/TumorClassification.zip"
      ]
    },
    {
      "cell_type": "code",
      "execution_count": 39,
      "metadata": {
        "id": "yIr1bDTAoUaj"
      },
      "outputs": [],
      "source": [
        "local_zip = \"/tmp/platzi-tf2/TumorClassification.zip\"\n",
        "zip_ref = zipfile.ZipFile(local_zip, \"r\")\n",
        "zip_ref.extractall(\"/tmp/platzi-tf2\")\n",
        "zip_ref.close()"
      ]
    },
    {
      "cell_type": "code",
      "execution_count": 40,
      "metadata": {
        "id": "q6waQRSFWCkS"
      },
      "outputs": [],
      "source": [
        "import numpy as np\n",
        "%matplotlib inline\n",
        "import matplotlib.pyplot as plt\n",
        "import matplotlib.image as mpimg\n",
        "import string\n",
        "import tensorflow as tf\n",
        "from tensorflow.keras.preprocessing.image import ImageDataGenerator\n",
        "import requests as requests\n",
        "from PIL import Image\n",
        "from io import BytesIO\n",
        "import codecs\n",
        "import json\n"
      ]
    },
    {
      "cell_type": "code",
      "execution_count": 41,
      "metadata": {
        "id": "5Q3w8L7wS8Dx"
      },
      "outputs": [],
      "source": [
        "train_dir = \"/tmp/platzi-tf2/Train\"\n",
        "test_dir = \"/tmp/platzi-tf2/Test\""
      ]
    },
    {
      "cell_type": "code",
      "execution_count": 42,
      "metadata": {
        "id": "kyIvJTVfTK-I"
      },
      "outputs": [],
      "source": [
        "train_datagen = ImageDataGenerator(rescale = 1/255)\n",
        "test_datagen = ImageDataGenerator(rescale = 1/255, validation_split= 0.2)"
      ]
    },
    {
      "cell_type": "code",
      "execution_count": 43,
      "metadata": {
        "colab": {
          "base_uri": "https://localhost:8080/"
        },
        "id": "tpROJBbsUARV",
        "outputId": "1fca1f74-04ee-454c-e094-5a0fe48cc2a9"
      },
      "outputs": [
        {
          "output_type": "stream",
          "name": "stdout",
          "text": [
            "Found 1050 images belonging to 3 classes.\n",
            "Found 28 images belonging to 3 classes.\n",
            "Found 144 images belonging to 3 classes.\n"
          ]
        }
      ],
      "source": [
        "train_generator = train_datagen.flow_from_directory(\n",
        "    train_dir,\n",
        "    target_size = (28, 28),\n",
        "    batch_size = 128,\n",
        "    class_mode = \"categorical\",\n",
        "    color_mode = \"grayscale\",\n",
        "    subset = \"training\"\n",
        ")\n",
        "\n",
        "validation_generator = test_datagen.flow_from_directory(\n",
        "    test_dir,\n",
        "    target_size = (28, 28),\n",
        "    batch_size = 128,\n",
        "    class_mode = \"categorical\",\n",
        "    color_mode = \"grayscale\",\n",
        "    subset = \"validation\"\n",
        ")\n",
        "\n",
        "test_generator = test_datagen.flow_from_directory(\n",
        "    test_dir,\n",
        "    target_size = (28, 28),\n",
        "    batch_size = 128,\n",
        "    class_mode = \"categorical\",\n",
        "    color_mode = \"grayscale\"\n",
        ")"
      ]
    },
    {
      "cell_type": "code",
      "execution_count": 44,
      "metadata": {
        "id": "l_vpYmjBVi8M"
      },
      "outputs": [],
      "source": [
        "classes = [\"BENIGN\", \"MALIGNANT\", \"NORMAL\"]"
      ]
    },
    {
      "cell_type": "code",
      "execution_count": 45,
      "metadata": {
        "colab": {
          "base_uri": "https://localhost:8080/"
        },
        "id": "eitwx13gWztp",
        "outputId": "4dc2b28f-e76e-4ff2-a8a0-bb5a28ca9886"
      },
      "outputs": [
        {
          "output_type": "execute_result",
          "data": {
            "text/plain": [
              "['BENIGN', 'MALIGNANT', 'NORMAL']"
            ]
          },
          "metadata": {},
          "execution_count": 45
        }
      ],
      "source": [
        "classes"
      ]
    },
    {
      "cell_type": "code",
      "execution_count": 46,
      "metadata": {
        "id": "Q3TLL6PdW2VW"
      },
      "outputs": [],
      "source": [
        "def plotImages(images_arr):\n",
        "  fig, axes = plt.subplots(1, 5, figsize = (10, 10))\n",
        "  axes = axes.flatten()\n",
        "  for img, ax in zip(images_arr, axes):\n",
        "    ax.imshow(img[:,:,0])\n",
        "    ax.axis(\"off\")\n",
        "  plt.tight_layout()\n",
        "  plt.show()"
      ]
    },
    {
      "cell_type": "code",
      "execution_count": 47,
      "metadata": {
        "colab": {
          "base_uri": "https://localhost:8080/",
          "height": 162
        },
        "id": "_lfnXo0eXiPz",
        "outputId": "70d69d67-cacc-43d1-932e-d23ae8b101b6"
      },
      "outputs": [
        {
          "output_type": "display_data",
          "data": {
            "text/plain": [
              "<Figure size 720x720 with 5 Axes>"
            ],
            "image/png": "[encoded data removed]"
          },
          "metadata": {
            "needs_background": "light"
          }
        }
      ],
      "source": [
        "sample_training_images, _= next(train_generator)\n",
        "plotImages(sample_training_images[:5])"
      ]
    },
    {
      "cell_type": "code",
      "execution_count": 48,
      "metadata": {
        "id": "TKcuO0UQXpbY"
      },
      "outputs": [],
      "source": [
        "model_base = tf.keras.models.Sequential([\n",
        "              tf.keras.layers.Flatten(input_shape= (28, 28, 1)),\n",
        "              tf.keras.layers.Dense(256, activation = \"relu\"),\n",
        "              tf.keras.layers.Dense(128, activation = \"relu\"),\n",
        "              tf.keras.layers.Dense(len(classes), activation = \"softmax\")\n",
        "])"
      ]
    },
    {
      "cell_type": "code",
      "execution_count": 49,
      "metadata": {
        "colab": {
          "base_uri": "https://localhost:8080/"
        },
        "id": "xQ78pc0kpoal",
        "outputId": "e7533974-e502-4915-cd15-280bf187dcdc"
      },
      "outputs": [
        {
          "output_type": "stream",
          "name": "stdout",
          "text": [
            "Model: \"sequential_1\"\n",
            "_________________________________________________________________\n",
            " Layer (type)                Output Shape              Param #   \n",
            "=================================================================\n",
            " flatten_1 (Flatten)         (None, 784)               0         \n",
            "                                                                 \n",
            " dense_3 (Dense)             (None, 256)               200960    \n",
            "                                                                 \n",
            " dense_4 (Dense)             (None, 128)               32896     \n",
            "                                                                 \n",
            " dense_5 (Dense)             (None, 3)                 387       \n",
            "                                                                 \n",
            "=================================================================\n",
            "Total params: 234,243\n",
            "Trainable params: 234,243\n",
            "Non-trainable params: 0\n",
            "_________________________________________________________________\n"
          ]
        }
      ],
      "source": [
        "model_base.summary()"
      ]
    },
    {
      "cell_type": "code",
      "execution_count": 50,
      "metadata": {
        "colab": {
          "base_uri": "https://localhost:8080/"
        },
        "id": "6rYOoteeps10",
        "outputId": "fab7bf47-29b0-45ae-b2d7-aec1520998db"
      },
      "outputs": [
        {
          "output_type": "stream",
          "name": "stdout",
          "text": [
            "Epoch 1/50\n",
            "9/9 [==============================] - 1s 96ms/step - loss: 0.9752 - accuracy: 0.5143 - val_loss: 1.0827 - val_accuracy: 0.6429\n",
            "Epoch 2/50\n",
            "9/9 [==============================] - 1s 80ms/step - loss: 0.5969 - accuracy: 0.7752 - val_loss: 1.1021 - val_accuracy: 0.6429\n",
            "Epoch 3/50\n",
            "9/9 [==============================] - 1s 81ms/step - loss: 0.3896 - accuracy: 0.8762 - val_loss: 1.6320 - val_accuracy: 0.6429\n",
            "Epoch 4/50\n",
            "9/9 [==============================] - 1s 77ms/step - loss: 0.2432 - accuracy: 0.9362 - val_loss: 1.8534 - val_accuracy: 0.6429\n",
            "Epoch 5/50\n",
            "9/9 [==============================] - 1s 75ms/step - loss: 0.1567 - accuracy: 0.9733 - val_loss: 2.0251 - val_accuracy: 0.6071\n",
            "Epoch 6/50\n",
            "9/9 [==============================] - 1s 74ms/step - loss: 0.0962 - accuracy: 0.9838 - val_loss: 2.5752 - val_accuracy: 0.6429\n",
            "Epoch 7/50\n",
            "9/9 [==============================] - 1s 75ms/step - loss: 0.0533 - accuracy: 0.9981 - val_loss: 2.6982 - val_accuracy: 0.6429\n",
            "Epoch 8/50\n",
            "9/9 [==============================] - 1s 70ms/step - loss: 0.0324 - accuracy: 1.0000 - val_loss: 3.1246 - val_accuracy: 0.6429\n",
            "Epoch 9/50\n",
            "9/9 [==============================] - 1s 71ms/step - loss: 0.0226 - accuracy: 0.9990 - val_loss: 3.2954 - val_accuracy: 0.6429\n",
            "Epoch 10/50\n",
            "9/9 [==============================] - 1s 77ms/step - loss: 0.0153 - accuracy: 1.0000 - val_loss: 3.3046 - val_accuracy: 0.6429\n",
            "Epoch 11/50\n",
            "9/9 [==============================] - 1s 76ms/step - loss: 0.0106 - accuracy: 1.0000 - val_loss: 3.4548 - val_accuracy: 0.6429\n",
            "Epoch 12/50\n",
            "9/9 [==============================] - 1s 79ms/step - loss: 0.0077 - accuracy: 1.0000 - val_loss: 3.4846 - val_accuracy: 0.6429\n",
            "Epoch 13/50\n",
            "9/9 [==============================] - 1s 77ms/step - loss: 0.0064 - accuracy: 1.0000 - val_loss: 3.6752 - val_accuracy: 0.6429\n",
            "Epoch 14/50\n",
            "9/9 [==============================] - 1s 81ms/step - loss: 0.0051 - accuracy: 1.0000 - val_loss: 3.6467 - val_accuracy: 0.6429\n",
            "Epoch 15/50\n",
            "9/9 [==============================] - 1s 72ms/step - loss: 0.0045 - accuracy: 1.0000 - val_loss: 3.6962 - val_accuracy: 0.6429\n",
            "Epoch 16/50\n",
            "9/9 [==============================] - 1s 81ms/step - loss: 0.0037 - accuracy: 1.0000 - val_loss: 3.8074 - val_accuracy: 0.6429\n",
            "Epoch 17/50\n",
            "9/9 [==============================] - 1s 78ms/step - loss: 0.0033 - accuracy: 1.0000 - val_loss: 3.7254 - val_accuracy: 0.6429\n",
            "Epoch 18/50\n",
            "9/9 [==============================] - 1s 76ms/step - loss: 0.0027 - accuracy: 1.0000 - val_loss: 3.8191 - val_accuracy: 0.6429\n",
            "Epoch 19/50\n",
            "9/9 [==============================] - 1s 73ms/step - loss: 0.0024 - accuracy: 1.0000 - val_loss: 3.8390 - val_accuracy: 0.6429\n",
            "Epoch 20/50\n",
            "9/9 [==============================] - 1s 75ms/step - loss: 0.0022 - accuracy: 1.0000 - val_loss: 3.8716 - val_accuracy: 0.6429\n",
            "Epoch 21/50\n",
            "9/9 [==============================] - 1s 76ms/step - loss: 0.0019 - accuracy: 1.0000 - val_loss: 3.9244 - val_accuracy: 0.6429\n",
            "Epoch 22/50\n",
            "9/9 [==============================] - 1s 71ms/step - loss: 0.0017 - accuracy: 1.0000 - val_loss: 3.9855 - val_accuracy: 0.6429\n",
            "Epoch 23/50\n",
            "9/9 [==============================] - 1s 75ms/step - loss: 0.0016 - accuracy: 1.0000 - val_loss: 3.9587 - val_accuracy: 0.6429\n",
            "Epoch 24/50\n",
            "9/9 [==============================] - 1s 71ms/step - loss: 0.0014 - accuracy: 1.0000 - val_loss: 4.0010 - val_accuracy: 0.6429\n",
            "Epoch 25/50\n",
            "9/9 [==============================] - 1s 84ms/step - loss: 0.0013 - accuracy: 1.0000 - val_loss: 4.0764 - val_accuracy: 0.6429\n",
            "Epoch 26/50\n",
            "9/9 [==============================] - 1s 118ms/step - loss: 0.0012 - accuracy: 1.0000 - val_loss: 4.0390 - val_accuracy: 0.6429\n",
            "Epoch 27/50\n",
            "9/9 [==============================] - 1s 94ms/step - loss: 0.0011 - accuracy: 1.0000 - val_loss: 4.0826 - val_accuracy: 0.6429\n",
            "Epoch 28/50\n",
            "9/9 [==============================] - 1s 77ms/step - loss: 0.0010 - accuracy: 1.0000 - val_loss: 4.1027 - val_accuracy: 0.6429\n",
            "Epoch 29/50\n",
            "9/9 [==============================] - 1s 71ms/step - loss: 9.3469e-04 - accuracy: 1.0000 - val_loss: 4.1260 - val_accuracy: 0.6429\n",
            "Epoch 30/50\n",
            "9/9 [==============================] - 1s 71ms/step - loss: 8.6717e-04 - accuracy: 1.0000 - val_loss: 4.2053 - val_accuracy: 0.6429\n",
            "Epoch 31/50\n",
            "9/9 [==============================] - 1s 85ms/step - loss: 7.9807e-04 - accuracy: 1.0000 - val_loss: 4.1929 - val_accuracy: 0.6429\n",
            "Epoch 32/50\n",
            "9/9 [==============================] - 1s 69ms/step - loss: 7.4444e-04 - accuracy: 1.0000 - val_loss: 4.2295 - val_accuracy: 0.6429\n",
            "Epoch 33/50\n",
            "9/9 [==============================] - 1s 71ms/step - loss: 6.9622e-04 - accuracy: 1.0000 - val_loss: 4.2341 - val_accuracy: 0.6429\n",
            "Epoch 34/50\n",
            "9/9 [==============================] - 1s 70ms/step - loss: 6.4646e-04 - accuracy: 1.0000 - val_loss: 4.2509 - val_accuracy: 0.6429\n",
            "Epoch 35/50\n",
            "9/9 [==============================] - 1s 76ms/step - loss: 6.0822e-04 - accuracy: 1.0000 - val_loss: 4.2715 - val_accuracy: 0.6429\n",
            "Epoch 36/50\n",
            "9/9 [==============================] - 1s 83ms/step - loss: 5.7017e-04 - accuracy: 1.0000 - val_loss: 4.3089 - val_accuracy: 0.6429\n",
            "Epoch 37/50\n",
            "9/9 [==============================] - 1s 70ms/step - loss: 5.4129e-04 - accuracy: 1.0000 - val_loss: 4.3311 - val_accuracy: 0.6429\n",
            "Epoch 38/50\n",
            "9/9 [==============================] - 1s 73ms/step - loss: 5.0560e-04 - accuracy: 1.0000 - val_loss: 4.3513 - val_accuracy: 0.6429\n",
            "Epoch 39/50\n",
            "9/9 [==============================] - 1s 98ms/step - loss: 4.7800e-04 - accuracy: 1.0000 - val_loss: 4.3428 - val_accuracy: 0.6429\n",
            "Epoch 40/50\n",
            "9/9 [==============================] - 1s 99ms/step - loss: 4.5253e-04 - accuracy: 1.0000 - val_loss: 4.3616 - val_accuracy: 0.6429\n",
            "Epoch 41/50\n",
            "9/9 [==============================] - 1s 71ms/step - loss: 4.2434e-04 - accuracy: 1.0000 - val_loss: 4.3877 - val_accuracy: 0.6429\n",
            "Epoch 42/50\n",
            "9/9 [==============================] - 1s 71ms/step - loss: 4.0594e-04 - accuracy: 1.0000 - val_loss: 4.3935 - val_accuracy: 0.6429\n",
            "Epoch 43/50\n",
            "9/9 [==============================] - 1s 83ms/step - loss: 3.8433e-04 - accuracy: 1.0000 - val_loss: 4.4157 - val_accuracy: 0.6429\n",
            "Epoch 44/50\n",
            "9/9 [==============================] - 1s 84ms/step - loss: 3.6459e-04 - accuracy: 1.0000 - val_loss: 4.4218 - val_accuracy: 0.6429\n",
            "Epoch 45/50\n",
            "9/9 [==============================] - 1s 69ms/step - loss: 3.4896e-04 - accuracy: 1.0000 - val_loss: 4.4766 - val_accuracy: 0.6429\n",
            "Epoch 46/50\n",
            "9/9 [==============================] - 1s 68ms/step - loss: 3.3011e-04 - accuracy: 1.0000 - val_loss: 4.4573 - val_accuracy: 0.6429\n",
            "Epoch 47/50\n",
            "9/9 [==============================] - 1s 75ms/step - loss: 3.1389e-04 - accuracy: 1.0000 - val_loss: 4.4428 - val_accuracy: 0.6429\n",
            "Epoch 48/50\n",
            "9/9 [==============================] - 1s 74ms/step - loss: 3.0499e-04 - accuracy: 1.0000 - val_loss: 4.4554 - val_accuracy: 0.6429\n",
            "Epoch 49/50\n",
            "9/9 [==============================] - 1s 68ms/step - loss: 2.8861e-04 - accuracy: 1.0000 - val_loss: 4.5287 - val_accuracy: 0.6429\n",
            "Epoch 50/50\n",
            "9/9 [==============================] - 1s 70ms/step - loss: 2.7419e-04 - accuracy: 1.0000 - val_loss: 4.4850 - val_accuracy: 0.6429\n"
          ]
        }
      ],
      "source": [
        "model_base.compile(optimizer = \"adam\", loss = \"categorical_crossentropy\", metrics = ['accuracy'])\n",
        "\n",
        "\n",
        "history = model_base.fit(\n",
        "    train_generator, \n",
        "    epochs= 50, \n",
        "    validation_data = validation_generator\n",
        ")"
      ]
    },
    {
      "cell_type": "code",
      "execution_count": 51,
      "metadata": {
        "colab": {
          "base_uri": "https://localhost:8080/"
        },
        "id": "Tw71zpMBqeKT",
        "outputId": "4830177f-dcd6-4523-ab4b-b5cf2e72bd8f"
      },
      "outputs": [
        {
          "output_type": "stream",
          "name": "stdout",
          "text": [
            "2/2 [==============================] - 0s 16ms/step - loss: 4.3553 - accuracy: 0.5833\n"
          ]
        }
      ],
      "source": [
        "results = model_base.evaluate(test_generator)"
      ]
    },
    {
      "cell_type": "code",
      "execution_count": 52,
      "metadata": {
        "id": "y9J-Gl8JrzS2"
      },
      "outputs": [],
      "source": [
        "def visualizacion_resultados(history):\n",
        "  epochs = [i for i in range(50)]\n",
        "  fig, ax = plt.subplots(1,2)\n",
        "  train_acc = history.history[\"accuracy\"]\n",
        "  train_loss = history.history[\"loss\"]\n",
        "  val_acc = history.history[\"val_accuracy\"]\n",
        "  val_loss = history.history[\"val_loss\"]\n",
        "  fig.set_size_inches(16, 9)\n",
        "\n",
        "  ax[0].plot(epochs, train_acc, \"go-\", label =\" Entrenamiento accuracy\")\n",
        "  ax[0].plot(epochs, val_acc, \"ro-\", label= \"Validacion accuracy\")\n",
        "  ax[0].set_title(\"Entrenamiento & validación accuracy\")\n",
        "  ax[0].legend()\n",
        "  ax[0].set_xlabel(\"Epochs\")\n",
        "  ax[0].set_ylabel(\"Accuracy\")\n",
        "\n",
        "  ax[1].plot(epochs, train_loss, \"go-\", label =\" Entrenamiento Loss\")\n",
        "  ax[1].plot(epochs, val_loss, \"ro-\", label= \"Validacion Loss\")\n",
        "  ax[1].set_title(\"Entrenamiento & validación Loss\")\n",
        "  ax[1].legend()\n",
        "  ax[1].set_xlabel(\"Epochs\")\n",
        "  ax[1].set_ylabel(\"Loss\")\n",
        "\n",
        "  plt.show()"
      ]
    },
    {
      "cell_type": "code",
      "execution_count": 53,
      "metadata": {
        "colab": {
          "base_uri": "https://localhost:8080/",
          "height": 567
        },
        "id": "rAPEeUN5fnGW",
        "outputId": "72cc97af-901b-4202-ceaf-58e9f0ae7152"
      },
      "outputs": [
        {
          "output_type": "display_data",
          "data": {
            "text/plain": [
              "<Figure size 1152x648 with 2 Axes>"
            ],
            "image/png": "[encoded data removed]"
          },
          "metadata": {
            "needs_background": "light"
          }
        }
      ],
      "source": [
        "visualizacion_resultados(history)"
      ]
    },
    {
      "cell_type": "code",
      "execution_count": 54,
      "metadata": {
        "id": "0E01n8rygpjj"
      },
      "outputs": [],
      "source": [
        "from tensorflow.keras import regularizers"
      ]
    },
    {
      "cell_type": "code",
      "execution_count": 55,
      "metadata": {
        "colab": {
          "base_uri": "https://localhost:8080/"
        },
        "id": "-fyzSQlVjISa",
        "outputId": "ff873c9c-15c6-4757-d273-058bfdf2908e"
      },
      "outputs": [
        {
          "output_type": "stream",
          "name": "stdout",
          "text": [
            "Model: \"sequential_2\"\n",
            "_________________________________________________________________\n",
            " Layer (type)                Output Shape              Param #   \n",
            "=================================================================\n",
            " flatten_2 (Flatten)         (None, 784)               0         \n",
            "                                                                 \n",
            " dense_6 (Dense)             (None, 256)               200960    \n",
            "                                                                 \n",
            " dropout_2 (Dropout)         (None, 256)               0         \n",
            "                                                                 \n",
            " dense_7 (Dense)             (None, 128)               32896     \n",
            "                                                                 \n",
            " dropout_3 (Dropout)         (None, 128)               0         \n",
            "                                                                 \n",
            " dense_8 (Dense)             (None, 3)                 387       \n",
            "                                                                 \n",
            "=================================================================\n",
            "Total params: 234,243\n",
            "Trainable params: 234,243\n",
            "Non-trainable params: 0\n",
            "_________________________________________________________________\n"
          ]
        }
      ],
      "source": [
        "model_optimizer = tf.keras.models.Sequential([\n",
        "              tf.keras.layers.Flatten(input_shape= (28, 28, 1)),\n",
        "              tf.keras.layers.Dense(256, kernel_regularizer = regularizers.l2(1e-5), activation = \"softmax\"),\n",
        "              tf.keras.layers.Dropout(0.2),\n",
        "              tf.keras.layers.Dense(128, kernel_regularizer= regularizers.l2(1e-5),activation = \"softmax\"),\n",
        "              tf.keras.layers.Dropout(0.2),\n",
        "              tf.keras.layers.Dense(len(classes), activation = \"sigmoid\")\n",
        "])\n",
        "\n",
        "model_optimizer.summary()"
      ]
    },
    {
      "cell_type": "code",
      "execution_count": 56,
      "metadata": {
        "colab": {
          "base_uri": "https://localhost:8080/"
        },
        "id": "MOpd-XEbjLEB",
        "outputId": "1371e2cb-c695-47e1-b9e0-60726a79b325"
      },
      "outputs": [
        {
          "output_type": "stream",
          "name": "stdout",
          "text": [
            "Epoch 1/50\n",
            "9/9 [==============================] - 2s 107ms/step - loss: 1.1039 - accuracy: 0.3305 - val_loss: 1.1041 - val_accuracy: 0.2857\n",
            "Epoch 2/50\n",
            "9/9 [==============================] - 1s 75ms/step - loss: 1.1031 - accuracy: 0.3248 - val_loss: 1.1032 - val_accuracy: 0.3214\n",
            "Epoch 3/50\n",
            "9/9 [==============================] - 1s 70ms/step - loss: 1.1021 - accuracy: 0.3352 - val_loss: 1.1019 - val_accuracy: 0.3214\n",
            "Epoch 4/50\n",
            "9/9 [==============================] - 1s 76ms/step - loss: 1.1011 - accuracy: 0.3657 - val_loss: 1.1006 - val_accuracy: 0.6429\n",
            "Epoch 5/50\n",
            "9/9 [==============================] - 1s 77ms/step - loss: 1.1001 - accuracy: 0.3905 - val_loss: 1.0997 - val_accuracy: 0.3214\n",
            "Epoch 6/50\n",
            "9/9 [==============================] - 1s 76ms/step - loss: 1.0990 - accuracy: 0.4324 - val_loss: 1.0990 - val_accuracy: 0.3214\n",
            "Epoch 7/50\n",
            "9/9 [==============================] - 1s 75ms/step - loss: 1.0982 - accuracy: 0.4724 - val_loss: 1.0982 - val_accuracy: 0.3214\n",
            "Epoch 8/50\n",
            "9/9 [==============================] - 1s 78ms/step - loss: 1.0970 - accuracy: 0.4600 - val_loss: 1.0977 - val_accuracy: 0.3214\n",
            "Epoch 9/50\n",
            "9/9 [==============================] - 1s 87ms/step - loss: 1.0962 - accuracy: 0.4800 - val_loss: 1.0972 - val_accuracy: 0.3214\n",
            "Epoch 10/50\n",
            "9/9 [==============================] - 1s 86ms/step - loss: 1.0955 - accuracy: 0.5057 - val_loss: 1.0961 - val_accuracy: 0.3571\n",
            "Epoch 11/50\n",
            "9/9 [==============================] - 1s 71ms/step - loss: 1.0942 - accuracy: 0.5381 - val_loss: 1.0953 - val_accuracy: 0.3929\n",
            "Epoch 12/50\n",
            "9/9 [==============================] - 1s 74ms/step - loss: 1.0930 - accuracy: 0.5371 - val_loss: 1.0950 - val_accuracy: 0.3929\n",
            "Epoch 13/50\n",
            "9/9 [==============================] - 1s 70ms/step - loss: 1.0920 - accuracy: 0.5410 - val_loss: 1.0940 - val_accuracy: 0.3929\n",
            "Epoch 14/50\n",
            "9/9 [==============================] - 1s 79ms/step - loss: 1.0910 - accuracy: 0.5505 - val_loss: 1.0933 - val_accuracy: 0.3929\n",
            "Epoch 15/50\n",
            "9/9 [==============================] - 1s 75ms/step - loss: 1.0888 - accuracy: 0.5686 - val_loss: 1.0925 - val_accuracy: 0.3929\n",
            "Epoch 16/50\n",
            "9/9 [==============================] - 1s 81ms/step - loss: 1.0874 - accuracy: 0.5676 - val_loss: 1.0916 - val_accuracy: 0.3929\n",
            "Epoch 17/50\n",
            "9/9 [==============================] - 1s 71ms/step - loss: 1.0859 - accuracy: 0.5752 - val_loss: 1.0904 - val_accuracy: 0.3929\n",
            "Epoch 18/50\n",
            "9/9 [==============================] - 1s 75ms/step - loss: 1.0837 - accuracy: 0.5657 - val_loss: 1.0886 - val_accuracy: 0.7143\n",
            "Epoch 19/50\n",
            "9/9 [==============================] - 1s 70ms/step - loss: 1.0812 - accuracy: 0.5648 - val_loss: 1.0873 - val_accuracy: 0.7143\n",
            "Epoch 20/50\n",
            "9/9 [==============================] - 1s 71ms/step - loss: 1.0791 - accuracy: 0.5895 - val_loss: 1.0858 - val_accuracy: 0.7143\n",
            "Epoch 21/50\n",
            "9/9 [==============================] - 1s 71ms/step - loss: 1.0759 - accuracy: 0.5838 - val_loss: 1.0843 - val_accuracy: 0.3929\n",
            "Epoch 22/50\n",
            "9/9 [==============================] - 1s 78ms/step - loss: 1.0728 - accuracy: 0.5857 - val_loss: 1.0817 - val_accuracy: 0.3929\n",
            "Epoch 23/50\n",
            "9/9 [==============================] - 1s 75ms/step - loss: 1.0701 - accuracy: 0.5876 - val_loss: 1.0795 - val_accuracy: 0.3929\n",
            "Epoch 24/50\n",
            "9/9 [==============================] - 1s 80ms/step - loss: 1.0668 - accuracy: 0.5971 - val_loss: 1.0764 - val_accuracy: 0.3929\n",
            "Epoch 25/50\n",
            "9/9 [==============================] - 1s 78ms/step - loss: 1.0627 - accuracy: 0.6114 - val_loss: 1.0746 - val_accuracy: 0.3929\n",
            "Epoch 26/50\n",
            "9/9 [==============================] - 1s 72ms/step - loss: 1.0582 - accuracy: 0.6114 - val_loss: 1.0711 - val_accuracy: 0.3929\n",
            "Epoch 27/50\n",
            "9/9 [==============================] - 1s 71ms/step - loss: 1.0515 - accuracy: 0.5886 - val_loss: 1.0683 - val_accuracy: 0.3929\n",
            "Epoch 28/50\n",
            "9/9 [==============================] - 1s 71ms/step - loss: 1.0498 - accuracy: 0.5771 - val_loss: 1.0649 - val_accuracy: 0.3929\n",
            "Epoch 29/50\n",
            "9/9 [==============================] - 1s 69ms/step - loss: 1.0449 - accuracy: 0.5924 - val_loss: 1.0610 - val_accuracy: 0.3929\n",
            "Epoch 30/50\n",
            "9/9 [==============================] - 1s 78ms/step - loss: 1.0395 - accuracy: 0.6076 - val_loss: 1.0602 - val_accuracy: 0.3929\n",
            "Epoch 31/50\n",
            "9/9 [==============================] - 1s 73ms/step - loss: 1.0349 - accuracy: 0.5848 - val_loss: 1.0567 - val_accuracy: 0.3929\n",
            "Epoch 32/50\n",
            "9/9 [==============================] - 1s 76ms/step - loss: 1.0280 - accuracy: 0.6152 - val_loss: 1.0540 - val_accuracy: 0.3929\n",
            "Epoch 33/50\n",
            "9/9 [==============================] - 1s 82ms/step - loss: 1.0238 - accuracy: 0.5952 - val_loss: 1.0499 - val_accuracy: 0.3929\n",
            "Epoch 34/50\n",
            "9/9 [==============================] - 1s 74ms/step - loss: 1.0178 - accuracy: 0.6038 - val_loss: 1.0465 - val_accuracy: 0.3929\n",
            "Epoch 35/50\n",
            "9/9 [==============================] - 1s 71ms/step - loss: 1.0105 - accuracy: 0.5943 - val_loss: 1.0428 - val_accuracy: 0.3929\n",
            "Epoch 36/50\n",
            "9/9 [==============================] - 1s 80ms/step - loss: 1.0057 - accuracy: 0.6057 - val_loss: 1.0396 - val_accuracy: 0.3929\n",
            "Epoch 37/50\n",
            "9/9 [==============================] - 1s 75ms/step - loss: 1.0003 - accuracy: 0.6105 - val_loss: 1.0374 - val_accuracy: 0.3929\n",
            "Epoch 38/50\n",
            "9/9 [==============================] - 1s 75ms/step - loss: 0.9984 - accuracy: 0.5733 - val_loss: 1.0310 - val_accuracy: 0.3929\n",
            "Epoch 39/50\n",
            "9/9 [==============================] - 1s 80ms/step - loss: 0.9879 - accuracy: 0.6029 - val_loss: 1.0258 - val_accuracy: 0.3929\n",
            "Epoch 40/50\n",
            "9/9 [==============================] - 1s 82ms/step - loss: 0.9806 - accuracy: 0.6048 - val_loss: 1.0240 - val_accuracy: 0.3929\n",
            "Epoch 41/50\n",
            "9/9 [==============================] - 1s 78ms/step - loss: 0.9773 - accuracy: 0.6095 - val_loss: 1.0236 - val_accuracy: 0.3929\n",
            "Epoch 42/50\n",
            "9/9 [==============================] - 1s 80ms/step - loss: 0.9705 - accuracy: 0.6086 - val_loss: 1.0193 - val_accuracy: 0.3929\n",
            "Epoch 43/50\n",
            "9/9 [==============================] - 1s 78ms/step - loss: 0.9623 - accuracy: 0.5838 - val_loss: 1.0118 - val_accuracy: 0.3929\n",
            "Epoch 44/50\n",
            "9/9 [==============================] - 1s 77ms/step - loss: 0.9601 - accuracy: 0.6010 - val_loss: 1.0106 - val_accuracy: 0.3929\n",
            "Epoch 45/50\n",
            "9/9 [==============================] - 1s 70ms/step - loss: 0.9500 - accuracy: 0.6000 - val_loss: 1.0079 - val_accuracy: 0.3929\n",
            "Epoch 46/50\n",
            "9/9 [==============================] - 1s 73ms/step - loss: 0.9434 - accuracy: 0.6067 - val_loss: 1.0049 - val_accuracy: 0.3929\n",
            "Epoch 47/50\n",
            "9/9 [==============================] - 1s 75ms/step - loss: 0.9419 - accuracy: 0.6019 - val_loss: 1.0013 - val_accuracy: 0.3929\n",
            "Epoch 48/50\n",
            "9/9 [==============================] - 1s 81ms/step - loss: 0.9296 - accuracy: 0.6057 - val_loss: 0.9986 - val_accuracy: 0.3929\n",
            "Epoch 49/50\n",
            "9/9 [==============================] - 1s 78ms/step - loss: 0.9288 - accuracy: 0.5867 - val_loss: 0.9938 - val_accuracy: 0.3929\n",
            "Epoch 50/50\n",
            "9/9 [==============================] - 1s 83ms/step - loss: 0.9201 - accuracy: 0.6095 - val_loss: 0.9908 - val_accuracy: 0.3929\n"
          ]
        }
      ],
      "source": [
        "model_optimizer.compile(optimizer= \"adam\", loss = \"categorical_crossentropy\", metrics = [\"accuracy\"])\n",
        "\n",
        "history_optimizer = model_optimizer.fit(\n",
        "    train_generator,\n",
        "    epochs = 50,\n",
        "    validation_data = validation_generator\n",
        ")"
      ]
    },
    {
      "cell_type": "code",
      "execution_count": null,
      "metadata": {
        "id": "v99AFs5SjTSN"
      },
      "outputs": [],
      "source": [
        "def visualizacion_resultados(history):\n",
        "  epochs = [i for i in range(50)]\n",
        "  fig, ax = plt.subplots(1,2)\n",
        "  train_acc = history.history[\"accuracy\"]\n",
        "  train_loss = history.history[\"loss\"]\n",
        "  val_acc = history.history[\"val_accuracy\"]\n",
        "  val_loss = history.history[\"val_loss\"]\n",
        "  fig.set_size_inches(16, 9)\n",
        "\n",
        "  ax[0].plot(epochs, train_acc, \"go-\", label =\" Entrenamiento accuracy\")\n",
        "  ax[0].plot(epochs, val_acc, \"ro-\", label= \"Validacion accuracy\")\n",
        "  ax[0].set_title(\"Entrenamiento & validación accuracy\")\n",
        "  ax[0].legend()\n",
        "  ax[0].set_xlabel(\"Epochs\")\n",
        "  ax[0].set_ylabel(\"Accuracy\")\n",
        "\n",
        "  ax[1].plot(epochs, train_loss, \"go-\", label =\" Entrenamiento Loss\")\n",
        "  ax[1].plot(epochs, val_loss, \"ro-\", label= \"Validacion Loss\")\n",
        "  ax[1].set_title(\"Entrenamiento & validación Loss\")\n",
        "  ax[1].legend()\n",
        "  ax[1].set_xlabel(\"Epochs\")\n",
        "  ax[1].set_ylabel(\"Loss\")\n",
        "\n",
        "  plt.show()\n",
        "\n",
        "visualizacion_resultados(history_optimizer)"
      ]
    },
    {
      "cell_type": "markdown",
      "source": [
        "convoluciones\n"
      ],
      "metadata": {
        "id": "sQ1Kk29NWccM"
      }
    },
    {
      "cell_type": "code",
      "source": [
        "model_convolutional = tf.keras.models.Sequential([\n",
        "              tf.keras.layers.Conv2D(75, (3,3), activation = \"relu\", input_shape= (28, 28, 1)),\n",
        "              tf.keras.layers.MaxPool2D((2,2)),\n",
        "              tf.keras.layers.Flatten(),\n",
        "              tf.keras.layers.Dense(256, kernel_regularizer = regularizers.l2(1e-5), activation = \"relu\"),\n",
        "              tf.keras.layers.Dropout(0.2),\n",
        "              tf.keras.layers.Dense(128, kernel_regularizer= regularizers.l2(1e-5),activation = \"relu\"),\n",
        "              tf.keras.layers.Dropout(0.2),\n",
        "              tf.keras.layers.Dense(len(classes), activation = \"softmax\")\n",
        "])\n",
        "\n",
        "model_convolutional.summary()\n",
        "\n",
        "model_convolutional.compile(optimizer= \"adam\", loss = \"categorical_crossentropy\", metrics = [\"accuracy\"])\n",
        "\n",
        "history_convolutional = model_convolutional.fit(\n",
        "    train_generator,\n",
        "    epochs = 50,\n",
        "    validation_data = validation_generator\n",
        ")"
      ],
      "metadata": {
        "id": "WGzSIq-SWgLk"
      },
      "execution_count": null,
      "outputs": []
    },
    {
      "cell_type": "code",
      "source": [
        "visualizacion_resultados(history_convolutional)"
      ],
      "metadata": {
        "id": "GwdFeDyFWoHC"
      },
      "execution_count": null,
      "outputs": []
    },
    {
      "cell_type": "code",
      "source": [
        ""
      ],
      "metadata": {
        "id": "OaD4CFcAW0px"
      },
      "execution_count": null,
      "outputs": []
    },
    {
      "cell_type": "markdown",
      "source": [
        "CALLBACKS"
      ],
      "metadata": {
        "id": "vIh-_fcDYqYv"
      }
    },
    {
      "cell_type": "code",
      "source": [
        "model_callback = tf.keras.models.Sequential([\n",
        "              tf.keras.layers.Conv2D(75, (3,3), activation = \"relu\", input_shape= (28, 28, 1)),\n",
        "              tf.keras.layers.MaxPool2D((2,2)),\n",
        "              tf.keras.layers.Flatten(),\n",
        "              tf.keras.layers.Dense(256, kernel_regularizer = regularizers.l2(1e-5), activation = \"relu\"),\n",
        "              tf.keras.layers.Dropout(0.2),\n",
        "              tf.keras.layers.Dense(128, kernel_regularizer= regularizers.l2(1e-5),activation = \"relu\"),\n",
        "              tf.keras.layers.Dropout(0.2),\n",
        "              tf.keras.layers.Dense(len(classes), activation = \"softmax\")\n",
        "])\n",
        "\n",
        "model_callback.summary()\n",
        "\n",
        "model_callback.compile(optimizer= \"adam\", loss = \"categorical_crossentropy\", metrics = [\"accuracy\"])"
      ],
      "metadata": {
        "id": "u63PRYYVYtUw"
      },
      "execution_count": null,
      "outputs": []
    },
    {
      "cell_type": "code",
      "source": [
        "from tensorflow.keras.callbacks import Callback\n",
        "\n",
        "class TrainingCallback(Callback):\n",
        "  def on_epoch_end(self, epoch, logs = {}):\n",
        "    if logs.get(\"accuracy\") > 0.999:\n",
        "      print(\"Lo logramos, nuestro modelo llego a 95%, detenemos el entrenamiento\")\n",
        "      self.model.stop_training = True"
      ],
      "metadata": {
        "id": "vjPPd7lba32j"
      },
      "execution_count": null,
      "outputs": []
    },
    {
      "cell_type": "code",
      "source": [
        "callback = TrainingCallback()\n",
        "\n",
        "history_callback = model_callback.fit(\n",
        "    train_generator,\n",
        "    epochs = 50,\n",
        "    callbacks = [callback],\n",
        "    validation_data = validation_generator\n",
        ")"
      ],
      "metadata": {
        "colab": {
          "base_uri": "https://localhost:8080/"
        },
        "id": "AWK2PJ5Ia54C",
        "outputId": "3e7467d5-d94a-4a47-eacc-cb7e1f5ab915"
      },
      "execution_count": 57,
      "outputs": [
        {
          "output_type": "stream",
          "name": "stdout",
          "text": [
            "Epoch 1/50\n",
            "9/9 [==============================] - ETA: 0s - loss: 0.0151 - accuracy: 1.0000Lo logramos, nuestro modelo llego a 95%, detenemos el entrenamiento\n",
            "9/9 [==============================] - 2s 234ms/step - loss: 0.0151 - accuracy: 1.0000 - val_loss: 3.3076 - val_accuracy: 0.6429\n"
          ]
        }
      ]
    },
    {
      "cell_type": "code",
      "source": [
        "def get_model():\n",
        "  model = tf.keras.models.Sequential([\n",
        "              tf.keras.layers.Conv2D(75, (3,3), activation = \"relu\", input_shape= (28, 28, 1)),\n",
        "              tf.keras.layers.MaxPool2D((2,2)),\n",
        "              tf.keras.layers.Flatten(),\n",
        "              tf.keras.layers.Dense(256, kernel_regularizer = regularizers.l2(1e-5), activation = \"relu\"),\n",
        "              tf.keras.layers.Dropout(0.2),\n",
        "              tf.keras.layers.Dense(128, kernel_regularizer= regularizers.l2(1e-5),activation = \"relu\"),\n",
        "              tf.keras.layers.Dropout(0.2),\n",
        "              tf.keras.layers.Dense(len(classes), activation = \"softmax\")\n",
        "  ])\n",
        "  return model\n",
        "\n",
        "model_early = get_model()\n",
        "model_early.summary()\n",
        "\n",
        "model_early.compile(optimizer= \"adam\", loss = \"categorical_crossentropy\", metrics = [\"accuracy\"])"
      ],
      "metadata": {
        "id": "qBCVudTya845"
      },
      "execution_count": null,
      "outputs": []
    },
    {
      "cell_type": "markdown",
      "source": [
        "early stopping"
      ],
      "metadata": {
        "id": "mAfDjjZTgWLF"
      }
    },
    {
      "cell_type": "code",
      "source": [
        "callback_early = tf.keras.callbacks.EarlyStopping(monitor = \"loss\", patience=3, mode = \"auto\")"
      ],
      "metadata": {
        "id": "O5SV6fK-gdn9"
      },
      "execution_count": null,
      "outputs": []
    },
    {
      "cell_type": "code",
      "source": [
        "history_early = model_early.fit(\n",
        "    train_generator, \n",
        "    epochs= 50, \n",
        "    callbacks = [callback_early],\n",
        "    validation_data = validation_generator\n",
        ")"
      ],
      "metadata": {
        "id": "VUXHIKIVghRv"
      },
      "execution_count": null,
      "outputs": []
    },
    {
      "cell_type": "code",
      "source": [
        ""
      ],
      "metadata": {
        "id": "G6lOVCsfglev"
      },
      "execution_count": null,
      "outputs": []
    },
    {
      "cell_type": "markdown",
      "metadata": {
        "id": "Ip4_h5llSPqE"
      },
      "source": [
        "## Creamos nuestra modelo funcional con Auto Tunner Keras"
      ]
    },
    {
      "cell_type": "code",
      "source": [
        "!pip install -q -U keras-tuner\n",
        "import kerastuner as kt\n",
        "from tensorflow import keras"
      ],
      "metadata": {
        "id": "LO9FysC5mGRg"
      },
      "execution_count": null,
      "outputs": []
    },
    {
      "cell_type": "code",
      "source": [
        "def constructor_modelos(hp):\n",
        "  model = tf.keras.models.Sequential()\n",
        "  model.add(tf.keras.layers.Conv2D(75, (3,3), activation= \"relu\", input_shape = (28, 28, 1)))\n",
        "  model.add(tf.keras.layers.MaxPool2D((2,2)))\n",
        "  model.add(tf.keras.layers.Flatten())\n",
        "\n",
        "  hp_units = hp.Int(\"units\", min_value = 32, max_value = 512, step = 32)\n",
        "  model.add(tf.keras.layers.Dense(units=hp_units,activation = \"relu\", kernel_regularizer= regularizers.l2(1e-5)))\n",
        "  model.add(tf.keras.layers.Dropout(0.2))\n",
        "  model.add(tf.keras.layers.Dense(128,activation = \"relu\", kernel_regularizer= regularizers.l2(1e-5)))\n",
        "  model.add(tf.keras.layers.Dropout(0.2))\n",
        "  model.add(tf.keras.layers.Dense(len(classes), activation = \"softmax\"))\n",
        "\n",
        "  hp_learning_rate = hp.Choice('learning_rate', values = [1e-2, 1e-3, 1e-4])\n",
        "\n",
        "  model.compile(optimizer = keras.optimizers.Adam(learning_rate=hp_learning_rate),loss = \"categorical_crossentropy\", metrics = [\"accuracy\"])\n",
        "\n",
        "  return model"
      ],
      "metadata": {
        "id": "QWfnAlLzmGOG"
      },
      "execution_count": null,
      "outputs": []
    },
    {
      "cell_type": "code",
      "source": [
        "tuner = kt.Hyperband(\n",
        "    constructor_modelos,\n",
        "    objective = \"val_accuracy\",\n",
        "    max_epochs = 20,\n",
        "    factor = 3,\n",
        "    directory = \"models/\",\n",
        "    project_name = \"tunner\")"
      ],
      "metadata": {
        "id": "UQzCa0hdmGLC"
      },
      "execution_count": null,
      "outputs": []
    },
    {
      "cell_type": "code",
      "source": [
        "tuner.search(train_generator, epochs =20, validation_data = validation_generator)\n",
        "\n",
        "best_hps = tuner.get_best_hyperparameters(num_trials =1)[0]"
      ],
      "metadata": {
        "colab": {
          "base_uri": "https://localhost:8080/"
        },
        "id": "FkRXArT-mGBS",
        "outputId": "26dd4225-41eb-4959-86cd-0a9d2408a7b2"
      },
      "execution_count": 58,
      "outputs": [
        {
          "output_type": "stream",
          "name": "stdout",
          "text": [
            "Trial 42 Complete [00h 00m 50s]\n",
            "val_accuracy: 0.3928571343421936\n",
            "\n",
            "Best val_accuracy So Far: 0.8214285969734192\n",
            "Total elapsed time: 00h 19m 00s\n",
            "INFO:tensorflow:Oracle triggered exit\n"
          ]
        }
      ]
    },
    {
      "cell_type": "code",
      "source": [
        "print(best_hps.get(\"units\"))"
      ],
      "metadata": {
        "colab": {
          "base_uri": "https://localhost:8080/"
        },
        "id": "mzWnJTrduqWs",
        "outputId": "d0223b64-656a-4c0d-c714-4be6da0c1c65"
      },
      "execution_count": 59,
      "outputs": [
        {
          "output_type": "stream",
          "name": "stdout",
          "text": [
            "448\n"
          ]
        }
      ]
    },
    {
      "cell_type": "code",
      "source": [
        "print(best_hps.get(\"learning_rate\"))"
      ],
      "metadata": {
        "colab": {
          "base_uri": "https://localhost:8080/"
        },
        "id": "V5GYZG8Tutcg",
        "outputId": "057e23a4-3144-4ab0-af5a-43a8a85d0bcc"
      },
      "execution_count": 60,
      "outputs": [
        {
          "output_type": "stream",
          "name": "stdout",
          "text": [
            "0.001\n"
          ]
        }
      ]
    },
    {
      "cell_type": "code",
      "source": [
        "hypermodel = tuner.hypermodel.build(best_hps)\n",
        "\n",
        "history_hypermodel = hypermodel.fit(\n",
        "    train_generator,\n",
        "    epochs = 20,\n",
        "    callbacks = [callback_early],\n",
        "    validation_data = validation_generator\n",
        ")"
      ],
      "metadata": {
        "colab": {
          "base_uri": "https://localhost:8080/"
        },
        "id": "sjmdv4dYuwDv",
        "outputId": "8a18c6a6-2331-46d1-c02e-4ab49b2db7ec"
      },
      "execution_count": 62,
      "outputs": [
        {
          "output_type": "stream",
          "name": "stdout",
          "text": [
            "Epoch 1/20\n",
            "9/9 [==============================] - 3s 295ms/step - loss: 1.1692 - accuracy: 0.4210 - val_loss: 0.9784 - val_accuracy: 0.3214\n",
            "Epoch 2/20\n",
            "9/9 [==============================] - 3s 310ms/step - loss: 0.9169 - accuracy: 0.5590 - val_loss: 0.9144 - val_accuracy: 0.5714\n",
            "Epoch 3/20\n",
            "9/9 [==============================] - 3s 280ms/step - loss: 0.7292 - accuracy: 0.7029 - val_loss: 1.1300 - val_accuracy: 0.6071\n",
            "Epoch 4/20\n",
            "9/9 [==============================] - 3s 321ms/step - loss: 0.5343 - accuracy: 0.7914 - val_loss: 1.1572 - val_accuracy: 0.6071\n",
            "Epoch 5/20\n",
            "9/9 [==============================] - 3s 272ms/step - loss: 0.3406 - accuracy: 0.8857 - val_loss: 1.7493 - val_accuracy: 0.6429\n",
            "Epoch 6/20\n",
            "9/9 [==============================] - 3s 287ms/step - loss: 0.2222 - accuracy: 0.9229 - val_loss: 2.0147 - val_accuracy: 0.6429\n",
            "Epoch 7/20\n",
            "9/9 [==============================] - 3s 294ms/step - loss: 0.1375 - accuracy: 0.9695 - val_loss: 2.4834 - val_accuracy: 0.6429\n",
            "Epoch 8/20\n",
            "9/9 [==============================] - 3s 293ms/step - loss: 0.0829 - accuracy: 0.9819 - val_loss: 2.6146 - val_accuracy: 0.6429\n",
            "Epoch 9/20\n",
            "9/9 [==============================] - 3s 291ms/step - loss: 0.0566 - accuracy: 0.9895 - val_loss: 2.8912 - val_accuracy: 0.6429\n",
            "Epoch 10/20\n",
            "9/9 [==============================] - 3s 306ms/step - loss: 0.0345 - accuracy: 0.9981 - val_loss: 3.1437 - val_accuracy: 0.6429\n",
            "Epoch 11/20\n",
            "9/9 [==============================] - 3s 312ms/step - loss: 0.0242 - accuracy: 1.0000 - val_loss: 3.2202 - val_accuracy: 0.6429\n",
            "Epoch 12/20\n",
            "9/9 [==============================] - 3s 308ms/step - loss: 0.0227 - accuracy: 0.9990 - val_loss: 3.7576 - val_accuracy: 0.6429\n",
            "Epoch 13/20\n",
            "9/9 [==============================] - 3s 355ms/step - loss: 0.0199 - accuracy: 1.0000 - val_loss: 3.4853 - val_accuracy: 0.6429\n",
            "Epoch 14/20\n",
            "9/9 [==============================] - 3s 312ms/step - loss: 0.0177 - accuracy: 1.0000 - val_loss: 3.6580 - val_accuracy: 0.6786\n",
            "Epoch 15/20\n",
            "9/9 [==============================] - 3s 272ms/step - loss: 0.0153 - accuracy: 1.0000 - val_loss: 3.4397 - val_accuracy: 0.6429\n",
            "Epoch 16/20\n",
            "9/9 [==============================] - 3s 283ms/step - loss: 0.0140 - accuracy: 1.0000 - val_loss: 3.8240 - val_accuracy: 0.6429\n",
            "Epoch 17/20\n",
            "9/9 [==============================] - 3s 283ms/step - loss: 0.0135 - accuracy: 1.0000 - val_loss: 3.8333 - val_accuracy: 0.6429\n",
            "Epoch 18/20\n",
            "9/9 [==============================] - 3s 289ms/step - loss: 0.0136 - accuracy: 1.0000 - val_loss: 3.9982 - val_accuracy: 0.6429\n",
            "Epoch 19/20\n",
            "9/9 [==============================] - 3s 297ms/step - loss: 0.0126 - accuracy: 1.0000 - val_loss: 3.9953 - val_accuracy: 0.6429\n",
            "Epoch 20/20\n",
            "9/9 [==============================] - 3s 285ms/step - loss: 0.0126 - accuracy: 1.0000 - val_loss: 4.0447 - val_accuracy: 0.6429\n"
          ]
        }
      ]
    },
    {
      "cell_type": "code",
      "source": [
        ""
      ],
      "metadata": {
        "id": "GXLpUkfmuy5n"
      },
      "execution_count": null,
      "outputs": []
    }
  ],
  "metadata": {
    "colab": {
      "collapsed_sections": [],
      "name": "Tumor_classiffier",
      "provenance": [],
      "authorship_tag": "ABX9TyPxRhOYD+5Mfv08jItcs4Ou",
      "include_colab_link": true
    },
    "kernelspec": {
      "display_name": "Python 3",
      "name": "python3"
    },
    "language_info": {
      "name": "python"
    }
  },
  "nbformat": 4,
  "nbformat_minor": 0
}
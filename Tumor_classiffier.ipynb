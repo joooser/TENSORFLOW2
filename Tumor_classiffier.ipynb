{
  "cells": [
    {
      "cell_type": "markdown",
      "metadata": {
        "id": "view-in-github",
        "colab_type": "text"
      },
      "source": [
        "<a href=\"https://colab.research.google.com/github/joooser/TENSORFLOW2/blob/main/Tumor_classiffier.ipynb\" target=\"_parent\"><img src=\"https://colab.research.google.com/assets/colab-badge.svg\" alt=\"Open In Colab\"/></a>"
      ]
    },
    {
      "cell_type": "code",
      "execution_count": 1,
      "metadata": {
        "colab": {
          "base_uri": "https://localhost:8080/"
        },
        "outputId": "bd70531e-5369-4149-992f-6ade5c0278b4",
        "id": "WwRXG5arbePt"
      },
      "outputs": [
        {
          "output_type": "stream",
          "name": "stdout",
          "text": [
            "--2022-06-29 21:47:02--  https://storage.googleapis.com/platzi-tf2/TumorClassification.zip\n",
            "Resolving storage.googleapis.com (storage.googleapis.com)... 172.253.62.128, 142.250.65.80, 142.250.188.208, ...\n",
            "Connecting to storage.googleapis.com (storage.googleapis.com)|172.253.62.128|:443... connected.\n",
            "HTTP request sent, awaiting response... 200 OK\n",
            "Length: 7460028 (7.1M) [application/zip]\n",
            "Saving to: ‘/tmp/platzi-tf2/TumorClassification.zip’\n",
            "\n",
            "/tmp/platzi-tf2/Tum 100%[===================>]   7.11M  --.-KB/s    in 0.1s    \n",
            "\n",
            "2022-06-29 21:47:03 (53.8 MB/s) - ‘/tmp/platzi-tf2/TumorClassification.zip’ saved [7460028/7460028]\n",
            "\n"
          ]
        }
      ],
      "source": [
        "!wget --no-check-certificate https://storage.googleapis.com/platzi-tf2/TumorClassification.zip \\\n",
        "    -O /tmp/platzi-tf2/TumorClassification.zip"
      ]
    },
    {
      "cell_type": "code",
      "execution_count": 2,
      "metadata": {
        "colab": {
          "base_uri": "https://localhost:8080/"
        },
        "outputId": "5b4508a5-7231-408c-c892-5efa23ca8f25",
        "id": "Q8Ae5K5ubiFH"
      },
      "outputs": [
        {
          "output_type": "stream",
          "name": "stdout",
          "text": [
            "--2022-06-29 21:47:04--  https://storage.googleapis.com/platzi-tf2/TumorClassification.zip\n",
            "Resolving storage.googleapis.com (storage.googleapis.com)... 172.217.0.48, 172.217.2.112, 172.253.62.128, ...\n",
            "Connecting to storage.googleapis.com (storage.googleapis.com)|172.217.0.48|:443... connected.\n",
            "HTTP request sent, awaiting response... 200 OK\n",
            "Length: 7460028 (7.1M) [application/zip]\n",
            "Saving to: ‘/tmp/platzi-tf2/TumorClassification.zip’\n",
            "\n",
            "\r          /tmp/plat   0%[                    ]       0  --.-KB/s               \r/tmp/platzi-tf2/Tum 100%[===================>]   7.11M  --.-KB/s    in 0.06s   \n",
            "\n",
            "2022-06-29 21:47:04 (127 MB/s) - ‘/tmp/platzi-tf2/TumorClassification.zip’ saved [7460028/7460028]\n",
            "\n"
          ]
        }
      ],
      "source": [
        "!wget --no-check-certificate https://storage.googleapis.com/platzi-tf2/TumorClassification.zip \\\n",
        "    -O /tmp/platzi-tf2/TumorClassification.zip"
      ]
    },
    {
      "cell_type": "code",
      "execution_count": 3,
      "metadata": {
        "id": "9xVOLWnJflLA"
      },
      "outputs": [],
      "source": [
        "import os\n",
        "import zipfile"
      ]
    },
    {
      "cell_type": "code",
      "execution_count": 4,
      "metadata": {
        "colab": {
          "base_uri": "https://localhost:8080/"
        },
        "id": "X0G2iDJiUoBr",
        "outputId": "4b536bf9-e35f-4a88-a39e-db81878f8860"
      },
      "outputs": [
        {
          "output_type": "stream",
          "name": "stdout",
          "text": [
            "--2022-06-29 21:47:05--  https://storage.googleapis.com/platzi-tf2/TumorClassification.zip\n",
            "Resolving storage.googleapis.com (storage.googleapis.com)... 172.253.115.128, 172.253.122.128, 172.253.63.128, ...\n",
            "Connecting to storage.googleapis.com (storage.googleapis.com)|172.253.115.128|:443... connected.\n",
            "HTTP request sent, awaiting response... 200 OK\n",
            "Length: 7460028 (7.1M) [application/zip]\n",
            "Saving to: ‘/tmp/platzi-tf2/TumorClassification.zip’\n",
            "\n",
            "\r          /tmp/plat   0%[                    ]       0  --.-KB/s               \r/tmp/platzi-tf2/Tum 100%[===================>]   7.11M  --.-KB/s    in 0.04s   \n",
            "\n",
            "2022-06-29 21:47:05 (176 MB/s) - ‘/tmp/platzi-tf2/TumorClassification.zip’ saved [7460028/7460028]\n",
            "\n"
          ]
        }
      ],
      "source": [
        "!wget --no-check-certificate https://storage.googleapis.com/platzi-tf2/TumorClassification.zip \\\n",
        "    -O /tmp/platzi-tf2/TumorClassification.zip"
      ]
    },
    {
      "cell_type": "code",
      "execution_count": 5,
      "metadata": {
        "colab": {
          "base_uri": "https://localhost:8080/"
        },
        "id": "j7ncDZxbG6pv",
        "outputId": "6cf3ae7c-042d-4ae6-8b27-f7154c438907"
      },
      "outputs": [
        {
          "output_type": "stream",
          "name": "stdout",
          "text": [
            "--2022-06-29 21:47:05--  https://storage.googleapis.com/platzi-tf2/TumorClassification.zip\n",
            "Resolving storage.googleapis.com (storage.googleapis.com)... 142.251.16.128, 142.250.81.208, 142.250.188.48, ...\n",
            "Connecting to storage.googleapis.com (storage.googleapis.com)|142.251.16.128|:443... connected.\n",
            "HTTP request sent, awaiting response... 200 OK\n",
            "Length: 7460028 (7.1M) [application/zip]\n",
            "Saving to: ‘/tmp/platzi-tf2/TumorClassification.zip’\n",
            "\n",
            "\r          /tmp/plat   0%[                    ]       0  --.-KB/s               \r/tmp/platzi-tf2/Tum 100%[===================>]   7.11M  --.-KB/s    in 0.03s   \n",
            "\n",
            "2022-06-29 21:47:05 (243 MB/s) - ‘/tmp/platzi-tf2/TumorClassification.zip’ saved [7460028/7460028]\n",
            "\n"
          ]
        }
      ],
      "source": [
        "!wget --no-check-certificate https://storage.googleapis.com/platzi-tf2/TumorClassification.zip \\\n",
        "    -O /tmp/platzi-tf2/TumorClassification.zip"
      ]
    },
    {
      "cell_type": "code",
      "execution_count": 6,
      "metadata": {
        "id": "yIr1bDTAoUaj"
      },
      "outputs": [],
      "source": [
        "local_zip = \"/tmp/platzi-tf2/TumorClassification.zip\"\n",
        "zip_ref = zipfile.ZipFile(local_zip, \"r\")\n",
        "zip_ref.extractall(\"/tmp/platzi-tf2\")\n",
        "zip_ref.close()"
      ]
    },
    {
      "cell_type": "code",
      "execution_count": 7,
      "metadata": {
        "colab": {
          "base_uri": "https://localhost:8080/"
        },
        "id": "YsGjT6P_Hb7a",
        "outputId": "391747c0-b082-4af8-bb16-b3947cb6f038"
      },
      "outputs": [
        {
          "output_type": "stream",
          "name": "stdout",
          "text": [
            "350\n"
          ]
        }
      ],
      "source": [
        "initial_count = 0\n",
        "dir = \"/tmp/platzi-tf2/Train/NORMAL/\"\n",
        "for path in os.listdir(dir):\n",
        "    if os.path.isfile(os.path.join(dir, path)):\n",
        "        initial_count += 1\n",
        "print(initial_count)"
      ]
    },
    {
      "cell_type": "code",
      "execution_count": 8,
      "metadata": {
        "id": "q6waQRSFWCkS"
      },
      "outputs": [],
      "source": [
        "import numpy as np\n",
        "%matplotlib inline\n",
        "import matplotlib.pyplot as plt\n",
        "import matplotlib.image as mpimg\n",
        "import string\n",
        "import tensorflow as tf\n",
        "from tensorflow.keras.preprocessing.image import ImageDataGenerator\n",
        "import requests as requests\n",
        "from PIL import Image\n",
        "from io import BytesIO\n",
        "import codecs\n",
        "import json\n"
      ]
    },
    {
      "cell_type": "code",
      "execution_count": 9,
      "metadata": {
        "id": "5Q3w8L7wS8Dx"
      },
      "outputs": [],
      "source": [
        "train_dir = \"/tmp/platzi-tf2/Train\"\n",
        "test_dir = \"/tmp/platzi-tf2/Test\""
      ]
    },
    {
      "cell_type": "code",
      "execution_count": 10,
      "metadata": {
        "id": "kyIvJTVfTK-I"
      },
      "outputs": [],
      "source": [
        "train_datagen = ImageDataGenerator(rescale = 1/255)\n",
        "test_datagen = ImageDataGenerator(rescale = 1/255, validation_split= 0.28)"
      ]
    },
    {
      "cell_type": "code",
      "execution_count": 11,
      "metadata": {
        "colab": {
          "base_uri": "https://localhost:8080/"
        },
        "id": "tpROJBbsUARV",
        "outputId": "adc73c8c-93cd-4e54-b058-69a3880fdd3a"
      },
      "outputs": [
        {
          "output_type": "stream",
          "name": "stdout",
          "text": [
            "Found 1050 images belonging to 3 classes.\n",
            "Found 39 images belonging to 3 classes.\n",
            "Found 144 images belonging to 3 classes.\n"
          ]
        }
      ],
      "source": [
        "train_generator = train_datagen.flow_from_directory(\n",
        "    train_dir,\n",
        "    target_size = (56, 56),\n",
        "    batch_size = 128,\n",
        "    class_mode = \"categorical\",\n",
        "    color_mode = \"grayscale\",\n",
        "    subset = \"training\"\n",
        ")\n",
        "\n",
        "validation_generator = test_datagen.flow_from_directory(\n",
        "    test_dir,\n",
        "    target_size = (56, 56),\n",
        "    batch_size = 64,\n",
        "    class_mode = \"categorical\",\n",
        "    color_mode = \"grayscale\",\n",
        "    subset = \"validation\"\n",
        ")\n",
        "\n",
        "test_generator = test_datagen.flow_from_directory(\n",
        "    test_dir,\n",
        "    target_size = (56, 56),\n",
        "    batch_size = 128,\n",
        "    class_mode = \"categorical\",\n",
        "    color_mode = \"grayscale\"\n",
        ")"
      ]
    },
    {
      "cell_type": "code",
      "execution_count": 12,
      "metadata": {
        "id": "l_vpYmjBVi8M"
      },
      "outputs": [],
      "source": [
        "classes = [\"BENIGN\", \"MALIGNANT\", \"NORMAL\"]"
      ]
    },
    {
      "cell_type": "code",
      "execution_count": 13,
      "metadata": {
        "colab": {
          "base_uri": "https://localhost:8080/"
        },
        "id": "eitwx13gWztp",
        "outputId": "c9368983-7b61-49b7-8fca-cf9e27fdff60"
      },
      "outputs": [
        {
          "output_type": "execute_result",
          "data": {
            "text/plain": [
              "['BENIGN', 'MALIGNANT', 'NORMAL']"
            ]
          },
          "metadata": {},
          "execution_count": 13
        }
      ],
      "source": [
        "classes"
      ]
    },
    {
      "cell_type": "code",
      "execution_count": 14,
      "metadata": {
        "id": "Q3TLL6PdW2VW"
      },
      "outputs": [],
      "source": [
        "def plotImages(images_arr):\n",
        "  fig, axes = plt.subplots(1, 5, figsize = (10, 10))\n",
        "  axes = axes.flatten()\n",
        "  for img, ax in zip(images_arr, axes):\n",
        "    ax.imshow(img[:,:,0])\n",
        "    ax.axis(\"off\")\n",
        "  plt.tight_layout()\n",
        "  plt.show()"
      ]
    },
    {
      "cell_type": "code",
      "execution_count": 15,
      "metadata": {
        "colab": {
          "base_uri": "https://localhost:8080/",
          "height": 162
        },
        "id": "_lfnXo0eXiPz",
        "outputId": "d92d4f9f-3ccc-468e-97b4-cb0778c169ca"
      },
      "outputs": [
        {
          "output_type": "display_data",
          "data": {
            "text/plain": [
              "<Figure size 720x720 with 5 Axes>"
            ],
            "image/png": "[encoded data removed]"
          },
          "metadata": {
            "needs_background": "light"
          }
        }
      ],
      "source": [
        "sample_training_images, _= next(train_generator)\n",
        "plotImages(sample_training_images[10:15])"
      ]
    },
    {
      "cell_type": "code",
      "execution_count": 16,
      "metadata": {
        "id": "PX84n2hjllIE"
      },
      "outputs": [],
      "source": [
        "from tensorflow.keras.preprocessing.image import ImageDataGenerator, array_to_img, img_to_array, load_img\n",
        "import matplotlib.pyplot as plt"
      ]
    },
    {
      "cell_type": "code",
      "execution_count": 17,
      "metadata": {
        "id": "Fm7ojDgfuNV_"
      },
      "outputs": [],
      "source": [
        "datagen = ImageDataGenerator(\n",
        "rotation_range=40,\n",
        "width_shift_range=0.2,\n",
        "height_shift_range=0.2,\n",
        "zoom_range=0.2,\n",
        "horizontal_flip=True,\n",
        "fill_mode='nearest',\n",
        ")"
      ]
    },
    {
      "cell_type": "code",
      "execution_count": 19,
      "metadata": {
        "colab": {
          "base_uri": "https://localhost:8080/",
          "height": 436
        },
        "id": "MeSPgy2MuNl5",
        "outputId": "3d24a77c-8be4-4261-c51b-d28afdac2904"
      },
      "outputs": [
        {
          "output_type": "stream",
          "name": "stdout",
          "text": [
            "Found 1050 images belonging to 3 classes.\n"
          ]
        },
        {
          "output_type": "error",
          "ename": "ValueError",
          "evalue": "ignored",
          "traceback": [
            "\u001b[0;31m---------------------------------------------------------------------------\u001b[0m",
            "\u001b[0;31mValueError\u001b[0m                                Traceback (most recent call last)",
            "\u001b[0;32m<ipython-input-19-2786d56d36f2>\u001b[0m in \u001b[0;36m<module>\u001b[0;34m()\u001b[0m\n\u001b[1;32m      2\u001b[0m \u001b[0;32mfor\u001b[0m \u001b[0mbatch\u001b[0m \u001b[0;32min\u001b[0m \u001b[0mdatagen\u001b[0m\u001b[0;34m.\u001b[0m\u001b[0mflow_from_directory\u001b[0m\u001b[0;34m(\u001b[0m\u001b[0mtrain_dir\u001b[0m\u001b[0;34m,\u001b[0m \u001b[0mbatch_size\u001b[0m\u001b[0;34m=\u001b[0m\u001b[0;36m1\u001b[0m\u001b[0;34m)\u001b[0m\u001b[0;34m:\u001b[0m\u001b[0;34m\u001b[0m\u001b[0;34m\u001b[0m\u001b[0m\n\u001b[1;32m      3\u001b[0m     \u001b[0mplt\u001b[0m\u001b[0;34m.\u001b[0m\u001b[0mfigure\u001b[0m\u001b[0;34m(\u001b[0m\u001b[0mi\u001b[0m\u001b[0;34m)\u001b[0m\u001b[0;34m\u001b[0m\u001b[0;34m\u001b[0m\u001b[0m\n\u001b[0;32m----> 4\u001b[0;31m     \u001b[0mimgplot\u001b[0m \u001b[0;34m=\u001b[0m \u001b[0mplt\u001b[0m\u001b[0;34m.\u001b[0m\u001b[0mimshow\u001b[0m\u001b[0;34m(\u001b[0m\u001b[0marray_to_img\u001b[0m\u001b[0;34m(\u001b[0m\u001b[0mbatch\u001b[0m\u001b[0;34m[\u001b[0m\u001b[0;36m0\u001b[0m\u001b[0;34m]\u001b[0m\u001b[0;34m)\u001b[0m\u001b[0;34m)\u001b[0m\u001b[0;34m\u001b[0m\u001b[0;34m\u001b[0m\u001b[0m\n\u001b[0m\u001b[1;32m      5\u001b[0m     \u001b[0mi\u001b[0m \u001b[0;34m+=\u001b[0m \u001b[0;36m1\u001b[0m\u001b[0;34m\u001b[0m\u001b[0;34m\u001b[0m\u001b[0m\n\u001b[1;32m      6\u001b[0m     \u001b[0;32mif\u001b[0m \u001b[0mi\u001b[0m \u001b[0;34m%\u001b[0m \u001b[0;36m10\u001b[0m \u001b[0;34m==\u001b[0m \u001b[0;36m0\u001b[0m \u001b[0;34m:\u001b[0m\u001b[0;34m\u001b[0m\u001b[0;34m\u001b[0m\u001b[0m\n",
            "\u001b[0;32m/usr/local/lib/python3.7/dist-packages/keras/preprocessing/image.py\u001b[0m in \u001b[0;36marray_to_img\u001b[0;34m(x, data_format, scale, dtype)\u001b[0m\n\u001b[1;32m    199\u001b[0m       \u001b[0mdtype\u001b[0m \u001b[0;34m=\u001b[0m \u001b[0mbackend\u001b[0m\u001b[0;34m.\u001b[0m\u001b[0mfloatx\u001b[0m\u001b[0;34m(\u001b[0m\u001b[0;34m)\u001b[0m\u001b[0;34m\u001b[0m\u001b[0;34m\u001b[0m\u001b[0m\n\u001b[1;32m    200\u001b[0m     \u001b[0mkwargs\u001b[0m\u001b[0;34m[\u001b[0m\u001b[0;34m'dtype'\u001b[0m\u001b[0;34m]\u001b[0m \u001b[0;34m=\u001b[0m \u001b[0mdtype\u001b[0m\u001b[0;34m\u001b[0m\u001b[0;34m\u001b[0m\u001b[0m\n\u001b[0;32m--> 201\u001b[0;31m   \u001b[0;32mreturn\u001b[0m \u001b[0mimage\u001b[0m\u001b[0;34m.\u001b[0m\u001b[0marray_to_img\u001b[0m\u001b[0;34m(\u001b[0m\u001b[0mx\u001b[0m\u001b[0;34m,\u001b[0m \u001b[0mdata_format\u001b[0m\u001b[0;34m=\u001b[0m\u001b[0mdata_format\u001b[0m\u001b[0;34m,\u001b[0m \u001b[0mscale\u001b[0m\u001b[0;34m=\u001b[0m\u001b[0mscale\u001b[0m\u001b[0;34m,\u001b[0m \u001b[0;34m**\u001b[0m\u001b[0mkwargs\u001b[0m\u001b[0;34m)\u001b[0m\u001b[0;34m\u001b[0m\u001b[0;34m\u001b[0m\u001b[0m\n\u001b[0m\u001b[1;32m    202\u001b[0m \u001b[0;34m\u001b[0m\u001b[0m\n\u001b[1;32m    203\u001b[0m \u001b[0;34m\u001b[0m\u001b[0m\n",
            "\u001b[0;32m/usr/local/lib/python3.7/dist-packages/keras_preprocessing/image/utils.py\u001b[0m in \u001b[0;36marray_to_img\u001b[0;34m(x, data_format, scale, dtype)\u001b[0m\n\u001b[1;32m    255\u001b[0m     \u001b[0;32mif\u001b[0m \u001b[0mx\u001b[0m\u001b[0;34m.\u001b[0m\u001b[0mndim\u001b[0m \u001b[0;34m!=\u001b[0m \u001b[0;36m3\u001b[0m\u001b[0;34m:\u001b[0m\u001b[0;34m\u001b[0m\u001b[0;34m\u001b[0m\u001b[0m\n\u001b[1;32m    256\u001b[0m         raise ValueError('Expected image array to have rank 3 (single image). '\n\u001b[0;32m--> 257\u001b[0;31m                          'Got array with shape: %s' % (x.shape,))\n\u001b[0m\u001b[1;32m    258\u001b[0m \u001b[0;34m\u001b[0m\u001b[0m\n\u001b[1;32m    259\u001b[0m     \u001b[0;32mif\u001b[0m \u001b[0mdata_format\u001b[0m \u001b[0;32mnot\u001b[0m \u001b[0;32min\u001b[0m \u001b[0;34m{\u001b[0m\u001b[0;34m'channels_first'\u001b[0m\u001b[0;34m,\u001b[0m \u001b[0;34m'channels_last'\u001b[0m\u001b[0;34m}\u001b[0m\u001b[0;34m:\u001b[0m\u001b[0;34m\u001b[0m\u001b[0;34m\u001b[0m\u001b[0m\n",
            "\u001b[0;31mValueError\u001b[0m: Expected image array to have rank 3 (single image). Got array with shape: (1, 256, 256, 3)"
          ]
        },
        {
          "output_type": "display_data",
          "data": {
            "text/plain": [
              "<Figure size 432x288 with 0 Axes>"
            ]
          },
          "metadata": {}
        }
      ],
      "source": [
        "i = 0 \n",
        "for batch in datagen.flow_from_directory(train_dir, batch_size=1):\n",
        "    plt.figure(i)\n",
        "    imgplot = plt.imshow(array_to_img(batch[0]))\n",
        "    i += 1\n",
        "    if i % 10 == 0 :\n",
        "        break\n",
        "\n",
        "plt.show()        "
      ]
    },
    {
      "cell_type": "code",
      "execution_count": 20,
      "metadata": {
        "id": "TKcuO0UQXpbY"
      },
      "outputs": [],
      "source": [
        "model_base = tf.keras.models.Sequential([\n",
        "              tf.keras.layers.Flatten(input_shape= (56, 56, 1)),\n",
        "              tf.keras.layers.Dense(18, activation = \"relu\"),\n",
        "              tf.keras.layers.Dense(6, activation = \"relu\"),\n",
        "              tf.keras.layers.Dense(len(classes), activation = \"softmax\")\n",
        "])"
      ]
    },
    {
      "cell_type": "code",
      "execution_count": 21,
      "metadata": {
        "colab": {
          "base_uri": "https://localhost:8080/"
        },
        "id": "xQ78pc0kpoal",
        "outputId": "b3b18adc-295e-4b57-827a-7a3ddd2fd993"
      },
      "outputs": [
        {
          "output_type": "stream",
          "name": "stdout",
          "text": [
            "Model: \"sequential\"\n",
            "_________________________________________________________________\n",
            " Layer (type)                Output Shape              Param #   \n",
            "=================================================================\n",
            " flatten (Flatten)           (None, 3136)              0         \n",
            "                                                                 \n",
            " dense (Dense)               (None, 18)                56466     \n",
            "                                                                 \n",
            " dense_1 (Dense)             (None, 6)                 114       \n",
            "                                                                 \n",
            " dense_2 (Dense)             (None, 3)                 21        \n",
            "                                                                 \n",
            "=================================================================\n",
            "Total params: 56,601\n",
            "Trainable params: 56,601\n",
            "Non-trainable params: 0\n",
            "_________________________________________________________________\n"
          ]
        }
      ],
      "source": [
        "model_base.summary()"
      ]
    },
    {
      "cell_type": "code",
      "execution_count": 22,
      "metadata": {
        "colab": {
          "base_uri": "https://localhost:8080/"
        },
        "id": "6rYOoteeps10",
        "outputId": "8dc4ea87-fa64-4246-da3a-5ddda10c0949"
      },
      "outputs": [
        {
          "output_type": "stream",
          "name": "stdout",
          "text": [
            "Epoch 1/20\n",
            "9/9 [==============================] - 1s 77ms/step - loss: 1.0715 - accuracy: 0.4124 - val_loss: 0.8357 - val_accuracy: 0.6410\n",
            "Epoch 2/20\n",
            "9/9 [==============================] - 1s 59ms/step - loss: 0.9518 - accuracy: 0.5057 - val_loss: 0.8158 - val_accuracy: 0.6410\n",
            "Epoch 3/20\n",
            "9/9 [==============================] - 1s 59ms/step - loss: 0.8618 - accuracy: 0.5400 - val_loss: 0.7782 - val_accuracy: 0.5897\n",
            "Epoch 4/20\n",
            "9/9 [==============================] - 1s 58ms/step - loss: 0.8013 - accuracy: 0.5829 - val_loss: 0.8671 - val_accuracy: 0.6154\n",
            "Epoch 5/20\n",
            "9/9 [==============================] - 1s 60ms/step - loss: 0.7427 - accuracy: 0.6190 - val_loss: 0.8659 - val_accuracy: 0.6154\n",
            "Epoch 6/20\n",
            "9/9 [==============================] - 1s 61ms/step - loss: 0.6955 - accuracy: 0.6352 - val_loss: 0.8695 - val_accuracy: 0.6154\n",
            "Epoch 7/20\n",
            "9/9 [==============================] - 1s 61ms/step - loss: 0.6519 - accuracy: 0.6448 - val_loss: 0.8993 - val_accuracy: 0.6667\n",
            "Epoch 8/20\n",
            "9/9 [==============================] - 1s 60ms/step - loss: 0.6134 - accuracy: 0.6743 - val_loss: 0.8397 - val_accuracy: 0.6667\n",
            "Epoch 9/20\n",
            "9/9 [==============================] - 1s 57ms/step - loss: 0.5787 - accuracy: 0.7181 - val_loss: 0.9326 - val_accuracy: 0.6154\n",
            "Epoch 10/20\n",
            "9/9 [==============================] - 1s 64ms/step - loss: 0.5418 - accuracy: 0.7467 - val_loss: 0.8341 - val_accuracy: 0.6410\n",
            "Epoch 11/20\n",
            "9/9 [==============================] - 1s 59ms/step - loss: 0.5121 - accuracy: 0.7590 - val_loss: 0.8927 - val_accuracy: 0.6667\n",
            "Epoch 12/20\n",
            "9/9 [==============================] - 1s 57ms/step - loss: 0.4897 - accuracy: 0.7800 - val_loss: 0.9690 - val_accuracy: 0.6667\n",
            "Epoch 13/20\n",
            "9/9 [==============================] - 1s 59ms/step - loss: 0.4682 - accuracy: 0.8190 - val_loss: 0.9778 - val_accuracy: 0.6667\n",
            "Epoch 14/20\n",
            "9/9 [==============================] - 1s 56ms/step - loss: 0.4439 - accuracy: 0.8533 - val_loss: 1.0135 - val_accuracy: 0.6667\n",
            "Epoch 15/20\n",
            "9/9 [==============================] - 1s 61ms/step - loss: 0.4244 - accuracy: 0.8143 - val_loss: 1.1885 - val_accuracy: 0.6923\n",
            "Epoch 16/20\n",
            "9/9 [==============================] - 1s 60ms/step - loss: 0.4041 - accuracy: 0.8686 - val_loss: 1.0848 - val_accuracy: 0.6923\n",
            "Epoch 17/20\n",
            "9/9 [==============================] - 1s 57ms/step - loss: 0.3887 - accuracy: 0.9038 - val_loss: 1.1961 - val_accuracy: 0.6923\n",
            "Epoch 18/20\n",
            "9/9 [==============================] - 1s 58ms/step - loss: 0.3771 - accuracy: 0.9133 - val_loss: 1.3005 - val_accuracy: 0.6923\n",
            "Epoch 19/20\n",
            "9/9 [==============================] - 1s 57ms/step - loss: 0.3630 - accuracy: 0.9171 - val_loss: 1.2279 - val_accuracy: 0.7179\n",
            "Epoch 20/20\n",
            "9/9 [==============================] - 1s 58ms/step - loss: 0.3506 - accuracy: 0.9219 - val_loss: 1.3063 - val_accuracy: 0.7179\n"
          ]
        }
      ],
      "source": [
        "model_base.compile(optimizer = \"Adam\", loss = \"categorical_crossentropy\", metrics = ['accuracy'])\n",
        "\n",
        "\n",
        "history = model_base.fit(\n",
        "    train_generator, \n",
        "    epochs= 20, \n",
        "    validation_data = validation_generator\n",
        ")"
      ]
    },
    {
      "cell_type": "code",
      "execution_count": 23,
      "metadata": {
        "colab": {
          "base_uri": "https://localhost:8080/"
        },
        "id": "Tw71zpMBqeKT",
        "outputId": "975ea580-eab4-4c19-a192-74a581f09e76"
      },
      "outputs": [
        {
          "output_type": "stream",
          "name": "stdout",
          "text": [
            "2/2 [==============================] - 0s 13ms/step - loss: 1.1958 - accuracy: 0.6667\n"
          ]
        }
      ],
      "source": [
        "results = model_base.evaluate(test_generator)"
      ]
    },
    {
      "cell_type": "code",
      "execution_count": 24,
      "metadata": {
        "id": "y9J-Gl8JrzS2"
      },
      "outputs": [],
      "source": [
        "def visualizacion_resultados(history):\n",
        "  epochs = [i for i in range(20)]\n",
        "  fig, ax = plt.subplots(1,2)\n",
        "  train_acc = history.history[\"accuracy\"]\n",
        "  train_loss = history.history[\"loss\"]\n",
        "  val_acc = history.history[\"val_accuracy\"]\n",
        "  val_loss = history.history[\"val_loss\"]\n",
        "  fig.set_size_inches(16, 9)\n",
        "\n",
        "  ax[0].plot(epochs, train_acc, \"go-\", label =\" Entrenamiento accuracy\")\n",
        "  ax[0].plot(epochs, val_acc, \"ro-\", label= \"Validacion accuracy\")\n",
        "  ax[0].set_title(\"Entrenamiento & validación accuracy\")\n",
        "  ax[0].legend()\n",
        "  ax[0].set_xlabel(\"Epochs\")\n",
        "  ax[0].set_ylabel(\"Accuracy\")\n",
        "\n",
        "  ax[1].plot(epochs, train_loss, \"go-\", label =\" Entrenamiento Loss\")\n",
        "  ax[1].plot(epochs, val_loss, \"ro-\", label= \"Validacion Loss\")\n",
        "  ax[1].set_title(\"Entrenamiento & validación Loss\")\n",
        "  ax[1].legend()\n",
        "  ax[1].set_xlabel(\"Epochs\")\n",
        "  ax[1].set_ylabel(\"Loss\")\n",
        "\n",
        "  plt.show()"
      ]
    },
    {
      "cell_type": "code",
      "execution_count": 25,
      "metadata": {
        "colab": {
          "base_uri": "https://localhost:8080/",
          "height": 567
        },
        "id": "rAPEeUN5fnGW",
        "outputId": "fac5f842-2920-4b7b-ce45-cf2f106407cf"
      },
      "outputs": [
        {
          "output_type": "display_data",
          "data": {
            "text/plain": [
              "<Figure size 1152x648 with 2 Axes>"
            ],
            "image/png": "[encoded data removed]"
          },
          "metadata": {
            "needs_background": "light"
          }
        }
      ],
      "source": [
        "visualizacion_resultados(history)"
      ]
    },
    {
      "cell_type": "code",
      "execution_count": 26,
      "metadata": {
        "id": "0E01n8rygpjj"
      },
      "outputs": [],
      "source": [
        "from tensorflow.keras import regularizers"
      ]
    },
    {
      "cell_type": "code",
      "execution_count": 27,
      "metadata": {
        "colab": {
          "base_uri": "https://localhost:8080/"
        },
        "id": "-fyzSQlVjISa",
        "outputId": "9cfe4d4b-e9ab-4b99-92eb-ceb886229cbb"
      },
      "outputs": [
        {
          "output_type": "stream",
          "name": "stdout",
          "text": [
            "Model: \"sequential_1\"\n",
            "_________________________________________________________________\n",
            " Layer (type)                Output Shape              Param #   \n",
            "=================================================================\n",
            " flatten_1 (Flatten)         (None, 3136)              0         \n",
            "                                                                 \n",
            " dense_3 (Dense)             (None, 12)                37644     \n",
            "                                                                 \n",
            " dropout (Dropout)           (None, 12)                0         \n",
            "                                                                 \n",
            " dense_4 (Dense)             (None, 6)                 78        \n",
            "                                                                 \n",
            " dropout_1 (Dropout)         (None, 6)                 0         \n",
            "                                                                 \n",
            " dense_5 (Dense)             (None, 3)                 21        \n",
            "                                                                 \n",
            "=================================================================\n",
            "Total params: 37,743\n",
            "Trainable params: 37,743\n",
            "Non-trainable params: 0\n",
            "_________________________________________________________________\n"
          ]
        }
      ],
      "source": [
        "model_optimizer = tf.keras.models.Sequential([\n",
        "              tf.keras.layers.Flatten(input_shape= (56, 56, 1)),\n",
        "              tf.keras.layers.Dense(12, kernel_regularizer = regularizers.l2(1e-5), activation = \"relu\"),\n",
        "              tf.keras.layers.Dropout(0.3),\n",
        "              tf.keras.layers.Dense(6, kernel_regularizer= regularizers.l2(1e-5),activation = \"relu\"),\n",
        "              tf.keras.layers.Dropout(0.2),\n",
        "              tf.keras.layers.Dense(len(classes), activation = \"softmax\")\n",
        "])\n",
        "\n",
        "model_optimizer.summary()"
      ]
    },
    {
      "cell_type": "code",
      "execution_count": 28,
      "metadata": {
        "colab": {
          "base_uri": "https://localhost:8080/"
        },
        "id": "MOpd-XEbjLEB",
        "outputId": "56716ab6-8268-4bc0-d304-6dbb52d41f88"
      },
      "outputs": [
        {
          "output_type": "stream",
          "name": "stdout",
          "text": [
            "Epoch 1/20\n",
            "9/9 [==============================] - 1s 85ms/step - loss: 1.0854 - accuracy: 0.3990 - val_loss: 0.9942 - val_accuracy: 0.6410\n",
            "Epoch 2/20\n",
            "9/9 [==============================] - 1s 61ms/step - loss: 1.0133 - accuracy: 0.4286 - val_loss: 0.9222 - val_accuracy: 0.6923\n",
            "Epoch 3/20\n",
            "9/9 [==============================] - 1s 60ms/step - loss: 1.0038 - accuracy: 0.4429 - val_loss: 0.9631 - val_accuracy: 0.6923\n",
            "Epoch 4/20\n",
            "9/9 [==============================] - 1s 58ms/step - loss: 0.9383 - accuracy: 0.4914 - val_loss: 0.9247 - val_accuracy: 0.5641\n",
            "Epoch 5/20\n",
            "9/9 [==============================] - 1s 67ms/step - loss: 0.8865 - accuracy: 0.5190 - val_loss: 0.7828 - val_accuracy: 0.5897\n",
            "Epoch 6/20\n",
            "9/9 [==============================] - 1s 57ms/step - loss: 0.8472 - accuracy: 0.5286 - val_loss: 0.8790 - val_accuracy: 0.5897\n",
            "Epoch 7/20\n",
            "9/9 [==============================] - 1s 59ms/step - loss: 0.7995 - accuracy: 0.5743 - val_loss: 0.8161 - val_accuracy: 0.6154\n",
            "Epoch 8/20\n",
            "9/9 [==============================] - 1s 57ms/step - loss: 0.7879 - accuracy: 0.5886 - val_loss: 0.6830 - val_accuracy: 0.5897\n",
            "Epoch 9/20\n",
            "9/9 [==============================] - 1s 58ms/step - loss: 0.7666 - accuracy: 0.6067 - val_loss: 0.9609 - val_accuracy: 0.5897\n",
            "Epoch 10/20\n",
            "9/9 [==============================] - 1s 57ms/step - loss: 0.7301 - accuracy: 0.6143 - val_loss: 0.8521 - val_accuracy: 0.5641\n",
            "Epoch 11/20\n",
            "9/9 [==============================] - 1s 59ms/step - loss: 0.7120 - accuracy: 0.6286 - val_loss: 1.0465 - val_accuracy: 0.5641\n",
            "Epoch 12/20\n",
            "9/9 [==============================] - 1s 64ms/step - loss: 0.6521 - accuracy: 0.6848 - val_loss: 0.8415 - val_accuracy: 0.6667\n",
            "Epoch 13/20\n",
            "9/9 [==============================] - 1s 62ms/step - loss: 0.6744 - accuracy: 0.6562 - val_loss: 0.9720 - val_accuracy: 0.6154\n",
            "Epoch 14/20\n",
            "9/9 [==============================] - 1s 59ms/step - loss: 0.6510 - accuracy: 0.6581 - val_loss: 0.9368 - val_accuracy: 0.5897\n",
            "Epoch 15/20\n",
            "9/9 [==============================] - 1s 64ms/step - loss: 0.6431 - accuracy: 0.6895 - val_loss: 1.0318 - val_accuracy: 0.5897\n",
            "Epoch 16/20\n",
            "9/9 [==============================] - 1s 58ms/step - loss: 0.6337 - accuracy: 0.6724 - val_loss: 0.9508 - val_accuracy: 0.6154\n",
            "Epoch 17/20\n",
            "9/9 [==============================] - 1s 59ms/step - loss: 0.6040 - accuracy: 0.7019 - val_loss: 0.8670 - val_accuracy: 0.6154\n",
            "Epoch 18/20\n",
            "9/9 [==============================] - 1s 58ms/step - loss: 0.5817 - accuracy: 0.7238 - val_loss: 1.1933 - val_accuracy: 0.6154\n",
            "Epoch 19/20\n",
            "9/9 [==============================] - 1s 67ms/step - loss: 0.5483 - accuracy: 0.7467 - val_loss: 1.3187 - val_accuracy: 0.6154\n",
            "Epoch 20/20\n",
            "9/9 [==============================] - 1s 57ms/step - loss: 0.5415 - accuracy: 0.7343 - val_loss: 0.9984 - val_accuracy: 0.6154\n"
          ]
        }
      ],
      "source": [
        "model_optimizer.compile(optimizer= \"Adam\", loss = \"categorical_crossentropy\", metrics = [\"accuracy\"])\n",
        "\n",
        "history_optimizer = model_optimizer.fit(\n",
        "    train_generator,\n",
        "    epochs = 20,\n",
        "    validation_data = validation_generator\n",
        ")"
      ]
    },
    {
      "cell_type": "code",
      "execution_count": 29,
      "metadata": {
        "colab": {
          "base_uri": "https://localhost:8080/",
          "height": 567
        },
        "id": "v99AFs5SjTSN",
        "outputId": "63a8381d-4bc9-47b2-f2cc-88f10ca0ebfe"
      },
      "outputs": [
        {
          "output_type": "display_data",
          "data": {
            "text/plain": [
              "<Figure size 1152x648 with 2 Axes>"
            ],
            "image/png": "[encoded data removed]"
          },
          "metadata": {
            "needs_background": "light"
          }
        }
      ],
      "source": [
        "def visualizacion_resultados(history):\n",
        "  epochs = [i for i in range(20)]\n",
        "  fig, ax = plt.subplots(1,2)\n",
        "  train_acc = history.history[\"accuracy\"]\n",
        "  train_loss = history.history[\"loss\"]\n",
        "  val_acc = history.history[\"val_accuracy\"]\n",
        "  val_loss = history.history[\"val_loss\"]\n",
        "  fig.set_size_inches(16, 9)\n",
        "\n",
        "  ax[0].plot(epochs, train_acc, \"go-\", label =\" Entrenamiento accuracy\")\n",
        "  ax[0].plot(epochs, val_acc, \"ro-\", label= \"Validacion accuracy\")\n",
        "  ax[0].set_title(\"Entrenamiento & validación accuracy\")\n",
        "  ax[0].legend()\n",
        "  ax[0].set_xlabel(\"Epochs\")\n",
        "  ax[0].set_ylabel(\"Accuracy\")\n",
        "\n",
        "  ax[1].plot(epochs, train_loss, \"go-\", label =\" Entrenamiento Loss\")\n",
        "  ax[1].plot(epochs, val_loss, \"ro-\", label= \"Validacion Loss\")\n",
        "  ax[1].set_title(\"Entrenamiento & validación Loss\")\n",
        "  ax[1].legend()\n",
        "  ax[1].set_xlabel(\"Epochs\")\n",
        "  ax[1].set_ylabel(\"Loss\")\n",
        "\n",
        "  plt.show()\n",
        "\n",
        "visualizacion_resultados(history_optimizer)"
      ]
    },
    {
      "cell_type": "markdown",
      "metadata": {
        "id": "sQ1Kk29NWccM"
      },
      "source": [
        "convoluciones\n"
      ]
    },
    {
      "cell_type": "code",
      "execution_count": 30,
      "metadata": {
        "colab": {
          "base_uri": "https://localhost:8080/"
        },
        "id": "WGzSIq-SWgLk",
        "outputId": "d058249c-831d-413e-a066-9c7f35a87e9b"
      },
      "outputs": [
        {
          "output_type": "stream",
          "name": "stdout",
          "text": [
            "Model: \"sequential_2\"\n",
            "_________________________________________________________________\n",
            " Layer (type)                Output Shape              Param #   \n",
            "=================================================================\n",
            " conv2d (Conv2D)             (None, 53, 53, 32)        544       \n",
            "                                                                 \n",
            " max_pooling2d (MaxPooling2D  (None, 26, 26, 32)       0         \n",
            " )                                                               \n",
            "                                                                 \n",
            " flatten_2 (Flatten)         (None, 21632)             0         \n",
            "                                                                 \n",
            " dense_6 (Dense)             (None, 256)               5538048   \n",
            "                                                                 \n",
            " dropout_2 (Dropout)         (None, 256)               0         \n",
            "                                                                 \n",
            " dense_7 (Dense)             (None, 128)               32896     \n",
            "                                                                 \n",
            " dropout_3 (Dropout)         (None, 128)               0         \n",
            "                                                                 \n",
            " dense_8 (Dense)             (None, 3)                 387       \n",
            "                                                                 \n",
            "=================================================================\n",
            "Total params: 5,571,875\n",
            "Trainable params: 5,571,875\n",
            "Non-trainable params: 0\n",
            "_________________________________________________________________\n",
            "Epoch 1/20\n",
            "9/9 [==============================] - 4s 356ms/step - loss: 1.6233 - accuracy: 0.4181 - val_loss: 0.9478 - val_accuracy: 0.5641\n",
            "Epoch 2/20\n",
            "9/9 [==============================] - 3s 335ms/step - loss: 0.9076 - accuracy: 0.5810 - val_loss: 1.0149 - val_accuracy: 0.6410\n",
            "Epoch 3/20\n",
            "9/9 [==============================] - 3s 328ms/step - loss: 0.5966 - accuracy: 0.7762 - val_loss: 1.9863 - val_accuracy: 0.6154\n",
            "Epoch 4/20\n",
            "9/9 [==============================] - 3s 331ms/step - loss: 0.6543 - accuracy: 0.7410 - val_loss: 1.4160 - val_accuracy: 0.6667\n",
            "Epoch 5/20\n",
            "9/9 [==============================] - 3s 365ms/step - loss: 0.2824 - accuracy: 0.9190 - val_loss: 1.7214 - val_accuracy: 0.6410\n",
            "Epoch 6/20\n",
            "9/9 [==============================] - 3s 336ms/step - loss: 0.3042 - accuracy: 0.8857 - val_loss: 1.3380 - val_accuracy: 0.6667\n",
            "Epoch 7/20\n",
            "9/9 [==============================] - 3s 365ms/step - loss: 0.1046 - accuracy: 0.9848 - val_loss: 1.7160 - val_accuracy: 0.6154\n",
            "Epoch 8/20\n",
            "9/9 [==============================] - 3s 359ms/step - loss: 0.0608 - accuracy: 0.9952 - val_loss: 1.9636 - val_accuracy: 0.6154\n",
            "Epoch 9/20\n",
            "9/9 [==============================] - 3s 341ms/step - loss: 0.0398 - accuracy: 0.9971 - val_loss: 2.0781 - val_accuracy: 0.6154\n",
            "Epoch 10/20\n",
            "9/9 [==============================] - 3s 334ms/step - loss: 0.0243 - accuracy: 1.0000 - val_loss: 2.1827 - val_accuracy: 0.6154\n",
            "Epoch 11/20\n",
            "9/9 [==============================] - 3s 365ms/step - loss: 0.0227 - accuracy: 1.0000 - val_loss: 2.1124 - val_accuracy: 0.6154\n",
            "Epoch 12/20\n",
            "9/9 [==============================] - 3s 339ms/step - loss: 0.0181 - accuracy: 1.0000 - val_loss: 2.2043 - val_accuracy: 0.6154\n",
            "Epoch 13/20\n",
            "9/9 [==============================] - 3s 367ms/step - loss: 0.0138 - accuracy: 1.0000 - val_loss: 2.2879 - val_accuracy: 0.6154\n",
            "Epoch 14/20\n",
            "9/9 [==============================] - 3s 340ms/step - loss: 0.0115 - accuracy: 1.0000 - val_loss: 2.3052 - val_accuracy: 0.6154\n",
            "Epoch 15/20\n",
            "9/9 [==============================] - 6s 722ms/step - loss: 0.0121 - accuracy: 0.9990 - val_loss: 2.4741 - val_accuracy: 0.6410\n",
            "Epoch 16/20\n",
            "9/9 [==============================] - 3s 338ms/step - loss: 0.0111 - accuracy: 0.9990 - val_loss: 2.5573 - val_accuracy: 0.6410\n",
            "Epoch 17/20\n",
            "9/9 [==============================] - 3s 340ms/step - loss: 0.0095 - accuracy: 1.0000 - val_loss: 2.4817 - val_accuracy: 0.6410\n",
            "Epoch 18/20\n",
            "9/9 [==============================] - 3s 337ms/step - loss: 0.0091 - accuracy: 1.0000 - val_loss: 2.4780 - val_accuracy: 0.6410\n",
            "Epoch 19/20\n",
            "9/9 [==============================] - 3s 345ms/step - loss: 0.0088 - accuracy: 1.0000 - val_loss: 2.4785 - val_accuracy: 0.6154\n",
            "Epoch 20/20\n",
            "9/9 [==============================] - 3s 336ms/step - loss: 0.0085 - accuracy: 1.0000 - val_loss: 2.5452 - val_accuracy: 0.6410\n"
          ]
        }
      ],
      "source": [
        "model_convolutional = tf.keras.models.Sequential([\n",
        "              tf.keras.layers.Conv2D(32, (4,4), activation = \"relu\", input_shape= (56, 56, 1)),\n",
        "              tf.keras.layers.MaxPool2D((2,2)),\n",
        "              tf.keras.layers.Flatten(),\n",
        "              tf.keras.layers.Dense(256, kernel_regularizer = regularizers.l2(1e-5), activation = \"relu\"),\n",
        "              tf.keras.layers.Dropout(0.08),\n",
        "              tf.keras.layers.Dense(128, kernel_regularizer= regularizers.l2(1e-5),activation = \"relu\"),\n",
        "              tf.keras.layers.Dropout(0.08),\n",
        "              tf.keras.layers.Dense(len(classes), activation = \"softmax\")\n",
        "])\n",
        "\n",
        "model_convolutional.summary()\n",
        "\n",
        "model_convolutional.compile(optimizer= \"Nadam\", loss = \"categorical_crossentropy\", metrics = [\"accuracy\"])\n",
        "\n",
        "history_convolutional = model_convolutional.fit(\n",
        "    train_generator,\n",
        "    epochs = 20,\n",
        "    validation_data = validation_generator\n",
        ")"
      ]
    },
    {
      "cell_type": "code",
      "execution_count": 31,
      "metadata": {
        "colab": {
          "base_uri": "https://localhost:8080/",
          "height": 567
        },
        "id": "GwdFeDyFWoHC",
        "outputId": "ac566614-8eca-4ff8-ca39-25a7c3621ba1"
      },
      "outputs": [
        {
          "output_type": "display_data",
          "data": {
            "text/plain": [
              "<Figure size 1152x648 with 2 Axes>"
            ],
            "image/png": "[encoded data removed]"
          },
          "metadata": {
            "needs_background": "light"
          }
        }
      ],
      "source": [
        "visualizacion_resultados(history_convolutional)"
      ]
    },
    {
      "cell_type": "markdown",
      "metadata": {
        "id": "vIh-_fcDYqYv"
      },
      "source": [
        "CALLBACKS"
      ]
    },
    {
      "cell_type": "code",
      "execution_count": 32,
      "metadata": {
        "colab": {
          "base_uri": "https://localhost:8080/"
        },
        "id": "u63PRYYVYtUw",
        "outputId": "c8a05c86-097f-40e6-8e80-a878bb6debf5"
      },
      "outputs": [
        {
          "output_type": "stream",
          "name": "stdout",
          "text": [
            "Model: \"sequential_3\"\n",
            "_________________________________________________________________\n",
            " Layer (type)                Output Shape              Param #   \n",
            "=================================================================\n",
            " conv2d_1 (Conv2D)           (None, 54, 54, 75)        750       \n",
            "                                                                 \n",
            " max_pooling2d_1 (MaxPooling  (None, 27, 27, 75)       0         \n",
            " 2D)                                                             \n",
            "                                                                 \n",
            " flatten_3 (Flatten)         (None, 54675)             0         \n",
            "                                                                 \n",
            " dense_9 (Dense)             (None, 256)               13997056  \n",
            "                                                                 \n",
            " dropout_4 (Dropout)         (None, 256)               0         \n",
            "                                                                 \n",
            " dense_10 (Dense)            (None, 128)               32896     \n",
            "                                                                 \n",
            " dropout_5 (Dropout)         (None, 128)               0         \n",
            "                                                                 \n",
            " dense_11 (Dense)            (None, 3)                 387       \n",
            "                                                                 \n",
            "=================================================================\n",
            "Total params: 14,031,089\n",
            "Trainable params: 14,031,089\n",
            "Non-trainable params: 0\n",
            "_________________________________________________________________\n"
          ]
        }
      ],
      "source": [
        "model_callback = tf.keras.models.Sequential([\n",
        "              tf.keras.layers.Conv2D(75, (3,3), activation = \"relu\", input_shape= (56, 56, 1)),\n",
        "              tf.keras.layers.MaxPool2D((2,2)),\n",
        "              tf.keras.layers.Flatten(),\n",
        "              tf.keras.layers.Dense(256, kernel_regularizer = regularizers.l2(1e-5), activation = \"relu\"),\n",
        "              tf.keras.layers.Dropout(0.5),\n",
        "              tf.keras.layers.Dense(128, kernel_regularizer= regularizers.l2(1e-5),activation = \"relu\"),\n",
        "              tf.keras.layers.Dropout(0.5),\n",
        "              tf.keras.layers.Dense(len(classes), activation = \"softmax\")\n",
        "])\n",
        "\n",
        "model_callback.summary()\n",
        "\n",
        "model_callback.compile(optimizer= \"adam\", loss = \"categorical_crossentropy\", metrics = [\"accuracy\"])"
      ]
    },
    {
      "cell_type": "code",
      "execution_count": 33,
      "metadata": {
        "id": "vjPPd7lba32j"
      },
      "outputs": [],
      "source": [
        "from tensorflow.keras.callbacks import Callback\n",
        "\n",
        "class TrainingCallback(Callback):\n",
        "  def on_epoch_end(self, epoch, logs = {}):\n",
        "    if logs.get(\"accuracy\") > 0.999:\n",
        "      print(\"Lo logramos, nuestro modelo llego a 95%, detenemos el entrenamiento\")\n",
        "      self.model.stop_training = True"
      ]
    },
    {
      "cell_type": "code",
      "execution_count": 34,
      "metadata": {
        "colab": {
          "base_uri": "https://localhost:8080/"
        },
        "id": "AWK2PJ5Ia54C",
        "outputId": "e71abe00-f14e-4c8b-d88a-8a5bec35bbd3"
      },
      "outputs": [
        {
          "output_type": "stream",
          "name": "stdout",
          "text": [
            "Epoch 1/20\n",
            "9/9 [==============================] - 7s 647ms/step - loss: 2.0669 - accuracy: 0.3667 - val_loss: 1.0159 - val_accuracy: 0.3846\n",
            "Epoch 2/20\n",
            "9/9 [==============================] - 6s 615ms/step - loss: 1.1092 - accuracy: 0.4695 - val_loss: 0.9396 - val_accuracy: 0.5897\n",
            "Epoch 3/20\n",
            "9/9 [==============================] - 6s 613ms/step - loss: 0.8898 - accuracy: 0.5943 - val_loss: 0.9341 - val_accuracy: 0.4615\n",
            "Epoch 4/20\n",
            "9/9 [==============================] - 6s 614ms/step - loss: 0.7595 - accuracy: 0.6790 - val_loss: 1.0852 - val_accuracy: 0.5897\n",
            "Epoch 5/20\n",
            "9/9 [==============================] - 6s 675ms/step - loss: 0.5883 - accuracy: 0.7714 - val_loss: 1.1501 - val_accuracy: 0.6410\n",
            "Epoch 6/20\n",
            "9/9 [==============================] - 6s 619ms/step - loss: 0.4272 - accuracy: 0.8381 - val_loss: 1.2409 - val_accuracy: 0.6154\n",
            "Epoch 7/20\n",
            "9/9 [==============================] - 6s 617ms/step - loss: 0.2770 - accuracy: 0.9076 - val_loss: 1.2568 - val_accuracy: 0.6154\n",
            "Epoch 8/20\n",
            "9/9 [==============================] - 6s 617ms/step - loss: 0.2073 - accuracy: 0.9381 - val_loss: 1.4171 - val_accuracy: 0.6154\n",
            "Epoch 9/20\n",
            "9/9 [==============================] - 6s 674ms/step - loss: 0.1644 - accuracy: 0.9486 - val_loss: 1.3665 - val_accuracy: 0.6154\n",
            "Epoch 10/20\n",
            "9/9 [==============================] - 6s 674ms/step - loss: 0.0928 - accuracy: 0.9800 - val_loss: 1.6006 - val_accuracy: 0.6154\n",
            "Epoch 11/20\n",
            "9/9 [==============================] - 6s 621ms/step - loss: 0.0876 - accuracy: 0.9790 - val_loss: 1.7459 - val_accuracy: 0.6154\n",
            "Epoch 12/20\n",
            "9/9 [==============================] - 6s 625ms/step - loss: 0.0685 - accuracy: 0.9848 - val_loss: 1.6427 - val_accuracy: 0.6154\n",
            "Epoch 13/20\n",
            "9/9 [==============================] - 6s 675ms/step - loss: 0.0537 - accuracy: 0.9876 - val_loss: 1.9843 - val_accuracy: 0.6154\n",
            "Epoch 14/20\n",
            "9/9 [==============================] - 6s 622ms/step - loss: 0.0455 - accuracy: 0.9933 - val_loss: 2.0453 - val_accuracy: 0.6154\n",
            "Epoch 15/20\n",
            "9/9 [==============================] - 6s 618ms/step - loss: 0.0381 - accuracy: 0.9952 - val_loss: 2.2669 - val_accuracy: 0.6667\n",
            "Epoch 16/20\n",
            "9/9 [==============================] - 6s 676ms/step - loss: 0.0360 - accuracy: 0.9933 - val_loss: 2.1136 - val_accuracy: 0.6154\n",
            "Epoch 17/20\n",
            "9/9 [==============================] - 6s 617ms/step - loss: 0.0372 - accuracy: 0.9943 - val_loss: 1.7925 - val_accuracy: 0.6154\n",
            "Epoch 18/20\n",
            "9/9 [==============================] - 6s 622ms/step - loss: 0.0344 - accuracy: 0.9943 - val_loss: 1.7899 - val_accuracy: 0.6154\n",
            "Epoch 19/20\n",
            "9/9 [==============================] - 6s 620ms/step - loss: 0.0315 - accuracy: 0.9962 - val_loss: 1.8359 - val_accuracy: 0.6154\n",
            "Epoch 20/20\n",
            "9/9 [==============================] - 6s 622ms/step - loss: 0.0260 - accuracy: 0.9971 - val_loss: 1.9873 - val_accuracy: 0.6154\n"
          ]
        }
      ],
      "source": [
        "callback = TrainingCallback()\n",
        "\n",
        "history_callback = model_callback.fit(\n",
        "    train_generator,\n",
        "    epochs = 20,\n",
        "    callbacks = [callback],\n",
        "    validation_data = validation_generator\n",
        ")"
      ]
    },
    {
      "cell_type": "code",
      "execution_count": 35,
      "metadata": {
        "colab": {
          "base_uri": "https://localhost:8080/"
        },
        "id": "qBCVudTya845",
        "outputId": "87ad9452-a0dd-4056-f6a6-28a888d94d30"
      },
      "outputs": [
        {
          "output_type": "stream",
          "name": "stdout",
          "text": [
            "Model: \"sequential_4\"\n",
            "_________________________________________________________________\n",
            " Layer (type)                Output Shape              Param #   \n",
            "=================================================================\n",
            " conv2d_2 (Conv2D)           (None, 54, 54, 75)        750       \n",
            "                                                                 \n",
            " max_pooling2d_2 (MaxPooling  (None, 27, 27, 75)       0         \n",
            " 2D)                                                             \n",
            "                                                                 \n",
            " flatten_4 (Flatten)         (None, 54675)             0         \n",
            "                                                                 \n",
            " dense_12 (Dense)            (None, 256)               13997056  \n",
            "                                                                 \n",
            " dropout_6 (Dropout)         (None, 256)               0         \n",
            "                                                                 \n",
            " dense_13 (Dense)            (None, 128)               32896     \n",
            "                                                                 \n",
            " dropout_7 (Dropout)         (None, 128)               0         \n",
            "                                                                 \n",
            " dense_14 (Dense)            (None, 3)                 387       \n",
            "                                                                 \n",
            "=================================================================\n",
            "Total params: 14,031,089\n",
            "Trainable params: 14,031,089\n",
            "Non-trainable params: 0\n",
            "_________________________________________________________________\n"
          ]
        }
      ],
      "source": [
        "def get_model():\n",
        "  model = tf.keras.models.Sequential([\n",
        "              tf.keras.layers.Conv2D(75, (3,3), activation = \"relu\", input_shape= (56, 56, 1)),\n",
        "              tf.keras.layers.MaxPool2D((2,2)),\n",
        "              tf.keras.layers.Flatten(),\n",
        "              tf.keras.layers.Dense(256, kernel_regularizer = regularizers.l2(1e-5), activation = \"relu\"),\n",
        "              tf.keras.layers.Dropout(0.5),\n",
        "              tf.keras.layers.Dense(128, kernel_regularizer= regularizers.l2(1e-5),activation = \"relu\"),\n",
        "              tf.keras.layers.Dropout(0.5),\n",
        "              tf.keras.layers.Dense(len(classes), activation = \"softmax\")\n",
        "  ])\n",
        "  return model\n",
        "\n",
        "model_early = get_model()\n",
        "model_early.summary()\n",
        "\n",
        "model_early.compile(optimizer= \"adam\", loss = \"categorical_crossentropy\", metrics = [\"accuracy\"])"
      ]
    },
    {
      "cell_type": "markdown",
      "metadata": {
        "id": "mAfDjjZTgWLF"
      },
      "source": [
        "early stopping"
      ]
    },
    {
      "cell_type": "code",
      "execution_count": 36,
      "metadata": {
        "id": "O5SV6fK-gdn9"
      },
      "outputs": [],
      "source": [
        "callback_early = tf.keras.callbacks.EarlyStopping(monitor = \"loss\", patience=3, mode = \"auto\")"
      ]
    },
    {
      "cell_type": "code",
      "execution_count": 37,
      "metadata": {
        "colab": {
          "base_uri": "https://localhost:8080/"
        },
        "id": "VUXHIKIVghRv",
        "outputId": "7e67b7b5-c078-4075-bfe3-927171d3fa71"
      },
      "outputs": [
        {
          "output_type": "stream",
          "name": "stdout",
          "text": [
            "Epoch 1/20\n",
            "9/9 [==============================] - 7s 716ms/step - loss: 2.6283 - accuracy: 0.3743 - val_loss: 1.0727 - val_accuracy: 0.5385\n",
            "Epoch 2/20\n",
            "9/9 [==============================] - 6s 633ms/step - loss: 1.2111 - accuracy: 0.4343 - val_loss: 1.0236 - val_accuracy: 0.3077\n",
            "Epoch 3/20\n",
            "9/9 [==============================] - 6s 624ms/step - loss: 0.9500 - accuracy: 0.5248 - val_loss: 0.9619 - val_accuracy: 0.4872\n",
            "Epoch 4/20\n",
            "9/9 [==============================] - 6s 622ms/step - loss: 0.8272 - accuracy: 0.6352 - val_loss: 0.9591 - val_accuracy: 0.5897\n",
            "Epoch 5/20\n",
            "9/9 [==============================] - 6s 615ms/step - loss: 0.6717 - accuracy: 0.7343 - val_loss: 0.9947 - val_accuracy: 0.6154\n",
            "Epoch 6/20\n",
            "9/9 [==============================] - 7s 734ms/step - loss: 0.5413 - accuracy: 0.7848 - val_loss: 1.0810 - val_accuracy: 0.6667\n",
            "Epoch 7/20\n",
            "9/9 [==============================] - 6s 693ms/step - loss: 0.3660 - accuracy: 0.8981 - val_loss: 1.2592 - val_accuracy: 0.6410\n",
            "Epoch 8/20\n",
            "9/9 [==============================] - 6s 622ms/step - loss: 0.2692 - accuracy: 0.9105 - val_loss: 1.5304 - val_accuracy: 0.6154\n",
            "Epoch 9/20\n",
            "9/9 [==============================] - 6s 625ms/step - loss: 0.1720 - accuracy: 0.9562 - val_loss: 1.4858 - val_accuracy: 0.6410\n",
            "Epoch 10/20\n",
            "9/9 [==============================] - 6s 631ms/step - loss: 0.1380 - accuracy: 0.9695 - val_loss: 1.5151 - val_accuracy: 0.6154\n",
            "Epoch 11/20\n",
            "9/9 [==============================] - 6s 636ms/step - loss: 0.0853 - accuracy: 0.9829 - val_loss: 1.7826 - val_accuracy: 0.6154\n",
            "Epoch 12/20\n",
            "9/9 [==============================] - 6s 681ms/step - loss: 0.0608 - accuracy: 0.9914 - val_loss: 1.7331 - val_accuracy: 0.6410\n",
            "Epoch 13/20\n",
            "9/9 [==============================] - 6s 635ms/step - loss: 0.0642 - accuracy: 0.9876 - val_loss: 1.8529 - val_accuracy: 0.6154\n",
            "Epoch 14/20\n",
            "9/9 [==============================] - 6s 627ms/step - loss: 0.0401 - accuracy: 0.9952 - val_loss: 2.2228 - val_accuracy: 0.6154\n",
            "Epoch 15/20\n",
            "9/9 [==============================] - 6s 628ms/step - loss: 0.0402 - accuracy: 0.9933 - val_loss: 2.2323 - val_accuracy: 0.6154\n",
            "Epoch 16/20\n",
            "9/9 [==============================] - 6s 693ms/step - loss: 0.0345 - accuracy: 0.9933 - val_loss: 2.0706 - val_accuracy: 0.6154\n",
            "Epoch 17/20\n",
            "9/9 [==============================] - 6s 625ms/step - loss: 0.0293 - accuracy: 0.9981 - val_loss: 1.9262 - val_accuracy: 0.6154\n",
            "Epoch 18/20\n",
            "9/9 [==============================] - 6s 625ms/step - loss: 0.0305 - accuracy: 0.9971 - val_loss: 2.0073 - val_accuracy: 0.6410\n",
            "Epoch 19/20\n",
            "9/9 [==============================] - 6s 631ms/step - loss: 0.0341 - accuracy: 0.9952 - val_loss: 1.9251 - val_accuracy: 0.6410\n",
            "Epoch 20/20\n",
            "9/9 [==============================] - 6s 632ms/step - loss: 0.0258 - accuracy: 0.9962 - val_loss: 2.0387 - val_accuracy: 0.6154\n"
          ]
        }
      ],
      "source": [
        "history_early = model_early.fit(\n",
        "    train_generator, \n",
        "    epochs= 20, \n",
        "    callbacks = [callback_early],\n",
        "    validation_data = validation_generator\n",
        ")"
      ]
    },
    {
      "cell_type": "markdown",
      "metadata": {
        "id": "Ip4_h5llSPqE"
      },
      "source": [
        "## Creamos nuestra modelo funcional con Auto Tunner Keras"
      ]
    },
    {
      "cell_type": "code",
      "execution_count": 38,
      "metadata": {
        "colab": {
          "base_uri": "https://localhost:8080/"
        },
        "id": "LO9FysC5mGRg",
        "outputId": "28e81ddf-299c-492e-be63-99fc673e37d1"
      },
      "outputs": [
        {
          "output_type": "stream",
          "name": "stdout",
          "text": [
            "\u001b[?25l\r\u001b[K     |██▌                             | 10 kB 29.1 MB/s eta 0:00:01\r\u001b[K     |█████                           | 20 kB 35.9 MB/s eta 0:00:01\r\u001b[K     |███████▍                        | 30 kB 37.6 MB/s eta 0:00:01\r\u001b[K     |█████████▉                      | 40 kB 23.8 MB/s eta 0:00:01\r\u001b[K     |████████████▎                   | 51 kB 20.5 MB/s eta 0:00:01\r\u001b[K     |██████████████▊                 | 61 kB 23.5 MB/s eta 0:00:01\r\u001b[K     |█████████████████▏              | 71 kB 22.9 MB/s eta 0:00:01\r\u001b[K     |███████████████████▋            | 81 kB 24.1 MB/s eta 0:00:01\r\u001b[K     |██████████████████████          | 92 kB 26.2 MB/s eta 0:00:01\r\u001b[K     |████████████████████████▌       | 102 kB 27.9 MB/s eta 0:00:01\r\u001b[K     |███████████████████████████     | 112 kB 27.9 MB/s eta 0:00:01\r\u001b[K     |█████████████████████████████▍  | 122 kB 27.9 MB/s eta 0:00:01\r\u001b[K     |███████████████████████████████▉| 133 kB 27.9 MB/s eta 0:00:01\r\u001b[K     |████████████████████████████████| 133 kB 27.9 MB/s \n",
            "\u001b[?25h"
          ]
        }
      ],
      "source": [
        "!pip install -q -U keras-tuner\n",
        "import keras_tuner as kt\n",
        "from tensorflow import keras"
      ]
    },
    {
      "cell_type": "code",
      "execution_count": 39,
      "metadata": {
        "id": "QWfnAlLzmGOG"
      },
      "outputs": [],
      "source": [
        "def constructor_modelos(hp):\n",
        "  model = tf.keras.models.Sequential()\n",
        "  model.add(tf.keras.layers.Conv2D(64, (3,3), activation= \"relu\", input_shape = (56, 56, 1)))\n",
        "  model.add(tf.keras.layers.MaxPool2D((2,2)))\n",
        "  model.add(tf.keras.layers.Flatten())\n",
        "\n",
        "  hp_units = hp.Int(\"units\", min_value = 32, max_value = 512, step = 32)\n",
        "  model.add(tf.keras.layers.Dense(units=hp_units,activation = \"relu\", kernel_regularizer= regularizers.l2(1e-5)))\n",
        "  model.add(tf.keras.layers.Dropout(0.4))\n",
        "  model.add(tf.keras.layers.Dense(128,activation = \"relu\", kernel_regularizer= regularizers.l2(1e-5)))\n",
        "  model.add(tf.keras.layers.Dropout(0.4))\n",
        "  model.add(tf.keras.layers.Dense(len(classes), activation = \"softmax\"))\n",
        "\n",
        "  hp_learning_rate = hp.Choice('learning_rate', values = [1e-2, 1e-3, 1e-4])\n",
        "\n",
        "  model.compile(optimizer = keras.optimizers.Adam(learning_rate=hp_learning_rate),loss = \"categorical_crossentropy\", metrics = [\"accuracy\"])\n",
        "\n",
        "  return model"
      ]
    },
    {
      "cell_type": "code",
      "execution_count": 40,
      "metadata": {
        "id": "UQzCa0hdmGLC"
      },
      "outputs": [],
      "source": [
        "tuner = kt.Hyperband(\n",
        "    constructor_modelos,\n",
        "    objective = \"val_accuracy\",\n",
        "    max_epochs = 30,\n",
        "    factor = 3,\n",
        "    directory = \"models/\",\n",
        "    project_name = \"tunner\")"
      ]
    },
    {
      "cell_type": "code",
      "execution_count": 42,
      "metadata": {
        "colab": {
          "base_uri": "https://localhost:8080/"
        },
        "id": "FkRXArT-mGBS",
        "outputId": "548a2012-ee81-453f-b618-5b65e239b41b"
      },
      "outputs": [
        {
          "output_type": "stream",
          "name": "stdout",
          "text": [
            "Trial 64 Complete [00h 00m 36s]\n",
            "val_accuracy: 0.6410256624221802\n",
            "\n",
            "Best val_accuracy So Far: 0.8205128312110901\n",
            "Total elapsed time: 00h 23m 45s\n",
            "INFO:tensorflow:Oracle triggered exit\n"
          ]
        }
      ],
      "source": [
        "tuner.search(train_generator, epochs =20, validation_data = validation_generator)\n",
        "\n",
        "best_hps = tuner.get_best_hyperparameters(num_trials =5)[0]"
      ]
    },
    {
      "cell_type": "code",
      "execution_count": 43,
      "metadata": {
        "colab": {
          "base_uri": "https://localhost:8080/"
        },
        "id": "mzWnJTrduqWs",
        "outputId": "2ae1a457-6b35-42ff-d095-3a4f4b76d13d"
      },
      "outputs": [
        {
          "output_type": "stream",
          "name": "stdout",
          "text": [
            "64\n"
          ]
        }
      ],
      "source": [
        "print(best_hps.get(\"units\"))"
      ]
    },
    {
      "cell_type": "code",
      "execution_count": 44,
      "metadata": {
        "colab": {
          "base_uri": "https://localhost:8080/"
        },
        "id": "V5GYZG8Tutcg",
        "outputId": "89d225a8-b372-4125-d665-2f76127e7c0b"
      },
      "outputs": [
        {
          "output_type": "stream",
          "name": "stdout",
          "text": [
            "0.01\n"
          ]
        }
      ],
      "source": [
        "print(best_hps.get(\"learning_rate\"))"
      ]
    },
    {
      "cell_type": "code",
      "execution_count": 46,
      "metadata": {
        "colab": {
          "base_uri": "https://localhost:8080/"
        },
        "id": "sjmdv4dYuwDv",
        "outputId": "e301e081-d81b-45c6-e1db-efb318913352"
      },
      "outputs": [
        {
          "output_type": "stream",
          "name": "stdout",
          "text": [
            "Epoch 1/20\n",
            "9/9 [==============================] - 4s 427ms/step - loss: 4.6573 - accuracy: 0.3686 - val_loss: 1.1289 - val_accuracy: 0.3333\n",
            "Epoch 2/20\n",
            "9/9 [==============================] - 5s 575ms/step - loss: 1.1414 - accuracy: 0.3476 - val_loss: 1.1510 - val_accuracy: 0.3846\n",
            "Epoch 3/20\n",
            "9/9 [==============================] - 3s 306ms/step - loss: 1.1588 - accuracy: 0.3248 - val_loss: 1.1599 - val_accuracy: 0.3846\n",
            "Epoch 4/20\n",
            "9/9 [==============================] - 3s 302ms/step - loss: 1.1637 - accuracy: 0.3552 - val_loss: 1.1621 - val_accuracy: 0.3846\n",
            "Epoch 5/20\n",
            "9/9 [==============================] - 3s 312ms/step - loss: 1.1645 - accuracy: 0.3238 - val_loss: 1.1641 - val_accuracy: 0.2821\n"
          ]
        }
      ],
      "source": [
        "hypermodel = tuner.hypermodel.build(best_hps)\n",
        "\n",
        "history_hypermodel = hypermodel.fit(\n",
        "    train_generator,\n",
        "    epochs = 20,\n",
        "    callbacks = [callback_early],\n",
        "    validation_data = validation_generator\n",
        ")"
      ]
    },
    {
      "cell_type": "markdown",
      "metadata": {
        "id": "RBZZwiX8SV62"
      },
      "source": [
        "## Guardar únicamente arquitectura del modelo"
      ]
    },
    {
      "cell_type": "code",
      "metadata": {
        "id": "QYM7eOoUjpSd"
      },
      "source": [
        "config_dict = hypermodel.get_config()"
      ],
      "execution_count": 47,
      "outputs": []
    },
    {
      "cell_type": "code",
      "metadata": {
        "colab": {
          "base_uri": "https://localhost:8080/"
        },
        "id": "8EbHGMftk7hx",
        "outputId": "07a40f10-991e-4f15-f795-5fe91a275f47"
      },
      "source": [
        "print(config_dict)"
      ],
      "execution_count": 48,
      "outputs": [
        {
          "output_type": "stream",
          "name": "stdout",
          "text": [
            "{'name': 'sequential_2', 'layers': [{'class_name': 'InputLayer', 'config': {'batch_input_shape': (None, 56, 56, 1), 'dtype': 'float32', 'sparse': False, 'ragged': False, 'name': 'conv2d_2_input'}}, {'class_name': 'Conv2D', 'config': {'name': 'conv2d_2', 'trainable': True, 'batch_input_shape': (None, 56, 56, 1), 'dtype': 'float32', 'filters': 64, 'kernel_size': (3, 3), 'strides': (1, 1), 'padding': 'valid', 'data_format': 'channels_last', 'dilation_rate': (1, 1), 'groups': 1, 'activation': 'relu', 'use_bias': True, 'kernel_initializer': {'class_name': 'GlorotUniform', 'config': {'seed': None}}, 'bias_initializer': {'class_name': 'Zeros', 'config': {}}, 'kernel_regularizer': None, 'bias_regularizer': None, 'activity_regularizer': None, 'kernel_constraint': None, 'bias_constraint': None}}, {'class_name': 'MaxPooling2D', 'config': {'name': 'max_pooling2d_2', 'trainable': True, 'dtype': 'float32', 'pool_size': (2, 2), 'padding': 'valid', 'strides': (2, 2), 'data_format': 'channels_last'}}, {'class_name': 'Flatten', 'config': {'name': 'flatten_2', 'trainable': True, 'dtype': 'float32', 'data_format': 'channels_last'}}, {'class_name': 'Dense', 'config': {'name': 'dense_6', 'trainable': True, 'dtype': 'float32', 'units': 64, 'activation': 'relu', 'use_bias': True, 'kernel_initializer': {'class_name': 'GlorotUniform', 'config': {'seed': None}}, 'bias_initializer': {'class_name': 'Zeros', 'config': {}}, 'kernel_regularizer': {'class_name': 'L2', 'config': {'l2': 9.999999747378752e-06}}, 'bias_regularizer': None, 'activity_regularizer': None, 'kernel_constraint': None, 'bias_constraint': None}}, {'class_name': 'Dropout', 'config': {'name': 'dropout_4', 'trainable': True, 'dtype': 'float32', 'rate': 0.4, 'noise_shape': None, 'seed': None}}, {'class_name': 'Dense', 'config': {'name': 'dense_7', 'trainable': True, 'dtype': 'float32', 'units': 128, 'activation': 'relu', 'use_bias': True, 'kernel_initializer': {'class_name': 'GlorotUniform', 'config': {'seed': None}}, 'bias_initializer': {'class_name': 'Zeros', 'config': {}}, 'kernel_regularizer': {'class_name': 'L2', 'config': {'l2': 9.999999747378752e-06}}, 'bias_regularizer': None, 'activity_regularizer': None, 'kernel_constraint': None, 'bias_constraint': None}}, {'class_name': 'Dropout', 'config': {'name': 'dropout_5', 'trainable': True, 'dtype': 'float32', 'rate': 0.4, 'noise_shape': None, 'seed': None}}, {'class_name': 'Dense', 'config': {'name': 'dense_8', 'trainable': True, 'dtype': 'float32', 'units': 3, 'activation': 'softmax', 'use_bias': True, 'kernel_initializer': {'class_name': 'GlorotUniform', 'config': {'seed': None}}, 'bias_initializer': {'class_name': 'Zeros', 'config': {}}, 'kernel_regularizer': None, 'bias_regularizer': None, 'activity_regularizer': None, 'kernel_constraint': None, 'bias_constraint': None}}]}\n"
          ]
        }
      ]
    },
    {
      "cell_type": "markdown",
      "metadata": {
        "id": "MenoB0enSZBU"
      },
      "source": [
        "## Crear un nuevo modelo desde la arquitectura"
      ]
    },
    {
      "cell_type": "code",
      "metadata": {
        "id": "Bst992BOk9NR"
      },
      "source": [
        "model_same_config = tf.keras.Sequential.from_config(config_dict)"
      ],
      "execution_count": 49,
      "outputs": []
    },
    {
      "cell_type": "code",
      "metadata": {
        "colab": {
          "base_uri": "https://localhost:8080/"
        },
        "id": "8n01RXaPlLeY",
        "outputId": "15e19680-2f07-409b-9231-e212652183b6"
      },
      "source": [
        "model_same_config.summary()"
      ],
      "execution_count": 50,
      "outputs": [
        {
          "output_type": "stream",
          "name": "stdout",
          "text": [
            "Model: \"sequential_2\"\n",
            "_________________________________________________________________\n",
            " Layer (type)                Output Shape              Param #   \n",
            "=================================================================\n",
            " conv2d_2 (Conv2D)           (None, 54, 54, 64)        640       \n",
            "                                                                 \n",
            " max_pooling2d_2 (MaxPooling  (None, 27, 27, 64)       0         \n",
            " 2D)                                                             \n",
            "                                                                 \n",
            " flatten_2 (Flatten)         (None, 46656)             0         \n",
            "                                                                 \n",
            " dense_6 (Dense)             (None, 64)                2986048   \n",
            "                                                                 \n",
            " dropout_4 (Dropout)         (None, 64)                0         \n",
            "                                                                 \n",
            " dense_7 (Dense)             (None, 128)               8320      \n",
            "                                                                 \n",
            " dropout_5 (Dropout)         (None, 128)               0         \n",
            "                                                                 \n",
            " dense_8 (Dense)             (None, 3)                 387       \n",
            "                                                                 \n",
            "=================================================================\n",
            "Total params: 2,995,395\n",
            "Trainable params: 2,995,395\n",
            "Non-trainable params: 0\n",
            "_________________________________________________________________\n"
          ]
        }
      ]
    },
    {
      "cell_type": "markdown",
      "metadata": {
        "id": "1XeY53PSShXF"
      },
      "source": [
        "## Guardar y cargar unicamente los pesos\n"
      ]
    },
    {
      "cell_type": "code",
      "metadata": {
        "id": "RCCv_YTGlOEo"
      },
      "source": [
        "from tensorflow.keras.callbacks import ModelCheckpoint"
      ],
      "execution_count": 51,
      "outputs": []
    },
    {
      "cell_type": "code",
      "metadata": {
        "colab": {
          "base_uri": "https://localhost:8080/"
        },
        "id": "KVyH59Lslnyy",
        "outputId": "496f4cc9-ce42-48b6-f1cd-a7acda5e7b77"
      },
      "source": [
        "model_weight = get_model()\n",
        "model_weight.summary()"
      ],
      "execution_count": 52,
      "outputs": [
        {
          "output_type": "stream",
          "name": "stdout",
          "text": [
            "Model: \"sequential_3\"\n",
            "_________________________________________________________________\n",
            " Layer (type)                Output Shape              Param #   \n",
            "=================================================================\n",
            " conv2d_3 (Conv2D)           (None, 54, 54, 75)        750       \n",
            "                                                                 \n",
            " max_pooling2d_3 (MaxPooling  (None, 27, 27, 75)       0         \n",
            " 2D)                                                             \n",
            "                                                                 \n",
            " flatten_3 (Flatten)         (None, 54675)             0         \n",
            "                                                                 \n",
            " dense_9 (Dense)             (None, 256)               13997056  \n",
            "                                                                 \n",
            " dropout_6 (Dropout)         (None, 256)               0         \n",
            "                                                                 \n",
            " dense_10 (Dense)            (None, 128)               32896     \n",
            "                                                                 \n",
            " dropout_7 (Dropout)         (None, 128)               0         \n",
            "                                                                 \n",
            " dense_11 (Dense)            (None, 3)                 387       \n",
            "                                                                 \n",
            "=================================================================\n",
            "Total params: 14,031,089\n",
            "Trainable params: 14,031,089\n",
            "Non-trainable params: 0\n",
            "_________________________________________________________________\n"
          ]
        }
      ]
    },
    {
      "cell_type": "code",
      "metadata": {
        "id": "oXTpLg6xlszW"
      },
      "source": [
        "model_weight.compile(optimizer = \"adam\", loss = \"categorical_crossentropy\", metrics = [\"accuracy\"])"
      ],
      "execution_count": 53,
      "outputs": []
    },
    {
      "cell_type": "code",
      "metadata": {
        "id": "EA0wvntnl2EP"
      },
      "source": [
        "# Creamos unos checkpoint de nuestros modelos con TensorFlow, verbose: mostrar mas información\n",
        "checkpoint_path = \"model_checpoints/checkpoint\"\n",
        "checkpoint_weighs= ModelCheckpoint(\n",
        "    filepath = checkpoint_path,\n",
        "    frecuency = \"epoch\",\n",
        "    save_weights_only = True,\n",
        "    verbose = 1\n",
        "\n",
        ")"
      ],
      "execution_count": 54,
      "outputs": []
    },
    {
      "cell_type": "code",
      "metadata": {
        "colab": {
          "base_uri": "https://localhost:8080/"
        },
        "id": "lpD1IJ92mIxs",
        "outputId": "ae287842-d815-4e15-9b3a-d21cc32fe061"
      },
      "source": [
        "# Entrenamos el modelo, y almacenamos en cada steps los pesos del moedelo.\n",
        "history_weight = model_weight.fit(\n",
        "    train_generator,\n",
        "    epochs = 20,\n",
        "    callbacks = [checkpoint_weighs],\n",
        "    validation_data = validation_generator\n",
        ")\n"
      ],
      "execution_count": 55,
      "outputs": [
        {
          "output_type": "stream",
          "name": "stdout",
          "text": [
            "Epoch 1/20\n",
            "9/9 [==============================] - ETA: 0s - loss: 2.1253 - accuracy: 0.4029\n",
            "Epoch 1: saving model to model_checpoints/checkpoint\n",
            "9/9 [==============================] - 7s 695ms/step - loss: 2.1253 - accuracy: 0.4029 - val_loss: 0.9897 - val_accuracy: 0.6667\n",
            "Epoch 2/20\n",
            "9/9 [==============================] - ETA: 0s - loss: 1.0954 - accuracy: 0.4762\n",
            "Epoch 2: saving model to model_checpoints/checkpoint\n",
            "9/9 [==============================] - 6s 676ms/step - loss: 1.0954 - accuracy: 0.4762 - val_loss: 0.9674 - val_accuracy: 0.4872\n",
            "Epoch 3/20\n",
            "9/9 [==============================] - ETA: 0s - loss: 0.8748 - accuracy: 0.6019\n",
            "Epoch 3: saving model to model_checpoints/checkpoint\n",
            "9/9 [==============================] - 6s 668ms/step - loss: 0.8748 - accuracy: 0.6019 - val_loss: 0.9152 - val_accuracy: 0.5641\n",
            "Epoch 4/20\n",
            "9/9 [==============================] - ETA: 0s - loss: 0.6998 - accuracy: 0.6990\n",
            "Epoch 4: saving model to model_checpoints/checkpoint\n",
            "9/9 [==============================] - 6s 670ms/step - loss: 0.6998 - accuracy: 0.6990 - val_loss: 1.0469 - val_accuracy: 0.6154\n",
            "Epoch 5/20\n",
            "9/9 [==============================] - ETA: 0s - loss: 0.5563 - accuracy: 0.7733\n",
            "Epoch 5: saving model to model_checpoints/checkpoint\n",
            "9/9 [==============================] - 6s 676ms/step - loss: 0.5563 - accuracy: 0.7733 - val_loss: 0.9613 - val_accuracy: 0.6154\n",
            "Epoch 6/20\n",
            "9/9 [==============================] - ETA: 0s - loss: 0.4365 - accuracy: 0.8381\n",
            "Epoch 6: saving model to model_checpoints/checkpoint\n",
            "9/9 [==============================] - 6s 680ms/step - loss: 0.4365 - accuracy: 0.8381 - val_loss: 1.1347 - val_accuracy: 0.6154\n",
            "Epoch 7/20\n",
            "9/9 [==============================] - ETA: 0s - loss: 0.2905 - accuracy: 0.9029\n",
            "Epoch 7: saving model to model_checpoints/checkpoint\n",
            "9/9 [==============================] - 7s 695ms/step - loss: 0.2905 - accuracy: 0.9029 - val_loss: 1.3814 - val_accuracy: 0.6154\n",
            "Epoch 8/20\n",
            "9/9 [==============================] - ETA: 0s - loss: 0.2321 - accuracy: 0.9219\n",
            "Epoch 8: saving model to model_checpoints/checkpoint\n",
            "9/9 [==============================] - 6s 666ms/step - loss: 0.2321 - accuracy: 0.9219 - val_loss: 1.6655 - val_accuracy: 0.6154\n",
            "Epoch 9/20\n",
            "9/9 [==============================] - ETA: 0s - loss: 0.1653 - accuracy: 0.9495\n",
            "Epoch 9: saving model to model_checpoints/checkpoint\n",
            "9/9 [==============================] - 6s 674ms/step - loss: 0.1653 - accuracy: 0.9495 - val_loss: 1.5684 - val_accuracy: 0.6154\n",
            "Epoch 10/20\n",
            "9/9 [==============================] - ETA: 0s - loss: 0.1150 - accuracy: 0.9724\n",
            "Epoch 10: saving model to model_checpoints/checkpoint\n",
            "9/9 [==============================] - 6s 727ms/step - loss: 0.1150 - accuracy: 0.9724 - val_loss: 1.7961 - val_accuracy: 0.6154\n",
            "Epoch 11/20\n",
            "9/9 [==============================] - ETA: 0s - loss: 0.1125 - accuracy: 0.9638\n",
            "Epoch 11: saving model to model_checpoints/checkpoint\n",
            "9/9 [==============================] - 6s 667ms/step - loss: 0.1125 - accuracy: 0.9638 - val_loss: 1.5759 - val_accuracy: 0.6154\n",
            "Epoch 12/20\n",
            "9/9 [==============================] - ETA: 0s - loss: 0.0654 - accuracy: 0.9867\n",
            "Epoch 12: saving model to model_checpoints/checkpoint\n",
            "9/9 [==============================] - 6s 667ms/step - loss: 0.0654 - accuracy: 0.9867 - val_loss: 1.7859 - val_accuracy: 0.6154\n",
            "Epoch 13/20\n",
            "9/9 [==============================] - ETA: 0s - loss: 0.0677 - accuracy: 0.9810\n",
            "Epoch 13: saving model to model_checpoints/checkpoint\n",
            "9/9 [==============================] - 6s 669ms/step - loss: 0.0677 - accuracy: 0.9810 - val_loss: 1.9606 - val_accuracy: 0.6154\n",
            "Epoch 14/20\n",
            "9/9 [==============================] - ETA: 0s - loss: 0.0620 - accuracy: 0.9838\n",
            "Epoch 14: saving model to model_checpoints/checkpoint\n",
            "9/9 [==============================] - 6s 680ms/step - loss: 0.0620 - accuracy: 0.9838 - val_loss: 1.7932 - val_accuracy: 0.6154\n",
            "Epoch 15/20\n",
            "9/9 [==============================] - ETA: 0s - loss: 0.0494 - accuracy: 0.9886\n",
            "Epoch 15: saving model to model_checpoints/checkpoint\n",
            "9/9 [==============================] - 6s 674ms/step - loss: 0.0494 - accuracy: 0.9886 - val_loss: 1.8296 - val_accuracy: 0.6154\n",
            "Epoch 16/20\n",
            "9/9 [==============================] - ETA: 0s - loss: 0.0501 - accuracy: 0.9914\n",
            "Epoch 16: saving model to model_checpoints/checkpoint\n",
            "9/9 [==============================] - 6s 680ms/step - loss: 0.0501 - accuracy: 0.9914 - val_loss: 1.8175 - val_accuracy: 0.6410\n",
            "Epoch 17/20\n",
            "9/9 [==============================] - ETA: 0s - loss: 0.0392 - accuracy: 0.9933\n",
            "Epoch 17: saving model to model_checpoints/checkpoint\n",
            "9/9 [==============================] - 6s 735ms/step - loss: 0.0392 - accuracy: 0.9933 - val_loss: 1.9233 - val_accuracy: 0.6154\n",
            "Epoch 18/20\n",
            "9/9 [==============================] - ETA: 0s - loss: 0.0336 - accuracy: 0.9943\n",
            "Epoch 18: saving model to model_checpoints/checkpoint\n",
            "9/9 [==============================] - 6s 676ms/step - loss: 0.0336 - accuracy: 0.9943 - val_loss: 1.9632 - val_accuracy: 0.6410\n",
            "Epoch 19/20\n",
            "9/9 [==============================] - ETA: 0s - loss: 0.0297 - accuracy: 0.9952\n",
            "Epoch 19: saving model to model_checpoints/checkpoint\n",
            "9/9 [==============================] - 6s 663ms/step - loss: 0.0297 - accuracy: 0.9952 - val_loss: 1.9649 - val_accuracy: 0.6667\n",
            "Epoch 20/20\n",
            "9/9 [==============================] - ETA: 0s - loss: 0.0289 - accuracy: 0.9962\n",
            "Epoch 20: saving model to model_checpoints/checkpoint\n",
            "9/9 [==============================] - 6s 668ms/step - loss: 0.0289 - accuracy: 0.9962 - val_loss: 2.0761 - val_accuracy: 0.6154\n"
          ]
        }
      ]
    },
    {
      "cell_type": "markdown",
      "metadata": {
        "id": "LFl0tmyFSzod"
      },
      "source": [
        "#### Guardamos los pesos de forma manual"
      ]
    },
    {
      "cell_type": "code",
      "metadata": {
        "id": "QALTjsN9qFs3"
      },
      "source": [
        "model_weight.save_weights(\"model_manul/my_model\")"
      ],
      "execution_count": 56,
      "outputs": []
    },
    {
      "cell_type": "markdown",
      "metadata": {
        "id": "96lFwJv-S0pa"
      },
      "source": [
        "#### Creamos la arquitectura y cargamos los pesos"
      ]
    },
    {
      "cell_type": "code",
      "metadata": {
        "id": "y711fnB8qJMo"
      },
      "source": [
        "model_weights2 = get_model()\n",
        "model_weights2.compile(optimizer = \"adam\", loss = \"categorical_crossentropy\", metrics = [\"accuracy\"])"
      ],
      "execution_count": 57,
      "outputs": []
    },
    {
      "cell_type": "code",
      "metadata": {
        "colab": {
          "base_uri": "https://localhost:8080/"
        },
        "id": "UMC8it9DqbEa",
        "outputId": "f2ee0208-4cc4-45a3-ed5e-4d8b66d49f09"
      },
      "source": [
        "model_weights2.load_weights(checkpoint_path)\n"
      ],
      "execution_count": 58,
      "outputs": [
        {
          "output_type": "execute_result",
          "data": {
            "text/plain": [
              "<tensorflow.python.training.tracking.util.CheckpointLoadStatus at 0x7f525c8c3d50>"
            ]
          },
          "metadata": {},
          "execution_count": 58
        }
      ]
    },
    {
      "cell_type": "code",
      "metadata": {
        "colab": {
          "base_uri": "https://localhost:8080/"
        },
        "id": "hPM2aXSfqjPX",
        "outputId": "4a9dc553-ab2f-4c48-e532-52c2e7d77b24"
      },
      "source": [
        "model_weights2.evaluate(test_generator)"
      ],
      "execution_count": 59,
      "outputs": [
        {
          "output_type": "stream",
          "name": "stdout",
          "text": [
            "2/2 [==============================] - 1s 41ms/step - loss: 2.3335 - accuracy: 0.6042\n"
          ]
        },
        {
          "output_type": "execute_result",
          "data": {
            "text/plain": [
              "[2.3334624767303467, 0.6041666865348816]"
            ]
          },
          "metadata": {},
          "execution_count": 59
        }
      ]
    },
    {
      "cell_type": "code",
      "metadata": {
        "colab": {
          "base_uri": "https://localhost:8080/"
        },
        "id": "iBHsXORjqmF_",
        "outputId": "e4e9c952-4d50-4fb7-a049-726558c18707"
      },
      "source": [
        "model_weight.evaluate(test_generator)"
      ],
      "execution_count": 60,
      "outputs": [
        {
          "output_type": "stream",
          "name": "stdout",
          "text": [
            "2/2 [==============================] - 0s 44ms/step - loss: 2.3335 - accuracy: 0.6042\n"
          ]
        },
        {
          "output_type": "execute_result",
          "data": {
            "text/plain": [
              "[2.3334622383117676, 0.6041666865348816]"
            ]
          },
          "metadata": {},
          "execution_count": 60
        }
      ]
    },
    {
      "cell_type": "markdown",
      "metadata": {
        "id": "AdcZulBoS-0S"
      },
      "source": [
        "## Criterios para almacenar modelos\n",
        "#### Almacenar infraestructura y peso"
      ]
    },
    {
      "cell_type": "code",
      "metadata": {
        "id": "5JtijvlcqqXk"
      },
      "source": [
        "checkpoint_path = \"model_checpoints_complete\"\n",
        "checkpoint_weighs= ModelCheckpoint(\n",
        "    filepath = checkpoint_path,\n",
        "    frecuency = \"epoch\",\n",
        "    save_weights_only = False,\n",
        "    monitor = \"val_accuracy\",\n",
        "    save_best_only = True,\n",
        "    verbose = 1\n",
        "\n",
        ")"
      ],
      "execution_count": 61,
      "outputs": []
    },
    {
      "cell_type": "code",
      "metadata": {
        "colab": {
          "base_uri": "https://localhost:8080/"
        },
        "id": "lZxvA2wSsnKf",
        "outputId": "f8b1470b-9407-4d14-9bf4-b282a713c47c"
      },
      "source": [
        "model_complete = get_model()\n",
        "model_complete.compile(optimizer = \"adam\", loss = \"categorical_crossentropy\", metrics = [\"accuracy\"])\n",
        "\n",
        "history_complete = model_complete.fit(\n",
        "    train_generator,\n",
        "    epochs = 20,\n",
        "    callbacks = [checkpoint_weighs],\n",
        "    validation_data = validation_generator\n",
        ")"
      ],
      "execution_count": 62,
      "outputs": [
        {
          "output_type": "stream",
          "name": "stdout",
          "text": [
            "Epoch 1/20\n",
            "9/9 [==============================] - ETA: 0s - loss: 1.4550 - accuracy: 0.4429\n",
            "Epoch 1: val_accuracy improved from -inf to 0.51282, saving model to model_checpoints_complete\n",
            "INFO:tensorflow:Assets written to: model_checpoints_complete/assets\n",
            "9/9 [==============================] - 8s 840ms/step - loss: 1.4550 - accuracy: 0.4429 - val_loss: 0.9202 - val_accuracy: 0.5128\n",
            "Epoch 2/20\n",
            "9/9 [==============================] - ETA: 0s - loss: 0.9425 - accuracy: 0.5724\n",
            "Epoch 2: val_accuracy improved from 0.51282 to 0.58974, saving model to model_checpoints_complete\n",
            "INFO:tensorflow:Assets written to: model_checpoints_complete/assets\n",
            "9/9 [==============================] - 18s 2s/step - loss: 0.9425 - accuracy: 0.5724 - val_loss: 0.9305 - val_accuracy: 0.5897\n",
            "Epoch 3/20\n",
            "9/9 [==============================] - ETA: 0s - loss: 0.7130 - accuracy: 0.6943\n",
            "Epoch 3: val_accuracy did not improve from 0.58974\n",
            "9/9 [==============================] - 6s 629ms/step - loss: 0.7130 - accuracy: 0.6943 - val_loss: 1.0512 - val_accuracy: 0.5897\n",
            "Epoch 4/20\n",
            "9/9 [==============================] - ETA: 0s - loss: 0.5187 - accuracy: 0.7876\n",
            "Epoch 4: val_accuracy did not improve from 0.58974\n",
            "9/9 [==============================] - 6s 622ms/step - loss: 0.5187 - accuracy: 0.7876 - val_loss: 1.2399 - val_accuracy: 0.5641\n",
            "Epoch 5/20\n",
            "9/9 [==============================] - ETA: 0s - loss: 0.3090 - accuracy: 0.8790\n",
            "Epoch 5: val_accuracy improved from 0.58974 to 0.61538, saving model to model_checpoints_complete\n",
            "INFO:tensorflow:Assets written to: model_checpoints_complete/assets\n",
            "9/9 [==============================] - 7s 795ms/step - loss: 0.3090 - accuracy: 0.8790 - val_loss: 1.3678 - val_accuracy: 0.6154\n",
            "Epoch 6/20\n",
            "9/9 [==============================] - ETA: 0s - loss: 0.2202 - accuracy: 0.9314\n",
            "Epoch 6: val_accuracy did not improve from 0.61538\n",
            "9/9 [==============================] - 6s 631ms/step - loss: 0.2202 - accuracy: 0.9314 - val_loss: 1.6825 - val_accuracy: 0.6154\n",
            "Epoch 7/20\n",
            "9/9 [==============================] - ETA: 0s - loss: 0.1269 - accuracy: 0.9676\n",
            "Epoch 7: val_accuracy did not improve from 0.61538\n",
            "9/9 [==============================] - 6s 629ms/step - loss: 0.1269 - accuracy: 0.9676 - val_loss: 2.0616 - val_accuracy: 0.6154\n",
            "Epoch 8/20\n",
            "9/9 [==============================] - ETA: 0s - loss: 0.0869 - accuracy: 0.9790\n",
            "Epoch 8: val_accuracy did not improve from 0.61538\n",
            "9/9 [==============================] - 6s 631ms/step - loss: 0.0869 - accuracy: 0.9790 - val_loss: 2.3348 - val_accuracy: 0.6154\n",
            "Epoch 9/20\n",
            "9/9 [==============================] - ETA: 0s - loss: 0.0627 - accuracy: 0.9838\n",
            "Epoch 9: val_accuracy did not improve from 0.61538\n",
            "9/9 [==============================] - 6s 637ms/step - loss: 0.0627 - accuracy: 0.9838 - val_loss: 2.4554 - val_accuracy: 0.6154\n",
            "Epoch 10/20\n",
            "9/9 [==============================] - ETA: 0s - loss: 0.0695 - accuracy: 0.9781\n",
            "Epoch 10: val_accuracy improved from 0.61538 to 0.64103, saving model to model_checpoints_complete\n",
            "INFO:tensorflow:Assets written to: model_checpoints_complete/assets\n",
            "9/9 [==============================] - 7s 799ms/step - loss: 0.0695 - accuracy: 0.9781 - val_loss: 2.8493 - val_accuracy: 0.6410\n",
            "Epoch 11/20\n",
            "9/9 [==============================] - ETA: 0s - loss: 0.0418 - accuracy: 0.9924\n",
            "Epoch 11: val_accuracy did not improve from 0.64103\n",
            "9/9 [==============================] - 6s 625ms/step - loss: 0.0418 - accuracy: 0.9924 - val_loss: 2.4636 - val_accuracy: 0.6154\n",
            "Epoch 12/20\n",
            "9/9 [==============================] - ETA: 0s - loss: 0.0375 - accuracy: 0.9914\n",
            "Epoch 12: val_accuracy did not improve from 0.64103\n",
            "9/9 [==============================] - 6s 621ms/step - loss: 0.0375 - accuracy: 0.9914 - val_loss: 2.4477 - val_accuracy: 0.6154\n",
            "Epoch 13/20\n",
            "9/9 [==============================] - ETA: 0s - loss: 0.0333 - accuracy: 0.9943\n",
            "Epoch 13: val_accuracy improved from 0.64103 to 0.66667, saving model to model_checpoints_complete\n",
            "INFO:tensorflow:Assets written to: model_checpoints_complete/assets\n",
            "9/9 [==============================] - 7s 791ms/step - loss: 0.0333 - accuracy: 0.9943 - val_loss: 2.6890 - val_accuracy: 0.6667\n",
            "Epoch 14/20\n",
            "9/9 [==============================] - ETA: 0s - loss: 0.0269 - accuracy: 0.9962\n",
            "Epoch 14: val_accuracy did not improve from 0.66667\n",
            "9/9 [==============================] - 6s 630ms/step - loss: 0.0269 - accuracy: 0.9962 - val_loss: 2.6598 - val_accuracy: 0.6154\n",
            "Epoch 15/20\n",
            "9/9 [==============================] - ETA: 0s - loss: 0.0230 - accuracy: 0.9971\n",
            "Epoch 15: val_accuracy did not improve from 0.66667\n",
            "9/9 [==============================] - 6s 632ms/step - loss: 0.0230 - accuracy: 0.9971 - val_loss: 2.7450 - val_accuracy: 0.6410\n",
            "Epoch 16/20\n",
            "9/9 [==============================] - ETA: 0s - loss: 0.0439 - accuracy: 0.9905\n",
            "Epoch 16: val_accuracy did not improve from 0.66667\n",
            "9/9 [==============================] - 6s 689ms/step - loss: 0.0439 - accuracy: 0.9905 - val_loss: 2.5559 - val_accuracy: 0.6667\n",
            "Epoch 17/20\n",
            "9/9 [==============================] - ETA: 0s - loss: 0.0315 - accuracy: 0.9952\n",
            "Epoch 17: val_accuracy did not improve from 0.66667\n",
            "9/9 [==============================] - 6s 624ms/step - loss: 0.0315 - accuracy: 0.9952 - val_loss: 2.6496 - val_accuracy: 0.6667\n",
            "Epoch 18/20\n",
            "9/9 [==============================] - ETA: 0s - loss: 0.0254 - accuracy: 0.9971\n",
            "Epoch 18: val_accuracy did not improve from 0.66667\n",
            "9/9 [==============================] - 6s 631ms/step - loss: 0.0254 - accuracy: 0.9971 - val_loss: 2.9462 - val_accuracy: 0.6667\n",
            "Epoch 19/20\n",
            "9/9 [==============================] - ETA: 0s - loss: 0.0257 - accuracy: 0.9962\n",
            "Epoch 19: val_accuracy did not improve from 0.66667\n",
            "9/9 [==============================] - 6s 627ms/step - loss: 0.0257 - accuracy: 0.9962 - val_loss: 3.1985 - val_accuracy: 0.6667\n",
            "Epoch 20/20\n",
            "9/9 [==============================] - ETA: 0s - loss: 0.0266 - accuracy: 0.9971\n",
            "Epoch 20: val_accuracy did not improve from 0.66667\n",
            "9/9 [==============================] - 6s 626ms/step - loss: 0.0266 - accuracy: 0.9971 - val_loss: 2.8004 - val_accuracy: 0.6410\n"
          ]
        }
      ]
    },
    {
      "cell_type": "markdown",
      "metadata": {
        "id": "QlmaVYpJTJfv"
      },
      "source": [
        "#### Almacenar infraestructura y peso manual"
      ]
    },
    {
      "cell_type": "code",
      "metadata": {
        "colab": {
          "base_uri": "https://localhost:8080/"
        },
        "id": "yZHgK3mztqwB",
        "outputId": "114a168d-a388-4d72-9690-7a9b960f3733"
      },
      "source": [
        "model_complete.save(\"saved_model_complete/mymodel\")"
      ],
      "execution_count": 63,
      "outputs": [
        {
          "output_type": "stream",
          "name": "stdout",
          "text": [
            "INFO:tensorflow:Assets written to: saved_model_complete/mymodel/assets\n"
          ]
        }
      ]
    },
    {
      "cell_type": "markdown",
      "metadata": {
        "id": "AcnEnv4ITMz_"
      },
      "source": [
        "#### Cargamos nuestro modelo completo"
      ]
    },
    {
      "cell_type": "code",
      "metadata": {
        "id": "FsUxVMvpwdku"
      },
      "source": [
        "model_complete3 = tf.keras.models.load_model(\"saved_model_complete/mymodel\")"
      ],
      "execution_count": 64,
      "outputs": []
    },
    {
      "cell_type": "code",
      "metadata": {
        "colab": {
          "base_uri": "https://localhost:8080/"
        },
        "id": "ffhb1IwUwo7w",
        "outputId": "c6750bb8-c797-44dc-a6e3-f69adc876eae"
      },
      "source": [
        "model_complete3.evaluate(test_generator)"
      ],
      "execution_count": 65,
      "outputs": [
        {
          "output_type": "stream",
          "name": "stdout",
          "text": [
            "2/2 [==============================] - 0s 40ms/step - loss: 2.4665 - accuracy: 0.6181\n"
          ]
        },
        {
          "output_type": "execute_result",
          "data": {
            "text/plain": [
              "[2.4665439128875732, 0.6180555820465088]"
            ]
          },
          "metadata": {},
          "execution_count": 65
        }
      ]
    },
    {
      "cell_type": "code",
      "metadata": {
        "colab": {
          "base_uri": "https://localhost:8080/"
        },
        "id": "-ZMSSZZwwuIB",
        "outputId": "3d3d26ee-761a-46f9-c7a2-a476d04fd95e"
      },
      "source": [
        "model_complete.evaluate(test_generator)"
      ],
      "execution_count": 66,
      "outputs": [
        {
          "output_type": "stream",
          "name": "stdout",
          "text": [
            "2/2 [==============================] - 0s 40ms/step - loss: 2.4665 - accuracy: 0.6181\n"
          ]
        },
        {
          "output_type": "execute_result",
          "data": {
            "text/plain": [
              "[2.4665439128875732, 0.6180555820465088]"
            ]
          },
          "metadata": {},
          "execution_count": 66
        }
      ]
    },
    {
      "cell_type": "markdown",
      "metadata": {
        "id": "ziQ_u00qTRE_"
      },
      "source": [
        "#### Usar el formato .h5 para guardar modelos\n",
        "Hierarchical Data Format (HDF5 format)"
      ]
    },
    {
      "cell_type": "code",
      "metadata": {
        "colab": {
          "base_uri": "https://localhost:8080/"
        },
        "id": "cKnA_tfHww5U",
        "outputId": "e09c9465-a040-4bb8-80ee-34fc13209049"
      },
      "source": [
        "!pip install pyyaml h5py"
      ],
      "execution_count": 67,
      "outputs": [
        {
          "output_type": "stream",
          "name": "stdout",
          "text": [
            "Looking in indexes: https://pypi.org/simple, https://us-python.pkg.dev/colab-wheels/public/simple/\n",
            "Requirement already satisfied: pyyaml in /usr/local/lib/python3.7/dist-packages (3.13)\n",
            "Requirement already satisfied: h5py in /usr/local/lib/python3.7/dist-packages (3.1.0)\n",
            "Requirement already satisfied: numpy>=1.14.5 in /usr/local/lib/python3.7/dist-packages (from h5py) (1.21.6)\n",
            "Requirement already satisfied: cached-property in /usr/local/lib/python3.7/dist-packages (from h5py) (1.5.2)\n"
          ]
        }
      ]
    },
    {
      "cell_type": "code",
      "metadata": {
        "id": "HHSmk54fxAMH"
      },
      "source": [
        "model_complete3.save(\"my_model.h5\")"
      ],
      "execution_count": 68,
      "outputs": []
    },
    {
      "cell_type": "code",
      "metadata": {
        "id": "OK8_TmuRxFbo"
      },
      "source": [
        "model_complete4 = tf.keras.models.load_model(\"my_model.h5\")"
      ],
      "execution_count": 69,
      "outputs": []
    }
  ],
  "metadata": {
    "colab": {
      "collapsed_sections": [],
      "name": "Tumor_classiffier",
      "provenance": [],
      "authorship_tag": "ABX9TyMzHaj/MOoGgQPW2qTPcYbP",
      "include_colab_link": true
    },
    "kernelspec": {
      "display_name": "Python 3",
      "name": "python3"
    },
    "language_info": {
      "name": "python"
    }
  },
  "nbformat": 4,
  "nbformat_minor": 0
}
{
  "cells": [
    {
      "cell_type": "markdown",
      "metadata": {
        "id": "view-in-github",
        "colab_type": "text"
      },
      "source": [
        "<a href=\"https://colab.research.google.com/github/joooser/TENSORFLOW2/blob/main/Tumor_classiffier.ipynb\" target=\"_parent\"><img src=\"https://colab.research.google.com/assets/colab-badge.svg\" alt=\"Open In Colab\"/></a>"
      ]
    },
    {
      "cell_type": "code",
      "execution_count": 32,
      "metadata": {
        "id": "9xVOLWnJflLA"
      },
      "outputs": [],
      "source": [
        "import os\n",
        "import zipfile"
      ]
    },
    {
      "cell_type": "code",
      "execution_count": 33,
      "metadata": {
        "colab": {
          "base_uri": "https://localhost:8080/"
        },
        "id": "X0G2iDJiUoBr",
        "outputId": "04b528ee-6d42-4f89-e14f-21e6a785548b"
      },
      "outputs": [
        {
          "output_type": "stream",
          "name": "stdout",
          "text": [
            "--2022-06-02 04:13:01--  https://storage.googleapis.com/platzi-tf2/TumorClassification.zip\n",
            "Resolving storage.googleapis.com (storage.googleapis.com)... 142.251.18.128, 142.250.153.128, 74.125.128.128, ...\n",
            "Connecting to storage.googleapis.com (storage.googleapis.com)|142.251.18.128|:443... connected.\n",
            "HTTP request sent, awaiting response... 200 OK\n",
            "Length: 7460028 (7.1M) [application/zip]\n",
            "Saving to: ‘/tmp/platzi-tf2/TumorClassification.zip’\n",
            "\n",
            "\r          /tmp/plat   0%[                    ]       0  --.-KB/s               \r/tmp/platzi-tf2/Tum 100%[===================>]   7.11M  --.-KB/s    in 0.05s   \n",
            "\n",
            "2022-06-02 04:13:01 (152 MB/s) - ‘/tmp/platzi-tf2/TumorClassification.zip’ saved [7460028/7460028]\n",
            "\n"
          ]
        }
      ],
      "source": [
        "!wget --no-check-certificate https://storage.googleapis.com/platzi-tf2/TumorClassification.zip \\\n",
        "    -O /tmp/platzi-tf2/TumorClassification.zip"
      ]
    },
    {
      "cell_type": "code",
      "execution_count": 34,
      "metadata": {
        "id": "yIr1bDTAoUaj"
      },
      "outputs": [],
      "source": [
        "local_zip = \"/tmp/platzi-tf2/TumorClassification.zip\"\n",
        "zip_ref = zipfile.ZipFile(local_zip, \"r\")\n",
        "zip_ref.extractall(\"/tmp/platzi-tf2\")\n",
        "zip_ref.close()"
      ]
    },
    {
      "cell_type": "code",
      "execution_count": 35,
      "metadata": {
        "id": "q6waQRSFWCkS"
      },
      "outputs": [],
      "source": [
        "import numpy as np\n",
        "%matplotlib inline\n",
        "import matplotlib.pyplot as plt\n",
        "import matplotlib.image as mpimg\n",
        "import string\n",
        "import tensorflow as tf\n",
        "from tensorflow.keras.preprocessing.image import ImageDataGenerator\n",
        "import requests as requests\n",
        "from PIL import Image\n",
        "from io import BytesIO\n",
        "import codecs\n",
        "import json\n"
      ]
    },
    {
      "cell_type": "code",
      "source": [
        "train_dir = \"/tmp/platzi-tf2/Train\"\n",
        "test_dir = \"/tmp/platzi-tf2/Test\""
      ],
      "metadata": {
        "id": "5Q3w8L7wS8Dx"
      },
      "execution_count": 36,
      "outputs": []
    },
    {
      "cell_type": "code",
      "source": [
        "train_datagen = ImageDataGenerator(rescale = 1/255)\n",
        "test_datagen = ImageDataGenerator(rescale = 1/255, validation_split= 0.2)"
      ],
      "metadata": {
        "id": "kyIvJTVfTK-I"
      },
      "execution_count": 37,
      "outputs": []
    },
    {
      "cell_type": "code",
      "source": [
        "train_generator = train_datagen.flow_from_directory(\n",
        "    train_dir,\n",
        "    target_size = (28, 28),\n",
        "    batch_size = 128,\n",
        "    class_mode = \"categorical\",\n",
        "    color_mode = \"grayscale\",\n",
        "    subset = \"training\"\n",
        ")\n",
        "\n",
        "validation_generator = test_datagen.flow_from_directory(\n",
        "    test_dir,\n",
        "    target_size = (28, 28),\n",
        "    batch_size = 128,\n",
        "    class_mode = \"categorical\",\n",
        "    color_mode = \"grayscale\",\n",
        "    subset = \"validation\"\n",
        ")\n",
        "\n",
        "test_generator = test_datagen.flow_from_directory(\n",
        "    test_dir,\n",
        "    target_size = (28, 28),\n",
        "    batch_size = 128,\n",
        "    class_mode = \"categorical\",\n",
        "    color_mode = \"grayscale\"\n",
        ")"
      ],
      "metadata": {
        "colab": {
          "base_uri": "https://localhost:8080/"
        },
        "id": "tpROJBbsUARV",
        "outputId": "dc5ba3c1-c219-4c71-afdc-2efcc30a82c1"
      },
      "execution_count": 38,
      "outputs": [
        {
          "output_type": "stream",
          "name": "stdout",
          "text": [
            "Found 1050 images belonging to 3 classes.\n",
            "Found 28 images belonging to 3 classes.\n",
            "Found 144 images belonging to 3 classes.\n"
          ]
        }
      ]
    },
    {
      "cell_type": "code",
      "source": [
        "classes = [\"BENIGN\", \"MALIGNANT\", \"NORMAL\"]"
      ],
      "metadata": {
        "id": "l_vpYmjBVi8M"
      },
      "execution_count": 39,
      "outputs": []
    },
    {
      "cell_type": "code",
      "source": [
        "classes"
      ],
      "metadata": {
        "colab": {
          "base_uri": "https://localhost:8080/"
        },
        "id": "eitwx13gWztp",
        "outputId": "e318ce43-2e0c-4272-e2b4-610718a89232"
      },
      "execution_count": 40,
      "outputs": [
        {
          "output_type": "execute_result",
          "data": {
            "text/plain": [
              "['BENIGN', 'MALIGNANT', 'NORMAL']"
            ]
          },
          "metadata": {},
          "execution_count": 40
        }
      ]
    },
    {
      "cell_type": "code",
      "source": [
        "def plotImages(images_arr):\n",
        "  fig, axes = plt.subplots(1, 5, figsize = (10, 10))\n",
        "  axes = axes.flatten()\n",
        "  for img, ax in zip(images_arr, axes):\n",
        "    ax.imshow(img[:,:,0])\n",
        "    ax.axis(\"off\")\n",
        "  plt.tight_layout()\n",
        "  plt.show()"
      ],
      "metadata": {
        "id": "Q3TLL6PdW2VW"
      },
      "execution_count": 41,
      "outputs": []
    },
    {
      "cell_type": "code",
      "source": [
        "sample_training_images, _= next(train_generator)\n",
        "plotImages(sample_training_images[:5])"
      ],
      "metadata": {
        "colab": {
          "base_uri": "https://localhost:8080/",
          "height": 162
        },
        "id": "_lfnXo0eXiPz",
        "outputId": "df23f7f3-6580-4f6d-ca27-3b01b0b30fae"
      },
      "execution_count": 42,
      "outputs": [
        {
          "output_type": "display_data",
          "data": {
            "text/plain": [
              "<Figure size 720x720 with 5 Axes>"
            ],
            "image/png": "[encoded data removed]"
          },
          "metadata": {
            "needs_background": "light"
          }
        }
      ]
    },
    {
      "cell_type": "code",
      "source": [
        "model_base = tf.keras.models.Sequential([\n",
        "              tf.keras.layers.Flatten(input_shape= (28, 28, 1)),\n",
        "              tf.keras.layers.Dense(256, activation = \"relu\"),\n",
        "              tf.keras.layers.Dense(128, activation = \"relu\"),\n",
        "              tf.keras.layers.Dense(len(classes), activation = \"softmax\")\n",
        "])"
      ],
      "metadata": {
        "id": "TKcuO0UQXpbY"
      },
      "execution_count": 43,
      "outputs": []
    },
    {
      "cell_type": "code",
      "source": [
        "model_base.summary()"
      ],
      "metadata": {
        "colab": {
          "base_uri": "https://localhost:8080/"
        },
        "id": "xQ78pc0kpoal",
        "outputId": "ab38a919-4457-4158-b8da-ca80a3061fdf"
      },
      "execution_count": 44,
      "outputs": [
        {
          "output_type": "stream",
          "name": "stdout",
          "text": [
            "Model: \"sequential\"\n",
            "_________________________________________________________________\n",
            " Layer (type)                Output Shape              Param #   \n",
            "=================================================================\n",
            " flatten (Flatten)           (None, 784)               0         \n",
            "                                                                 \n",
            " dense (Dense)               (None, 256)               200960    \n",
            "                                                                 \n",
            " dense_1 (Dense)             (None, 128)               32896     \n",
            "                                                                 \n",
            " dense_2 (Dense)             (None, 3)                 387       \n",
            "                                                                 \n",
            "=================================================================\n",
            "Total params: 234,243\n",
            "Trainable params: 234,243\n",
            "Non-trainable params: 0\n",
            "_________________________________________________________________\n"
          ]
        }
      ]
    },
    {
      "cell_type": "code",
      "source": [
        "model_base.compile(optimizer = \"adam\", loss = \"categorical_crossentropy\", metrics = ['accuracy'])\n",
        "\n",
        "\n",
        "history = model_base.fit(\n",
        "    train_generator, \n",
        "    epochs= 20, \n",
        "    validation_data = validation_generator\n",
        ")"
      ],
      "metadata": {
        "colab": {
          "base_uri": "https://localhost:8080/"
        },
        "id": "6rYOoteeps10",
        "outputId": "a93ae3f3-0a71-422c-91eb-13dfa9a871d4"
      },
      "execution_count": 49,
      "outputs": [
        {
          "output_type": "stream",
          "name": "stdout",
          "text": [
            "Epoch 1/20\n",
            "9/9 [==============================] - 1s 87ms/step - loss: 0.0217 - accuracy: 0.9924 - val_loss: 5.5342 - val_accuracy: 0.7143\n",
            "Epoch 2/20\n",
            "9/9 [==============================] - 1s 68ms/step - loss: 0.0077 - accuracy: 0.9990 - val_loss: 3.0229 - val_accuracy: 0.6429\n",
            "Epoch 3/20\n",
            "9/9 [==============================] - 1s 70ms/step - loss: 4.6679e-04 - accuracy: 1.0000 - val_loss: 4.2999 - val_accuracy: 0.6429\n",
            "Epoch 4/20\n",
            "9/9 [==============================] - 1s 66ms/step - loss: 0.0011 - accuracy: 1.0000 - val_loss: 4.3915 - val_accuracy: 0.6429\n",
            "Epoch 5/20\n",
            "9/9 [==============================] - 1s 66ms/step - loss: 1.5054e-04 - accuracy: 1.0000 - val_loss: 4.0840 - val_accuracy: 0.6429\n",
            "Epoch 6/20\n",
            "9/9 [==============================] - 1s 74ms/step - loss: 1.3207e-04 - accuracy: 1.0000 - val_loss: 3.7603 - val_accuracy: 0.6429\n",
            "Epoch 7/20\n",
            "9/9 [==============================] - 1s 69ms/step - loss: 8.4865e-05 - accuracy: 1.0000 - val_loss: 3.7719 - val_accuracy: 0.6429\n",
            "Epoch 8/20\n",
            "9/9 [==============================] - 1s 68ms/step - loss: 5.8818e-05 - accuracy: 1.0000 - val_loss: 3.8923 - val_accuracy: 0.6786\n",
            "Epoch 9/20\n",
            "9/9 [==============================] - 1s 70ms/step - loss: 4.7050e-05 - accuracy: 1.0000 - val_loss: 3.9868 - val_accuracy: 0.6786\n",
            "Epoch 10/20\n",
            "9/9 [==============================] - 1s 67ms/step - loss: 4.1661e-05 - accuracy: 1.0000 - val_loss: 4.0257 - val_accuracy: 0.6786\n",
            "Epoch 11/20\n",
            "9/9 [==============================] - 1s 66ms/step - loss: 3.7079e-05 - accuracy: 1.0000 - val_loss: 4.0063 - val_accuracy: 0.6786\n",
            "Epoch 12/20\n",
            "9/9 [==============================] - 1s 68ms/step - loss: 3.3931e-05 - accuracy: 1.0000 - val_loss: 3.9897 - val_accuracy: 0.6786\n",
            "Epoch 13/20\n",
            "9/9 [==============================] - 1s 69ms/step - loss: 3.0826e-05 - accuracy: 1.0000 - val_loss: 4.0014 - val_accuracy: 0.6786\n",
            "Epoch 14/20\n",
            "9/9 [==============================] - 1s 71ms/step - loss: 2.7983e-05 - accuracy: 1.0000 - val_loss: 4.0182 - val_accuracy: 0.6786\n",
            "Epoch 15/20\n",
            "9/9 [==============================] - 1s 74ms/step - loss: 2.5291e-05 - accuracy: 1.0000 - val_loss: 4.0774 - val_accuracy: 0.6786\n",
            "Epoch 16/20\n",
            "9/9 [==============================] - 1s 67ms/step - loss: 2.2912e-05 - accuracy: 1.0000 - val_loss: 4.1499 - val_accuracy: 0.6786\n",
            "Epoch 17/20\n",
            "9/9 [==============================] - 1s 71ms/step - loss: 2.0696e-05 - accuracy: 1.0000 - val_loss: 4.1423 - val_accuracy: 0.6786\n",
            "Epoch 18/20\n",
            "9/9 [==============================] - 1s 69ms/step - loss: 1.8937e-05 - accuracy: 1.0000 - val_loss: 4.2096 - val_accuracy: 0.6786\n",
            "Epoch 19/20\n",
            "9/9 [==============================] - 1s 70ms/step - loss: 1.7069e-05 - accuracy: 1.0000 - val_loss: 4.2449 - val_accuracy: 0.6429\n",
            "Epoch 20/20\n",
            "9/9 [==============================] - 1s 67ms/step - loss: 1.5524e-05 - accuracy: 1.0000 - val_loss: 4.2771 - val_accuracy: 0.6429\n"
          ]
        }
      ]
    },
    {
      "cell_type": "code",
      "source": [
        "results = model_base.evaluate(test_generator)"
      ],
      "metadata": {
        "colab": {
          "base_uri": "https://localhost:8080/"
        },
        "id": "Tw71zpMBqeKT",
        "outputId": "d8e5ca1e-5df3-4485-8d41-e2c963e39d04"
      },
      "execution_count": 50,
      "outputs": [
        {
          "output_type": "stream",
          "name": "stdout",
          "text": [
            "2/2 [==============================] - 0s 21ms/step - loss: 4.6431 - accuracy: 0.5903\n"
          ]
        }
      ]
    },
    {
      "cell_type": "code",
      "source": [
        ""
      ],
      "metadata": {
        "id": "y9J-Gl8JrzS2"
      },
      "execution_count": null,
      "outputs": []
    }
  ],
  "metadata": {
    "colab": {
      "collapsed_sections": [],
      "name": "Tumor_classiffier",
      "provenance": [],
      "authorship_tag": "ABX9TyMmYuBkTBbxneVWiqSzMKNK",
      "include_colab_link": true
    },
    "kernelspec": {
      "display_name": "Python 3",
      "name": "python3"
    },
    "language_info": {
      "name": "python"
    }
  },
  "nbformat": 4,
  "nbformat_minor": 0
}
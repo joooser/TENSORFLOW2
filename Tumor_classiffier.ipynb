{
  "cells": [
    {
      "cell_type": "markdown",
      "metadata": {
        "id": "view-in-github",
        "colab_type": "text"
      },
      "source": [
        "<a href=\"https://colab.research.google.com/github/joooser/TENSORFLOW2/blob/main/Tumor_classiffier.ipynb\" target=\"_parent\"><img src=\"https://colab.research.google.com/assets/colab-badge.svg\" alt=\"Open In Colab\"/></a>"
      ]
    },
    {
      "cell_type": "code",
      "execution_count": 1,
      "metadata": {
        "id": "9xVOLWnJflLA"
      },
      "outputs": [],
      "source": [
        "import os\n",
        "import zipfile"
      ]
    },
    {
      "cell_type": "code",
      "execution_count": 2,
      "metadata": {
        "colab": {
          "base_uri": "https://localhost:8080/"
        },
        "id": "X0G2iDJiUoBr",
        "outputId": "c7edca15-9cb4-4591-ba73-2a7cd28eb69d"
      },
      "outputs": [
        {
          "output_type": "stream",
          "name": "stdout",
          "text": [
            "--2022-06-13 01:57:36--  https://storage.googleapis.com/platzi-tf2/TumorClassification.zip\n",
            "Resolving storage.googleapis.com (storage.googleapis.com)... 172.217.9.208, 172.253.63.128, 142.250.31.128, ...\n",
            "Connecting to storage.googleapis.com (storage.googleapis.com)|172.217.9.208|:443... connected.\n",
            "HTTP request sent, awaiting response... 200 OK\n",
            "Length: 7460028 (7.1M) [application/zip]\n",
            "Saving to: ‘/tmp/platzi-tf2/TumorClassification.zip’\n",
            "\n",
            "\r          /tmp/plat   0%[                    ]       0  --.-KB/s               \r/tmp/platzi-tf2/Tum 100%[===================>]   7.11M  --.-KB/s    in 0.03s   \n",
            "\n",
            "2022-06-13 01:57:36 (247 MB/s) - ‘/tmp/platzi-tf2/TumorClassification.zip’ saved [7460028/7460028]\n",
            "\n"
          ]
        }
      ],
      "source": [
        "!wget --no-check-certificate https://storage.googleapis.com/platzi-tf2/TumorClassification.zip \\\n",
        "    -O /tmp/platzi-tf2/TumorClassification.zip"
      ]
    },
    {
      "cell_type": "code",
      "execution_count": 3,
      "metadata": {
        "id": "yIr1bDTAoUaj"
      },
      "outputs": [],
      "source": [
        "local_zip = \"/tmp/platzi-tf2/TumorClassification.zip\"\n",
        "zip_ref = zipfile.ZipFile(local_zip, \"r\")\n",
        "zip_ref.extractall(\"/tmp/platzi-tf2\")\n",
        "zip_ref.close()"
      ]
    },
    {
      "cell_type": "code",
      "execution_count": 4,
      "metadata": {
        "id": "q6waQRSFWCkS"
      },
      "outputs": [],
      "source": [
        "import numpy as np\n",
        "%matplotlib inline\n",
        "import matplotlib.pyplot as plt\n",
        "import matplotlib.image as mpimg\n",
        "import string\n",
        "import tensorflow as tf\n",
        "from tensorflow.keras.preprocessing.image import ImageDataGenerator\n",
        "import requests as requests\n",
        "from PIL import Image\n",
        "from io import BytesIO\n",
        "import codecs\n",
        "import json\n"
      ]
    },
    {
      "cell_type": "code",
      "execution_count": 5,
      "metadata": {
        "id": "5Q3w8L7wS8Dx"
      },
      "outputs": [],
      "source": [
        "train_dir = \"/tmp/platzi-tf2/Train\"\n",
        "test_dir = \"/tmp/platzi-tf2/Test\""
      ]
    },
    {
      "cell_type": "code",
      "execution_count": 6,
      "metadata": {
        "id": "kyIvJTVfTK-I"
      },
      "outputs": [],
      "source": [
        "train_datagen = ImageDataGenerator(rescale = 1/255)\n",
        "test_datagen = ImageDataGenerator(rescale = 1/255, validation_split= 0.2)"
      ]
    },
    {
      "cell_type": "code",
      "execution_count": 7,
      "metadata": {
        "colab": {
          "base_uri": "https://localhost:8080/"
        },
        "id": "tpROJBbsUARV",
        "outputId": "ffb21ebd-5308-4fc4-c424-c921b2f9524f"
      },
      "outputs": [
        {
          "output_type": "stream",
          "name": "stdout",
          "text": [
            "Found 1050 images belonging to 3 classes.\n",
            "Found 28 images belonging to 3 classes.\n",
            "Found 144 images belonging to 3 classes.\n"
          ]
        }
      ],
      "source": [
        "train_generator = train_datagen.flow_from_directory(\n",
        "    train_dir,\n",
        "    target_size = (28, 28),\n",
        "    batch_size = 128,\n",
        "    class_mode = \"categorical\",\n",
        "    color_mode = \"grayscale\",\n",
        "    subset = \"training\"\n",
        ")\n",
        "\n",
        "validation_generator = test_datagen.flow_from_directory(\n",
        "    test_dir,\n",
        "    target_size = (28, 28),\n",
        "    batch_size = 128,\n",
        "    class_mode = \"categorical\",\n",
        "    color_mode = \"grayscale\",\n",
        "    subset = \"validation\"\n",
        ")\n",
        "\n",
        "test_generator = test_datagen.flow_from_directory(\n",
        "    test_dir,\n",
        "    target_size = (28, 28),\n",
        "    batch_size = 128,\n",
        "    class_mode = \"categorical\",\n",
        "    color_mode = \"grayscale\"\n",
        ")"
      ]
    },
    {
      "cell_type": "code",
      "execution_count": 8,
      "metadata": {
        "id": "l_vpYmjBVi8M"
      },
      "outputs": [],
      "source": [
        "classes = [\"BENIGN\", \"MALIGNANT\", \"NORMAL\"]"
      ]
    },
    {
      "cell_type": "code",
      "execution_count": 9,
      "metadata": {
        "colab": {
          "base_uri": "https://localhost:8080/"
        },
        "id": "eitwx13gWztp",
        "outputId": "f2175808-096a-4260-82d8-02e9969651cd"
      },
      "outputs": [
        {
          "output_type": "execute_result",
          "data": {
            "text/plain": [
              "['BENIGN', 'MALIGNANT', 'NORMAL']"
            ]
          },
          "metadata": {},
          "execution_count": 9
        }
      ],
      "source": [
        "classes"
      ]
    },
    {
      "cell_type": "code",
      "execution_count": 10,
      "metadata": {
        "id": "Q3TLL6PdW2VW"
      },
      "outputs": [],
      "source": [
        "def plotImages(images_arr):\n",
        "  fig, axes = plt.subplots(1, 5, figsize = (10, 10))\n",
        "  axes = axes.flatten()\n",
        "  for img, ax in zip(images_arr, axes):\n",
        "    ax.imshow(img[:,:,0])\n",
        "    ax.axis(\"off\")\n",
        "  plt.tight_layout()\n",
        "  plt.show()"
      ]
    },
    {
      "cell_type": "code",
      "execution_count": 11,
      "metadata": {
        "colab": {
          "base_uri": "https://localhost:8080/",
          "height": 162
        },
        "id": "_lfnXo0eXiPz",
        "outputId": "e9d1e9ed-0ef8-42d2-8838-8ed1b061f37c"
      },
      "outputs": [
        {
          "output_type": "display_data",
          "data": {
            "text/plain": [
              "<Figure size 720x720 with 5 Axes>"
            ],
            "image/png": "[encoded data removed]"
          },
          "metadata": {
            "needs_background": "light"
          }
        }
      ],
      "source": [
        "sample_training_images, _= next(train_generator)\n",
        "plotImages(sample_training_images[:5])"
      ]
    },
    {
      "cell_type": "code",
      "execution_count": 12,
      "metadata": {
        "id": "TKcuO0UQXpbY"
      },
      "outputs": [],
      "source": [
        "model_base = tf.keras.models.Sequential([\n",
        "              tf.keras.layers.Flatten(input_shape= (28, 28, 1)),\n",
        "              tf.keras.layers.Dense(256, activation = \"relu\"),\n",
        "              tf.keras.layers.Dense(128, activation = \"relu\"),\n",
        "              tf.keras.layers.Dense(len(classes), activation = \"softmax\")\n",
        "])"
      ]
    },
    {
      "cell_type": "code",
      "execution_count": 13,
      "metadata": {
        "colab": {
          "base_uri": "https://localhost:8080/"
        },
        "id": "xQ78pc0kpoal",
        "outputId": "ed547310-3f7b-41aa-84cd-1703a7d34c2a"
      },
      "outputs": [
        {
          "output_type": "stream",
          "name": "stdout",
          "text": [
            "Model: \"sequential\"\n",
            "_________________________________________________________________\n",
            " Layer (type)                Output Shape              Param #   \n",
            "=================================================================\n",
            " flatten (Flatten)           (None, 784)               0         \n",
            "                                                                 \n",
            " dense (Dense)               (None, 256)               200960    \n",
            "                                                                 \n",
            " dense_1 (Dense)             (None, 128)               32896     \n",
            "                                                                 \n",
            " dense_2 (Dense)             (None, 3)                 387       \n",
            "                                                                 \n",
            "=================================================================\n",
            "Total params: 234,243\n",
            "Trainable params: 234,243\n",
            "Non-trainable params: 0\n",
            "_________________________________________________________________\n"
          ]
        }
      ],
      "source": [
        "model_base.summary()"
      ]
    },
    {
      "cell_type": "code",
      "execution_count": 14,
      "metadata": {
        "colab": {
          "base_uri": "https://localhost:8080/"
        },
        "id": "6rYOoteeps10",
        "outputId": "a73ae2c6-0f7b-4682-9764-f55c542136b6"
      },
      "outputs": [
        {
          "output_type": "stream",
          "name": "stdout",
          "text": [
            "Epoch 1/50\n",
            "9/9 [==============================] - 2s 205ms/step - loss: 0.8854 - accuracy: 0.5848 - val_loss: 1.1924 - val_accuracy: 0.5714\n",
            "Epoch 2/50\n",
            "9/9 [==============================] - 1s 157ms/step - loss: 0.5876 - accuracy: 0.7714 - val_loss: 1.0486 - val_accuracy: 0.6429\n",
            "Epoch 3/50\n",
            "9/9 [==============================] - 1s 156ms/step - loss: 0.3858 - accuracy: 0.8848 - val_loss: 1.0691 - val_accuracy: 0.6429\n",
            "Epoch 4/50\n",
            "9/9 [==============================] - 1s 124ms/step - loss: 0.2603 - accuracy: 0.9267 - val_loss: 1.5450 - val_accuracy: 0.6071\n",
            "Epoch 5/50\n",
            "9/9 [==============================] - 1s 83ms/step - loss: 0.1654 - accuracy: 0.9600 - val_loss: 1.5284 - val_accuracy: 0.6429\n",
            "Epoch 6/50\n",
            "9/9 [==============================] - 1s 83ms/step - loss: 0.1082 - accuracy: 0.9733 - val_loss: 1.7940 - val_accuracy: 0.6429\n",
            "Epoch 7/50\n",
            "9/9 [==============================] - 1s 77ms/step - loss: 0.0591 - accuracy: 0.9905 - val_loss: 1.8916 - val_accuracy: 0.6429\n",
            "Epoch 8/50\n",
            "9/9 [==============================] - 1s 79ms/step - loss: 0.0372 - accuracy: 0.9990 - val_loss: 2.0974 - val_accuracy: 0.6429\n",
            "Epoch 9/50\n",
            "9/9 [==============================] - 1s 78ms/step - loss: 0.0270 - accuracy: 0.9981 - val_loss: 2.0679 - val_accuracy: 0.6429\n",
            "Epoch 10/50\n",
            "9/9 [==============================] - 1s 76ms/step - loss: 0.0174 - accuracy: 0.9981 - val_loss: 2.2932 - val_accuracy: 0.6429\n",
            "Epoch 11/50\n",
            "9/9 [==============================] - 1s 80ms/step - loss: 0.0114 - accuracy: 1.0000 - val_loss: 2.3562 - val_accuracy: 0.6429\n",
            "Epoch 12/50\n",
            "9/9 [==============================] - 1s 77ms/step - loss: 0.0086 - accuracy: 1.0000 - val_loss: 2.3152 - val_accuracy: 0.6429\n",
            "Epoch 13/50\n",
            "9/9 [==============================] - 1s 79ms/step - loss: 0.0065 - accuracy: 1.0000 - val_loss: 2.4987 - val_accuracy: 0.6429\n",
            "Epoch 14/50\n",
            "9/9 [==============================] - 1s 77ms/step - loss: 0.0056 - accuracy: 1.0000 - val_loss: 2.5468 - val_accuracy: 0.6429\n",
            "Epoch 15/50\n",
            "9/9 [==============================] - 1s 75ms/step - loss: 0.0046 - accuracy: 1.0000 - val_loss: 2.6501 - val_accuracy: 0.6429\n",
            "Epoch 16/50\n",
            "9/9 [==============================] - 1s 79ms/step - loss: 0.0038 - accuracy: 1.0000 - val_loss: 2.6393 - val_accuracy: 0.6429\n",
            "Epoch 17/50\n",
            "9/9 [==============================] - 1s 74ms/step - loss: 0.0033 - accuracy: 1.0000 - val_loss: 2.7706 - val_accuracy: 0.6429\n",
            "Epoch 18/50\n",
            "9/9 [==============================] - 1s 76ms/step - loss: 0.0029 - accuracy: 1.0000 - val_loss: 2.7136 - val_accuracy: 0.6429\n",
            "Epoch 19/50\n",
            "9/9 [==============================] - 1s 79ms/step - loss: 0.0025 - accuracy: 1.0000 - val_loss: 2.7296 - val_accuracy: 0.6429\n",
            "Epoch 20/50\n",
            "9/9 [==============================] - 1s 86ms/step - loss: 0.0023 - accuracy: 1.0000 - val_loss: 2.8098 - val_accuracy: 0.6429\n",
            "Epoch 21/50\n",
            "9/9 [==============================] - 1s 72ms/step - loss: 0.0021 - accuracy: 1.0000 - val_loss: 2.8161 - val_accuracy: 0.6429\n",
            "Epoch 22/50\n",
            "9/9 [==============================] - 1s 78ms/step - loss: 0.0018 - accuracy: 1.0000 - val_loss: 2.8668 - val_accuracy: 0.6429\n",
            "Epoch 23/50\n",
            "9/9 [==============================] - 1s 80ms/step - loss: 0.0017 - accuracy: 1.0000 - val_loss: 2.9392 - val_accuracy: 0.6429\n",
            "Epoch 24/50\n",
            "9/9 [==============================] - 1s 92ms/step - loss: 0.0015 - accuracy: 1.0000 - val_loss: 2.9043 - val_accuracy: 0.6429\n",
            "Epoch 25/50\n",
            "9/9 [==============================] - 1s 76ms/step - loss: 0.0014 - accuracy: 1.0000 - val_loss: 2.9832 - val_accuracy: 0.6429\n",
            "Epoch 26/50\n",
            "9/9 [==============================] - 1s 75ms/step - loss: 0.0013 - accuracy: 1.0000 - val_loss: 3.0024 - val_accuracy: 0.6429\n",
            "Epoch 27/50\n",
            "9/9 [==============================] - 1s 72ms/step - loss: 0.0011 - accuracy: 1.0000 - val_loss: 3.0237 - val_accuracy: 0.6429\n",
            "Epoch 28/50\n",
            "9/9 [==============================] - 1s 72ms/step - loss: 0.0010 - accuracy: 1.0000 - val_loss: 3.0673 - val_accuracy: 0.6429\n",
            "Epoch 29/50\n",
            "9/9 [==============================] - 1s 87ms/step - loss: 9.7889e-04 - accuracy: 1.0000 - val_loss: 3.0607 - val_accuracy: 0.6429\n",
            "Epoch 30/50\n",
            "9/9 [==============================] - 1s 87ms/step - loss: 8.7916e-04 - accuracy: 1.0000 - val_loss: 3.1164 - val_accuracy: 0.6429\n",
            "Epoch 31/50\n",
            "9/9 [==============================] - 1s 75ms/step - loss: 8.1096e-04 - accuracy: 1.0000 - val_loss: 3.1261 - val_accuracy: 0.6429\n",
            "Epoch 32/50\n",
            "9/9 [==============================] - 1s 73ms/step - loss: 7.5971e-04 - accuracy: 1.0000 - val_loss: 3.1783 - val_accuracy: 0.6429\n",
            "Epoch 33/50\n",
            "9/9 [==============================] - 1s 87ms/step - loss: 7.0463e-04 - accuracy: 1.0000 - val_loss: 3.2104 - val_accuracy: 0.6429\n",
            "Epoch 34/50\n",
            "9/9 [==============================] - 1s 87ms/step - loss: 6.5007e-04 - accuracy: 1.0000 - val_loss: 3.2025 - val_accuracy: 0.6429\n",
            "Epoch 35/50\n",
            "9/9 [==============================] - 1s 74ms/step - loss: 6.0284e-04 - accuracy: 1.0000 - val_loss: 3.2687 - val_accuracy: 0.6429\n",
            "Epoch 36/50\n",
            "9/9 [==============================] - 1s 82ms/step - loss: 5.6740e-04 - accuracy: 1.0000 - val_loss: 3.2710 - val_accuracy: 0.6429\n",
            "Epoch 37/50\n",
            "9/9 [==============================] - 1s 83ms/step - loss: 5.2951e-04 - accuracy: 1.0000 - val_loss: 3.2720 - val_accuracy: 0.6429\n",
            "Epoch 38/50\n",
            "9/9 [==============================] - 1s 82ms/step - loss: 4.9727e-04 - accuracy: 1.0000 - val_loss: 3.3028 - val_accuracy: 0.6429\n",
            "Epoch 39/50\n",
            "9/9 [==============================] - 1s 77ms/step - loss: 4.6789e-04 - accuracy: 1.0000 - val_loss: 3.3131 - val_accuracy: 0.6429\n",
            "Epoch 40/50\n",
            "9/9 [==============================] - 1s 80ms/step - loss: 4.4204e-04 - accuracy: 1.0000 - val_loss: 3.3481 - val_accuracy: 0.6429\n",
            "Epoch 41/50\n",
            "9/9 [==============================] - 1s 73ms/step - loss: 4.1621e-04 - accuracy: 1.0000 - val_loss: 3.3947 - val_accuracy: 0.6429\n",
            "Epoch 42/50\n",
            "9/9 [==============================] - 1s 81ms/step - loss: 3.9177e-04 - accuracy: 1.0000 - val_loss: 3.3717 - val_accuracy: 0.6429\n",
            "Epoch 43/50\n",
            "9/9 [==============================] - 1s 79ms/step - loss: 3.7107e-04 - accuracy: 1.0000 - val_loss: 3.3975 - val_accuracy: 0.6429\n",
            "Epoch 44/50\n",
            "9/9 [==============================] - 1s 80ms/step - loss: 3.4760e-04 - accuracy: 1.0000 - val_loss: 3.4219 - val_accuracy: 0.6429\n",
            "Epoch 45/50\n",
            "9/9 [==============================] - 1s 73ms/step - loss: 3.2813e-04 - accuracy: 1.0000 - val_loss: 3.4109 - val_accuracy: 0.6429\n",
            "Epoch 46/50\n",
            "9/9 [==============================] - 1s 77ms/step - loss: 3.1203e-04 - accuracy: 1.0000 - val_loss: 3.4479 - val_accuracy: 0.6429\n",
            "Epoch 47/50\n",
            "9/9 [==============================] - 1s 85ms/step - loss: 2.9349e-04 - accuracy: 1.0000 - val_loss: 3.4667 - val_accuracy: 0.6429\n",
            "Epoch 48/50\n",
            "9/9 [==============================] - 1s 85ms/step - loss: 2.7839e-04 - accuracy: 1.0000 - val_loss: 3.4871 - val_accuracy: 0.6429\n",
            "Epoch 49/50\n",
            "9/9 [==============================] - 1s 71ms/step - loss: 2.6569e-04 - accuracy: 1.0000 - val_loss: 3.4807 - val_accuracy: 0.6429\n",
            "Epoch 50/50\n",
            "9/9 [==============================] - 1s 75ms/step - loss: 2.5229e-04 - accuracy: 1.0000 - val_loss: 3.5401 - val_accuracy: 0.6429\n"
          ]
        }
      ],
      "source": [
        "model_base.compile(optimizer = \"adam\", loss = \"categorical_crossentropy\", metrics = ['accuracy'])\n",
        "\n",
        "\n",
        "history = model_base.fit(\n",
        "    train_generator, \n",
        "    epochs= 50, \n",
        "    validation_data = validation_generator\n",
        ")"
      ]
    },
    {
      "cell_type": "code",
      "execution_count": 15,
      "metadata": {
        "colab": {
          "base_uri": "https://localhost:8080/"
        },
        "id": "Tw71zpMBqeKT",
        "outputId": "c1f89408-d6fd-49f2-ba8a-d5986b857cb0"
      },
      "outputs": [
        {
          "output_type": "stream",
          "name": "stdout",
          "text": [
            "2/2 [==============================] - 0s 18ms/step - loss: 3.6633 - accuracy: 0.5764\n"
          ]
        }
      ],
      "source": [
        "results = model_base.evaluate(test_generator)"
      ]
    },
    {
      "cell_type": "code",
      "execution_count": 16,
      "metadata": {
        "id": "y9J-Gl8JrzS2"
      },
      "outputs": [],
      "source": [
        "def visualizacion_resultados(history):\n",
        "  epochs = [i for i in range(50)]\n",
        "  fig, ax = plt.subplots(1,2)\n",
        "  train_acc = history.history[\"accuracy\"]\n",
        "  train_loss = history.history[\"loss\"]\n",
        "  val_acc = history.history[\"val_accuracy\"]\n",
        "  val_loss = history.history[\"val_loss\"]\n",
        "  fig.set_size_inches(16, 9)\n",
        "\n",
        "  ax[0].plot(epochs, train_acc, \"go-\", label =\" Entrenamiento accuracy\")\n",
        "  ax[0].plot(epochs, val_acc, \"ro-\", label= \"Validacion accuracy\")\n",
        "  ax[0].set_title(\"Entrenamiento & validación accuracy\")\n",
        "  ax[0].legend()\n",
        "  ax[0].set_xlabel(\"Epochs\")\n",
        "  ax[0].set_ylabel(\"Accuracy\")\n",
        "\n",
        "  ax[1].plot(epochs, train_loss, \"go-\", label =\" Entrenamiento Loss\")\n",
        "  ax[1].plot(epochs, val_loss, \"ro-\", label= \"Validacion Loss\")\n",
        "  ax[1].set_title(\"Entrenamiento & validación Loss\")\n",
        "  ax[1].legend()\n",
        "  ax[1].set_xlabel(\"Epochs\")\n",
        "  ax[1].set_ylabel(\"Loss\")\n",
        "\n",
        "  plt.show()"
      ]
    },
    {
      "cell_type": "code",
      "execution_count": 17,
      "metadata": {
        "colab": {
          "base_uri": "https://localhost:8080/",
          "height": 567
        },
        "id": "rAPEeUN5fnGW",
        "outputId": "f60f7f17-a8a4-469c-8061-35fe33626bb4"
      },
      "outputs": [
        {
          "output_type": "display_data",
          "data": {
            "text/plain": [
              "<Figure size 1152x648 with 2 Axes>"
            ],
            "image/png": "[encoded data removed]"
          },
          "metadata": {
            "needs_background": "light"
          }
        }
      ],
      "source": [
        "visualizacion_resultados(history)"
      ]
    },
    {
      "cell_type": "code",
      "execution_count": 18,
      "metadata": {
        "id": "0E01n8rygpjj"
      },
      "outputs": [],
      "source": [
        "from tensorflow.keras import regularizers"
      ]
    },
    {
      "cell_type": "code",
      "execution_count": 19,
      "metadata": {
        "colab": {
          "base_uri": "https://localhost:8080/"
        },
        "id": "-fyzSQlVjISa",
        "outputId": "2395822a-dde6-46fa-bb91-80385dc7d436"
      },
      "outputs": [
        {
          "output_type": "stream",
          "name": "stdout",
          "text": [
            "Model: \"sequential_1\"\n",
            "_________________________________________________________________\n",
            " Layer (type)                Output Shape              Param #   \n",
            "=================================================================\n",
            " flatten_1 (Flatten)         (None, 784)               0         \n",
            "                                                                 \n",
            " dense_3 (Dense)             (None, 256)               200960    \n",
            "                                                                 \n",
            " dropout (Dropout)           (None, 256)               0         \n",
            "                                                                 \n",
            " dense_4 (Dense)             (None, 128)               32896     \n",
            "                                                                 \n",
            " dropout_1 (Dropout)         (None, 128)               0         \n",
            "                                                                 \n",
            " dense_5 (Dense)             (None, 3)                 387       \n",
            "                                                                 \n",
            "=================================================================\n",
            "Total params: 234,243\n",
            "Trainable params: 234,243\n",
            "Non-trainable params: 0\n",
            "_________________________________________________________________\n"
          ]
        }
      ],
      "source": [
        "model_optimizer = tf.keras.models.Sequential([\n",
        "              tf.keras.layers.Flatten(input_shape= (28, 28, 1)),\n",
        "              tf.keras.layers.Dense(256, kernel_regularizer = regularizers.l2(1e-5), activation = \"softmax\"),\n",
        "              tf.keras.layers.Dropout(0.2),\n",
        "              tf.keras.layers.Dense(128, kernel_regularizer= regularizers.l2(1e-5),activation = \"softmax\"),\n",
        "              tf.keras.layers.Dropout(0.2),\n",
        "              tf.keras.layers.Dense(len(classes), activation = \"sigmoid\")\n",
        "])\n",
        "\n",
        "model_optimizer.summary()"
      ]
    },
    {
      "cell_type": "code",
      "execution_count": 20,
      "metadata": {
        "colab": {
          "base_uri": "https://localhost:8080/"
        },
        "id": "MOpd-XEbjLEB",
        "outputId": "62665dfe-a2f8-4652-8414-81d7aa3fc24e"
      },
      "outputs": [
        {
          "output_type": "stream",
          "name": "stdout",
          "text": [
            "Epoch 1/50\n",
            "9/9 [==============================] - 2s 100ms/step - loss: 1.1042 - accuracy: 0.3190 - val_loss: 1.1032 - val_accuracy: 0.3929\n",
            "Epoch 2/50\n",
            "9/9 [==============================] - 1s 87ms/step - loss: 1.1033 - accuracy: 0.3248 - val_loss: 1.1027 - val_accuracy: 0.2857\n",
            "Epoch 3/50\n",
            "9/9 [==============================] - 1s 87ms/step - loss: 1.1023 - accuracy: 0.3448 - val_loss: 1.1020 - val_accuracy: 0.2857\n",
            "Epoch 4/50\n",
            "9/9 [==============================] - 1s 77ms/step - loss: 1.1010 - accuracy: 0.3600 - val_loss: 1.1010 - val_accuracy: 0.2857\n",
            "Epoch 5/50\n",
            "9/9 [==============================] - 1s 82ms/step - loss: 1.1002 - accuracy: 0.4010 - val_loss: 1.1003 - val_accuracy: 0.3214\n",
            "Epoch 6/50\n",
            "9/9 [==============================] - 1s 86ms/step - loss: 1.0993 - accuracy: 0.4333 - val_loss: 1.0996 - val_accuracy: 0.3214\n",
            "Epoch 7/50\n",
            "9/9 [==============================] - 1s 75ms/step - loss: 1.0982 - accuracy: 0.4571 - val_loss: 1.0986 - val_accuracy: 0.3214\n",
            "Epoch 8/50\n",
            "9/9 [==============================] - 1s 82ms/step - loss: 1.0966 - accuracy: 0.5295 - val_loss: 1.0977 - val_accuracy: 0.5714\n",
            "Epoch 9/50\n",
            "9/9 [==============================] - 1s 75ms/step - loss: 1.0958 - accuracy: 0.5619 - val_loss: 1.0969 - val_accuracy: 0.5714\n",
            "Epoch 10/50\n",
            "9/9 [==============================] - 1s 77ms/step - loss: 1.0945 - accuracy: 0.6181 - val_loss: 1.0964 - val_accuracy: 0.5357\n",
            "Epoch 11/50\n",
            "9/9 [==============================] - 1s 72ms/step - loss: 1.0931 - accuracy: 0.6562 - val_loss: 1.0955 - val_accuracy: 0.5714\n",
            "Epoch 12/50\n",
            "9/9 [==============================] - 1s 71ms/step - loss: 1.0924 - accuracy: 0.6476 - val_loss: 1.0948 - val_accuracy: 0.6071\n",
            "Epoch 13/50\n",
            "9/9 [==============================] - 1s 83ms/step - loss: 1.0905 - accuracy: 0.6952 - val_loss: 1.0944 - val_accuracy: 0.5714\n",
            "Epoch 14/50\n",
            "9/9 [==============================] - 1s 87ms/step - loss: 1.0888 - accuracy: 0.7229 - val_loss: 1.0940 - val_accuracy: 0.5714\n",
            "Epoch 15/50\n",
            "9/9 [==============================] - 1s 73ms/step - loss: 1.0878 - accuracy: 0.7333 - val_loss: 1.0926 - val_accuracy: 0.6429\n",
            "Epoch 16/50\n",
            "9/9 [==============================] - 1s 82ms/step - loss: 1.0857 - accuracy: 0.7429 - val_loss: 1.0917 - val_accuracy: 0.6429\n",
            "Epoch 17/50\n",
            "9/9 [==============================] - 1s 87ms/step - loss: 1.0838 - accuracy: 0.7476 - val_loss: 1.0905 - val_accuracy: 0.6429\n",
            "Epoch 18/50\n",
            "9/9 [==============================] - 1s 80ms/step - loss: 1.0811 - accuracy: 0.7705 - val_loss: 1.0894 - val_accuracy: 0.6429\n",
            "Epoch 19/50\n",
            "9/9 [==============================] - 1s 74ms/step - loss: 1.0773 - accuracy: 0.8029 - val_loss: 1.0881 - val_accuracy: 0.6429\n",
            "Epoch 20/50\n",
            "9/9 [==============================] - 1s 91ms/step - loss: 1.0755 - accuracy: 0.7686 - val_loss: 1.0869 - val_accuracy: 0.6429\n",
            "Epoch 21/50\n",
            "9/9 [==============================] - 1s 75ms/step - loss: 1.0724 - accuracy: 0.7771 - val_loss: 1.0857 - val_accuracy: 0.6429\n",
            "Epoch 22/50\n",
            "9/9 [==============================] - 1s 73ms/step - loss: 1.0695 - accuracy: 0.7914 - val_loss: 1.0840 - val_accuracy: 0.6429\n",
            "Epoch 23/50\n",
            "9/9 [==============================] - 1s 71ms/step - loss: 1.0670 - accuracy: 0.7686 - val_loss: 1.0827 - val_accuracy: 0.6429\n",
            "Epoch 24/50\n",
            "9/9 [==============================] - 1s 79ms/step - loss: 1.0615 - accuracy: 0.7943 - val_loss: 1.0811 - val_accuracy: 0.6429\n",
            "Epoch 25/50\n",
            "9/9 [==============================] - 1s 80ms/step - loss: 1.0567 - accuracy: 0.8048 - val_loss: 1.0795 - val_accuracy: 0.6429\n",
            "Epoch 26/50\n",
            "9/9 [==============================] - 1s 79ms/step - loss: 1.0529 - accuracy: 0.7981 - val_loss: 1.0776 - val_accuracy: 0.6429\n",
            "Epoch 27/50\n",
            "9/9 [==============================] - 1s 79ms/step - loss: 1.0489 - accuracy: 0.7867 - val_loss: 1.0756 - val_accuracy: 0.6429\n",
            "Epoch 28/50\n",
            "9/9 [==============================] - 1s 113ms/step - loss: 1.0434 - accuracy: 0.8076 - val_loss: 1.0740 - val_accuracy: 0.6429\n",
            "Epoch 29/50\n",
            "9/9 [==============================] - 1s 97ms/step - loss: 1.0377 - accuracy: 0.8095 - val_loss: 1.0709 - val_accuracy: 0.6429\n",
            "Epoch 30/50\n",
            "9/9 [==============================] - 1s 102ms/step - loss: 1.0338 - accuracy: 0.7971 - val_loss: 1.0681 - val_accuracy: 0.6429\n",
            "Epoch 31/50\n",
            "9/9 [==============================] - 1s 82ms/step - loss: 1.0253 - accuracy: 0.8133 - val_loss: 1.0665 - val_accuracy: 0.6429\n",
            "Epoch 32/50\n",
            "9/9 [==============================] - 1s 86ms/step - loss: 1.0212 - accuracy: 0.8010 - val_loss: 1.0634 - val_accuracy: 0.6429\n",
            "Epoch 33/50\n",
            "9/9 [==============================] - 1s 72ms/step - loss: 1.0145 - accuracy: 0.8124 - val_loss: 1.0620 - val_accuracy: 0.6429\n",
            "Epoch 34/50\n",
            "9/9 [==============================] - 1s 80ms/step - loss: 1.0073 - accuracy: 0.8067 - val_loss: 1.0582 - val_accuracy: 0.6429\n",
            "Epoch 35/50\n",
            "9/9 [==============================] - 1s 90ms/step - loss: 0.9994 - accuracy: 0.8105 - val_loss: 1.0564 - val_accuracy: 0.6429\n",
            "Epoch 36/50\n",
            "9/9 [==============================] - 1s 93ms/step - loss: 0.9963 - accuracy: 0.8076 - val_loss: 1.0537 - val_accuracy: 0.6429\n",
            "Epoch 37/50\n",
            "9/9 [==============================] - 1s 77ms/step - loss: 0.9856 - accuracy: 0.8067 - val_loss: 1.0513 - val_accuracy: 0.6429\n",
            "Epoch 38/50\n",
            "9/9 [==============================] - 1s 83ms/step - loss: 0.9765 - accuracy: 0.8190 - val_loss: 1.0481 - val_accuracy: 0.6429\n",
            "Epoch 39/50\n",
            "9/9 [==============================] - 1s 86ms/step - loss: 0.9763 - accuracy: 0.7886 - val_loss: 1.0442 - val_accuracy: 0.6429\n",
            "Epoch 40/50\n",
            "9/9 [==============================] - 1s 84ms/step - loss: 0.9619 - accuracy: 0.8105 - val_loss: 1.0431 - val_accuracy: 0.6429\n",
            "Epoch 41/50\n",
            "9/9 [==============================] - 1s 82ms/step - loss: 0.9485 - accuracy: 0.8457 - val_loss: 1.0373 - val_accuracy: 0.6429\n",
            "Epoch 42/50\n",
            "9/9 [==============================] - 1s 90ms/step - loss: 0.9495 - accuracy: 0.7990 - val_loss: 1.0351 - val_accuracy: 0.6429\n",
            "Epoch 43/50\n",
            "9/9 [==============================] - 1s 79ms/step - loss: 0.9384 - accuracy: 0.8219 - val_loss: 1.0307 - val_accuracy: 0.6429\n",
            "Epoch 44/50\n",
            "9/9 [==============================] - 1s 84ms/step - loss: 0.9290 - accuracy: 0.8124 - val_loss: 1.0253 - val_accuracy: 0.6429\n",
            "Epoch 45/50\n",
            "9/9 [==============================] - 1s 85ms/step - loss: 0.9151 - accuracy: 0.8248 - val_loss: 1.0183 - val_accuracy: 0.6429\n",
            "Epoch 46/50\n",
            "9/9 [==============================] - 1s 72ms/step - loss: 0.9127 - accuracy: 0.8267 - val_loss: 1.0147 - val_accuracy: 0.6429\n",
            "Epoch 47/50\n",
            "9/9 [==============================] - 1s 76ms/step - loss: 0.9007 - accuracy: 0.8181 - val_loss: 1.0035 - val_accuracy: 0.6429\n",
            "Epoch 48/50\n",
            "9/9 [==============================] - 1s 76ms/step - loss: 0.8853 - accuracy: 0.8381 - val_loss: 1.0022 - val_accuracy: 0.6429\n",
            "Epoch 49/50\n",
            "9/9 [==============================] - 1s 73ms/step - loss: 0.8870 - accuracy: 0.8276 - val_loss: 0.9942 - val_accuracy: 0.6429\n",
            "Epoch 50/50\n",
            "9/9 [==============================] - 1s 72ms/step - loss: 0.8689 - accuracy: 0.8438 - val_loss: 0.9939 - val_accuracy: 0.6429\n"
          ]
        }
      ],
      "source": [
        "model_optimizer.compile(optimizer= \"adam\", loss = \"categorical_crossentropy\", metrics = [\"accuracy\"])\n",
        "\n",
        "history_optimizer = model_optimizer.fit(\n",
        "    train_generator,\n",
        "    epochs = 50,\n",
        "    validation_data = validation_generator\n",
        ")"
      ]
    },
    {
      "cell_type": "code",
      "execution_count": 21,
      "metadata": {
        "colab": {
          "base_uri": "https://localhost:8080/",
          "height": 567
        },
        "id": "v99AFs5SjTSN",
        "outputId": "0b7970ba-d287-4c28-df6e-66cac862039c"
      },
      "outputs": [
        {
          "output_type": "display_data",
          "data": {
            "text/plain": [
              "<Figure size 1152x648 with 2 Axes>"
            ],
            "image/png": "[encoded data removed]"
          },
          "metadata": {
            "needs_background": "light"
          }
        }
      ],
      "source": [
        "def visualizacion_resultados(history):\n",
        "  epochs = [i for i in range(50)]\n",
        "  fig, ax = plt.subplots(1,2)\n",
        "  train_acc = history.history[\"accuracy\"]\n",
        "  train_loss = history.history[\"loss\"]\n",
        "  val_acc = history.history[\"val_accuracy\"]\n",
        "  val_loss = history.history[\"val_loss\"]\n",
        "  fig.set_size_inches(16, 9)\n",
        "\n",
        "  ax[0].plot(epochs, train_acc, \"go-\", label =\" Entrenamiento accuracy\")\n",
        "  ax[0].plot(epochs, val_acc, \"ro-\", label= \"Validacion accuracy\")\n",
        "  ax[0].set_title(\"Entrenamiento & validación accuracy\")\n",
        "  ax[0].legend()\n",
        "  ax[0].set_xlabel(\"Epochs\")\n",
        "  ax[0].set_ylabel(\"Accuracy\")\n",
        "\n",
        "  ax[1].plot(epochs, train_loss, \"go-\", label =\" Entrenamiento Loss\")\n",
        "  ax[1].plot(epochs, val_loss, \"ro-\", label= \"Validacion Loss\")\n",
        "  ax[1].set_title(\"Entrenamiento & validación Loss\")\n",
        "  ax[1].legend()\n",
        "  ax[1].set_xlabel(\"Epochs\")\n",
        "  ax[1].set_ylabel(\"Loss\")\n",
        "\n",
        "  plt.show()\n",
        "\n",
        "visualizacion_resultados(history_optimizer)"
      ]
    },
    {
      "cell_type": "markdown",
      "source": [
        "convoluciones\n"
      ],
      "metadata": {
        "id": "sQ1Kk29NWccM"
      }
    },
    {
      "cell_type": "code",
      "source": [
        "model_convolutional = tf.keras.models.Sequential([\n",
        "              tf.keras.layers.Conv2D(75, (3,3), activation = \"relu\", input_shape= (28, 28, 1)),\n",
        "              tf.keras.layers.MaxPool2D((2,2)),\n",
        "              tf.keras.layers.Flatten(),\n",
        "              tf.keras.layers.Dense(256, kernel_regularizer = regularizers.l2(1e-5), activation = \"relu\"),\n",
        "              tf.keras.layers.Dropout(0.2),\n",
        "              tf.keras.layers.Dense(128, kernel_regularizer= regularizers.l2(1e-5),activation = \"relu\"),\n",
        "              tf.keras.layers.Dropout(0.2),\n",
        "              tf.keras.layers.Dense(len(classes), activation = \"softmax\")\n",
        "])\n",
        "\n",
        "model_convolutional.summary()\n",
        "\n",
        "model_convolutional.compile(optimizer= \"adam\", loss = \"categorical_crossentropy\", metrics = [\"accuracy\"])\n",
        "\n",
        "history_convolutional = model_convolutional.fit(\n",
        "    train_generator,\n",
        "    epochs = 50,\n",
        "    validation_data = validation_generator\n",
        ")"
      ],
      "metadata": {
        "colab": {
          "base_uri": "https://localhost:8080/"
        },
        "id": "WGzSIq-SWgLk",
        "outputId": "5dfb5860-a07c-4689-b865-774d00da3d5f"
      },
      "execution_count": 22,
      "outputs": [
        {
          "output_type": "stream",
          "name": "stdout",
          "text": [
            "Model: \"sequential_2\"\n",
            "_________________________________________________________________\n",
            " Layer (type)                Output Shape              Param #   \n",
            "=================================================================\n",
            " conv2d (Conv2D)             (None, 26, 26, 75)        750       \n",
            "                                                                 \n",
            " max_pooling2d (MaxPooling2D  (None, 13, 13, 75)       0         \n",
            " )                                                               \n",
            "                                                                 \n",
            " flatten_2 (Flatten)         (None, 12675)             0         \n",
            "                                                                 \n",
            " dense_6 (Dense)             (None, 256)               3245056   \n",
            "                                                                 \n",
            " dropout_2 (Dropout)         (None, 256)               0         \n",
            "                                                                 \n",
            " dense_7 (Dense)             (None, 128)               32896     \n",
            "                                                                 \n",
            " dropout_3 (Dropout)         (None, 128)               0         \n",
            "                                                                 \n",
            " dense_8 (Dense)             (None, 3)                 387       \n",
            "                                                                 \n",
            "=================================================================\n",
            "Total params: 3,279,089\n",
            "Trainable params: 3,279,089\n",
            "Non-trainable params: 0\n",
            "_________________________________________________________________\n",
            "Epoch 1/50\n",
            "9/9 [==============================] - 3s 257ms/step - loss: 1.0497 - accuracy: 0.4857 - val_loss: 0.8311 - val_accuracy: 0.8214\n",
            "Epoch 2/50\n",
            "9/9 [==============================] - 2s 218ms/step - loss: 0.8400 - accuracy: 0.6181 - val_loss: 0.9243 - val_accuracy: 0.5714\n",
            "Epoch 3/50\n",
            "9/9 [==============================] - 2s 204ms/step - loss: 0.6295 - accuracy: 0.7390 - val_loss: 1.3263 - val_accuracy: 0.6429\n",
            "Epoch 4/50\n",
            "9/9 [==============================] - 2s 219ms/step - loss: 0.4425 - accuracy: 0.8305 - val_loss: 1.5133 - val_accuracy: 0.6429\n",
            "Epoch 5/50\n",
            "9/9 [==============================] - 2s 204ms/step - loss: 0.2897 - accuracy: 0.9086 - val_loss: 1.7619 - val_accuracy: 0.6429\n",
            "Epoch 6/50\n",
            "9/9 [==============================] - 2s 203ms/step - loss: 0.1901 - accuracy: 0.9362 - val_loss: 2.1511 - val_accuracy: 0.6429\n",
            "Epoch 7/50\n",
            "9/9 [==============================] - 2s 224ms/step - loss: 0.1228 - accuracy: 0.9705 - val_loss: 2.5486 - val_accuracy: 0.6429\n",
            "Epoch 8/50\n",
            "9/9 [==============================] - 3s 277ms/step - loss: 0.0820 - accuracy: 0.9790 - val_loss: 2.7567 - val_accuracy: 0.6429\n",
            "Epoch 9/50\n",
            "9/9 [==============================] - 2s 211ms/step - loss: 0.0516 - accuracy: 0.9933 - val_loss: 2.7307 - val_accuracy: 0.6429\n",
            "Epoch 10/50\n",
            "9/9 [==============================] - 2s 212ms/step - loss: 0.0347 - accuracy: 0.9962 - val_loss: 2.9717 - val_accuracy: 0.6429\n",
            "Epoch 11/50\n",
            "9/9 [==============================] - 2s 228ms/step - loss: 0.0252 - accuracy: 0.9981 - val_loss: 2.9233 - val_accuracy: 0.6429\n",
            "Epoch 12/50\n",
            "9/9 [==============================] - 2s 211ms/step - loss: 0.0248 - accuracy: 0.9981 - val_loss: 3.2237 - val_accuracy: 0.6429\n",
            "Epoch 13/50\n",
            "9/9 [==============================] - 2s 237ms/step - loss: 0.0164 - accuracy: 0.9990 - val_loss: 3.1989 - val_accuracy: 0.6429\n",
            "Epoch 14/50\n",
            "9/9 [==============================] - 2s 227ms/step - loss: 0.0148 - accuracy: 1.0000 - val_loss: 3.7059 - val_accuracy: 0.6429\n",
            "Epoch 15/50\n",
            "9/9 [==============================] - 2s 213ms/step - loss: 0.0158 - accuracy: 0.9981 - val_loss: 3.3882 - val_accuracy: 0.6429\n",
            "Epoch 16/50\n",
            "9/9 [==============================] - 2s 203ms/step - loss: 0.0128 - accuracy: 1.0000 - val_loss: 3.6065 - val_accuracy: 0.6429\n",
            "Epoch 17/50\n",
            "9/9 [==============================] - 2s 220ms/step - loss: 0.0105 - accuracy: 1.0000 - val_loss: 3.4180 - val_accuracy: 0.6429\n",
            "Epoch 18/50\n",
            "9/9 [==============================] - 2s 241ms/step - loss: 0.0103 - accuracy: 1.0000 - val_loss: 3.6229 - val_accuracy: 0.6429\n",
            "Epoch 19/50\n",
            "9/9 [==============================] - 2s 211ms/step - loss: 0.0095 - accuracy: 1.0000 - val_loss: 3.6864 - val_accuracy: 0.6429\n",
            "Epoch 20/50\n",
            "9/9 [==============================] - 2s 206ms/step - loss: 0.0099 - accuracy: 0.9990 - val_loss: 3.6378 - val_accuracy: 0.6429\n",
            "Epoch 21/50\n",
            "9/9 [==============================] - 2s 225ms/step - loss: 0.0099 - accuracy: 1.0000 - val_loss: 3.7363 - val_accuracy: 0.6429\n",
            "Epoch 22/50\n",
            "9/9 [==============================] - 2s 221ms/step - loss: 0.0107 - accuracy: 1.0000 - val_loss: 3.7246 - val_accuracy: 0.6429\n",
            "Epoch 23/50\n",
            "9/9 [==============================] - 3s 295ms/step - loss: 0.0097 - accuracy: 1.0000 - val_loss: 3.4543 - val_accuracy: 0.6429\n",
            "Epoch 24/50\n",
            "9/9 [==============================] - 2s 206ms/step - loss: 0.0099 - accuracy: 1.0000 - val_loss: 3.5186 - val_accuracy: 0.6429\n",
            "Epoch 25/50\n",
            "9/9 [==============================] - 2s 239ms/step - loss: 0.0088 - accuracy: 1.0000 - val_loss: 3.5771 - val_accuracy: 0.6429\n",
            "Epoch 26/50\n",
            "9/9 [==============================] - 2s 217ms/step - loss: 0.0092 - accuracy: 0.9990 - val_loss: 3.6484 - val_accuracy: 0.6429\n",
            "Epoch 27/50\n",
            "9/9 [==============================] - 2s 217ms/step - loss: 0.0087 - accuracy: 1.0000 - val_loss: 3.6547 - val_accuracy: 0.6429\n",
            "Epoch 28/50\n",
            "9/9 [==============================] - 2s 228ms/step - loss: 0.0086 - accuracy: 1.0000 - val_loss: 3.4178 - val_accuracy: 0.6429\n",
            "Epoch 29/50\n",
            "9/9 [==============================] - 2s 202ms/step - loss: 0.0079 - accuracy: 1.0000 - val_loss: 3.6552 - val_accuracy: 0.6429\n",
            "Epoch 30/50\n",
            "9/9 [==============================] - 2s 220ms/step - loss: 0.0075 - accuracy: 1.0000 - val_loss: 3.8295 - val_accuracy: 0.6429\n",
            "Epoch 31/50\n",
            "9/9 [==============================] - 2s 201ms/step - loss: 0.0101 - accuracy: 0.9990 - val_loss: 3.7797 - val_accuracy: 0.6429\n",
            "Epoch 32/50\n",
            "9/9 [==============================] - 2s 200ms/step - loss: 0.0083 - accuracy: 1.0000 - val_loss: 3.8709 - val_accuracy: 0.6429\n",
            "Epoch 33/50\n",
            "9/9 [==============================] - 2s 220ms/step - loss: 0.0080 - accuracy: 1.0000 - val_loss: 3.7283 - val_accuracy: 0.6786\n",
            "Epoch 34/50\n",
            "9/9 [==============================] - 2s 227ms/step - loss: 0.0076 - accuracy: 1.0000 - val_loss: 3.7737 - val_accuracy: 0.6786\n",
            "Epoch 35/50\n",
            "9/9 [==============================] - 2s 207ms/step - loss: 0.0074 - accuracy: 1.0000 - val_loss: 3.5911 - val_accuracy: 0.6429\n",
            "Epoch 36/50\n",
            "9/9 [==============================] - 2s 241ms/step - loss: 0.0072 - accuracy: 1.0000 - val_loss: 3.6815 - val_accuracy: 0.6429\n",
            "Epoch 37/50\n",
            "9/9 [==============================] - 2s 247ms/step - loss: 0.0074 - accuracy: 1.0000 - val_loss: 3.8458 - val_accuracy: 0.6786\n",
            "Epoch 38/50\n",
            "9/9 [==============================] - 2s 217ms/step - loss: 0.0072 - accuracy: 1.0000 - val_loss: 3.8335 - val_accuracy: 0.6786\n",
            "Epoch 39/50\n",
            "9/9 [==============================] - 2s 230ms/step - loss: 0.0071 - accuracy: 1.0000 - val_loss: 3.7434 - val_accuracy: 0.6786\n",
            "Epoch 40/50\n",
            "9/9 [==============================] - 2s 207ms/step - loss: 0.0070 - accuracy: 1.0000 - val_loss: 3.7924 - val_accuracy: 0.6786\n",
            "Epoch 41/50\n",
            "9/9 [==============================] - 2s 216ms/step - loss: 0.0070 - accuracy: 1.0000 - val_loss: 3.9596 - val_accuracy: 0.6786\n",
            "Epoch 42/50\n",
            "9/9 [==============================] - 2s 240ms/step - loss: 0.0068 - accuracy: 1.0000 - val_loss: 4.1360 - val_accuracy: 0.6786\n",
            "Epoch 43/50\n",
            "9/9 [==============================] - 2s 211ms/step - loss: 0.0067 - accuracy: 1.0000 - val_loss: 4.0435 - val_accuracy: 0.6786\n",
            "Epoch 44/50\n",
            "9/9 [==============================] - 2s 207ms/step - loss: 0.0089 - accuracy: 0.9990 - val_loss: 3.3476 - val_accuracy: 0.6429\n",
            "Epoch 45/50\n",
            "9/9 [==============================] - 2s 221ms/step - loss: 0.0080 - accuracy: 1.0000 - val_loss: 3.5358 - val_accuracy: 0.6429\n",
            "Epoch 46/50\n",
            "9/9 [==============================] - 2s 223ms/step - loss: 0.0076 - accuracy: 1.0000 - val_loss: 3.6864 - val_accuracy: 0.6429\n",
            "Epoch 47/50\n",
            "9/9 [==============================] - 2s 205ms/step - loss: 0.0075 - accuracy: 1.0000 - val_loss: 3.6420 - val_accuracy: 0.6429\n",
            "Epoch 48/50\n",
            "9/9 [==============================] - 2s 202ms/step - loss: 0.0070 - accuracy: 1.0000 - val_loss: 4.0395 - val_accuracy: 0.6786\n",
            "Epoch 49/50\n",
            "9/9 [==============================] - 2s 229ms/step - loss: 0.0067 - accuracy: 1.0000 - val_loss: 4.0191 - val_accuracy: 0.6786\n",
            "Epoch 50/50\n",
            "9/9 [==============================] - 2s 227ms/step - loss: 0.0071 - accuracy: 1.0000 - val_loss: 3.7723 - val_accuracy: 0.6429\n"
          ]
        }
      ]
    },
    {
      "cell_type": "code",
      "source": [
        "visualizacion_resultados(history_convolutional)"
      ],
      "metadata": {
        "colab": {
          "base_uri": "https://localhost:8080/",
          "height": 567
        },
        "id": "GwdFeDyFWoHC",
        "outputId": "89c3224a-3f78-4465-8c7b-8efb4f2db863"
      },
      "execution_count": 23,
      "outputs": [
        {
          "output_type": "display_data",
          "data": {
            "text/plain": [
              "<Figure size 1152x648 with 2 Axes>"
            ],
            "image/png": "[encoded data removed]"
          },
          "metadata": {
            "needs_background": "light"
          }
        }
      ]
    },
    {
      "cell_type": "code",
      "source": [
        ""
      ],
      "metadata": {
        "id": "OaD4CFcAW0px"
      },
      "execution_count": 23,
      "outputs": []
    },
    {
      "cell_type": "markdown",
      "source": [
        "CALLBACKS"
      ],
      "metadata": {
        "id": "vIh-_fcDYqYv"
      }
    },
    {
      "cell_type": "code",
      "source": [
        "model_callback = tf.keras.models.Sequential([\n",
        "              tf.keras.layers.Conv2D(75, (3,3), activation = \"relu\", input_shape= (28, 28, 1)),\n",
        "              tf.keras.layers.MaxPool2D((2,2)),\n",
        "              tf.keras.layers.Flatten(),\n",
        "              tf.keras.layers.Dense(256, kernel_regularizer = regularizers.l2(1e-5), activation = \"relu\"),\n",
        "              tf.keras.layers.Dropout(0.2),\n",
        "              tf.keras.layers.Dense(128, kernel_regularizer= regularizers.l2(1e-5),activation = \"relu\"),\n",
        "              tf.keras.layers.Dropout(0.2),\n",
        "              tf.keras.layers.Dense(len(classes), activation = \"softmax\")\n",
        "])\n",
        "\n",
        "model_callback.summary()\n",
        "\n",
        "model_callback.compile(optimizer= \"adam\", loss = \"categorical_crossentropy\", metrics = [\"accuracy\"])"
      ],
      "metadata": {
        "colab": {
          "base_uri": "https://localhost:8080/"
        },
        "id": "u63PRYYVYtUw",
        "outputId": "679ceffd-ac78-4a09-8874-a22a63395879"
      },
      "execution_count": 24,
      "outputs": [
        {
          "output_type": "stream",
          "name": "stdout",
          "text": [
            "Model: \"sequential_3\"\n",
            "_________________________________________________________________\n",
            " Layer (type)                Output Shape              Param #   \n",
            "=================================================================\n",
            " conv2d_1 (Conv2D)           (None, 26, 26, 75)        750       \n",
            "                                                                 \n",
            " max_pooling2d_1 (MaxPooling  (None, 13, 13, 75)       0         \n",
            " 2D)                                                             \n",
            "                                                                 \n",
            " flatten_3 (Flatten)         (None, 12675)             0         \n",
            "                                                                 \n",
            " dense_9 (Dense)             (None, 256)               3245056   \n",
            "                                                                 \n",
            " dropout_4 (Dropout)         (None, 256)               0         \n",
            "                                                                 \n",
            " dense_10 (Dense)            (None, 128)               32896     \n",
            "                                                                 \n",
            " dropout_5 (Dropout)         (None, 128)               0         \n",
            "                                                                 \n",
            " dense_11 (Dense)            (None, 3)                 387       \n",
            "                                                                 \n",
            "=================================================================\n",
            "Total params: 3,279,089\n",
            "Trainable params: 3,279,089\n",
            "Non-trainable params: 0\n",
            "_________________________________________________________________\n"
          ]
        }
      ]
    },
    {
      "cell_type": "code",
      "source": [
        "from tensorflow.keras.callbacks import Callback\n",
        "\n",
        "class TrainingCallback(Callback):\n",
        "  def on_epoch_end(self, epoch, logs = {}):\n",
        "    if logs.get(\"accuracy\") > 0.999:\n",
        "      print(\"Lo logramos, nuestro modelo llego a 95%, detenemos el entrenamiento\")\n",
        "      self.model.stop_training = True"
      ],
      "metadata": {
        "id": "vjPPd7lba32j"
      },
      "execution_count": 25,
      "outputs": []
    },
    {
      "cell_type": "code",
      "source": [
        "callback = TrainingCallback()\n",
        "\n",
        "history_callback = model_callback.fit(\n",
        "    train_generator,\n",
        "    epochs = 50,\n",
        "    callbacks = [callback],\n",
        "    validation_data = validation_generator\n",
        ")"
      ],
      "metadata": {
        "colab": {
          "base_uri": "https://localhost:8080/"
        },
        "id": "AWK2PJ5Ia54C",
        "outputId": "9608f9ba-3030-42ae-baf3-fcc0c8116b4f"
      },
      "execution_count": 26,
      "outputs": [
        {
          "output_type": "stream",
          "name": "stdout",
          "text": [
            "Epoch 1/50\n",
            "9/9 [==============================] - 3s 247ms/step - loss: 1.2617 - accuracy: 0.4248 - val_loss: 0.9011 - val_accuracy: 0.8214\n",
            "Epoch 2/50\n",
            "9/9 [==============================] - 2s 232ms/step - loss: 0.9475 - accuracy: 0.5467 - val_loss: 0.9823 - val_accuracy: 0.6071\n",
            "Epoch 3/50\n",
            "9/9 [==============================] - 2s 222ms/step - loss: 0.8030 - accuracy: 0.6505 - val_loss: 1.0867 - val_accuracy: 0.6429\n",
            "Epoch 4/50\n",
            "9/9 [==============================] - 2s 217ms/step - loss: 0.6114 - accuracy: 0.7790 - val_loss: 1.1505 - val_accuracy: 0.6429\n",
            "Epoch 5/50\n",
            "9/9 [==============================] - 2s 221ms/step - loss: 0.4229 - accuracy: 0.8514 - val_loss: 1.4987 - val_accuracy: 0.6429\n",
            "Epoch 6/50\n",
            "9/9 [==============================] - 2s 234ms/step - loss: 0.3218 - accuracy: 0.8876 - val_loss: 1.4941 - val_accuracy: 0.6429\n",
            "Epoch 7/50\n",
            "9/9 [==============================] - 2s 242ms/step - loss: 0.2158 - accuracy: 0.9400 - val_loss: 1.9254 - val_accuracy: 0.6429\n",
            "Epoch 8/50\n",
            "9/9 [==============================] - 2s 200ms/step - loss: 0.1461 - accuracy: 0.9657 - val_loss: 2.4097 - val_accuracy: 0.6429\n",
            "Epoch 9/50\n",
            "9/9 [==============================] - 2s 221ms/step - loss: 0.1043 - accuracy: 0.9733 - val_loss: 2.5719 - val_accuracy: 0.6429\n",
            "Epoch 10/50\n",
            "9/9 [==============================] - 2s 202ms/step - loss: 0.0602 - accuracy: 0.9914 - val_loss: 2.9791 - val_accuracy: 0.6429\n",
            "Epoch 11/50\n",
            "9/9 [==============================] - 2s 218ms/step - loss: 0.0599 - accuracy: 0.9848 - val_loss: 2.7518 - val_accuracy: 0.6429\n",
            "Epoch 12/50\n",
            "9/9 [==============================] - 2s 229ms/step - loss: 0.0367 - accuracy: 0.9952 - val_loss: 2.6854 - val_accuracy: 0.6429\n",
            "Epoch 13/50\n",
            "9/9 [==============================] - 2s 221ms/step - loss: 0.0287 - accuracy: 0.9962 - val_loss: 3.1438 - val_accuracy: 0.6429\n",
            "Epoch 14/50\n",
            "9/9 [==============================] - 2s 238ms/step - loss: 0.0242 - accuracy: 0.9981 - val_loss: 2.9902 - val_accuracy: 0.6429\n",
            "Epoch 15/50\n",
            "9/9 [==============================] - ETA: 0s - loss: 0.0186 - accuracy: 0.9990Lo logramos, nuestro modelo llego a 95%, detenemos el entrenamiento\n",
            "9/9 [==============================] - 2s 206ms/step - loss: 0.0186 - accuracy: 0.9990 - val_loss: 3.4852 - val_accuracy: 0.6429\n"
          ]
        }
      ]
    },
    {
      "cell_type": "code",
      "source": [
        "def get_model():\n",
        "  model = tf.keras.models.Sequential([\n",
        "              tf.keras.layers.Conv2D(75, (3,3), activation = \"relu\", input_shape= (28, 28, 1)),\n",
        "              tf.keras.layers.MaxPool2D((2,2)),\n",
        "              tf.keras.layers.Flatten(),\n",
        "              tf.keras.layers.Dense(256, kernel_regularizer = regularizers.l2(1e-5), activation = \"relu\"),\n",
        "              tf.keras.layers.Dropout(0.2),\n",
        "              tf.keras.layers.Dense(128, kernel_regularizer= regularizers.l2(1e-5),activation = \"relu\"),\n",
        "              tf.keras.layers.Dropout(0.2),\n",
        "              tf.keras.layers.Dense(len(classes), activation = \"softmax\")\n",
        "  ])\n",
        "  return model\n",
        "\n",
        "model_early = get_model()\n",
        "model_early.summary()\n",
        "\n",
        "model_early.compile(optimizer= \"adam\", loss = \"categorical_crossentropy\", metrics = [\"accuracy\"])"
      ],
      "metadata": {
        "colab": {
          "base_uri": "https://localhost:8080/"
        },
        "id": "qBCVudTya845",
        "outputId": "48707dca-a7bc-43a1-f81a-807eb45eb37a"
      },
      "execution_count": 27,
      "outputs": [
        {
          "output_type": "stream",
          "name": "stdout",
          "text": [
            "Model: \"sequential_4\"\n",
            "_________________________________________________________________\n",
            " Layer (type)                Output Shape              Param #   \n",
            "=================================================================\n",
            " conv2d_2 (Conv2D)           (None, 26, 26, 75)        750       \n",
            "                                                                 \n",
            " max_pooling2d_2 (MaxPooling  (None, 13, 13, 75)       0         \n",
            " 2D)                                                             \n",
            "                                                                 \n",
            " flatten_4 (Flatten)         (None, 12675)             0         \n",
            "                                                                 \n",
            " dense_12 (Dense)            (None, 256)               3245056   \n",
            "                                                                 \n",
            " dropout_6 (Dropout)         (None, 256)               0         \n",
            "                                                                 \n",
            " dense_13 (Dense)            (None, 128)               32896     \n",
            "                                                                 \n",
            " dropout_7 (Dropout)         (None, 128)               0         \n",
            "                                                                 \n",
            " dense_14 (Dense)            (None, 3)                 387       \n",
            "                                                                 \n",
            "=================================================================\n",
            "Total params: 3,279,089\n",
            "Trainable params: 3,279,089\n",
            "Non-trainable params: 0\n",
            "_________________________________________________________________\n"
          ]
        }
      ]
    },
    {
      "cell_type": "markdown",
      "source": [
        "early stopping"
      ],
      "metadata": {
        "id": "mAfDjjZTgWLF"
      }
    },
    {
      "cell_type": "code",
      "source": [
        "callback_early = tf.keras.callbacks.EarlyStopping(monitor = \"loss\", patience=3, mode = \"auto\")"
      ],
      "metadata": {
        "id": "O5SV6fK-gdn9"
      },
      "execution_count": 28,
      "outputs": []
    },
    {
      "cell_type": "code",
      "source": [
        "history_early = model_early.fit(\n",
        "    train_generator, \n",
        "    epochs= 50, \n",
        "    callbacks = [callback_early],\n",
        "    validation_data = validation_generator\n",
        ")"
      ],
      "metadata": {
        "colab": {
          "base_uri": "https://localhost:8080/"
        },
        "id": "VUXHIKIVghRv",
        "outputId": "b16ef0d0-b266-4a7e-bc9c-b78296451b2d"
      },
      "execution_count": 29,
      "outputs": [
        {
          "output_type": "stream",
          "name": "stdout",
          "text": [
            "Epoch 1/50\n",
            "9/9 [==============================] - 3s 266ms/step - loss: 1.0948 - accuracy: 0.4276 - val_loss: 1.0240 - val_accuracy: 0.6071\n",
            "Epoch 2/50\n",
            "9/9 [==============================] - 2s 210ms/step - loss: 0.8190 - accuracy: 0.6457 - val_loss: 1.0710 - val_accuracy: 0.5714\n",
            "Epoch 3/50\n",
            "9/9 [==============================] - 2s 238ms/step - loss: 0.5953 - accuracy: 0.7429 - val_loss: 1.4037 - val_accuracy: 0.6429\n",
            "Epoch 4/50\n",
            "9/9 [==============================] - 2s 225ms/step - loss: 0.4163 - accuracy: 0.8343 - val_loss: 1.6414 - val_accuracy: 0.6429\n",
            "Epoch 5/50\n",
            "9/9 [==============================] - 2s 244ms/step - loss: 0.2644 - accuracy: 0.9219 - val_loss: 1.7359 - val_accuracy: 0.6429\n",
            "Epoch 6/50\n",
            "9/9 [==============================] - 2s 210ms/step - loss: 0.1647 - accuracy: 0.9505 - val_loss: 2.1008 - val_accuracy: 0.6429\n",
            "Epoch 7/50\n",
            "9/9 [==============================] - 2s 236ms/step - loss: 0.1081 - accuracy: 0.9695 - val_loss: 2.2642 - val_accuracy: 0.6429\n",
            "Epoch 8/50\n",
            "9/9 [==============================] - 2s 198ms/step - loss: 0.0627 - accuracy: 0.9895 - val_loss: 2.4267 - val_accuracy: 0.6429\n",
            "Epoch 9/50\n",
            "9/9 [==============================] - 2s 233ms/step - loss: 0.0356 - accuracy: 0.9981 - val_loss: 2.7206 - val_accuracy: 0.6429\n",
            "Epoch 10/50\n",
            "9/9 [==============================] - 2s 224ms/step - loss: 0.0326 - accuracy: 0.9971 - val_loss: 2.8191 - val_accuracy: 0.6429\n",
            "Epoch 11/50\n",
            "9/9 [==============================] - 2s 222ms/step - loss: 0.0281 - accuracy: 0.9943 - val_loss: 2.7266 - val_accuracy: 0.6429\n",
            "Epoch 12/50\n",
            "9/9 [==============================] - 2s 213ms/step - loss: 0.0194 - accuracy: 0.9990 - val_loss: 3.0827 - val_accuracy: 0.6429\n",
            "Epoch 13/50\n",
            "9/9 [==============================] - 2s 206ms/step - loss: 0.0179 - accuracy: 0.9981 - val_loss: 3.1465 - val_accuracy: 0.6429\n",
            "Epoch 14/50\n",
            "9/9 [==============================] - 2s 238ms/step - loss: 0.0130 - accuracy: 1.0000 - val_loss: 3.3543 - val_accuracy: 0.6429\n",
            "Epoch 15/50\n",
            "9/9 [==============================] - 2s 229ms/step - loss: 0.0118 - accuracy: 1.0000 - val_loss: 3.2396 - val_accuracy: 0.6429\n",
            "Epoch 16/50\n",
            "9/9 [==============================] - 2s 227ms/step - loss: 0.0120 - accuracy: 1.0000 - val_loss: 3.3468 - val_accuracy: 0.6429\n",
            "Epoch 17/50\n",
            "9/9 [==============================] - 2s 234ms/step - loss: 0.0111 - accuracy: 1.0000 - val_loss: 3.3335 - val_accuracy: 0.6429\n",
            "Epoch 18/50\n",
            "9/9 [==============================] - 2s 217ms/step - loss: 0.0105 - accuracy: 1.0000 - val_loss: 3.4367 - val_accuracy: 0.6429\n",
            "Epoch 19/50\n",
            "9/9 [==============================] - 2s 241ms/step - loss: 0.0099 - accuracy: 1.0000 - val_loss: 3.4106 - val_accuracy: 0.6429\n",
            "Epoch 20/50\n",
            "9/9 [==============================] - 2s 208ms/step - loss: 0.0094 - accuracy: 1.0000 - val_loss: 3.3703 - val_accuracy: 0.6429\n",
            "Epoch 21/50\n",
            "9/9 [==============================] - 2s 212ms/step - loss: 0.0089 - accuracy: 1.0000 - val_loss: 3.5857 - val_accuracy: 0.6429\n",
            "Epoch 22/50\n",
            "9/9 [==============================] - 2s 225ms/step - loss: 0.0092 - accuracy: 1.0000 - val_loss: 3.6045 - val_accuracy: 0.6429\n",
            "Epoch 23/50\n",
            "9/9 [==============================] - 2s 244ms/step - loss: 0.0087 - accuracy: 1.0000 - val_loss: 3.6008 - val_accuracy: 0.6429\n",
            "Epoch 24/50\n",
            "9/9 [==============================] - 2s 205ms/step - loss: 0.0083 - accuracy: 1.0000 - val_loss: 3.7399 - val_accuracy: 0.6429\n",
            "Epoch 25/50\n",
            "9/9 [==============================] - 2s 201ms/step - loss: 0.0083 - accuracy: 1.0000 - val_loss: 3.7087 - val_accuracy: 0.6429\n",
            "Epoch 26/50\n",
            "9/9 [==============================] - 2s 222ms/step - loss: 0.0081 - accuracy: 1.0000 - val_loss: 3.7027 - val_accuracy: 0.6429\n",
            "Epoch 27/50\n",
            "9/9 [==============================] - 2s 237ms/step - loss: 0.0079 - accuracy: 1.0000 - val_loss: 3.7055 - val_accuracy: 0.6429\n",
            "Epoch 28/50\n",
            "9/9 [==============================] - 2s 224ms/step - loss: 0.0078 - accuracy: 1.0000 - val_loss: 3.7405 - val_accuracy: 0.6786\n",
            "Epoch 29/50\n",
            "9/9 [==============================] - 2s 225ms/step - loss: 0.0076 - accuracy: 1.0000 - val_loss: 3.8854 - val_accuracy: 0.6786\n",
            "Epoch 30/50\n",
            "9/9 [==============================] - 2s 203ms/step - loss: 0.0074 - accuracy: 1.0000 - val_loss: 3.8309 - val_accuracy: 0.6429\n",
            "Epoch 31/50\n",
            "9/9 [==============================] - 2s 233ms/step - loss: 0.0079 - accuracy: 1.0000 - val_loss: 3.7416 - val_accuracy: 0.6429\n",
            "Epoch 32/50\n",
            "9/9 [==============================] - 2s 224ms/step - loss: 0.0075 - accuracy: 1.0000 - val_loss: 3.7735 - val_accuracy: 0.6429\n",
            "Epoch 33/50\n",
            "9/9 [==============================] - 2s 215ms/step - loss: 0.0074 - accuracy: 1.0000 - val_loss: 3.7235 - val_accuracy: 0.6429\n"
          ]
        }
      ]
    },
    {
      "cell_type": "code",
      "source": [
        ""
      ],
      "metadata": {
        "id": "G6lOVCsfglev"
      },
      "execution_count": 29,
      "outputs": []
    },
    {
      "cell_type": "markdown",
      "metadata": {
        "id": "Ip4_h5llSPqE"
      },
      "source": [
        "## Creamos nuestra modelo funcional con Auto Tunner Keras"
      ]
    },
    {
      "cell_type": "code",
      "source": [
        "!pip install -q -U keras-tuner\n",
        "import keras_tuner as kt\n",
        "from tensorflow import keras"
      ],
      "metadata": {
        "colab": {
          "base_uri": "https://localhost:8080/"
        },
        "id": "LO9FysC5mGRg",
        "outputId": "2e6185e2-0e1b-4935-ac77-16a957b7db22"
      },
      "execution_count": 30,
      "outputs": [
        {
          "output_type": "stream",
          "name": "stderr",
          "text": [
            "/usr/local/lib/python3.7/dist-packages/ipykernel_launcher.py:2: DeprecationWarning: `import kerastuner` is deprecated, please use `import keras_tuner`.\n",
            "  \n"
          ]
        }
      ]
    },
    {
      "cell_type": "code",
      "source": [
        "def constructor_modelos(hp):\n",
        "  model = tf.keras.models.Sequential()\n",
        "  model.add(tf.keras.layers.Conv2D(75, (3,3), activation= \"relu\", input_shape = (28, 28, 1)))\n",
        "  model.add(tf.keras.layers.MaxPool2D((2,2)))\n",
        "  model.add(tf.keras.layers.Flatten())\n",
        "\n",
        "  hp_units = hp.Int(\"units\", min_value = 32, max_value = 512, step = 32)\n",
        "  model.add(tf.keras.layers.Dense(units=hp_units,activation = \"relu\", kernel_regularizer= regularizers.l2(1e-5)))\n",
        "  model.add(tf.keras.layers.Dropout(0.2))\n",
        "  model.add(tf.keras.layers.Dense(128,activation = \"relu\", kernel_regularizer= regularizers.l2(1e-5)))\n",
        "  model.add(tf.keras.layers.Dropout(0.2))\n",
        "  model.add(tf.keras.layers.Dense(len(classes), activation = \"softmax\"))\n",
        "\n",
        "  hp_learning_rate = hp.Choice('learning_rate', values = [1e-2, 1e-3, 1e-4])\n",
        "\n",
        "  model.compile(optimizer = keras.optimizers.Adam(learning_rate=hp_learning_rate),loss = \"categorical_crossentropy\", metrics = [\"accuracy\"])\n",
        "\n",
        "  return model"
      ],
      "metadata": {
        "id": "QWfnAlLzmGOG"
      },
      "execution_count": 31,
      "outputs": []
    },
    {
      "cell_type": "code",
      "source": [
        "tuner = kt.Hyperband(\n",
        "    constructor_modelos,\n",
        "    objective = \"val_accuracy\",\n",
        "    max_epochs = 20,\n",
        "    factor = 3,\n",
        "    directory = \"models/\",\n",
        "    project_name = \"tunner\")"
      ],
      "metadata": {
        "id": "UQzCa0hdmGLC"
      },
      "execution_count": 32,
      "outputs": []
    },
    {
      "cell_type": "code",
      "source": [
        "tuner.search(train_generator, epochs =20, validation_data = validation_generator)\n",
        "\n",
        "best_hps = tuner.get_best_hyperparameters(num_trials =15)[0]"
      ],
      "metadata": {
        "colab": {
          "base_uri": "https://localhost:8080/"
        },
        "id": "FkRXArT-mGBS",
        "outputId": "41f3955d-6b3f-4ee9-d1c0-2c4a8c7306fd"
      },
      "execution_count": 33,
      "outputs": [
        {
          "output_type": "stream",
          "name": "stdout",
          "text": [
            "Trial 30 Complete [00h 00m 45s]\n",
            "val_accuracy: 0.3928571343421936\n",
            "\n",
            "Best val_accuracy So Far: 0.6785714030265808\n",
            "Total elapsed time: 00h 10m 52s\n",
            "INFO:tensorflow:Oracle triggered exit\n"
          ]
        }
      ]
    },
    {
      "cell_type": "code",
      "source": [
        "print(best_hps.get(\"units\"))"
      ],
      "metadata": {
        "colab": {
          "base_uri": "https://localhost:8080/"
        },
        "id": "mzWnJTrduqWs",
        "outputId": "02754f80-f6f6-4768-84eb-ef5e7c3ecf51"
      },
      "execution_count": 34,
      "outputs": [
        {
          "output_type": "stream",
          "name": "stdout",
          "text": [
            "224\n"
          ]
        }
      ]
    },
    {
      "cell_type": "code",
      "source": [
        "print(best_hps.get(\"learning_rate\"))"
      ],
      "metadata": {
        "colab": {
          "base_uri": "https://localhost:8080/"
        },
        "id": "V5GYZG8Tutcg",
        "outputId": "23ed9bb2-af35-4727-9abd-584362cb60a6"
      },
      "execution_count": 35,
      "outputs": [
        {
          "output_type": "stream",
          "name": "stdout",
          "text": [
            "0.001\n"
          ]
        }
      ]
    },
    {
      "cell_type": "code",
      "source": [
        "hypermodel = tuner.hypermodel.build(best_hps)\n",
        "\n",
        "history_hypermodel = hypermodel.fit(\n",
        "    train_generator,\n",
        "    epochs = 20,\n",
        "    callbacks = [callback_early],\n",
        "    validation_data = validation_generator\n",
        ")"
      ],
      "metadata": {
        "colab": {
          "base_uri": "https://localhost:8080/"
        },
        "id": "sjmdv4dYuwDv",
        "outputId": "a6fd707b-bf41-46ae-e409-58e0df2115ab"
      },
      "execution_count": 36,
      "outputs": [
        {
          "output_type": "stream",
          "name": "stdout",
          "text": [
            "Epoch 1/20\n",
            "9/9 [==============================] - 4s 285ms/step - loss: 1.1170 - accuracy: 0.4514 - val_loss: 1.0376 - val_accuracy: 0.6429\n",
            "Epoch 2/20\n",
            "9/9 [==============================] - 3s 279ms/step - loss: 0.8518 - accuracy: 0.5990 - val_loss: 1.1228 - val_accuracy: 0.5714\n",
            "Epoch 3/20\n",
            "9/9 [==============================] - 3s 370ms/step - loss: 0.6486 - accuracy: 0.7333 - val_loss: 1.1936 - val_accuracy: 0.6071\n",
            "Epoch 4/20\n",
            "9/9 [==============================] - 3s 322ms/step - loss: 0.4719 - accuracy: 0.8000 - val_loss: 1.4645 - val_accuracy: 0.6429\n",
            "Epoch 5/20\n",
            "9/9 [==============================] - 2s 252ms/step - loss: 0.3278 - accuracy: 0.8914 - val_loss: 1.7548 - val_accuracy: 0.6429\n",
            "Epoch 6/20\n",
            "9/9 [==============================] - 2s 218ms/step - loss: 0.2410 - accuracy: 0.9267 - val_loss: 2.1688 - val_accuracy: 0.6429\n",
            "Epoch 7/20\n",
            "9/9 [==============================] - 2s 192ms/step - loss: 0.1465 - accuracy: 0.9600 - val_loss: 2.3409 - val_accuracy: 0.6429\n",
            "Epoch 8/20\n",
            "9/9 [==============================] - 2s 192ms/step - loss: 0.1098 - accuracy: 0.9705 - val_loss: 2.5939 - val_accuracy: 0.6429\n",
            "Epoch 9/20\n",
            "9/9 [==============================] - 2s 196ms/step - loss: 0.0666 - accuracy: 0.9933 - val_loss: 2.3252 - val_accuracy: 0.6429\n",
            "Epoch 10/20\n",
            "9/9 [==============================] - 2s 209ms/step - loss: 0.0458 - accuracy: 0.9933 - val_loss: 2.6251 - val_accuracy: 0.6429\n",
            "Epoch 11/20\n",
            "9/9 [==============================] - 2s 204ms/step - loss: 0.0325 - accuracy: 0.9962 - val_loss: 2.8135 - val_accuracy: 0.6429\n",
            "Epoch 12/20\n",
            "9/9 [==============================] - 2s 193ms/step - loss: 0.0222 - accuracy: 0.9981 - val_loss: 2.9626 - val_accuracy: 0.6429\n",
            "Epoch 13/20\n",
            "9/9 [==============================] - 2s 238ms/step - loss: 0.0187 - accuracy: 0.9981 - val_loss: 3.0204 - val_accuracy: 0.6429\n",
            "Epoch 14/20\n",
            "9/9 [==============================] - 2s 241ms/step - loss: 0.0160 - accuracy: 1.0000 - val_loss: 3.2109 - val_accuracy: 0.6429\n",
            "Epoch 15/20\n",
            "9/9 [==============================] - 3s 264ms/step - loss: 0.0136 - accuracy: 0.9990 - val_loss: 3.2167 - val_accuracy: 0.6429\n",
            "Epoch 16/20\n",
            "9/9 [==============================] - 2s 190ms/step - loss: 0.0127 - accuracy: 1.0000 - val_loss: 3.4830 - val_accuracy: 0.6429\n",
            "Epoch 17/20\n",
            "9/9 [==============================] - 2s 203ms/step - loss: 0.0112 - accuracy: 1.0000 - val_loss: 3.5522 - val_accuracy: 0.6429\n",
            "Epoch 18/20\n",
            "9/9 [==============================] - 2s 224ms/step - loss: 0.0100 - accuracy: 1.0000 - val_loss: 3.5415 - val_accuracy: 0.6429\n",
            "Epoch 19/20\n",
            "9/9 [==============================] - 2s 225ms/step - loss: 0.0101 - accuracy: 1.0000 - val_loss: 3.6761 - val_accuracy: 0.6429\n",
            "Epoch 20/20\n",
            "9/9 [==============================] - 2s 190ms/step - loss: 0.0088 - accuracy: 1.0000 - val_loss: 3.6195 - val_accuracy: 0.6429\n"
          ]
        }
      ]
    },
    {
      "cell_type": "code",
      "source": [
        ""
      ],
      "metadata": {
        "id": "GXLpUkfmuy5n"
      },
      "execution_count": 36,
      "outputs": []
    }
  ],
  "metadata": {
    "colab": {
      "collapsed_sections": [],
      "name": "Tumor_classiffier",
      "provenance": [],
      "authorship_tag": "ABX9TyNoA4wH5NcYe9pGfQwgi7Mi",
      "include_colab_link": true
    },
    "kernelspec": {
      "display_name": "Python 3",
      "name": "python3"
    },
    "language_info": {
      "name": "python"
    }
  },
  "nbformat": 4,
  "nbformat_minor": 0
}
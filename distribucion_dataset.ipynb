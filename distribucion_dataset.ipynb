{
  "nbformat": 4,
  "nbformat_minor": 0,
  "metadata": {
    "colab": {
      "name": "distribucion-dataset.ipynb",
      "provenance": [],
      "collapsed_sections": [],
      "include_colab_link": true
    },
    "kernelspec": {
      "name": "python3",
      "display_name": "Python 3"
    },
    "language_info": {
      "name": "python"
    }
  },
  "cells": [
    {
      "cell_type": "markdown",
      "metadata": {
        "id": "view-in-github",
        "colab_type": "text"
      },
      "source": [
        "<a href=\"https://colab.research.google.com/github/joooser/TENSORFLOW2/blob/main/distribucion_dataset.ipynb\" target=\"_parent\"><img src=\"https://colab.research.google.com/assets/colab-badge.svg\" alt=\"Open In Colab\"/></a>"
      ]
    },
    {
      "cell_type": "markdown",
      "metadata": {
        "id": "uJnozHGF0teE"
      },
      "source": [
        "## Descompresión de la base de datos\n",
        "Recuerda cargar la base de datos desde tu computador. El archivo es dataset.zip o el nombre que le hayas dado."
      ]
    },
    {
      "cell_type": "code",
      "metadata": {
        "id": "QAjW-EAoVrPD"
      },
      "source": [
        "import os \n",
        "import zipfile\n",
        "\n",
        "local_zip = \"dataset.zip\" # Cambiar nombre por el que le hayas puesto.\n",
        "zip_ref = zipfile.ZipFile(local_zip, \"r\")\n",
        "zip_ref.extractall(\"dataset\")\n",
        "zip_ref.close()\n"
      ],
      "execution_count": null,
      "outputs": []
    },
    {
      "cell_type": "markdown",
      "metadata": {
        "id": "0sNGDjsQ02-9"
      },
      "source": [
        "Asegurate que el path que estamos definiendo sea el mismo en donde tienes el archivo"
      ]
    },
    {
      "cell_type": "code",
      "metadata": {
        "id": "LWJyqO_RWPRo"
      },
      "source": [
        "path = \"dataset/dataset\"\n",
        "content = os.listdir(path)"
      ],
      "execution_count": null,
      "outputs": []
    },
    {
      "cell_type": "markdown",
      "metadata": {
        "id": "zwyuR4wj06_5"
      },
      "source": [
        "Visualizamos el contenido de la base de datos"
      ]
    },
    {
      "cell_type": "code",
      "metadata": {
        "colab": {
          "base_uri": "https://localhost:8080/"
        },
        "id": "k1L5OysrWgTT",
        "outputId": "9b224e56-4883-4d9c-b513-d76bcc2e0a3d"
      },
      "source": [
        "content"
      ],
      "execution_count": null,
      "outputs": [
        {
          "output_type": "execute_result",
          "data": {
            "text/plain": [
              "['89c26158c4.jpg',\n",
              " 'cf8db02eac.jpg',\n",
              " 'e02950195f.jpg',\n",
              " '8a98fca468.jpg',\n",
              " '2fdd9eb661.jpg',\n",
              " 'c4054a8f2c.jpg',\n",
              " '34db31dbb7.jpg',\n",
              " '0414eb4d03.jpg',\n",
              " '7490c9ba04.jpg',\n",
              " 'ea8ce9da21.jpg',\n",
              " '636e60da4d.jpg',\n",
              " '39339a1089.jpg',\n",
              " 'bf5b9af373.jpg',\n",
              " '1180fcd71f.jpg',\n",
              " '6f65ac7a0a.jpg',\n",
              " '95614aebd9.jpg',\n",
              " 'cbb99fc122.jpg',\n",
              " '4848bc97c4.jpg',\n",
              " '38073088aa.jpg',\n",
              " '53f2146ec4.jpg',\n",
              " '2b37a718bc.jpg',\n",
              " '42e14b904b.jpg',\n",
              " '576c712438.jpg',\n",
              " 'd01c4bbb38.jpg',\n",
              " 'c554e9b7b4.jpg',\n",
              " 'f74248c57f.jpg',\n",
              " '744ca71f5a.jpg',\n",
              " '2c7120c43a.jpg',\n",
              " '66d55e26e2.jpg',\n",
              " 'b59018d131.jpg',\n",
              " 'f8a2cc7848.jpg',\n",
              " '07ffa35d1f.jpg',\n",
              " '8e933395c2.jpg',\n",
              " '93407ba6ac.jpg',\n",
              " 'e9379064f8.jpg',\n",
              " 'e4927496c4.jpg',\n",
              " '486107bbf0.jpg',\n",
              " 'b22ad30e1b.jpg',\n",
              " '3ec8255ddd.jpg',\n",
              " '5cc8e6c42d.jpg',\n",
              " '37e9f4c722.jpg',\n",
              " 'ea2cb5917b.jpg',\n",
              " 'e22a1fc8c5.jpg',\n",
              " '6450b21594.jpg',\n",
              " '0c535fcdfa.jpg',\n",
              " '18cf3b73b6.jpg',\n",
              " '3b2d25d42c.jpg',\n",
              " '007d086a0d.jpg',\n",
              " '530a817c7a.jpg',\n",
              " '2efb6c3c82.jpg',\n",
              " '2feaa7dff6.jpg',\n",
              " '533dd3ae49.jpg',\n",
              " '2c3ae2799b.jpg',\n",
              " 'fc15988c9a.jpg',\n",
              " 'e79711e10f.jpg',\n",
              " '717e612946.jpg',\n",
              " 'abdbb7257d.jpg']"
            ]
          },
          "metadata": {},
          "execution_count": 3
        }
      ]
    },
    {
      "cell_type": "markdown",
      "metadata": {
        "id": "4Pi-q3Ml1CJD"
      },
      "source": [
        "## Distribuimos la base de datos en Training y Test\n",
        "Definimos la ruta en donde almacenaremos la base de datos distruibuida como training y test"
      ]
    },
    {
      "cell_type": "code",
      "metadata": {
        "id": "0Q50bt1PWg8E"
      },
      "source": [
        "path_general = \"datasetFinal\"\n",
        "path_train = \"{}/train\".format(path_general)\n",
        "path_test = \"{}/test\".format(path_general)\n",
        "\n",
        "os.mkdir(path_general)\n",
        "os.mkdir(path_train)\n",
        "os.mkdir(path_test)"
      ],
      "execution_count": null,
      "outputs": []
    },
    {
      "cell_type": "markdown",
      "metadata": {
        "id": "1XFukCQG1C-f"
      },
      "source": [
        "El factor es de 70% train y 30% test de manera aleatoria."
      ]
    },
    {
      "cell_type": "code",
      "metadata": {
        "id": "aAwD6qZeW1k3"
      },
      "source": [
        "import random\n",
        "import shutil\n",
        "\n",
        "# Almacenamos inicialmente los datos de training.\n",
        "train = 0.7\n",
        "for nCount in range(int(len(content)*train)):\n",
        "  random_choice_img = random.choice(content)\n",
        "  random_choice_img_abs = \"{}/{}\".format(path,random_choice_img)\n",
        "  target_img = \"{}/{}\".format(path_train, random_choice_img)\n",
        "  shutil.copyfile(random_choice_img_abs, target_img)\n",
        "  content.remove(random_choice_img)\n",
        "\n"
      ],
      "execution_count": null,
      "outputs": []
    },
    {
      "cell_type": "code",
      "metadata": {
        "id": "HJR43fLKZOJf"
      },
      "source": [
        "# Almacenamos los datos que quedaron en la lista como los datos de test.\n",
        "for img in content:\n",
        "  random_choice_img_abs = \"{}/{}\".format(path, img)\n",
        "  target_img = \"{}/{}\".format(path_test, img)\n",
        "  shutil.copyfile(random_choice_img_abs, target_img)"
      ],
      "execution_count": null,
      "outputs": []
    },
    {
      "cell_type": "markdown",
      "metadata": {
        "id": "qn6L9fD41WTU"
      },
      "source": [
        "## La carpeta nueva de la base de datos la comprimimos para poderla descargar"
      ]
    },
    {
      "cell_type": "code",
      "metadata": {
        "colab": {
          "base_uri": "https://localhost:8080/"
        },
        "id": "3ANOPeIQZmQG",
        "outputId": "a19e87ce-0d56-48e0-d684-c19394b59386"
      },
      "source": [
        "!zip -r /content/datasetFinal.zip /content/datasetFinal"
      ],
      "execution_count": null,
      "outputs": [
        {
          "output_type": "stream",
          "name": "stdout",
          "text": [
            "  adding: content/datasetFinal/ (stored 0%)\n",
            "  adding: content/datasetFinal/train/ (stored 0%)\n",
            "  adding: content/datasetFinal/train/89c26158c4.jpg (deflated 1%)\n",
            "  adding: content/datasetFinal/train/e02950195f.jpg (deflated 0%)\n",
            "  adding: content/datasetFinal/train/8a98fca468.jpg (deflated 1%)\n",
            "  adding: content/datasetFinal/train/2fdd9eb661.jpg (deflated 0%)\n",
            "  adding: content/datasetFinal/train/7490c9ba04.jpg (deflated 0%)\n",
            "  adding: content/datasetFinal/train/ea8ce9da21.jpg (deflated 0%)\n",
            "  adding: content/datasetFinal/train/636e60da4d.jpg (deflated 5%)\n",
            "  adding: content/datasetFinal/train/39339a1089.jpg (deflated 0%)\n",
            "  adding: content/datasetFinal/train/bf5b9af373.jpg (deflated 3%)\n",
            "  adding: content/datasetFinal/train/1180fcd71f.jpg (deflated 1%)\n",
            "  adding: content/datasetFinal/train/6f65ac7a0a.jpg (deflated 0%)\n",
            "  adding: content/datasetFinal/train/95614aebd9.jpg (deflated 3%)\n",
            "  adding: content/datasetFinal/train/4848bc97c4.jpg (deflated 0%)\n",
            "  adding: content/datasetFinal/train/53f2146ec4.jpg (deflated 0%)\n",
            "  adding: content/datasetFinal/train/2b37a718bc.jpg (deflated 0%)\n",
            "  adding: content/datasetFinal/train/42e14b904b.jpg (deflated 3%)\n",
            "  adding: content/datasetFinal/train/576c712438.jpg (deflated 1%)\n",
            "  adding: content/datasetFinal/train/f74248c57f.jpg (deflated 0%)\n",
            "  adding: content/datasetFinal/train/66d55e26e2.jpg (deflated 0%)\n",
            "  adding: content/datasetFinal/train/b59018d131.jpg (deflated 4%)\n",
            "  adding: content/datasetFinal/train/f8a2cc7848.jpg (deflated 3%)\n",
            "  adding: content/datasetFinal/train/07ffa35d1f.jpg (deflated 1%)\n",
            "  adding: content/datasetFinal/train/93407ba6ac.jpg (deflated 0%)\n",
            "  adding: content/datasetFinal/train/e9379064f8.jpg (deflated 0%)\n",
            "  adding: content/datasetFinal/train/e4927496c4.jpg (deflated 4%)\n",
            "  adding: content/datasetFinal/train/486107bbf0.jpg (deflated 0%)\n",
            "  adding: content/datasetFinal/train/b22ad30e1b.jpg (deflated 0%)\n",
            "  adding: content/datasetFinal/train/3ec8255ddd.jpg (deflated 0%)\n",
            "  adding: content/datasetFinal/train/e22a1fc8c5.jpg (deflated 0%)\n",
            "  adding: content/datasetFinal/train/6450b21594.jpg (deflated 1%)\n",
            "  adding: content/datasetFinal/train/0c535fcdfa.jpg (deflated 0%)\n",
            "  adding: content/datasetFinal/train/18cf3b73b6.jpg (deflated 1%)\n",
            "  adding: content/datasetFinal/train/007d086a0d.jpg (deflated 5%)\n",
            "  adding: content/datasetFinal/train/2efb6c3c82.jpg (deflated 5%)\n",
            "  adding: content/datasetFinal/train/533dd3ae49.jpg (deflated 0%)\n",
            "  adding: content/datasetFinal/train/2c3ae2799b.jpg (deflated 0%)\n",
            "  adding: content/datasetFinal/train/fc15988c9a.jpg (deflated 4%)\n",
            "  adding: content/datasetFinal/train/717e612946.jpg (deflated 3%)\n",
            "  adding: content/datasetFinal/train/abdbb7257d.jpg (deflated 1%)\n",
            "  adding: content/datasetFinal/test/ (stored 0%)\n",
            "  adding: content/datasetFinal/test/cf8db02eac.jpg (deflated 1%)\n",
            "  adding: content/datasetFinal/test/c4054a8f2c.jpg (deflated 2%)\n",
            "  adding: content/datasetFinal/test/34db31dbb7.jpg (deflated 4%)\n",
            "  adding: content/datasetFinal/test/0414eb4d03.jpg (deflated 3%)\n",
            "  adding: content/datasetFinal/test/cbb99fc122.jpg (deflated 0%)\n",
            "  adding: content/datasetFinal/test/38073088aa.jpg (deflated 3%)\n",
            "  adding: content/datasetFinal/test/d01c4bbb38.jpg (deflated 1%)\n",
            "  adding: content/datasetFinal/test/c554e9b7b4.jpg (deflated 0%)\n",
            "  adding: content/datasetFinal/test/744ca71f5a.jpg (deflated 0%)\n",
            "  adding: content/datasetFinal/test/2c7120c43a.jpg (deflated 1%)\n",
            "  adding: content/datasetFinal/test/8e933395c2.jpg (deflated 0%)\n",
            "  adding: content/datasetFinal/test/5cc8e6c42d.jpg (deflated 1%)\n",
            "  adding: content/datasetFinal/test/37e9f4c722.jpg (deflated 5%)\n",
            "  adding: content/datasetFinal/test/ea2cb5917b.jpg (deflated 3%)\n",
            "  adding: content/datasetFinal/test/3b2d25d42c.jpg (deflated 0%)\n",
            "  adding: content/datasetFinal/test/530a817c7a.jpg (deflated 0%)\n",
            "  adding: content/datasetFinal/test/2feaa7dff6.jpg (deflated 3%)\n",
            "  adding: content/datasetFinal/test/e79711e10f.jpg (deflated 2%)\n"
          ]
        }
      ]
    },
    {
      "cell_type": "code",
      "metadata": {
        "id": "4N7NWYmuZzEA"
      },
      "source": [
        ""
      ],
      "execution_count": null,
      "outputs": []
    }
  ]
}